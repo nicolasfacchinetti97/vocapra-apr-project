{
 "cells": [
  {
   "cell_type": "code",
   "execution_count": 1,
   "id": "0d0fe4cf",
   "metadata": {},
   "outputs": [],
   "source": [
    "# data manipulations\n",
    "import numpy as np\n",
    "import pandas as pd\n",
    "\n",
    "# data preaparation\n",
    "from sklearn.model_selection import train_test_split\n",
    "from sklearn.preprocessing import LabelEncoder, StandardScaler\n",
    "\n",
    "# dealing with images\n",
    "from tensorflow.keras.preprocessing.image import ImageDataGenerator\n",
    "\n",
    "# for writing the models\n",
    "import tensorflow as tf\n",
    "from tensorflow import keras\n",
    "from tensorflow.keras import layers\n",
    "from tensorflow.keras.models import Sequential\n",
    "from tensorflow.keras.layers import Conv2D, MaxPool2D, Flatten, Dense, InputLayer, BatchNormalization, Dropout, AveragePooling2D\n",
    "from tensorflow.keras.callbacks import EarlyStopping\n",
    "\n",
    "# metrics \n",
    "from sklearn.metrics import confusion_matrix, classification_report\n",
    "from tensorflow.keras.metrics import AUC\n",
    "\n",
    "#visualization\n",
    "import matplotlib.pyplot as plt\n"
   ]
  },
  {
   "cell_type": "code",
   "execution_count": 2,
   "id": "808c0580",
   "metadata": {},
   "outputs": [],
   "source": [
    "def print_results(predictions, test):\n",
    "    y_pred = np.argmax(predictions, axis=1)\n",
    "    y_true = test.labels\n",
    "    \n",
    "    # confusion matrix\n",
    "    print(\"Confusion matrix:\")\n",
    "    print(confusion_matrix(y_true, y_pred))\n",
    "    # classification report\n",
    "    print(\"\\nClassification report:\\n\")\n",
    "    print(classification_report(y_true, y_pred))\n",
    "\n",
    "\n",
    "def graphing_training_validation(history):\n",
    "    acc = history.history['accuracy']\n",
    "    val_acc = history.history['val_accuracy']\n",
    "    loss = history.history['loss']\n",
    "    val_loss = history.history['val_loss']\n",
    "    epochs = range(len(acc))\n",
    "    plt.plot(epochs, acc, 'r', label='Training acc')\n",
    "    plt.plot(epochs, val_acc, 'b', label='Validation acc')\n",
    "    plt.title('Training and validation accuracy')\n",
    "    plt.ylabel('accuracy') \n",
    "    plt.xlabel('epoch')\n",
    "    plt.legend()\n",
    "    plt.figure()\n",
    "    plt.plot(epochs, loss, 'r', label='Training loss')\n",
    "    plt.plot(epochs, val_loss, 'b', label='Validation loss')\n",
    "    plt.title('Training and validation loss')\n",
    "    plt.ylabel('loss') \n",
    "    plt.xlabel('epoch')\n",
    "    plt.legend()\n",
    "    plt.show()"
   ]
  },
  {
   "cell_type": "markdown",
   "id": "2c183d85",
   "metadata": {},
   "source": [
    "Load images metadata"
   ]
  },
  {
   "cell_type": "code",
   "execution_count": 3,
   "id": "c725edaa",
   "metadata": {},
   "outputs": [
    {
     "data": {
      "text/html": [
       "<div>\n",
       "<style scoped>\n",
       "    .dataframe tbody tr th:only-of-type {\n",
       "        vertical-align: middle;\n",
       "    }\n",
       "\n",
       "    .dataframe tbody tr th {\n",
       "        vertical-align: top;\n",
       "    }\n",
       "\n",
       "    .dataframe thead th {\n",
       "        text-align: right;\n",
       "    }\n",
       "</style>\n",
       "<table border=\"1\" class=\"dataframe\">\n",
       "  <thead>\n",
       "    <tr style=\"text-align: right;\">\n",
       "      <th></th>\n",
       "      <th>Path</th>\n",
       "      <th>Label</th>\n",
       "    </tr>\n",
       "  </thead>\n",
       "  <tbody>\n",
       "    <tr>\n",
       "      <th>0</th>\n",
       "      <td>img_data/Bleatings/0.png</td>\n",
       "      <td>Bleatings</td>\n",
       "    </tr>\n",
       "    <tr>\n",
       "      <th>1</th>\n",
       "      <td>img_data/Bleatings/1.png</td>\n",
       "      <td>Bleatings</td>\n",
       "    </tr>\n",
       "    <tr>\n",
       "      <th>2</th>\n",
       "      <td>img_data/Bleatings/2.png</td>\n",
       "      <td>Bleatings</td>\n",
       "    </tr>\n",
       "    <tr>\n",
       "      <th>3</th>\n",
       "      <td>img_data/Bleatings/3.png</td>\n",
       "      <td>Bleatings</td>\n",
       "    </tr>\n",
       "    <tr>\n",
       "      <th>4</th>\n",
       "      <td>img_data/Bleatings/4.png</td>\n",
       "      <td>Bleatings</td>\n",
       "    </tr>\n",
       "  </tbody>\n",
       "</table>\n",
       "</div>"
      ],
      "text/plain": [
       "                       Path      Label\n",
       "0  img_data/Bleatings/0.png  Bleatings\n",
       "1  img_data/Bleatings/1.png  Bleatings\n",
       "2  img_data/Bleatings/2.png  Bleatings\n",
       "3  img_data/Bleatings/3.png  Bleatings\n",
       "4  img_data/Bleatings/4.png  Bleatings"
      ]
     },
     "execution_count": 3,
     "metadata": {},
     "output_type": "execute_result"
    }
   ],
   "source": [
    "metadata = pd.read_csv(\"image_metadata.csv\")\n",
    "metadata.head()"
   ]
  },
  {
   "cell_type": "markdown",
   "id": "4f350fa4",
   "metadata": {},
   "source": [
    "Split the data in train, validation and test set."
   ]
  },
  {
   "cell_type": "code",
   "execution_count": 4,
   "id": "739f5ce2",
   "metadata": {},
   "outputs": [
    {
     "name": "stdout",
     "output_type": "stream",
     "text": [
      "Train (5902, 2) and test (1042, 2)\n"
     ]
    }
   ],
   "source": [
    "# get train/test dataframe\n",
    "train_df, test_df = train_test_split(metadata, \n",
    "                                   test_size = 0.15, \n",
    "                                   random_state = 2018,\n",
    "                                   stratify = metadata['Label'])\n",
    "print(f'Train {np.shape(train_df)} and test {np.shape(test_df)}')"
   ]
  },
  {
   "cell_type": "markdown",
   "id": "aa4d421d",
   "metadata": {},
   "source": [
    "Prepare train and validation iamges"
   ]
  },
  {
   "cell_type": "code",
   "execution_count": 5,
   "id": "a31e0263",
   "metadata": {},
   "outputs": [
    {
     "name": "stdout",
     "output_type": "stream",
     "text": [
      "Found 4861 validated image filenames belonging to 3 classes.\n",
      "Found 1041 validated image filenames belonging to 3 classes.\n"
     ]
    }
   ],
   "source": [
    "path_dir = \"./\"\n",
    "\n",
    "train_datagen = ImageDataGenerator(\n",
    "                    rescale=1./255,\n",
    "                    validation_split = 0.17655)\n",
    "\n",
    "train_generator = train_datagen.flow_from_dataframe(\n",
    "    dataframe=train_df,\n",
    "    directory=path_dir,\n",
    "    x_col=\"Path\",\n",
    "    y_col=\"Label\",\n",
    "    batch_size=32,\n",
    "    shuffle=True,\n",
    "    target_size=(256, 256),\n",
    "    class_mode='categorical',\n",
    "    subset='training'\n",
    ")\n",
    "validation_generator = train_datagen.flow_from_dataframe(\n",
    "    dataframe=train_df,\n",
    "    directory=path_dir,\n",
    "    x_col=\"Path\",\n",
    "    y_col=\"Label\",\n",
    "    batch_size=32,\n",
    "    shuffle=True,\n",
    "    target_size=(256, 256),\n",
    "    class_mode='categorical',\n",
    "    subset='validation'\n",
    ")"
   ]
  },
  {
   "cell_type": "markdown",
   "id": "6432783b",
   "metadata": {},
   "source": [
    "Prepare test images"
   ]
  },
  {
   "cell_type": "code",
   "execution_count": 6,
   "id": "14fe5672",
   "metadata": {},
   "outputs": [
    {
     "name": "stdout",
     "output_type": "stream",
     "text": [
      "Found 1042 validated image filenames belonging to 3 classes.\n"
     ]
    }
   ],
   "source": [
    "test_datagen=ImageDataGenerator(rescale=1./255.)\n",
    "\n",
    "test_generator=test_datagen.flow_from_dataframe(\n",
    "    dataframe=test_df,\n",
    "    directory=path_dir,\n",
    "    x_col=\"Path\",\n",
    "    y_col=\"Label\",\n",
    "    batch_size=32,\n",
    "    shuffle=False,\n",
    "    class_mode=\"categorical\",\n",
    "    target_size=(256, 256))"
   ]
  },
  {
   "cell_type": "markdown",
   "id": "1edb9de6",
   "metadata": {},
   "source": [
    "# Convolutional Neural Network on log Mel-spectrogram images"
   ]
  },
  {
   "cell_type": "markdown",
   "id": "2e962d56",
   "metadata": {},
   "source": [
    "Next I'm going to train 3 CNN models to find out which is the best model.<br>Follow the definition of some fixed parameters for training like optimizer and early stopping."
   ]
  },
  {
   "cell_type": "code",
   "execution_count": 7,
   "id": "f616e857",
   "metadata": {},
   "outputs": [],
   "source": [
    "input_size = (256, 256, 3)\n",
    "adam = keras.optimizers.Adam(learning_rate=0.001)\n",
    "batchsize = 32\n",
    "epochs = 50\n",
    "metrics = [\n",
    "    \"accuracy\",\n",
    "    AUC(curve=\"ROC\", name=\"auroc\")\n",
    "]\n",
    "callbacks=[\n",
    "    EarlyStopping(monitor=\"val_loss\", mode=\"min\", patience=5, restore_best_weights=True)\n",
    "]"
   ]
  },
  {
   "cell_type": "code",
   "execution_count": 8,
   "id": "140cba1e",
   "metadata": {},
   "outputs": [],
   "source": [
    "def compile_and_train(model, train, validation):\n",
    "    model.compile(loss='categorical_crossentropy', optimizer=adam, metrics=metrics)\n",
    "    history = model.fit(train,\n",
    "                    batch_size=batchsize,\n",
    "                    epochs=epochs,\n",
    "                    validation_data=validation,\n",
    "                    callbacks=callbacks)\n",
    "    return history, model"
   ]
  },
  {
   "cell_type": "markdown",
   "id": "b1e9e58f",
   "metadata": {},
   "source": [
    "# Models Definition"
   ]
  },
  {
   "cell_type": "code",
   "execution_count": 35,
   "id": "2e7395b3",
   "metadata": {},
   "outputs": [
    {
     "name": "stdout",
     "output_type": "stream",
     "text": [
      "Model: \"sequential_5\"\n",
      "_________________________________________________________________\n",
      "Layer (type)                 Output Shape              Param #   \n",
      "=================================================================\n",
      "conv2d_16 (Conv2D)           (None, 256, 256, 16)      448       \n",
      "_________________________________________________________________\n",
      "max_pooling2d_16 (MaxPooling (None, 128, 128, 16)      0         \n",
      "_________________________________________________________________\n",
      "conv2d_17 (Conv2D)           (None, 64, 64, 16)        2320      \n",
      "_________________________________________________________________\n",
      "max_pooling2d_17 (MaxPooling (None, 32, 32, 16)        0         \n",
      "_________________________________________________________________\n",
      "conv2d_18 (Conv2D)           (None, 16, 16, 32)        4640      \n",
      "_________________________________________________________________\n",
      "max_pooling2d_18 (MaxPooling (None, 8, 8, 32)          0         \n",
      "_________________________________________________________________\n",
      "flatten_5 (Flatten)          (None, 2048)              0         \n",
      "_________________________________________________________________\n",
      "dropout_5 (Dropout)          (None, 2048)              0         \n",
      "_________________________________________________________________\n",
      "dense_15 (Dense)             (None, 128)               262272    \n",
      "_________________________________________________________________\n",
      "dense_16 (Dense)             (None, 32)                4128      \n",
      "_________________________________________________________________\n",
      "dense_17 (Dense)             (None, 3)                 99        \n",
      "=================================================================\n",
      "Total params: 273,907\n",
      "Trainable params: 273,907\n",
      "Non-trainable params: 0\n",
      "_________________________________________________________________\n"
     ]
    }
   ],
   "source": [
    "# build a sequential model\n",
    "model = Sequential([\n",
    "    InputLayer(input_shape=input_size),\n",
    "    # 1st conv block\n",
    "    Conv2D(16, (3, 3), activation='relu', padding='same'),\n",
    "    MaxPool2D(pool_size=(2, 2), padding='same'),\n",
    "    # 2nd conv block\n",
    "    Conv2D(16, (3, 3), activation='relu', strides=(2, 2), padding='same'),\n",
    "    MaxPool2D(pool_size=(2, 2), padding='same'),\n",
    "    # 3rd conv block\n",
    "    Conv2D(32, (3, 3), activation='relu', strides=(2, 2), padding='same'),\n",
    "    MaxPool2D(pool_size=(2, 2), padding='same'),\n",
    "    # ANN block\n",
    "    Flatten(),\n",
    "    Dropout(0.2),\n",
    "    Dense(units=128, activation='relu'),\n",
    "    Dense(units=32, activation='relu'),\n",
    "    # output layer\n",
    "    Dense(units=3, activation='softmax')\n",
    "])\n",
    "model.summary()"
   ]
  },
  {
   "cell_type": "code",
   "execution_count": 36,
   "id": "11584624",
   "metadata": {},
   "outputs": [
    {
     "name": "stdout",
     "output_type": "stream",
     "text": [
      "Model: \"sequential_6\"\n",
      "_________________________________________________________________\n",
      "Layer (type)                 Output Shape              Param #   \n",
      "=================================================================\n",
      "conv2d_19 (Conv2D)           (None, 256, 256, 16)      448       \n",
      "_________________________________________________________________\n",
      "max_pooling2d_19 (MaxPooling (None, 128, 128, 16)      0         \n",
      "_________________________________________________________________\n",
      "conv2d_20 (Conv2D)           (None, 64, 64, 32)        4640      \n",
      "_________________________________________________________________\n",
      "max_pooling2d_20 (MaxPooling (None, 32, 32, 32)        0         \n",
      "_________________________________________________________________\n",
      "conv2d_21 (Conv2D)           (None, 16, 16, 64)        18496     \n",
      "_________________________________________________________________\n",
      "max_pooling2d_21 (MaxPooling (None, 8, 8, 64)          0         \n",
      "_________________________________________________________________\n",
      "flatten_6 (Flatten)          (None, 4096)              0         \n",
      "_________________________________________________________________\n",
      "dropout_6 (Dropout)          (None, 4096)              0         \n",
      "_________________________________________________________________\n",
      "dense_18 (Dense)             (None, 128)               524416    \n",
      "_________________________________________________________________\n",
      "dense_19 (Dense)             (None, 64)                8256      \n",
      "_________________________________________________________________\n",
      "dense_20 (Dense)             (None, 3)                 195       \n",
      "=================================================================\n",
      "Total params: 556,451\n",
      "Trainable params: 556,451\n",
      "Non-trainable params: 0\n",
      "_________________________________________________________________\n"
     ]
    }
   ],
   "source": [
    "model1 = Sequential([\n",
    "    InputLayer(input_shape=input_size),\n",
    "    #1st hidden layer\n",
    "    Conv2D(16, (3, 3), activation='relu', padding=\"same\"),\n",
    "    MaxPool2D((2, 2)),\n",
    "    #2nd hidden layer\n",
    "    Conv2D(32, (3, 3), activation='relu', strides=(2, 2), padding=\"same\"),\n",
    "    MaxPool2D((2, 2)),\n",
    "    # 3rd conv block\n",
    "    Conv2D(64, (3, 3), activation='relu', strides=(2, 2), padding='same'),\n",
    "    MaxPool2D(pool_size=(2, 2), padding='same'),\n",
    "    #ANN\n",
    "    Flatten(),\n",
    "    Dropout(0.2),\n",
    "    Dense(units = 128, activation='relu'),\n",
    "    Dense(units = 64, activation='relu'),\n",
    "    #Output layer\n",
    "    Dense(units= 3, activation='softmax'),\n",
    "]) \n",
    "model1.summary()"
   ]
  },
  {
   "cell_type": "code",
   "execution_count": 37,
   "id": "613712c5",
   "metadata": {},
   "outputs": [
    {
     "name": "stdout",
     "output_type": "stream",
     "text": [
      "Model: \"sequential_7\"\n",
      "_________________________________________________________________\n",
      "Layer (type)                 Output Shape              Param #   \n",
      "=================================================================\n",
      "conv2d_22 (Conv2D)           (None, 254, 254, 16)      448       \n",
      "_________________________________________________________________\n",
      "max_pooling2d_22 (MaxPooling (None, 127, 127, 16)      0         \n",
      "_________________________________________________________________\n",
      "conv2d_23 (Conv2D)           (None, 125, 125, 32)      4640      \n",
      "_________________________________________________________________\n",
      "max_pooling2d_23 (MaxPooling (None, 62, 62, 32)        0         \n",
      "_________________________________________________________________\n",
      "conv2d_24 (Conv2D)           (None, 60, 60, 64)        18496     \n",
      "_________________________________________________________________\n",
      "max_pooling2d_24 (MaxPooling (None, 30, 30, 64)        0         \n",
      "_________________________________________________________________\n",
      "conv2d_25 (Conv2D)           (None, 14, 14, 64)        36928     \n",
      "_________________________________________________________________\n",
      "max_pooling2d_25 (MaxPooling (None, 7, 7, 64)          0         \n",
      "_________________________________________________________________\n",
      "flatten_7 (Flatten)          (None, 3136)              0         \n",
      "_________________________________________________________________\n",
      "dropout_7 (Dropout)          (None, 3136)              0         \n",
      "_________________________________________________________________\n",
      "dense_21 (Dense)             (None, 256)               803072    \n",
      "_________________________________________________________________\n",
      "dense_22 (Dense)             (None, 64)                16448     \n",
      "_________________________________________________________________\n",
      "dense_23 (Dense)             (None, 3)                 195       \n",
      "=================================================================\n",
      "Total params: 880,227\n",
      "Trainable params: 880,227\n",
      "Non-trainable params: 0\n",
      "_________________________________________________________________\n"
     ]
    }
   ],
   "source": [
    "model2 = tf.keras.models.Sequential([\n",
    "    InputLayer(input_shape=input_size),\n",
    "    #first_convolution\n",
    "    Conv2D(16, (3,3), activation='relu'),\n",
    "    MaxPool2D(2, 2),\n",
    "    #second_convolution\n",
    "    Conv2D(32, (3,3), activation='relu'),\n",
    "    MaxPool2D(2,2),\n",
    "    #third_convolution\n",
    "    Conv2D(64, (3,3), activation='relu'),\n",
    "    MaxPool2D(2,2),\n",
    "    #fourth_convolution\n",
    "    Conv2D(64, (3,3), strides=(2, 2), activation='relu'),\n",
    "    MaxPool2D(2,2),\n",
    "    #out ANN\n",
    "    Flatten(),\n",
    "    Dropout(0.2),\n",
    "    Dense(256, activation='relu'),\n",
    "    Dense(64, activation='relu'),\n",
    "    Dense(3, activation='softmax') \n",
    "]) \n",
    "model2.summary()"
   ]
  },
  {
   "cell_type": "markdown",
   "id": "a33b1bc9",
   "metadata": {},
   "source": [
    "## First CNN "
   ]
  },
  {
   "cell_type": "code",
   "execution_count": 38,
   "id": "84642d64",
   "metadata": {
    "scrolled": true
   },
   "outputs": [
    {
     "name": "stdout",
     "output_type": "stream",
     "text": [
      "Epoch 1/50\n",
      "152/152 [==============================] - 28s 176ms/step - loss: 0.6872 - accuracy: 0.6390 - auroc: 0.8515 - val_loss: 0.5101 - val_accuracy: 0.7560 - val_auroc: 0.9222\n",
      "Epoch 2/50\n",
      "152/152 [==============================] - 28s 185ms/step - loss: 0.5031 - accuracy: 0.7422 - auroc: 0.9174 - val_loss: 0.4735 - val_accuracy: 0.7704 - val_auroc: 0.9316\n",
      "Epoch 3/50\n",
      "152/152 [==============================] - 28s 184ms/step - loss: 0.4532 - accuracy: 0.7830 - auroc: 0.9371 - val_loss: 0.4076 - val_accuracy: 0.8040 - val_auroc: 0.9504\n",
      "Epoch 4/50\n",
      "152/152 [==============================] - 31s 204ms/step - loss: 0.3980 - accuracy: 0.8114 - auroc: 0.9518 - val_loss: 0.3733 - val_accuracy: 0.8357 - val_auroc: 0.9606\n",
      "Epoch 5/50\n",
      "152/152 [==============================] - 32s 210ms/step - loss: 0.3637 - accuracy: 0.8303 - auroc: 0.9605 - val_loss: 0.3699 - val_accuracy: 0.8280 - val_auroc: 0.9592\n",
      "Epoch 6/50\n",
      "152/152 [==============================] - 30s 194ms/step - loss: 0.3386 - accuracy: 0.8404 - auroc: 0.9660 - val_loss: 0.3563 - val_accuracy: 0.8367 - val_auroc: 0.9627\n",
      "Epoch 7/50\n",
      "152/152 [==============================] - 29s 189ms/step - loss: 0.3174 - accuracy: 0.8572 - auroc: 0.9702 - val_loss: 0.3403 - val_accuracy: 0.8396 - val_auroc: 0.9657\n",
      "Epoch 8/50\n",
      "152/152 [==============================] - 30s 200ms/step - loss: 0.2904 - accuracy: 0.8720 - auroc: 0.9751 - val_loss: 0.3304 - val_accuracy: 0.8463 - val_auroc: 0.9684\n",
      "Epoch 9/50\n",
      "152/152 [==============================] - 29s 190ms/step - loss: 0.2748 - accuracy: 0.8821 - auroc: 0.9778 - val_loss: 0.3306 - val_accuracy: 0.8646 - val_auroc: 0.9687\n",
      "Epoch 10/50\n",
      "152/152 [==============================] - 29s 193ms/step - loss: 0.2606 - accuracy: 0.8838 - auroc: 0.9801 - val_loss: 0.3444 - val_accuracy: 0.8473 - val_auroc: 0.9677\n",
      "Epoch 11/50\n",
      "152/152 [==============================] - 29s 189ms/step - loss: 0.2322 - accuracy: 0.8996 - auroc: 0.9844 - val_loss: 0.3277 - val_accuracy: 0.8722 - val_auroc: 0.9708\n",
      "Epoch 12/50\n",
      "152/152 [==============================] - 30s 200ms/step - loss: 0.2275 - accuracy: 0.9056 - auroc: 0.9850 - val_loss: 0.3243 - val_accuracy: 0.8694 - val_auroc: 0.9715\n",
      "Epoch 13/50\n",
      "152/152 [==============================] - 30s 197ms/step - loss: 0.2038 - accuracy: 0.9140 - auroc: 0.9879 - val_loss: 0.3463 - val_accuracy: 0.8617 - val_auroc: 0.9690\n",
      "Epoch 14/50\n",
      "152/152 [==============================] - 28s 182ms/step - loss: 0.1882 - accuracy: 0.9198 - auroc: 0.9898 - val_loss: 0.3292 - val_accuracy: 0.8588 - val_auroc: 0.9726\n",
      "Epoch 15/50\n",
      "152/152 [==============================] - 28s 186ms/step - loss: 0.1802 - accuracy: 0.9243 - auroc: 0.9905 - val_loss: 0.3263 - val_accuracy: 0.8732 - val_auroc: 0.9728\n",
      "Epoch 16/50\n",
      "152/152 [==============================] - 29s 193ms/step - loss: 0.1637 - accuracy: 0.9336 - auroc: 0.9924 - val_loss: 0.3677 - val_accuracy: 0.8626 - val_auroc: 0.9668\n",
      "Epoch 17/50\n",
      "152/152 [==============================] - 29s 190ms/step - loss: 0.1532 - accuracy: 0.9364 - auroc: 0.9932 - val_loss: 0.3517 - val_accuracy: 0.8722 - val_auroc: 0.9698\n"
     ]
    }
   ],
   "source": [
    "history, model = compile_and_train(model, train_generator, validation_generator)"
   ]
  },
  {
   "cell_type": "code",
   "execution_count": 39,
   "id": "79aaca6b",
   "metadata": {},
   "outputs": [
    {
     "data": {
      "text/plain": [
       "dict_keys(['loss', 'accuracy', 'auroc', 'val_loss', 'val_accuracy', 'val_auroc'])"
      ]
     },
     "execution_count": 39,
     "metadata": {},
     "output_type": "execute_result"
    }
   ],
   "source": [
    "history.history.keys()"
   ]
  },
  {
   "cell_type": "code",
   "execution_count": 40,
   "id": "ac7c45b0",
   "metadata": {},
   "outputs": [
    {
     "data": {
      "image/png": "[encoded data removed]",
      "text/plain": [
       "<Figure size 432x288 with 1 Axes>"
      ]
     },
     "metadata": {
      "needs_background": "light"
     },
     "output_type": "display_data"
    },
    {
     "data": {
      "image/png": "[encoded data removed]",
      "text/plain": [
       "<Figure size 432x288 with 1 Axes>"
      ]
     },
     "metadata": {
      "needs_background": "light"
     },
     "output_type": "display_data"
    }
   ],
   "source": [
    "graphing_training_validation(history)"
   ]
  },
  {
   "cell_type": "code",
   "execution_count": 41,
   "id": "1044e01f",
   "metadata": {},
   "outputs": [
    {
     "name": "stdout",
     "output_type": "stream",
     "text": [
      "33/33 [==============================] - 5s 137ms/step - loss: 0.3243 - accuracy: 0.8694 - auroc: 0.9715\n"
     ]
    }
   ],
   "source": [
    "test_accuracy = model.evaluate(validation_generator)"
   ]
  },
  {
   "cell_type": "code",
   "execution_count": 42,
   "id": "53de40f4",
   "metadata": {},
   "outputs": [],
   "source": [
    "prediction = model.predict(test_generator)"
   ]
  },
  {
   "cell_type": "code",
   "execution_count": 43,
   "id": "f3b941ef",
   "metadata": {},
   "outputs": [
    {
     "name": "stdout",
     "output_type": "stream",
     "text": [
      "Confusion matrix:\n",
      "[[284  61   4]\n",
      " [ 64 256   3]\n",
      " [  7   2 361]]\n",
      "\n",
      "Classification report:\n",
      "\n",
      "              precision    recall  f1-score   support\n",
      "\n",
      "           0       0.80      0.81      0.81       349\n",
      "           1       0.80      0.79      0.80       323\n",
      "           2       0.98      0.98      0.98       370\n",
      "\n",
      "    accuracy                           0.86      1042\n",
      "   macro avg       0.86      0.86      0.86      1042\n",
      "weighted avg       0.87      0.86      0.86      1042\n",
      "\n"
     ]
    }
   ],
   "source": [
    "print_results(prediction, test_generator)"
   ]
  },
  {
   "cell_type": "markdown",
   "id": "e814b78e",
   "metadata": {},
   "source": [
    "## Second CNN"
   ]
  },
  {
   "cell_type": "code",
   "execution_count": 44,
   "id": "c08a5860",
   "metadata": {
    "scrolled": false
   },
   "outputs": [
    {
     "name": "stdout",
     "output_type": "stream",
     "text": [
      "Epoch 1/50\n",
      "152/152 [==============================] - 30s 186ms/step - loss: 0.6789 - accuracy: 0.6534 - auroc: 0.8853 - val_loss: 0.5297 - val_accuracy: 0.7301 - val_auroc: 0.9095\n",
      "Epoch 2/50\n",
      "152/152 [==============================] - 28s 186ms/step - loss: 0.5130 - accuracy: 0.7324 - auroc: 0.9150 - val_loss: 0.4928 - val_accuracy: 0.7339 - val_auroc: 0.9167\n",
      "Epoch 3/50\n",
      "152/152 [==============================] - 31s 204ms/step - loss: 0.4713 - accuracy: 0.7636 - auroc: 0.9288 - val_loss: 0.4308 - val_accuracy: 0.8002 - val_auroc: 0.9431\n",
      "Epoch 4/50\n",
      "152/152 [==============================] - 28s 182ms/step - loss: 0.4217 - accuracy: 0.7994 - auroc: 0.9446 - val_loss: 0.4058 - val_accuracy: 0.8040 - val_auroc: 0.9508\n",
      "Epoch 5/50\n",
      "152/152 [==============================] - 28s 182ms/step - loss: 0.4005 - accuracy: 0.8064 - auroc: 0.9503 - val_loss: 0.3888 - val_accuracy: 0.8204 - val_auroc: 0.9547\n",
      "Epoch 6/50\n",
      "152/152 [==============================] - 29s 192ms/step - loss: 0.3811 - accuracy: 0.8196 - auroc: 0.9553 - val_loss: 0.3716 - val_accuracy: 0.8453 - val_auroc: 0.9603\n",
      "Epoch 7/50\n",
      "152/152 [==============================] - 31s 201ms/step - loss: 0.3677 - accuracy: 0.8356 - auroc: 0.9595 - val_loss: 0.3530 - val_accuracy: 0.8329 - val_auroc: 0.9627\n",
      "Epoch 8/50\n",
      "152/152 [==============================] - 30s 199ms/step - loss: 0.3451 - accuracy: 0.8416 - auroc: 0.9641 - val_loss: 0.3499 - val_accuracy: 0.8463 - val_auroc: 0.9640\n",
      "Epoch 9/50\n",
      "152/152 [==============================] - 31s 203ms/step - loss: 0.3233 - accuracy: 0.8554 - auroc: 0.9687 - val_loss: 0.3663 - val_accuracy: 0.8329 - val_auroc: 0.9601\n",
      "Epoch 10/50\n",
      "152/152 [==============================] - 29s 189ms/step - loss: 0.3095 - accuracy: 0.8581 - auroc: 0.9710 - val_loss: 0.3352 - val_accuracy: 0.8482 - val_auroc: 0.9664\n",
      "Epoch 11/50\n",
      "152/152 [==============================] - 28s 182ms/step - loss: 0.3007 - accuracy: 0.8683 - auroc: 0.9732 - val_loss: 0.3404 - val_accuracy: 0.8425 - val_auroc: 0.9651\n",
      "Epoch 12/50\n",
      "152/152 [==============================] - 28s 182ms/step - loss: 0.2815 - accuracy: 0.8743 - auroc: 0.9767 - val_loss: 0.3438 - val_accuracy: 0.8425 - val_auroc: 0.9661\n",
      "Epoch 13/50\n",
      "152/152 [==============================] - 29s 188ms/step - loss: 0.2820 - accuracy: 0.8829 - auroc: 0.9765 - val_loss: 0.3739 - val_accuracy: 0.8415 - val_auroc: 0.9610\n",
      "Epoch 14/50\n",
      "152/152 [==============================] - 31s 204ms/step - loss: 0.2621 - accuracy: 0.8881 - auroc: 0.9800 - val_loss: 0.3362 - val_accuracy: 0.8588 - val_auroc: 0.9671\n",
      "Epoch 15/50\n",
      "152/152 [==============================] - 31s 200ms/step - loss: 0.2519 - accuracy: 0.8953 - auroc: 0.9813 - val_loss: 0.3206 - val_accuracy: 0.8655 - val_auroc: 0.9704\n",
      "Epoch 16/50\n",
      "152/152 [==============================] - 30s 199ms/step - loss: 0.2330 - accuracy: 0.8996 - auroc: 0.9841 - val_loss: 0.3370 - val_accuracy: 0.8521 - val_auroc: 0.9666\n",
      "Epoch 17/50\n",
      "152/152 [==============================] - 30s 195ms/step - loss: 0.2324 - accuracy: 0.8998 - auroc: 0.9842 - val_loss: 0.3492 - val_accuracy: 0.8559 - val_auroc: 0.9668\n",
      "Epoch 18/50\n",
      "152/152 [==============================] - 29s 192ms/step - loss: 0.2091 - accuracy: 0.9142 - auroc: 0.9872 - val_loss: 0.3314 - val_accuracy: 0.8684 - val_auroc: 0.9693\n",
      "Epoch 19/50\n",
      "152/152 [==============================] - 31s 201ms/step - loss: 0.2068 - accuracy: 0.9177 - auroc: 0.9875 - val_loss: 0.3572 - val_accuracy: 0.8588 - val_auroc: 0.9651\n",
      "Epoch 20/50\n",
      "152/152 [==============================] - 29s 189ms/step - loss: 0.1966 - accuracy: 0.9194 - auroc: 0.9888 - val_loss: 0.3619 - val_accuracy: 0.8655 - val_auroc: 0.9652\n"
     ]
    }
   ],
   "source": [
    "history1, model1 = compile_and_train(model1, train_generator, validation_generator)"
   ]
  },
  {
   "cell_type": "code",
   "execution_count": 45,
   "id": "858ad93b",
   "metadata": {},
   "outputs": [
    {
     "data": {
      "image/png": "[encoded data removed]",
      "text/plain": [
       "<Figure size 432x288 with 1 Axes>"
      ]
     },
     "metadata": {
      "needs_background": "light"
     },
     "output_type": "display_data"
    },
    {
     "data": {
      "image/png": "[encoded data removed]",
      "text/plain": [
       "<Figure size 432x288 with 1 Axes>"
      ]
     },
     "metadata": {
      "needs_background": "light"
     },
     "output_type": "display_data"
    }
   ],
   "source": [
    "graphing_training_validation(history1)"
   ]
  },
  {
   "cell_type": "code",
   "execution_count": 46,
   "id": "1ce13481",
   "metadata": {},
   "outputs": [
    {
     "name": "stdout",
     "output_type": "stream",
     "text": [
      "33/33 [==============================] - 5s 140ms/step - loss: 0.3206 - accuracy: 0.8655 - auroc: 0.9704\n"
     ]
    }
   ],
   "source": [
    "test_accuracy = model1.evaluate(validation_generator)"
   ]
  },
  {
   "cell_type": "code",
   "execution_count": 47,
   "id": "e75f1178",
   "metadata": {},
   "outputs": [
    {
     "name": "stdout",
     "output_type": "stream",
     "text": [
      "Confusion matrix:\n",
      "[[268  76   5]\n",
      " [ 59 263   1]\n",
      " [ 13   2 355]]\n",
      "\n",
      "Classification report:\n",
      "\n",
      "              precision    recall  f1-score   support\n",
      "\n",
      "           0       0.79      0.77      0.78       349\n",
      "           1       0.77      0.81      0.79       323\n",
      "           2       0.98      0.96      0.97       370\n",
      "\n",
      "    accuracy                           0.85      1042\n",
      "   macro avg       0.85      0.85      0.85      1042\n",
      "weighted avg       0.85      0.85      0.85      1042\n",
      "\n"
     ]
    }
   ],
   "source": [
    "pred1 = model1.predict(test_generator)\n",
    "print_results(pred1, test_generator)"
   ]
  },
  {
   "cell_type": "markdown",
   "id": "e996ccfc",
   "metadata": {},
   "source": [
    "## Third CNN "
   ]
  },
  {
   "cell_type": "code",
   "execution_count": 48,
   "id": "b52b0c75",
   "metadata": {
    "scrolled": true
   },
   "outputs": [
    {
     "name": "stdout",
     "output_type": "stream",
     "text": [
      "Epoch 1/50\n",
      "152/152 [==============================] - 38s 243ms/step - loss: 0.6950 - accuracy: 0.6371 - auroc: 0.8787 - val_loss: 0.5349 - val_accuracy: 0.7329 - val_auroc: 0.9060\n",
      "Epoch 2/50\n",
      "152/152 [==============================] - 39s 257ms/step - loss: 0.5234 - accuracy: 0.7340 - auroc: 0.9114 - val_loss: 0.4594 - val_accuracy: 0.7695 - val_auroc: 0.9332\n",
      "Epoch 3/50\n",
      "152/152 [==============================] - 39s 257ms/step - loss: 0.4770 - accuracy: 0.7546 - auroc: 0.9245 - val_loss: 0.4462 - val_accuracy: 0.7743 - val_auroc: 0.9375\n",
      "Epoch 4/50\n",
      "152/152 [==============================] - 39s 255ms/step - loss: 0.4473 - accuracy: 0.7766 - auroc: 0.9357 - val_loss: 0.4459 - val_accuracy: 0.7848 - val_auroc: 0.9371\n",
      "Epoch 5/50\n",
      "152/152 [==============================] - 40s 266ms/step - loss: 0.4131 - accuracy: 0.8000 - auroc: 0.9469 - val_loss: 0.3779 - val_accuracy: 0.8175 - val_auroc: 0.9564\n",
      "Epoch 6/50\n",
      "152/152 [==============================] - 41s 267ms/step - loss: 0.3762 - accuracy: 0.8235 - auroc: 0.9567 - val_loss: 0.4412 - val_accuracy: 0.7695 - val_auroc: 0.9380\n",
      "Epoch 7/50\n",
      "152/152 [==============================] - 40s 265ms/step - loss: 0.3546 - accuracy: 0.8334 - auroc: 0.9619 - val_loss: 0.3428 - val_accuracy: 0.8521 - val_auroc: 0.9646\n",
      "Epoch 8/50\n",
      "152/152 [==============================] - 38s 251ms/step - loss: 0.3209 - accuracy: 0.8546 - auroc: 0.9693 - val_loss: 0.3570 - val_accuracy: 0.8511 - val_auroc: 0.9624\n",
      "Epoch 9/50\n",
      "152/152 [==============================] - 41s 271ms/step - loss: 0.2926 - accuracy: 0.8675 - auroc: 0.9745 - val_loss: 0.3327 - val_accuracy: 0.8444 - val_auroc: 0.9665\n",
      "Epoch 10/50\n",
      "152/152 [==============================] - 47s 308ms/step - loss: 0.2670 - accuracy: 0.8811 - auroc: 0.9789 - val_loss: 0.3148 - val_accuracy: 0.8588 - val_auroc: 0.9705\n",
      "Epoch 11/50\n",
      "152/152 [==============================] - 39s 259ms/step - loss: 0.2462 - accuracy: 0.8875 - auroc: 0.9821 - val_loss: 0.3371 - val_accuracy: 0.8453 - val_auroc: 0.9674\n",
      "Epoch 12/50\n",
      "152/152 [==============================] - 42s 277ms/step - loss: 0.2177 - accuracy: 0.9062 - auroc: 0.9860 - val_loss: 0.3262 - val_accuracy: 0.8549 - val_auroc: 0.9690\n",
      "Epoch 13/50\n",
      "152/152 [==============================] - 40s 260ms/step - loss: 0.2020 - accuracy: 0.9117 - auroc: 0.9880 - val_loss: 0.3319 - val_accuracy: 0.8684 - val_auroc: 0.9697\n",
      "Epoch 14/50\n",
      "152/152 [==============================] - 38s 251ms/step - loss: 0.1796 - accuracy: 0.9237 - auroc: 0.9907 - val_loss: 0.3717 - val_accuracy: 0.8425 - val_auroc: 0.9636\n",
      "Epoch 15/50\n",
      "152/152 [==============================] - 38s 252ms/step - loss: 0.1785 - accuracy: 0.9251 - auroc: 0.9907 - val_loss: 0.3286 - val_accuracy: 0.8742 - val_auroc: 0.9722\n"
     ]
    }
   ],
   "source": [
    "history2, model2 = compile_and_train(model2, train_generator, validation_generator)"
   ]
  },
  {
   "cell_type": "code",
   "execution_count": 49,
   "id": "f1af71dd",
   "metadata": {},
   "outputs": [
    {
     "data": {
      "image/png": "[encoded data removed]",
      "text/plain": [
       "<Figure size 432x288 with 1 Axes>"
      ]
     },
     "metadata": {
      "needs_background": "light"
     },
     "output_type": "display_data"
    },
    {
     "data": {
      "image/png": "[encoded data removed]",
      "text/plain": [
       "<Figure size 432x288 with 1 Axes>"
      ]
     },
     "metadata": {
      "needs_background": "light"
     },
     "output_type": "display_data"
    }
   ],
   "source": [
    "graphing_training_validation(history2)"
   ]
  },
  {
   "cell_type": "code",
   "execution_count": 50,
   "id": "b39f802a",
   "metadata": {},
   "outputs": [
    {
     "name": "stdout",
     "output_type": "stream",
     "text": [
      "33/33 [==============================] - 5s 156ms/step - loss: 0.3148 - accuracy: 0.8588 - auroc: 0.9705\n"
     ]
    }
   ],
   "source": [
    "test_accuracy = model2.evaluate(validation_generator)"
   ]
  },
  {
   "cell_type": "code",
   "execution_count": 51,
   "id": "214f5276",
   "metadata": {},
   "outputs": [
    {
     "name": "stdout",
     "output_type": "stream",
     "text": [
      "Confusion matrix:\n",
      "[[263  82   4]\n",
      " [ 45 275   3]\n",
      " [ 10   6 354]]\n",
      "\n",
      "Classification report:\n",
      "\n",
      "              precision    recall  f1-score   support\n",
      "\n",
      "           0       0.83      0.75      0.79       349\n",
      "           1       0.76      0.85      0.80       323\n",
      "           2       0.98      0.96      0.97       370\n",
      "\n",
      "    accuracy                           0.86      1042\n",
      "   macro avg       0.86      0.85      0.85      1042\n",
      "weighted avg       0.86      0.86      0.86      1042\n",
      "\n"
     ]
    }
   ],
   "source": [
    "pred2 = model2.predict(test_generator)\n",
    "print_results(pred2, test_generator)"
   ]
  },
  {
   "cell_type": "code",
   "execution_count": null,
   "id": "b470ec68",
   "metadata": {},
   "outputs": [],
   "source": []
  }
 ],
 "metadata": {
  "kernelspec": {
   "display_name": "Python 3 (ipykernel)",
   "language": "python",
   "name": "python3"
  },
  "language_info": {
   "codemirror_mode": {
    "name": "ipython",
    "version": 3
   },
   "file_extension": ".py",
   "mimetype": "text/x-python",
   "name": "python",
   "nbconvert_exporter": "python",
   "pygments_lexer": "ipython3",
   "version": "3.8.10"
  }
 },
 "nbformat": 4,
 "nbformat_minor": 5
}
