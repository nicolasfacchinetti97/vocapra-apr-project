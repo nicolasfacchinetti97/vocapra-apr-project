{
 "cells": [
  {
   "cell_type": "code",
   "execution_count": 15,
   "id": "0d0fe4cf",
   "metadata": {},
   "outputs": [],
   "source": [
    "# data manipulations\n",
    "import numpy as np\n",
    "import pandas as pd\n",
    "\n",
    "# data preaparation\n",
    "from sklearn.model_selection import train_test_split\n",
    "from sklearn.preprocessing import LabelEncoder, StandardScaler\n",
    "\n",
    "# dealing with images\n",
    "from tensorflow.keras.preprocessing.image import ImageDataGenerator\n",
    "\n",
    "# for writing the models\n",
    "import tensorflow as tf\n",
    "from tensorflow import keras\n",
    "from tensorflow.keras import layers\n",
    "from tensorflow.keras.models import Sequential\n",
    "from tensorflow.keras.layers import Conv2D, MaxPool2D, Flatten, Dense, InputLayer, BatchNormalization, Dropout, AveragePooling2D\n",
    "from tensorflow.keras.callbacks import EarlyStopping\n",
    "\n",
    "# metrics \n",
    "from sklearn.metrics import confusion_matrix, classification_report\n",
    "from tensorflow.keras.metrics import AUC\n",
    "\n",
    "#visualization\n",
    "import matplotlib.pyplot as plt\n"
   ]
  },
  {
   "cell_type": "code",
   "execution_count": 84,
   "id": "808c0580",
   "metadata": {},
   "outputs": [],
   "source": [
    "def print_results(predictions, test):\n",
    "    y_pred = np.argmax(predictions, axis=1)\n",
    "    y_true = test.labels\n",
    "    \n",
    "    # confusion matrix\n",
    "    print(\"Confusion matrix:\")\n",
    "    print(confusion_matrix(y_true, y_pred))\n",
    "    # classification report\n",
    "    print(\"\\nClassification report:\\n\")\n",
    "    print(classification_report(y_true, y_pred))\n",
    "\n",
    "\n",
    "def graphing_training_validation(history):\n",
    "    acc = history.history['accuracy']\n",
    "    val_acc = history.history['val_accuracy']\n",
    "    loss = history.history['loss']\n",
    "    val_loss = history.history['val_loss']\n",
    "    epochs = range(len(acc))\n",
    "    plt.plot(epochs, acc, 'r', label='Training acc')\n",
    "    plt.plot(epochs, val_acc, 'b', label='Validation acc')\n",
    "    plt.title('Training and validation accuracy')\n",
    "    plt.ylabel('accuracy') \n",
    "    plt.xlabel('epoch')\n",
    "    plt.legend()\n",
    "    plt.figure()\n",
    "    plt.plot(epochs, loss, 'r', label='Training loss')\n",
    "    plt.plot(epochs, val_loss, 'b', label='Validation loss')\n",
    "    plt.title('Training and validation loss')\n",
    "    plt.ylabel('loss') \n",
    "    plt.xlabel('epoch')\n",
    "    plt.legend()\n",
    "    plt.show()"
   ]
  },
  {
   "cell_type": "markdown",
   "id": "2c183d85",
   "metadata": {},
   "source": [
    "Load images metadata"
   ]
  },
  {
   "cell_type": "code",
   "execution_count": 12,
   "id": "c725edaa",
   "metadata": {},
   "outputs": [
    {
     "data": {
      "text/html": [
       "<div>\n",
       "<style scoped>\n",
       "    .dataframe tbody tr th:only-of-type {\n",
       "        vertical-align: middle;\n",
       "    }\n",
       "\n",
       "    .dataframe tbody tr th {\n",
       "        vertical-align: top;\n",
       "    }\n",
       "\n",
       "    .dataframe thead th {\n",
       "        text-align: right;\n",
       "    }\n",
       "</style>\n",
       "<table border=\"1\" class=\"dataframe\">\n",
       "  <thead>\n",
       "    <tr style=\"text-align: right;\">\n",
       "      <th></th>\n",
       "      <th>Path</th>\n",
       "      <th>Label</th>\n",
       "    </tr>\n",
       "  </thead>\n",
       "  <tbody>\n",
       "    <tr>\n",
       "      <th>0</th>\n",
       "      <td>img_data/Bleatings/0.png</td>\n",
       "      <td>Bleatings</td>\n",
       "    </tr>\n",
       "    <tr>\n",
       "      <th>1</th>\n",
       "      <td>img_data/Bleatings/1.png</td>\n",
       "      <td>Bleatings</td>\n",
       "    </tr>\n",
       "    <tr>\n",
       "      <th>2</th>\n",
       "      <td>img_data/Bleatings/2.png</td>\n",
       "      <td>Bleatings</td>\n",
       "    </tr>\n",
       "    <tr>\n",
       "      <th>3</th>\n",
       "      <td>img_data/Bleatings/3.png</td>\n",
       "      <td>Bleatings</td>\n",
       "    </tr>\n",
       "    <tr>\n",
       "      <th>4</th>\n",
       "      <td>img_data/Bleatings/4.png</td>\n",
       "      <td>Bleatings</td>\n",
       "    </tr>\n",
       "  </tbody>\n",
       "</table>\n",
       "</div>"
      ],
      "text/plain": [
       "                       Path      Label\n",
       "0  img_data/Bleatings/0.png  Bleatings\n",
       "1  img_data/Bleatings/1.png  Bleatings\n",
       "2  img_data/Bleatings/2.png  Bleatings\n",
       "3  img_data/Bleatings/3.png  Bleatings\n",
       "4  img_data/Bleatings/4.png  Bleatings"
      ]
     },
     "execution_count": 12,
     "metadata": {},
     "output_type": "execute_result"
    }
   ],
   "source": [
    "metadata = pd.read_csv(\"image_metadata.csv\")\n",
    "metadata.head()"
   ]
  },
  {
   "cell_type": "markdown",
   "id": "4f350fa4",
   "metadata": {},
   "source": [
    "Split the data in train, validation and test set."
   ]
  },
  {
   "cell_type": "code",
   "execution_count": 36,
   "id": "739f5ce2",
   "metadata": {},
   "outputs": [
    {
     "name": "stdout",
     "output_type": "stream",
     "text": [
      "Train (6304, 2) and test (701, 2)\n"
     ]
    }
   ],
   "source": [
    "# get train/test dataframe\n",
    "train_df, test_df = train_test_split(metadata, \n",
    "                                   test_size = 0.10, \n",
    "                                   random_state = 2018,\n",
    "                                   stratify = metadata['Label'])\n",
    "print(f'Train {np.shape(train_df)} and test {np.shape(test_df)}')"
   ]
  },
  {
   "cell_type": "markdown",
   "id": "aa4d421d",
   "metadata": {},
   "source": [
    "Prepare train and validation iamges"
   ]
  },
  {
   "cell_type": "code",
   "execution_count": 34,
   "id": "a31e0263",
   "metadata": {},
   "outputs": [
    {
     "name": "stdout",
     "output_type": "stream",
     "text": [
      "Found 5044 validated image filenames belonging to 3 classes.\n",
      "Found 1260 validated image filenames belonging to 3 classes.\n"
     ]
    }
   ],
   "source": [
    "path_dir = \"./\"\n",
    "\n",
    "train_datagen = ImageDataGenerator(\n",
    "                    rescale=1./255,\n",
    "                    validation_split = 0.2)\n",
    "\n",
    "train_generator = datagen.flow_from_dataframe(\n",
    "    dataframe=train_df,\n",
    "    directory=path_dir,\n",
    "    x_col=\"Path\",\n",
    "    y_col=\"Label\",\n",
    "    target_size=(128,94),\n",
    "    batch_size=32,\n",
    "    shuffle=True,\n",
    "    class_mode='categorical',\n",
    "    subset='training'\n",
    ")\n",
    "validation_generator = datagen.flow_from_dataframe(\n",
    "    dataframe=train_df,\n",
    "    directory=path_dir,\n",
    "    x_col=\"Path\",\n",
    "    y_col=\"Label\",\n",
    "    target_size=(128,94),\n",
    "    batch_size=32,\n",
    "    shuffle=True,\n",
    "    class_mode='categorical',\n",
    "    subset='validation'\n",
    ")"
   ]
  },
  {
   "cell_type": "markdown",
   "id": "6432783b",
   "metadata": {},
   "source": [
    "Prepare test images"
   ]
  },
  {
   "cell_type": "code",
   "execution_count": 54,
   "id": "14fe5672",
   "metadata": {},
   "outputs": [
    {
     "name": "stdout",
     "output_type": "stream",
     "text": [
      "Found 701 validated image filenames belonging to 3 classes.\n"
     ]
    }
   ],
   "source": [
    "test_datagen=ImageDataGenerator(rescale=1./255.)\n",
    "\n",
    "test_generator=test_datagen.flow_from_dataframe(\n",
    "    dataframe=test_df,\n",
    "    directory=path_dir,\n",
    "    x_col=\"Path\",\n",
    "    y_col=\"Label\",\n",
    "    batch_size=32,\n",
    "    shuffle=False,\n",
    "    class_mode=\"categorical\",\n",
    "    target_size=(128,94))"
   ]
  },
  {
   "cell_type": "markdown",
   "id": "1edb9de6",
   "metadata": {},
   "source": [
    "# Convolutional Neural Network on log Mel-spectrogram images"
   ]
  },
  {
   "cell_type": "markdown",
   "id": "2e962d56",
   "metadata": {},
   "source": [
    "Next I'm going to train 3 CNN models to find out which is the best model.<br>Follow the definition of some fixed parameters for training like optimizer and early stopping."
   ]
  },
  {
   "cell_type": "code",
   "execution_count": 39,
   "id": "f616e857",
   "metadata": {},
   "outputs": [
    {
     "name": "stderr",
     "output_type": "stream",
     "text": [
      "C:\\Users\\Nicolas Facchinetti\\.conda\\envs\\progapr\\lib\\site-packages\\keras\\optimizer_v2\\optimizer_v2.py:355: UserWarning: The `lr` argument is deprecated, use `learning_rate` instead.\n",
      "  warnings.warn(\n"
     ]
    }
   ],
   "source": [
    "adam = keras.optimizers.Adam(lr=0.001)\n",
    "batchsize = 32\n",
    "epochs = 50\n",
    "metrics = [\n",
    "    \"accuracy\",\n",
    "    AUC(curve=\"ROC\", name=\"auroc\")\n",
    "]\n",
    "callbacks=[\n",
    "    EarlyStopping(monitor=\"val_loss\", mode=\"min\", patience=5, restore_best_weights=True)\n",
    "]"
   ]
  },
  {
   "cell_type": "code",
   "execution_count": 59,
   "id": "140cba1e",
   "metadata": {},
   "outputs": [],
   "source": [
    "def compile_and_train(model, train, validation):\n",
    "    model.compile(loss='categorical_crossentropy', optimizer=adam, metrics=metrics)\n",
    "    history = model.fit(train,\n",
    "                    batch_size=batchsize,\n",
    "                    epochs=epochs,\n",
    "                    validation_data=validation,\n",
    "                    callbacks=callbacks)\n",
    "    return history, model"
   ]
  },
  {
   "cell_type": "markdown",
   "id": "a33b1bc9",
   "metadata": {},
   "source": [
    "## First CNN "
   ]
  },
  {
   "cell_type": "code",
   "execution_count": 65,
   "id": "2e7395b3",
   "metadata": {},
   "outputs": [
    {
     "name": "stdout",
     "output_type": "stream",
     "text": [
      "Model: \"sequential_4\"\n",
      "_________________________________________________________________\n",
      "Layer (type)                 Output Shape              Param #   \n",
      "=================================================================\n",
      "conv2d_13 (Conv2D)           (None, 63, 46, 32)        896       \n",
      "_________________________________________________________________\n",
      "max_pooling2d_13 (MaxPooling (None, 31, 23, 32)        0         \n",
      "_________________________________________________________________\n",
      "conv2d_14 (Conv2D)           (None, 16, 12, 64)        18496     \n",
      "_________________________________________________________________\n",
      "max_pooling2d_14 (MaxPooling (None, 8, 6, 64)          0         \n",
      "_________________________________________________________________\n",
      "conv2d_15 (Conv2D)           (None, 8, 6, 128)         73856     \n",
      "_________________________________________________________________\n",
      "max_pooling2d_15 (MaxPooling (None, 4, 3, 128)         0         \n",
      "_________________________________________________________________\n",
      "flatten_4 (Flatten)          (None, 1536)              0         \n",
      "_________________________________________________________________\n",
      "dropout_6 (Dropout)          (None, 1536)              0         \n",
      "_________________________________________________________________\n",
      "dense_11 (Dense)             (None, 128)               196736    \n",
      "_________________________________________________________________\n",
      "dense_12 (Dense)             (None, 64)                8256      \n",
      "_________________________________________________________________\n",
      "dropout_7 (Dropout)          (None, 64)                0         \n",
      "_________________________________________________________________\n",
      "dense_13 (Dense)             (None, 3)                 195       \n",
      "=================================================================\n",
      "Total params: 298,435\n",
      "Trainable params: 298,435\n",
      "Non-trainable params: 0\n",
      "_________________________________________________________________\n"
     ]
    }
   ],
   "source": [
    "model = Sequential([\n",
    "    #1st hidden layer\n",
    "    Conv2D(32, (3, 3), activation='relu', strides=(2, 2), input_shape=input_shape),\n",
    "    MaxPool2D((2, 2)),\n",
    "    #2nd hidden layer\n",
    "    Conv2D(64, (3, 3), activation='relu', strides=(2, 2), padding=\"same\"),\n",
    "    MaxPool2D((2, 2)),\n",
    "    #3rd hidden layer\n",
    "    Conv2D(128, (3, 3), activation='relu', padding=\"same\"),\n",
    "    MaxPool2D((2, 2)),\n",
    "    #ANN\n",
    "    Flatten(),\n",
    "    Dropout(rate=0.5),\n",
    "    Dense(units = 128, activation='relu'),\n",
    "    Dense(units = 64, activation='relu'),\n",
    "    Dropout(rate=0.25),\n",
    "    #Output layer\n",
    "    Dense(units= 3, activation='softmax'),\n",
    "]) \n",
    "model.summary()"
   ]
  },
  {
   "cell_type": "code",
   "execution_count": 66,
   "id": "84642d64",
   "metadata": {
    "scrolled": true
   },
   "outputs": [
    {
     "name": "stdout",
     "output_type": "stream",
     "text": [
      "Epoch 1/50\n",
      "158/158 [==============================] - 18s 108ms/step - loss: 0.7806 - accuracy: 0.5696 - auroc: 0.8554 - val_loss: 0.5746 - val_accuracy: 0.6397 - val_auroc: 0.8763\n",
      "Epoch 2/50\n",
      "158/158 [==============================] - 17s 105ms/step - loss: 0.5905 - accuracy: 0.6521 - auroc: 0.8744 - val_loss: 0.5547 - val_accuracy: 0.6524 - val_auroc: 0.8833\n",
      "Epoch 3/50\n",
      "158/158 [==============================] - 17s 105ms/step - loss: 0.5516 - accuracy: 0.6959 - auroc: 0.8933 - val_loss: 0.5211 - val_accuracy: 0.7079 - val_auroc: 0.9041\n",
      "Epoch 4/50\n",
      "158/158 [==============================] - 16s 104ms/step - loss: 0.5410 - accuracy: 0.7010 - auroc: 0.8988 - val_loss: 0.5090 - val_accuracy: 0.7270 - val_auroc: 0.9137\n",
      "Epoch 5/50\n",
      "158/158 [==============================] - 16s 103ms/step - loss: 0.5210 - accuracy: 0.7326 - auroc: 0.9095 - val_loss: 0.4917 - val_accuracy: 0.7516 - val_auroc: 0.9195\n",
      "Epoch 6/50\n",
      "158/158 [==============================] - 17s 106ms/step - loss: 0.5130 - accuracy: 0.7328 - auroc: 0.9121 - val_loss: 0.5021 - val_accuracy: 0.7349 - val_auroc: 0.9151\n",
      "Epoch 7/50\n",
      "158/158 [==============================] - 17s 106ms/step - loss: 0.4995 - accuracy: 0.7431 - auroc: 0.9167 - val_loss: 0.4901 - val_accuracy: 0.7508 - val_auroc: 0.9248\n",
      "Epoch 8/50\n",
      "158/158 [==============================] - 17s 105ms/step - loss: 0.4816 - accuracy: 0.7579 - auroc: 0.9244 - val_loss: 0.4350 - val_accuracy: 0.7865 - val_auroc: 0.9391\n",
      "Epoch 9/50\n",
      "158/158 [==============================] - 16s 104ms/step - loss: 0.4628 - accuracy: 0.7754 - auroc: 0.9305 - val_loss: 0.4336 - val_accuracy: 0.7937 - val_auroc: 0.9412\n",
      "Epoch 10/50\n",
      "158/158 [==============================] - 16s 104ms/step - loss: 0.4515 - accuracy: 0.7825 - auroc: 0.9352 - val_loss: 0.4529 - val_accuracy: 0.7698 - val_auroc: 0.9323\n",
      "Epoch 11/50\n",
      "158/158 [==============================] - 16s 104ms/step - loss: 0.4459 - accuracy: 0.7835 - auroc: 0.9371 - val_loss: 0.4194 - val_accuracy: 0.8063 - val_auroc: 0.9447\n",
      "Epoch 12/50\n",
      "158/158 [==============================] - 16s 104ms/step - loss: 0.4285 - accuracy: 0.7942 - auroc: 0.9421 - val_loss: 0.3967 - val_accuracy: 0.8087 - val_auroc: 0.9507\n",
      "Epoch 13/50\n",
      "158/158 [==============================] - 16s 103ms/step - loss: 0.4181 - accuracy: 0.8037 - auroc: 0.9452 - val_loss: 0.3977 - val_accuracy: 0.8183 - val_auroc: 0.9523\n",
      "Epoch 14/50\n",
      "158/158 [==============================] - 16s 104ms/step - loss: 0.4170 - accuracy: 0.8045 - auroc: 0.9462 - val_loss: 0.3965 - val_accuracy: 0.8175 - val_auroc: 0.9527\n",
      "Epoch 15/50\n",
      "158/158 [==============================] - 16s 104ms/step - loss: 0.3971 - accuracy: 0.8170 - auroc: 0.9507 - val_loss: 0.3747 - val_accuracy: 0.8302 - val_auroc: 0.9569\n",
      "Epoch 16/50\n",
      "158/158 [==============================] - 16s 104ms/step - loss: 0.3933 - accuracy: 0.8172 - auroc: 0.9525 - val_loss: 0.3788 - val_accuracy: 0.8206 - val_auroc: 0.9562\n",
      "Epoch 17/50\n",
      "158/158 [==============================] - 17s 105ms/step - loss: 0.3791 - accuracy: 0.8253 - auroc: 0.9563 - val_loss: 0.3670 - val_accuracy: 0.8325 - val_auroc: 0.9592\n",
      "Epoch 18/50\n",
      "158/158 [==============================] - 17s 106ms/step - loss: 0.3759 - accuracy: 0.8226 - auroc: 0.9572 - val_loss: 0.3612 - val_accuracy: 0.8357 - val_auroc: 0.9606\n",
      "Epoch 19/50\n",
      "158/158 [==============================] - 17s 105ms/step - loss: 0.3550 - accuracy: 0.8410 - auroc: 0.9619 - val_loss: 0.3559 - val_accuracy: 0.8365 - val_auroc: 0.9612\n",
      "Epoch 20/50\n",
      "158/158 [==============================] - 17s 107ms/step - loss: 0.3520 - accuracy: 0.8436 - auroc: 0.9629 - val_loss: 0.3741 - val_accuracy: 0.8206 - val_auroc: 0.9567\n",
      "Epoch 21/50\n",
      "158/158 [==============================] - 17s 105ms/step - loss: 0.3366 - accuracy: 0.8509 - auroc: 0.9662 - val_loss: 0.3361 - val_accuracy: 0.8508 - val_auroc: 0.9661\n",
      "Epoch 22/50\n",
      "158/158 [==============================] - 17s 106ms/step - loss: 0.3339 - accuracy: 0.8485 - auroc: 0.9666 - val_loss: 0.3493 - val_accuracy: 0.8294 - val_auroc: 0.9626\n",
      "Epoch 23/50\n",
      "158/158 [==============================] - 17s 105ms/step - loss: 0.3225 - accuracy: 0.8561 - auroc: 0.9688 - val_loss: 0.3452 - val_accuracy: 0.8437 - val_auroc: 0.9647\n",
      "Epoch 24/50\n",
      "158/158 [==============================] - 17s 105ms/step - loss: 0.3155 - accuracy: 0.8577 - auroc: 0.9703 - val_loss: 0.3416 - val_accuracy: 0.8460 - val_auroc: 0.9650\n",
      "Epoch 25/50\n",
      "158/158 [==============================] - 17s 105ms/step - loss: 0.3190 - accuracy: 0.8602 - auroc: 0.9700 - val_loss: 0.3356 - val_accuracy: 0.8508 - val_auroc: 0.9665\n",
      "Epoch 26/50\n",
      "158/158 [==============================] - 17s 106ms/step - loss: 0.3040 - accuracy: 0.8666 - auroc: 0.9727 - val_loss: 0.3473 - val_accuracy: 0.8460 - val_auroc: 0.9644\n",
      "Epoch 27/50\n",
      "158/158 [==============================] - 17s 105ms/step - loss: 0.2930 - accuracy: 0.8739 - auroc: 0.9747 - val_loss: 0.3302 - val_accuracy: 0.8643 - val_auroc: 0.9672\n",
      "Epoch 28/50\n",
      "158/158 [==============================] - 19s 117ms/step - loss: 0.2888 - accuracy: 0.8751 - auroc: 0.9753 - val_loss: 0.3401 - val_accuracy: 0.8421 - val_auroc: 0.9664\n",
      "Epoch 29/50\n",
      "158/158 [==============================] - 18s 116ms/step - loss: 0.2753 - accuracy: 0.8846 - auroc: 0.9778 - val_loss: 0.3238 - val_accuracy: 0.8532 - val_auroc: 0.9692\n",
      "Epoch 30/50\n",
      "158/158 [==============================] - 18s 113ms/step - loss: 0.2700 - accuracy: 0.8818 - auroc: 0.9785 - val_loss: 0.3256 - val_accuracy: 0.8587 - val_auroc: 0.9699\n",
      "Epoch 31/50\n",
      "158/158 [==============================] - 19s 117ms/step - loss: 0.2637 - accuracy: 0.8866 - auroc: 0.9795 - val_loss: 0.3295 - val_accuracy: 0.8603 - val_auroc: 0.9690\n",
      "Epoch 32/50\n",
      "158/158 [==============================] - 17s 109ms/step - loss: 0.2561 - accuracy: 0.8923 - auroc: 0.9808 - val_loss: 0.3369 - val_accuracy: 0.8579 - val_auroc: 0.9671\n",
      "Epoch 33/50\n",
      "158/158 [==============================] - 17s 110ms/step - loss: 0.2467 - accuracy: 0.8920 - auroc: 0.9821 - val_loss: 0.3151 - val_accuracy: 0.8611 - val_auroc: 0.9714\n",
      "Epoch 34/50\n",
      "158/158 [==============================] - 18s 115ms/step - loss: 0.2465 - accuracy: 0.8967 - auroc: 0.9823 - val_loss: 0.3290 - val_accuracy: 0.8587 - val_auroc: 0.9699\n",
      "Epoch 35/50\n",
      "158/158 [==============================] - 17s 108ms/step - loss: 0.2314 - accuracy: 0.9009 - auroc: 0.9844 - val_loss: 0.3423 - val_accuracy: 0.8587 - val_auroc: 0.9693\n",
      "Epoch 36/50\n",
      "158/158 [==============================] - 17s 109ms/step - loss: 0.2402 - accuracy: 0.8977 - auroc: 0.9829 - val_loss: 0.3164 - val_accuracy: 0.8651 - val_auroc: 0.9724\n",
      "Epoch 37/50\n",
      "158/158 [==============================] - 17s 105ms/step - loss: 0.2304 - accuracy: 0.9005 - auroc: 0.9846 - val_loss: 0.3059 - val_accuracy: 0.8627 - val_auroc: 0.9726\n",
      "Epoch 38/50\n",
      "158/158 [==============================] - 17s 105ms/step - loss: 0.2178 - accuracy: 0.9070 - auroc: 0.9861 - val_loss: 0.3151 - val_accuracy: 0.8690 - val_auroc: 0.9725\n",
      "Epoch 39/50\n",
      "158/158 [==============================] - 17s 105ms/step - loss: 0.2038 - accuracy: 0.9183 - auroc: 0.9879 - val_loss: 0.3172 - val_accuracy: 0.8698 - val_auroc: 0.9716\n",
      "Epoch 40/50\n",
      "158/158 [==============================] - 17s 107ms/step - loss: 0.1945 - accuracy: 0.9157 - auroc: 0.9891 - val_loss: 0.3355 - val_accuracy: 0.8675 - val_auroc: 0.9703\n",
      "Epoch 41/50\n",
      "158/158 [==============================] - 17s 105ms/step - loss: 0.1996 - accuracy: 0.9197 - auroc: 0.9883 - val_loss: 0.3488 - val_accuracy: 0.8643 - val_auroc: 0.9698\n",
      "Epoch 42/50\n",
      "158/158 [==============================] - 17s 105ms/step - loss: 0.1880 - accuracy: 0.9227 - auroc: 0.9896 - val_loss: 0.3521 - val_accuracy: 0.8619 - val_auroc: 0.9702\n"
     ]
    }
   ],
   "source": [
    "history, model = compile_and_train(model, train_generator, validation_generator)"
   ]
  },
  {
   "cell_type": "code",
   "execution_count": 86,
   "id": "79aaca6b",
   "metadata": {},
   "outputs": [
    {
     "data": {
      "text/plain": [
       "dict_keys(['loss', 'accuracy', 'auroc', 'val_loss', 'val_accuracy', 'val_auroc'])"
      ]
     },
     "execution_count": 86,
     "metadata": {},
     "output_type": "execute_result"
    }
   ],
   "source": [
    "history.history.keys()"
   ]
  },
  {
   "cell_type": "code",
   "execution_count": 85,
   "id": "ac7c45b0",
   "metadata": {},
   "outputs": [
    {
     "data": {
      "image/png": "[encoded data removed]",
      "text/plain": [
       "<Figure size 432x288 with 1 Axes>"
      ]
     },
     "metadata": {
      "needs_background": "light"
     },
     "output_type": "display_data"
    },
    {
     "data": {
      "image/png": "[encoded data removed]",
      "text/plain": [
       "<Figure size 432x288 with 1 Axes>"
      ]
     },
     "metadata": {
      "needs_background": "light"
     },
     "output_type": "display_data"
    }
   ],
   "source": [
    "graphing_training_validation(history)"
   ]
  },
  {
   "cell_type": "code",
   "execution_count": 69,
   "id": "1044e01f",
   "metadata": {},
   "outputs": [
    {
     "name": "stdout",
     "output_type": "stream",
     "text": [
      "40/40 [==============================] - 3s 81ms/step - loss: 0.3059 - accuracy: 0.8627 - auroc: 0.9726\n"
     ]
    }
   ],
   "source": [
    "test_accuracy = model.evaluate(validation_generator)"
   ]
  },
  {
   "cell_type": "code",
   "execution_count": 74,
   "id": "53de40f4",
   "metadata": {},
   "outputs": [],
   "source": [
    "prediction = model.predict(test_generator)"
   ]
  },
  {
   "cell_type": "code",
   "execution_count": 75,
   "id": "f3b941ef",
   "metadata": {},
   "outputs": [
    {
     "name": "stdout",
     "output_type": "stream",
     "text": [
      "Confusion matrix:\n",
      "[[166  60   9]\n",
      " [ 31 185   4]\n",
      " [  7   1 238]]\n",
      "\n",
      "Classification report:\n",
      "\n",
      "              precision    recall  f1-score   support\n",
      "\n",
      "           0       0.81      0.71      0.76       235\n",
      "           1       0.75      0.84      0.79       220\n",
      "           2       0.95      0.97      0.96       246\n",
      "\n",
      "    accuracy                           0.84       701\n",
      "   macro avg       0.84      0.84      0.84       701\n",
      "weighted avg       0.84      0.84      0.84       701\n",
      "\n"
     ]
    }
   ],
   "source": [
    "print_results(prediction, test_generator)"
   ]
  },
  {
   "cell_type": "markdown",
   "id": "e814b78e",
   "metadata": {},
   "source": [
    "## Second CNN"
   ]
  },
  {
   "cell_type": "code",
   "execution_count": 62,
   "id": "11584624",
   "metadata": {},
   "outputs": [
    {
     "name": "stdout",
     "output_type": "stream",
     "text": [
      "Model: \"sequential_2\"\n",
      "_________________________________________________________________\n",
      "Layer (type)                 Output Shape              Param #   \n",
      "=================================================================\n",
      "conv2d_6 (Conv2D)            (None, 128, 94, 25)       1900      \n",
      "_________________________________________________________________\n",
      "max_pooling2d_6 (MaxPooling2 (None, 64, 47, 25)        0         \n",
      "_________________________________________________________________\n",
      "conv2d_7 (Conv2D)            (None, 32, 24, 50)        31300     \n",
      "_________________________________________________________________\n",
      "max_pooling2d_7 (MaxPooling2 (None, 16, 12, 50)        0         \n",
      "_________________________________________________________________\n",
      "batch_normalization (BatchNo (None, 16, 12, 50)        200       \n",
      "_________________________________________________________________\n",
      "conv2d_8 (Conv2D)            (None, 8, 6, 70)          31570     \n",
      "_________________________________________________________________\n",
      "max_pooling2d_8 (MaxPooling2 (None, 4, 3, 70)          0         \n",
      "_________________________________________________________________\n",
      "batch_normalization_1 (Batch (None, 4, 3, 70)          280       \n",
      "_________________________________________________________________\n",
      "flatten_2 (Flatten)          (None, 840)               0         \n",
      "_________________________________________________________________\n",
      "dense_6 (Dense)              (None, 100)               84100     \n",
      "_________________________________________________________________\n",
      "dense_7 (Dense)              (None, 50)                5050      \n",
      "_________________________________________________________________\n",
      "dropout_4 (Dropout)          (None, 50)                0         \n",
      "_________________________________________________________________\n",
      "dense_8 (Dense)              (None, 3)                 153       \n",
      "=================================================================\n",
      "Total params: 154,553\n",
      "Trainable params: 154,313\n",
      "Non-trainable params: 240\n",
      "_________________________________________________________________\n"
     ]
    }
   ],
   "source": [
    "# build a sequential model\n",
    "model1 = Sequential([\n",
    "    InputLayer(input_shape=(128, 94, 3)),\n",
    "    # 1st conv block\n",
    "    Conv2D(25, (5, 5), activation='relu', strides=(1, 1), padding='same'),\n",
    "    MaxPool2D(pool_size=(2, 2), padding='same'),\n",
    "    # 2nd conv block\n",
    "    Conv2D(50, (5, 5), activation='relu', strides=(2, 2), padding='same'),\n",
    "    MaxPool2D(pool_size=(2, 2), padding='same'),\n",
    "    BatchNormalization(),\n",
    "    # 3rd conv block\n",
    "    Conv2D(70, (3, 3), activation='relu', strides=(2, 2), padding='same'),\n",
    "    MaxPool2D(pool_size=(2, 2), padding='valid'),\n",
    "    BatchNormalization(),\n",
    "    # ANN block\n",
    "    Flatten(),\n",
    "    Dense(units=100, activation='relu'),\n",
    "    Dense(units=50, activation='relu'),\n",
    "    Dropout(0.25),\n",
    "    # output layer\n",
    "    Dense(units=3, activation='softmax')\n",
    "])\n",
    "model1.summary()"
   ]
  },
  {
   "cell_type": "code",
   "execution_count": 67,
   "id": "c08a5860",
   "metadata": {
    "scrolled": true
   },
   "outputs": [
    {
     "name": "stdout",
     "output_type": "stream",
     "text": [
      "Epoch 1/50\n",
      "158/158 [==============================] - 23s 119ms/step - loss: 0.7398 - accuracy: 0.6261 - auroc: 0.8732 - val_loss: 6.9198 - val_accuracy: 0.3262 - val_auroc: 0.5187\n",
      "Epoch 2/50\n",
      "158/158 [==============================] - 18s 114ms/step - loss: 0.5296 - accuracy: 0.7462 - auroc: 0.9145 - val_loss: 0.5652 - val_accuracy: 0.7302 - val_auroc: 0.9066\n",
      "Epoch 3/50\n",
      "158/158 [==============================] - 19s 118ms/step - loss: 0.4867 - accuracy: 0.7696 - auroc: 0.9283 - val_loss: 0.4619 - val_accuracy: 0.7857 - val_auroc: 0.9366\n",
      "Epoch 4/50\n",
      "158/158 [==============================] - 19s 120ms/step - loss: 0.4385 - accuracy: 0.7908 - auroc: 0.9421 - val_loss: 1.0672 - val_accuracy: 0.6786 - val_auroc: 0.8431\n",
      "Epoch 5/50\n",
      "158/158 [==============================] - 19s 121ms/step - loss: 0.4056 - accuracy: 0.8113 - auroc: 0.9500 - val_loss: 0.6216 - val_accuracy: 0.7500 - val_auroc: 0.9096\n",
      "Epoch 6/50\n",
      "158/158 [==============================] - 19s 119ms/step - loss: 0.4028 - accuracy: 0.8176 - auroc: 0.9523 - val_loss: 0.3793 - val_accuracy: 0.8278 - val_auroc: 0.9581\n",
      "Epoch 7/50\n",
      "158/158 [==============================] - 19s 119ms/step - loss: 0.3684 - accuracy: 0.8291 - auroc: 0.9594 - val_loss: 0.4945 - val_accuracy: 0.8008 - val_auroc: 0.9377\n",
      "Epoch 8/50\n",
      "158/158 [==============================] - 19s 119ms/step - loss: 0.3399 - accuracy: 0.8497 - auroc: 0.9657 - val_loss: 0.4010 - val_accuracy: 0.8048 - val_auroc: 0.9532\n",
      "Epoch 9/50\n",
      "158/158 [==============================] - 19s 117ms/step - loss: 0.3197 - accuracy: 0.8575 - auroc: 0.9700 - val_loss: 0.4001 - val_accuracy: 0.8167 - val_auroc: 0.9535\n",
      "Epoch 10/50\n",
      "158/158 [==============================] - 19s 119ms/step - loss: 0.3031 - accuracy: 0.8646 - auroc: 0.9730 - val_loss: 0.3438 - val_accuracy: 0.8468 - val_auroc: 0.9650\n",
      "Epoch 11/50\n",
      "158/158 [==============================] - 19s 122ms/step - loss: 0.2752 - accuracy: 0.8814 - auroc: 0.9780 - val_loss: 0.3403 - val_accuracy: 0.8595 - val_auroc: 0.9677\n",
      "Epoch 12/50\n",
      "158/158 [==============================] - 19s 121ms/step - loss: 0.2523 - accuracy: 0.8882 - auroc: 0.9816 - val_loss: 0.3366 - val_accuracy: 0.8571 - val_auroc: 0.9702\n",
      "Epoch 13/50\n",
      "158/158 [==============================] - 19s 122ms/step - loss: 0.2173 - accuracy: 0.9076 - auroc: 0.9865 - val_loss: 0.4271 - val_accuracy: 0.8524 - val_auroc: 0.9576\n",
      "Epoch 14/50\n",
      "158/158 [==============================] - 20s 123ms/step - loss: 0.1961 - accuracy: 0.9181 - auroc: 0.9888 - val_loss: 0.3325 - val_accuracy: 0.8651 - val_auroc: 0.9701\n",
      "Epoch 15/50\n",
      "158/158 [==============================] - 20s 124ms/step - loss: 0.1794 - accuracy: 0.9280 - auroc: 0.9907 - val_loss: 0.3546 - val_accuracy: 0.8778 - val_auroc: 0.9693\n",
      "Epoch 16/50\n",
      "158/158 [==============================] - 19s 121ms/step - loss: 0.1524 - accuracy: 0.9350 - auroc: 0.9934 - val_loss: 0.4022 - val_accuracy: 0.8651 - val_auroc: 0.9633\n",
      "Epoch 17/50\n",
      "158/158 [==============================] - 19s 122ms/step - loss: 0.1375 - accuracy: 0.9431 - auroc: 0.9948 - val_loss: 0.3685 - val_accuracy: 0.8667 - val_auroc: 0.9672\n",
      "Epoch 18/50\n",
      "158/158 [==============================] - 19s 122ms/step - loss: 0.1314 - accuracy: 0.9471 - auroc: 0.9949 - val_loss: 0.7502 - val_accuracy: 0.8008 - val_auroc: 0.9327\n",
      "Epoch 19/50\n",
      "158/158 [==============================] - 19s 122ms/step - loss: 0.1187 - accuracy: 0.9530 - auroc: 0.9961 - val_loss: 0.5652 - val_accuracy: 0.8595 - val_auroc: 0.9509\n"
     ]
    }
   ],
   "source": [
    "history1, model1 = compile_and_train(model1, train_generator, validation_generator)"
   ]
  },
  {
   "cell_type": "code",
   "execution_count": 87,
   "id": "858ad93b",
   "metadata": {},
   "outputs": [
    {
     "data": {
      "image/png": "[encoded data removed]",
      "text/plain": [
       "<Figure size 432x288 with 1 Axes>"
      ]
     },
     "metadata": {
      "needs_background": "light"
     },
     "output_type": "display_data"
    },
    {
     "data": {
      "image/png": "[encoded data removed]",
      "text/plain": [
       "<Figure size 432x288 with 1 Axes>"
      ]
     },
     "metadata": {
      "needs_background": "light"
     },
     "output_type": "display_data"
    }
   ],
   "source": [
    "graphing_training_validation(history1)"
   ]
  },
  {
   "cell_type": "code",
   "execution_count": 72,
   "id": "1ce13481",
   "metadata": {},
   "outputs": [
    {
     "name": "stdout",
     "output_type": "stream",
     "text": [
      "40/40 [==============================] - 3s 84ms/step - loss: 0.3325 - accuracy: 0.8651 - auroc: 0.9701\n"
     ]
    }
   ],
   "source": [
    "\n",
    "test_accuracy = model1.evaluate(validation_generator)"
   ]
  },
  {
   "cell_type": "code",
   "execution_count": 78,
   "id": "e75f1178",
   "metadata": {},
   "outputs": [
    {
     "name": "stdout",
     "output_type": "stream",
     "text": [
      "Confusion matrix:\n",
      "[[165  55  15]\n",
      " [ 32 180   8]\n",
      " [  4   0 242]]\n",
      "\n",
      "Classification report:\n",
      "\n",
      "              precision    recall  f1-score   support\n",
      "\n",
      "           0       0.82      0.70      0.76       235\n",
      "           1       0.77      0.82      0.79       220\n",
      "           2       0.91      0.98      0.95       246\n",
      "\n",
      "    accuracy                           0.84       701\n",
      "   macro avg       0.83      0.83      0.83       701\n",
      "weighted avg       0.84      0.84      0.83       701\n",
      "\n"
     ]
    }
   ],
   "source": [
    "pred1 = model1.predict(test_generator)\n",
    "print_results(pred1, test_generator)"
   ]
  },
  {
   "cell_type": "markdown",
   "id": "e996ccfc",
   "metadata": {},
   "source": [
    "## Third CNN "
   ]
  },
  {
   "cell_type": "code",
   "execution_count": 63,
   "id": "613712c5",
   "metadata": {},
   "outputs": [
    {
     "name": "stdout",
     "output_type": "stream",
     "text": [
      "Model: \"sequential_3\"\n",
      "_________________________________________________________________\n",
      "Layer (type)                 Output Shape              Param #   \n",
      "=================================================================\n",
      "conv2d_9 (Conv2D)            (None, 126, 92, 16)       448       \n",
      "_________________________________________________________________\n",
      "max_pooling2d_9 (MaxPooling2 (None, 63, 46, 16)        0         \n",
      "_________________________________________________________________\n",
      "conv2d_10 (Conv2D)           (None, 61, 44, 32)        4640      \n",
      "_________________________________________________________________\n",
      "max_pooling2d_10 (MaxPooling (None, 30, 22, 32)        0         \n",
      "_________________________________________________________________\n",
      "conv2d_11 (Conv2D)           (None, 28, 20, 64)        18496     \n",
      "_________________________________________________________________\n",
      "max_pooling2d_11 (MaxPooling (None, 14, 10, 64)        0         \n",
      "_________________________________________________________________\n",
      "conv2d_12 (Conv2D)           (None, 12, 8, 64)         36928     \n",
      "_________________________________________________________________\n",
      "max_pooling2d_12 (MaxPooling (None, 6, 4, 64)          0         \n",
      "_________________________________________________________________\n",
      "flatten_3 (Flatten)          (None, 1536)              0         \n",
      "_________________________________________________________________\n",
      "dropout_5 (Dropout)          (None, 1536)              0         \n",
      "_________________________________________________________________\n",
      "dense_9 (Dense)              (None, 256)               393472    \n",
      "_________________________________________________________________\n",
      "dense_10 (Dense)             (None, 3)                 771       \n",
      "=================================================================\n",
      "Total params: 454,755\n",
      "Trainable params: 454,755\n",
      "Non-trainable params: 0\n",
      "_________________________________________________________________\n"
     ]
    }
   ],
   "source": [
    "model2 = tf.keras.models.Sequential([\n",
    "    #first_convolution\n",
    "    tf.keras.layers.Conv2D(16, (3,3), activation='relu', input_shape=(128, 94, 3)),\n",
    "    tf.keras.layers.MaxPooling2D(2, 2),\n",
    "    #second_convolution\n",
    "    tf.keras.layers.Conv2D(32, (3,3), activation='relu'),\n",
    "    tf.keras.layers.MaxPooling2D(2,2),\n",
    "    #third_convolution\n",
    "    tf.keras.layers.Conv2D(64, (3,3), activation='relu'),\n",
    "    tf.keras.layers.MaxPooling2D(2,2),\n",
    "    #fourth_convolution\n",
    "    tf.keras.layers.Conv2D(64, (3,3), activation='relu'),\n",
    "    tf.keras.layers.MaxPooling2D(2,2),\n",
    "    #out ANN\n",
    "    tf.keras.layers.Flatten(),\n",
    "    tf.keras.layers.Dropout(0.5),\n",
    "    tf.keras.layers.Dense(256, activation='relu'),\n",
    "    tf.keras.layers.Dense(3, activation='softmax') \n",
    "]) \n",
    "model2.summary()"
   ]
  },
  {
   "cell_type": "code",
   "execution_count": 68,
   "id": "b52b0c75",
   "metadata": {
    "scrolled": true
   },
   "outputs": [
    {
     "name": "stdout",
     "output_type": "stream",
     "text": [
      "Epoch 1/50\n",
      "158/158 [==============================] - 21s 122ms/step - loss: 0.7062 - accuracy: 0.6253 - auroc: 0.8710 - val_loss: 0.5419 - val_accuracy: 0.6548 - val_auroc: 0.8904\n",
      "Epoch 2/50\n",
      "158/158 [==============================] - 19s 119ms/step - loss: 0.5534 - accuracy: 0.6963 - auroc: 0.8935 - val_loss: 0.5098 - val_accuracy: 0.7365 - val_auroc: 0.9164\n",
      "Epoch 3/50\n",
      "158/158 [==============================] - 19s 121ms/step - loss: 0.5142 - accuracy: 0.7181 - auroc: 0.9090 - val_loss: 0.4884 - val_accuracy: 0.7579 - val_auroc: 0.9240\n",
      "Epoch 4/50\n",
      "158/158 [==============================] - 19s 119ms/step - loss: 0.4956 - accuracy: 0.7326 - auroc: 0.9150 - val_loss: 0.4594 - val_accuracy: 0.7651 - val_auroc: 0.9292\n",
      "Epoch 5/50\n",
      "158/158 [==============================] - 19s 119ms/step - loss: 0.4720 - accuracy: 0.7565 - auroc: 0.9263 - val_loss: 0.4397 - val_accuracy: 0.7762 - val_auroc: 0.9363\n",
      "Epoch 6/50\n",
      "158/158 [==============================] - 19s 117ms/step - loss: 0.4521 - accuracy: 0.7716 - auroc: 0.9329 - val_loss: 0.4619 - val_accuracy: 0.7659 - val_auroc: 0.9297\n",
      "Epoch 7/50\n",
      "158/158 [==============================] - 19s 118ms/step - loss: 0.4505 - accuracy: 0.7764 - auroc: 0.9339 - val_loss: 0.4185 - val_accuracy: 0.7937 - val_auroc: 0.9444\n",
      "Epoch 8/50\n",
      "158/158 [==============================] - 19s 118ms/step - loss: 0.4294 - accuracy: 0.7954 - auroc: 0.9416 - val_loss: 0.4018 - val_accuracy: 0.8079 - val_auroc: 0.9497\n",
      "Epoch 9/50\n",
      "158/158 [==============================] - 18s 116ms/step - loss: 0.4237 - accuracy: 0.7912 - auroc: 0.9419 - val_loss: 0.3973 - val_accuracy: 0.8214 - val_auroc: 0.9534\n",
      "Epoch 10/50\n",
      "158/158 [==============================] - 18s 117ms/step - loss: 0.4042 - accuracy: 0.8081 - auroc: 0.9486 - val_loss: 0.4228 - val_accuracy: 0.7984 - val_auroc: 0.9459\n",
      "Epoch 11/50\n",
      "158/158 [==============================] - 19s 120ms/step - loss: 0.3937 - accuracy: 0.8160 - auroc: 0.9517 - val_loss: 0.3775 - val_accuracy: 0.8262 - val_auroc: 0.9557\n",
      "Epoch 12/50\n",
      "158/158 [==============================] - 18s 117ms/step - loss: 0.3822 - accuracy: 0.8146 - auroc: 0.9545 - val_loss: 0.3631 - val_accuracy: 0.8397 - val_auroc: 0.9612\n",
      "Epoch 13/50\n",
      "158/158 [==============================] - 18s 117ms/step - loss: 0.3746 - accuracy: 0.8204 - auroc: 0.9563 - val_loss: 0.3505 - val_accuracy: 0.8373 - val_auroc: 0.9640\n",
      "Epoch 14/50\n",
      "158/158 [==============================] - 19s 118ms/step - loss: 0.3636 - accuracy: 0.8261 - auroc: 0.9587 - val_loss: 0.3430 - val_accuracy: 0.8452 - val_auroc: 0.9638\n",
      "Epoch 15/50\n",
      "158/158 [==============================] - 19s 119ms/step - loss: 0.3566 - accuracy: 0.8287 - auroc: 0.9604 - val_loss: 0.3388 - val_accuracy: 0.8437 - val_auroc: 0.9654\n",
      "Epoch 16/50\n",
      "158/158 [==============================] - 19s 118ms/step - loss: 0.3505 - accuracy: 0.8352 - auroc: 0.9618 - val_loss: 0.3373 - val_accuracy: 0.8524 - val_auroc: 0.9668\n",
      "Epoch 17/50\n",
      "158/158 [==============================] - 19s 120ms/step - loss: 0.3392 - accuracy: 0.8440 - auroc: 0.9643 - val_loss: 0.3323 - val_accuracy: 0.8460 - val_auroc: 0.9664\n",
      "Epoch 18/50\n",
      "158/158 [==============================] - 19s 122ms/step - loss: 0.3333 - accuracy: 0.8448 - auroc: 0.9654 - val_loss: 0.3292 - val_accuracy: 0.8540 - val_auroc: 0.9682\n",
      "Epoch 19/50\n",
      "158/158 [==============================] - 19s 118ms/step - loss: 0.3266 - accuracy: 0.8450 - auroc: 0.9669 - val_loss: 0.3183 - val_accuracy: 0.8508 - val_auroc: 0.9697\n",
      "Epoch 20/50\n",
      "158/158 [==============================] - 19s 118ms/step - loss: 0.3194 - accuracy: 0.8573 - auroc: 0.9688 - val_loss: 0.3194 - val_accuracy: 0.8508 - val_auroc: 0.9694\n",
      "Epoch 21/50\n",
      "158/158 [==============================] - 19s 119ms/step - loss: 0.3081 - accuracy: 0.8622 - auroc: 0.9708 - val_loss: 0.3482 - val_accuracy: 0.8325 - val_auroc: 0.9630\n",
      "Epoch 22/50\n",
      "158/158 [==============================] - 20s 124ms/step - loss: 0.3003 - accuracy: 0.8632 - auroc: 0.9724 - val_loss: 0.3127 - val_accuracy: 0.8587 - val_auroc: 0.9706\n",
      "Epoch 23/50\n",
      "158/158 [==============================] - 19s 121ms/step - loss: 0.2920 - accuracy: 0.8652 - auroc: 0.9739 - val_loss: 0.3260 - val_accuracy: 0.8524 - val_auroc: 0.9682\n",
      "Epoch 24/50\n",
      "158/158 [==============================] - 19s 120ms/step - loss: 0.2958 - accuracy: 0.8666 - auroc: 0.9734 - val_loss: 0.3190 - val_accuracy: 0.8548 - val_auroc: 0.9698\n",
      "Epoch 25/50\n",
      "158/158 [==============================] - 19s 117ms/step - loss: 0.2858 - accuracy: 0.8697 - auroc: 0.9752 - val_loss: 0.3002 - val_accuracy: 0.8659 - val_auroc: 0.9729\n",
      "Epoch 26/50\n",
      "158/158 [==============================] - 20s 129ms/step - loss: 0.2780 - accuracy: 0.8763 - auroc: 0.9764 - val_loss: 0.2943 - val_accuracy: 0.8683 - val_auroc: 0.9739\n",
      "Epoch 27/50\n",
      "158/158 [==============================] - 21s 131ms/step - loss: 0.2774 - accuracy: 0.8763 - auroc: 0.9766 - val_loss: 0.3067 - val_accuracy: 0.8635 - val_auroc: 0.9711\n",
      "Epoch 28/50\n",
      "158/158 [==============================] - 20s 129ms/step - loss: 0.2788 - accuracy: 0.8727 - auroc: 0.9766 - val_loss: 0.3149 - val_accuracy: 0.8484 - val_auroc: 0.9697\n",
      "Epoch 29/50\n",
      "158/158 [==============================] - 20s 126ms/step - loss: 0.2637 - accuracy: 0.8834 - auroc: 0.9791 - val_loss: 0.2958 - val_accuracy: 0.8675 - val_auroc: 0.9738\n",
      "Epoch 30/50\n",
      "158/158 [==============================] - 19s 121ms/step - loss: 0.2507 - accuracy: 0.8921 - auroc: 0.9810 - val_loss: 0.3121 - val_accuracy: 0.8690 - val_auroc: 0.9718\n",
      "Epoch 31/50\n",
      "158/158 [==============================] - 20s 125ms/step - loss: 0.2507 - accuracy: 0.8904 - auroc: 0.9810 - val_loss: 0.2976 - val_accuracy: 0.8730 - val_auroc: 0.9742\n"
     ]
    }
   ],
   "source": [
    "history2, model2 = compile_and_train(model2, train_generator, validation_generator)"
   ]
  },
  {
   "cell_type": "code",
   "execution_count": 88,
   "id": "f1af71dd",
   "metadata": {},
   "outputs": [
    {
     "data": {
      "image/png": "[encoded data removed]",
      "text/plain": [
       "<Figure size 432x288 with 1 Axes>"
      ]
     },
     "metadata": {
      "needs_background": "light"
     },
     "output_type": "display_data"
    },
    {
     "data": {
      "image/png": "[encoded data removed]",
      "text/plain": [
       "<Figure size 432x288 with 1 Axes>"
      ]
     },
     "metadata": {
      "needs_background": "light"
     },
     "output_type": "display_data"
    }
   ],
   "source": [
    "graphing_training_validation(history2)"
   ]
  },
  {
   "cell_type": "code",
   "execution_count": 76,
   "id": "b39f802a",
   "metadata": {},
   "outputs": [
    {
     "name": "stdout",
     "output_type": "stream",
     "text": [
      "40/40 [==============================] - 3s 82ms/step - loss: 0.2943 - accuracy: 0.8683 - auroc: 0.9739\n"
     ]
    }
   ],
   "source": [
    "test_accuracy = model2.evaluate(validation_generator)"
   ]
  },
  {
   "cell_type": "code",
   "execution_count": 79,
   "id": "214f5276",
   "metadata": {},
   "outputs": [
    {
     "name": "stdout",
     "output_type": "stream",
     "text": [
      "Confusion matrix:\n",
      "[[192  39   4]\n",
      " [ 42 178   0]\n",
      " [  7   0 239]]\n",
      "\n",
      "Classification report:\n",
      "\n",
      "              precision    recall  f1-score   support\n",
      "\n",
      "           0       0.80      0.82      0.81       235\n",
      "           1       0.82      0.81      0.81       220\n",
      "           2       0.98      0.97      0.98       246\n",
      "\n",
      "    accuracy                           0.87       701\n",
      "   macro avg       0.87      0.87      0.87       701\n",
      "weighted avg       0.87      0.87      0.87       701\n",
      "\n"
     ]
    }
   ],
   "source": [
    "pred2 = model2.predict(test_generator)\n",
    "print_results(pred2, test_generator)"
   ]
  },
  {
   "cell_type": "code",
   "execution_count": null,
   "id": "b470ec68",
   "metadata": {},
   "outputs": [],
   "source": []
  }
 ],
 "metadata": {
  "kernelspec": {
   "display_name": "Python 3 (ipykernel)",
   "language": "python",
   "name": "python3"
  },
  "language_info": {
   "codemirror_mode": {
    "name": "ipython",
    "version": 3
   },
   "file_extension": ".py",
   "mimetype": "text/x-python",
   "name": "python",
   "nbconvert_exporter": "python",
   "pygments_lexer": "ipython3",
   "version": "3.8.10"
  }
 },
 "nbformat": 4,
 "nbformat_minor": 5
}
