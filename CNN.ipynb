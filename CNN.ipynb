{
 "cells": [
  {
   "cell_type": "code",
   "execution_count": 98,
   "id": "0d0fe4cf",
   "metadata": {},
   "outputs": [],
   "source": [
    "# data manipulations\n",
    "import numpy as np\n",
    "import pandas as pd\n",
    "\n",
    "# data preaparation\n",
    "from sklearn.model_selection import train_test_split\n",
    "from sklearn.preprocessing import LabelEncoder, StandardScaler\n",
    "# dealing with images\n",
    "from tensorflow.keras.preprocessing.image import ImageDataGenerator\n",
    "\n",
    "# for writing the models\n",
    "import tensorflow as tf\n",
    "from tensorflow import keras\n",
    "from tensorflow.keras import layers\n",
    "# metrics \n",
    "from sklearn.metrics import confusion_matrix, classification_report\n",
    "\n",
    "#visualization\n",
    "import matplotlib.pyplot as plt"
   ]
  },
  {
   "cell_type": "code",
   "execution_count": 107,
   "id": "808c0580",
   "metadata": {},
   "outputs": [
    {
     "data": {
      "text/plain": [
       "\"\\ndef graphing_training_validation():\\n    acc = history.history['acc']\\n    val_acc = history.history['val_acc']\\n    loss = history.history['loss']\\n    val_loss = history.history['val_loss']\\n    epochs = range(len(acc))\\n    plt.plot(epochs, acc, ‘r’, label=’Training acc’)\\n    plt.plot(epochs, val_acc, ‘b’, label=’Validation acc’)\\n    plt.title(‘Training and validation accuracy’)\\n    plt.ylabel(‘accuracy’) \\n    plt.xlabel(‘epoch’)\\n    plt.legend()\\n    plt.figure()\\n    plt.plot(epochs, loss, ‘r’, label=’Training loss’)\\n    plt.plot(epochs, val_loss, ‘b’, label=’Validation loss’)\\n    plt.title(‘Training and validation loss’)\\n    plt.ylabel(‘loss’) \\n    plt.xlabel(‘epoch’)\\n    plt.legend()\\n    plt.show()\\n\""
      ]
     },
     "execution_count": 107,
     "metadata": {},
     "output_type": "execute_result"
    }
   ],
   "source": [
    "def print_results(predictions, test):\n",
    "    y_pred = np.argmax(predictions, axis=1)\n",
    "    y_true = test.labels\n",
    "    \n",
    "    # confusion matrix\n",
    "    print(\"Confusion matrix:\")\n",
    "    print(confusion_matrix(y_true, y_pred))\n",
    "    # classification report\n",
    "    print(\"\\nClassification report:\\n\")\n",
    "    print(classification_report(y_true, y_pred))\n",
    "\n",
    "\"\"\"\n",
    "def graphing_training_validation():\n",
    "    acc = history.history['acc']\n",
    "    val_acc = history.history['val_acc']\n",
    "    loss = history.history['loss']\n",
    "    val_loss = history.history['val_loss']\n",
    "    epochs = range(len(acc))\n",
    "    plt.plot(epochs, acc, ‘r’, label=’Training acc’)\n",
    "    plt.plot(epochs, val_acc, ‘b’, label=’Validation acc’)\n",
    "    plt.title(‘Training and validation accuracy’)\n",
    "    plt.ylabel(‘accuracy’) \n",
    "    plt.xlabel(‘epoch’)\n",
    "    plt.legend()\n",
    "    plt.figure()\n",
    "    plt.plot(epochs, loss, ‘r’, label=’Training loss’)\n",
    "    plt.plot(epochs, val_loss, ‘b’, label=’Validation loss’)\n",
    "    plt.title(‘Training and validation loss’)\n",
    "    plt.ylabel(‘loss’) \n",
    "    plt.xlabel(‘epoch’)\n",
    "    plt.legend()\n",
    "    plt.show()\n",
    "\"\"\""
   ]
  },
  {
   "cell_type": "code",
   "execution_count": 3,
   "id": "c725edaa",
   "metadata": {},
   "outputs": [
    {
     "data": {
      "text/html": [
       "<div>\n",
       "<style scoped>\n",
       "    .dataframe tbody tr th:only-of-type {\n",
       "        vertical-align: middle;\n",
       "    }\n",
       "\n",
       "    .dataframe tbody tr th {\n",
       "        vertical-align: top;\n",
       "    }\n",
       "\n",
       "    .dataframe thead th {\n",
       "        text-align: right;\n",
       "    }\n",
       "</style>\n",
       "<table border=\"1\" class=\"dataframe\">\n",
       "  <thead>\n",
       "    <tr style=\"text-align: right;\">\n",
       "      <th></th>\n",
       "      <th>path</th>\n",
       "      <th>segment</th>\n",
       "      <th>label</th>\n",
       "      <th>samplingrate</th>\n",
       "      <th>ms</th>\n",
       "    </tr>\n",
       "  </thead>\n",
       "  <tbody>\n",
       "    <tr>\n",
       "      <th>0</th>\n",
       "      <td>./Labelled/Bleatings/evt_000_000_000681_210415...</td>\n",
       "      <td>0</td>\n",
       "      <td>Bleatings</td>\n",
       "      <td>16000</td>\n",
       "      <td>3000.0</td>\n",
       "    </tr>\n",
       "    <tr>\n",
       "      <th>1</th>\n",
       "      <td>./Labelled/Bleatings/evt_000_000_000681_210415...</td>\n",
       "      <td>1</td>\n",
       "      <td>Bleatings</td>\n",
       "      <td>16000</td>\n",
       "      <td>3000.0</td>\n",
       "    </tr>\n",
       "    <tr>\n",
       "      <th>2</th>\n",
       "      <td>./Labelled/Bleatings/evt_000_000_000681_210415...</td>\n",
       "      <td>2</td>\n",
       "      <td>Bleatings</td>\n",
       "      <td>16000</td>\n",
       "      <td>3000.0</td>\n",
       "    </tr>\n",
       "    <tr>\n",
       "      <th>3</th>\n",
       "      <td>./Labelled/Bleatings/evt_000_000_000681_210415...</td>\n",
       "      <td>3</td>\n",
       "      <td>Bleatings</td>\n",
       "      <td>16000</td>\n",
       "      <td>3000.0</td>\n",
       "    </tr>\n",
       "    <tr>\n",
       "      <th>4</th>\n",
       "      <td>./Labelled/Bleatings/evt_000_000_000681_210415...</td>\n",
       "      <td>4</td>\n",
       "      <td>Bleatings</td>\n",
       "      <td>16000</td>\n",
       "      <td>3000.0</td>\n",
       "    </tr>\n",
       "  </tbody>\n",
       "</table>\n",
       "</div>"
      ],
      "text/plain": [
       "                                                path  segment      label  \\\n",
       "0  ./Labelled/Bleatings/evt_000_000_000681_210415...        0  Bleatings   \n",
       "1  ./Labelled/Bleatings/evt_000_000_000681_210415...        1  Bleatings   \n",
       "2  ./Labelled/Bleatings/evt_000_000_000681_210415...        2  Bleatings   \n",
       "3  ./Labelled/Bleatings/evt_000_000_000681_210415...        3  Bleatings   \n",
       "4  ./Labelled/Bleatings/evt_000_000_000681_210415...        4  Bleatings   \n",
       "\n",
       "   samplingrate      ms  \n",
       "0         16000  3000.0  \n",
       "1         16000  3000.0  \n",
       "2         16000  3000.0  \n",
       "3         16000  3000.0  \n",
       "4         16000  3000.0  "
      ]
     },
     "execution_count": 3,
     "metadata": {},
     "output_type": "execute_result"
    }
   ],
   "source": [
    "metadata = pd.read_csv(\"processed_metadata.csv\")\n",
    "metadata.head()"
   ]
  },
  {
   "cell_type": "markdown",
   "id": "1edb9de6",
   "metadata": {},
   "source": [
    "# Convolutional Neural Network on log Mel-spectrogram images"
   ]
  },
  {
   "cell_type": "code",
   "execution_count": 115,
   "id": "a31e0263",
   "metadata": {},
   "outputs": [
    {
     "name": "stdout",
     "output_type": "stream",
     "text": [
      "Found 5312 images belonging to 3 classes.\n",
      "Found 1327 images belonging to 3 classes.\n"
     ]
    }
   ],
   "source": [
    "path_dir = \"./img_data\"\n",
    "\n",
    "datagen = ImageDataGenerator(\n",
    "                    rescale=1./255,\n",
    "                    validation_split = 0.2)\n",
    "\n",
    "train_generator = datagen.flow_from_directory(\n",
    "    path_dir,\n",
    "    target_size=(128,94),\n",
    "    batch_size=32,\n",
    "    shuffle=True,\n",
    "    class_mode='categorical',\n",
    "    subset='training'\n",
    ")\n",
    "validation_generator = datagen.flow_from_directory(\n",
    "    path_dir,\n",
    "    target_size=(128,94),\n",
    "    batch_size=32,\n",
    "    shuffle=False,\n",
    "    class_mode='categorical',\n",
    "    subset='validation'\n",
    ")"
   ]
  },
  {
   "cell_type": "code",
   "execution_count": 110,
   "id": "0f30077d",
   "metadata": {},
   "outputs": [
    {
     "data": {
      "text/plain": [
       "array([0, 0, 0, ..., 2, 2, 2])"
      ]
     },
     "execution_count": 110,
     "metadata": {},
     "output_type": "execute_result"
    }
   ],
   "source": [
    "validation_generator.labels"
   ]
  },
  {
   "cell_type": "code",
   "execution_count": 113,
   "id": "a989e678",
   "metadata": {},
   "outputs": [
    {
     "data": {
      "text/plain": [
       "array([0, 0, 0, ..., 2, 2, 2])"
      ]
     },
     "execution_count": 113,
     "metadata": {},
     "output_type": "execute_result"
    }
   ],
   "source": [
    "validation_generator.classes"
   ]
  },
  {
   "cell_type": "code",
   "execution_count": 14,
   "id": "664e5527",
   "metadata": {},
   "outputs": [],
   "source": [
    "from tensorflow.keras.models import Sequential\n",
    "from tensorflow.keras.layers import Conv2D, MaxPool2D, Flatten, Dense, InputLayer, BatchNormalization, Dropout, AveragePooling2D"
   ]
  },
  {
   "cell_type": "markdown",
   "id": "a33b1bc9",
   "metadata": {},
   "source": [
    "## First CNN "
   ]
  },
  {
   "cell_type": "code",
   "execution_count": 32,
   "id": "260fc97e",
   "metadata": {},
   "outputs": [
    {
     "name": "stdout",
     "output_type": "stream",
     "text": [
      "Model: \"sequential_18\"\n",
      "_________________________________________________________________\n",
      "Layer (type)                 Output Shape              Param #   \n",
      "=================================================================\n",
      "conv2d_52 (Conv2D)           (None, 63, 46, 32)        896       \n",
      "_________________________________________________________________\n",
      "max_pooling2d_38 (MaxPooling (None, 31, 23, 32)        0         \n",
      "_________________________________________________________________\n",
      "conv2d_53 (Conv2D)           (None, 16, 12, 64)        18496     \n",
      "_________________________________________________________________\n",
      "max_pooling2d_39 (MaxPooling (None, 8, 6, 64)          0         \n",
      "_________________________________________________________________\n",
      "conv2d_54 (Conv2D)           (None, 8, 6, 128)         73856     \n",
      "_________________________________________________________________\n",
      "max_pooling2d_40 (MaxPooling (None, 4, 3, 128)         0         \n",
      "_________________________________________________________________\n",
      "flatten_16 (Flatten)         (None, 1536)              0         \n",
      "_________________________________________________________________\n",
      "dropout_26 (Dropout)         (None, 1536)              0         \n",
      "_________________________________________________________________\n",
      "dense_37 (Dense)             (None, 128)               196736    \n",
      "_________________________________________________________________\n",
      "dense_38 (Dense)             (None, 64)                8256      \n",
      "_________________________________________________________________\n",
      "dropout_27 (Dropout)         (None, 64)                0         \n",
      "_________________________________________________________________\n",
      "dense_39 (Dense)             (None, 3)                 195       \n",
      "=================================================================\n",
      "Total params: 298,435\n",
      "Trainable params: 298,435\n",
      "Non-trainable params: 0\n",
      "_________________________________________________________________\n"
     ]
    }
   ],
   "source": [
    "model = Sequential()\n",
    "input_shape=(128, 94, 3)\n",
    "\n",
    "#1st hidden layer\n",
    "model.add(Conv2D(32, (3, 3), activation='relu', strides=(2, 2), input_shape=input_shape))\n",
    "model.add(MaxPool2D((2, 2)))\n",
    "#2nd hidden layer\n",
    "model.add(Conv2D(64, (3, 3), activation='relu', strides=(2, 2), padding=\"same\"))\n",
    "model.add(MaxPool2D((2, 2)))\n",
    "#3rd hidden layer\n",
    "model.add(Conv2D(128, (3, 3), activation='relu', padding=\"same\"))\n",
    "model.add(MaxPool2D((2, 2)))\n",
    "#ANN\n",
    "model.add(Flatten())\n",
    "model.add(Dropout(rate=0.5))#Add fully connected layer.\n",
    "model.add(Dense(units = 128, activation='relu'))\n",
    "model.add(Dense(units = 64, activation='relu'))\n",
    "model.add(Dropout(rate=0.25))\n",
    "#Output layer\n",
    "model.add(Dense(units= 3, activation='softmax'))\n",
    "model.summary()"
   ]
  },
  {
   "cell_type": "code",
   "execution_count": 35,
   "id": "37776a49",
   "metadata": {},
   "outputs": [],
   "source": [
    "adam = keras.optimizers.Adam(lr=0.001)\n",
    "model.compile(loss='categorical_crossentropy', optimizer=adam, metrics=['accuracy'])"
   ]
  },
  {
   "cell_type": "code",
   "execution_count": 36,
   "id": "e15d5440",
   "metadata": {},
   "outputs": [
    {
     "name": "stdout",
     "output_type": "stream",
     "text": [
      "Epoch 1/50\n",
      "166/166 [==============================] - 51s 305ms/step - loss: 0.6132 - accuracy: 0.7331\n",
      "Epoch 2/50\n",
      "166/166 [==============================] - 21s 125ms/step - loss: 0.4296 - accuracy: 0.8144\n",
      "Epoch 3/50\n",
      "166/166 [==============================] - 21s 126ms/step - loss: 0.3838 - accuracy: 0.8355\n",
      "Epoch 4/50\n",
      "166/166 [==============================] - 21s 125ms/step - loss: 0.3666 - accuracy: 0.8358\n",
      "Epoch 5/50\n",
      "166/166 [==============================] - 22s 130ms/step - loss: 0.3341 - accuracy: 0.8596\n",
      "Epoch 6/50\n",
      "166/166 [==============================] - 22s 130ms/step - loss: 0.3208 - accuracy: 0.8577\n",
      "Epoch 7/50\n",
      "166/166 [==============================] - 21s 128ms/step - loss: 0.3099 - accuracy: 0.8656\n",
      "Epoch 8/50\n",
      "166/166 [==============================] - 21s 129ms/step - loss: 0.2970 - accuracy: 0.8741\n",
      "Epoch 9/50\n",
      "166/166 [==============================] - 21s 129ms/step - loss: 0.2888 - accuracy: 0.8735\n",
      "Epoch 10/50\n",
      "166/166 [==============================] - 21s 129ms/step - loss: 0.2785 - accuracy: 0.8803\n",
      "Epoch 11/50\n",
      "166/166 [==============================] - 21s 129ms/step - loss: 0.2671 - accuracy: 0.8902\n",
      "Epoch 12/50\n",
      "166/166 [==============================] - 22s 130ms/step - loss: 0.2540 - accuracy: 0.8914\n",
      "Epoch 13/50\n",
      "166/166 [==============================] - 21s 129ms/step - loss: 0.2388 - accuracy: 0.9008\n",
      "Epoch 14/50\n",
      "166/166 [==============================] - 22s 131ms/step - loss: 0.2334 - accuracy: 0.8998\n",
      "Epoch 15/50\n",
      "166/166 [==============================] - 21s 129ms/step - loss: 0.2157 - accuracy: 0.9068\n",
      "Epoch 16/50\n",
      "166/166 [==============================] - 22s 130ms/step - loss: 0.2153 - accuracy: 0.9068\n",
      "Epoch 17/50\n",
      "166/166 [==============================] - 22s 130ms/step - loss: 0.1924 - accuracy: 0.9196\n",
      "Epoch 18/50\n",
      "166/166 [==============================] - 21s 129ms/step - loss: 0.1982 - accuracy: 0.9123\n",
      "Epoch 19/50\n",
      "166/166 [==============================] - 22s 131ms/step - loss: 0.1753 - accuracy: 0.9249\n",
      "Epoch 20/50\n",
      "166/166 [==============================] - 22s 132ms/step - loss: 0.1651 - accuracy: 0.9298\n",
      "Epoch 21/50\n",
      "166/166 [==============================] - 22s 131ms/step - loss: 0.1536 - accuracy: 0.9384\n",
      "Epoch 22/50\n",
      "166/166 [==============================] - 22s 131ms/step - loss: 0.1429 - accuracy: 0.9454\n",
      "Epoch 23/50\n",
      "166/166 [==============================] - 22s 131ms/step - loss: 0.1355 - accuracy: 0.9448\n",
      "Epoch 24/50\n",
      "166/166 [==============================] - 21s 124ms/step - loss: 0.1103 - accuracy: 0.9544\n",
      "Epoch 25/50\n",
      "166/166 [==============================] - 21s 127ms/step - loss: 0.1104 - accuracy: 0.9563\n",
      "Epoch 26/50\n",
      "166/166 [==============================] - 21s 126ms/step - loss: 0.0842 - accuracy: 0.9684\n",
      "Epoch 27/50\n",
      "166/166 [==============================] - 21s 126ms/step - loss: 0.1025 - accuracy: 0.9607\n",
      "Epoch 28/50\n",
      "166/166 [==============================] - 21s 125ms/step - loss: 0.0890 - accuracy: 0.9663\n",
      "Epoch 29/50\n",
      "166/166 [==============================] - 21s 125ms/step - loss: 0.0937 - accuracy: 0.9623\n",
      "Epoch 30/50\n",
      "166/166 [==============================] - 21s 125ms/step - loss: 0.0814 - accuracy: 0.9708\n",
      "Epoch 31/50\n",
      "166/166 [==============================] - 21s 128ms/step - loss: 0.0605 - accuracy: 0.9765\n",
      "Epoch 32/50\n",
      "166/166 [==============================] - 21s 126ms/step - loss: 0.0610 - accuracy: 0.9757\n",
      "Epoch 33/50\n",
      "166/166 [==============================] - 21s 126ms/step - loss: 0.0678 - accuracy: 0.9776\n",
      "Epoch 34/50\n",
      "166/166 [==============================] - 21s 124ms/step - loss: 0.0671 - accuracy: 0.9721\n",
      "Epoch 35/50\n",
      "166/166 [==============================] - 21s 127ms/step - loss: 0.0557 - accuracy: 0.9770\n",
      "Epoch 36/50\n",
      "166/166 [==============================] - 21s 127ms/step - loss: 0.0567 - accuracy: 0.9787\n",
      "Epoch 37/50\n",
      "166/166 [==============================] - 21s 126ms/step - loss: 0.0409 - accuracy: 0.9859\n",
      "Epoch 38/50\n",
      "166/166 [==============================] - 21s 127ms/step - loss: 0.0591 - accuracy: 0.9772\n",
      "Epoch 39/50\n",
      "166/166 [==============================] - 21s 127ms/step - loss: 0.0566 - accuracy: 0.9814\n",
      "Epoch 40/50\n",
      "166/166 [==============================] - 21s 124ms/step - loss: 0.0300 - accuracy: 0.9900\n",
      "Epoch 41/50\n",
      "166/166 [==============================] - 21s 127ms/step - loss: 0.0419 - accuracy: 0.9855\n",
      "Epoch 42/50\n",
      "166/166 [==============================] - 21s 128ms/step - loss: 0.0506 - accuracy: 0.9819\n",
      "Epoch 43/50\n",
      "166/166 [==============================] - 21s 126ms/step - loss: 0.0490 - accuracy: 0.9804\n",
      "Epoch 44/50\n",
      "166/166 [==============================] - 21s 127ms/step - loss: 0.0384 - accuracy: 0.9859\n",
      "Epoch 45/50\n",
      "166/166 [==============================] - 21s 126ms/step - loss: 0.0364 - accuracy: 0.9861\n",
      "Epoch 46/50\n",
      "166/166 [==============================] - 21s 126ms/step - loss: 0.0347 - accuracy: 0.9889\n",
      "Epoch 47/50\n",
      "166/166 [==============================] - 21s 127ms/step - loss: 0.0387 - accuracy: 0.9866\n",
      "Epoch 48/50\n",
      "166/166 [==============================] - 21s 127ms/step - loss: 0.0427 - accuracy: 0.9819\n",
      "Epoch 49/50\n",
      "166/166 [==============================] - 21s 126ms/step - loss: 0.0294 - accuracy: 0.9889\n",
      "Epoch 50/50\n",
      "166/166 [==============================] - 21s 125ms/step - loss: 0.0354 - accuracy: 0.9891\n"
     ]
    },
    {
     "data": {
      "text/plain": [
       "<tensorflow.python.keras.callbacks.History at 0x24cab825160>"
      ]
     },
     "execution_count": 36,
     "metadata": {},
     "output_type": "execute_result"
    }
   ],
   "source": [
    "model.fit(train_generator, batch_size=32, epochs=50)"
   ]
  },
  {
   "cell_type": "code",
   "execution_count": 74,
   "id": "1044e01f",
   "metadata": {},
   "outputs": [
    {
     "name": "stdout",
     "output_type": "stream",
     "text": [
      "42/42 [==============================] - 5s 124ms/step - loss: 0.8039 - accuracy: 0.8772\n"
     ]
    }
   ],
   "source": [
    "test_accuracy = model.evaluate(validation_generator)"
   ]
  },
  {
   "cell_type": "code",
   "execution_count": 93,
   "id": "53de40f4",
   "metadata": {},
   "outputs": [],
   "source": [
    "prediction = model.predict(validation_generator)"
   ]
  },
  {
   "cell_type": "code",
   "execution_count": 106,
   "id": "f3b941ef",
   "metadata": {},
   "outputs": [
    {
     "name": "stdout",
     "output_type": "stream",
     "text": [
      "Confusion matrix:\n",
      "[[300  46 222]\n",
      " [107  17  95]\n",
      " [270  54 216]]\n",
      "Classification report:\n",
      "\n",
      "              precision    recall  f1-score   support\n",
      "\n",
      "           0       0.44      0.53      0.48       568\n",
      "           1       0.15      0.08      0.10       219\n",
      "           2       0.41      0.40      0.40       540\n",
      "\n",
      "    accuracy                           0.40      1327\n",
      "   macro avg       0.33      0.34      0.33      1327\n",
      "weighted avg       0.38      0.40      0.39      1327\n",
      "\n"
     ]
    }
   ],
   "source": [
    "print_results(prediction, validation_generator)"
   ]
  },
  {
   "cell_type": "markdown",
   "id": "e814b78e",
   "metadata": {},
   "source": [
    "## Second CNN"
   ]
  },
  {
   "cell_type": "code",
   "execution_count": 47,
   "id": "11584624",
   "metadata": {},
   "outputs": [
    {
     "name": "stdout",
     "output_type": "stream",
     "text": [
      "Model: \"sequential_19\"\n",
      "_________________________________________________________________\n",
      "Layer (type)                 Output Shape              Param #   \n",
      "=================================================================\n",
      "conv2d_55 (Conv2D)           (None, 128, 94, 25)       1900      \n",
      "_________________________________________________________________\n",
      "max_pooling2d_41 (MaxPooling (None, 64, 47, 25)        0         \n",
      "_________________________________________________________________\n",
      "conv2d_56 (Conv2D)           (None, 32, 24, 50)        31300     \n",
      "_________________________________________________________________\n",
      "max_pooling2d_42 (MaxPooling (None, 16, 12, 50)        0         \n",
      "_________________________________________________________________\n",
      "batch_normalization_4 (Batch (None, 16, 12, 50)        200       \n",
      "_________________________________________________________________\n",
      "conv2d_57 (Conv2D)           (None, 8, 6, 70)          31570     \n",
      "_________________________________________________________________\n",
      "max_pooling2d_43 (MaxPooling (None, 4, 3, 70)          0         \n",
      "_________________________________________________________________\n",
      "batch_normalization_5 (Batch (None, 4, 3, 70)          280       \n",
      "_________________________________________________________________\n",
      "flatten_17 (Flatten)         (None, 840)               0         \n",
      "_________________________________________________________________\n",
      "dense_40 (Dense)             (None, 100)               84100     \n",
      "_________________________________________________________________\n",
      "dense_41 (Dense)             (None, 50)                5050      \n",
      "_________________________________________________________________\n",
      "dropout_28 (Dropout)         (None, 50)                0         \n",
      "_________________________________________________________________\n",
      "dense_42 (Dense)             (None, 3)                 153       \n",
      "=================================================================\n",
      "Total params: 154,553\n",
      "Trainable params: 154,313\n",
      "Non-trainable params: 240\n",
      "_________________________________________________________________\n"
     ]
    }
   ],
   "source": [
    "# build a sequential model\n",
    "model1 = Sequential()\n",
    "model1.add(InputLayer(input_shape=(128, 94, 3)))\n",
    "\n",
    "# 1st conv block\n",
    "model1.add(Conv2D(25, (5, 5), activation='relu', strides=(1, 1), padding='same'))\n",
    "model1.add(MaxPool2D(pool_size=(2, 2), padding='same'))\n",
    "# 2nd conv block\n",
    "model1.add(Conv2D(50, (5, 5), activation='relu', strides=(2, 2), padding='same'))\n",
    "model1.add(MaxPool2D(pool_size=(2, 2), padding='same'))\n",
    "model1.add(BatchNormalization())\n",
    "# 3rd conv block\n",
    "model1.add(Conv2D(70, (3, 3), activation='relu', strides=(2, 2), padding='same'))\n",
    "model1.add(MaxPool2D(pool_size=(2, 2), padding='valid'))\n",
    "model1.add(BatchNormalization())\n",
    "# ANN block\n",
    "model1.add(Flatten())\n",
    "model1.add(Dense(units=100, activation='relu'))\n",
    "model1.add(Dense(units=50, activation='relu'))\n",
    "model1.add(Dropout(0.25))\n",
    "# output layer\n",
    "model1.add(Dense(units=3, activation='softmax'))\n",
    "model1.summary()"
   ]
  },
  {
   "cell_type": "code",
   "execution_count": 48,
   "id": "4da1bc14",
   "metadata": {},
   "outputs": [
    {
     "name": "stdout",
     "output_type": "stream",
     "text": [
      "Epoch 1/50\n",
      "166/166 [==============================] - 41s 247ms/step - loss: 0.5358 - accuracy: 0.7673\n",
      "Epoch 2/50\n",
      "166/166 [==============================] - 43s 261ms/step - loss: 0.3948 - accuracy: 0.8357\n",
      "Epoch 3/50\n",
      "166/166 [==============================] - 44s 264ms/step - loss: 0.3613 - accuracy: 0.8477\n",
      "Epoch 4/50\n",
      "166/166 [==============================] - 44s 266ms/step - loss: 0.3185 - accuracy: 0.8607\n",
      "Epoch 5/50\n",
      "166/166 [==============================] - 43s 262ms/step - loss: 0.3027 - accuracy: 0.8669\n",
      "Epoch 6/50\n",
      "166/166 [==============================] - 44s 267ms/step - loss: 0.2657 - accuracy: 0.8810\n",
      "Epoch 7/50\n",
      "166/166 [==============================] - 46s 278ms/step - loss: 0.2552 - accuracy: 0.8850\n",
      "Epoch 8/50\n",
      "166/166 [==============================] - 47s 283ms/step - loss: 0.2301 - accuracy: 0.9012\n",
      "Epoch 9/50\n",
      "166/166 [==============================] - 45s 273ms/step - loss: 0.2084 - accuracy: 0.9155\n",
      "Epoch 10/50\n",
      "166/166 [==============================] - 45s 273ms/step - loss: 0.1871 - accuracy: 0.9198\n",
      "Epoch 11/50\n",
      "166/166 [==============================] - 45s 270ms/step - loss: 0.1522 - accuracy: 0.9339\n",
      "Epoch 12/50\n",
      "166/166 [==============================] - 45s 272ms/step - loss: 0.1456 - accuracy: 0.9441\n",
      "Epoch 13/50\n",
      "166/166 [==============================] - 45s 272ms/step - loss: 0.1117 - accuracy: 0.9546\n",
      "Epoch 14/50\n",
      "166/166 [==============================] - 45s 272ms/step - loss: 0.0978 - accuracy: 0.9629\n",
      "Epoch 15/50\n",
      "166/166 [==============================] - 45s 274ms/step - loss: 0.0747 - accuracy: 0.9731\n",
      "Epoch 16/50\n",
      "166/166 [==============================] - 45s 272ms/step - loss: 0.0658 - accuracy: 0.9755\n",
      "Epoch 17/50\n",
      "166/166 [==============================] - 45s 268ms/step - loss: 0.0660 - accuracy: 0.9746\n",
      "Epoch 18/50\n",
      "166/166 [==============================] - 45s 270ms/step - loss: 0.0498 - accuracy: 0.9817\n",
      "Epoch 19/50\n",
      "166/166 [==============================] - 44s 268ms/step - loss: 0.0461 - accuracy: 0.9846\n",
      "Epoch 20/50\n",
      "166/166 [==============================] - 45s 269ms/step - loss: 0.0581 - accuracy: 0.9785\n",
      "Epoch 21/50\n",
      "166/166 [==============================] - 45s 271ms/step - loss: 0.0592 - accuracy: 0.9772\n",
      "Epoch 22/50\n",
      "166/166 [==============================] - 45s 269ms/step - loss: 0.0376 - accuracy: 0.9878\n",
      "Epoch 23/50\n",
      "166/166 [==============================] - 45s 271ms/step - loss: 0.0219 - accuracy: 0.9930\n",
      "Epoch 24/50\n",
      "166/166 [==============================] - 45s 270ms/step - loss: 0.0069 - accuracy: 0.9987\n",
      "Epoch 25/50\n",
      "166/166 [==============================] - 47s 280ms/step - loss: 0.0144 - accuracy: 0.9949\n",
      "Epoch 26/50\n",
      "166/166 [==============================] - 45s 273ms/step - loss: 0.0424 - accuracy: 0.9851\n",
      "Epoch 27/50\n",
      "166/166 [==============================] - 46s 276ms/step - loss: 0.0409 - accuracy: 0.9849\n",
      "Epoch 28/50\n",
      "166/166 [==============================] - 45s 272ms/step - loss: 0.0416 - accuracy: 0.9861\n",
      "Epoch 29/50\n",
      "166/166 [==============================] - 45s 273ms/step - loss: 0.0329 - accuracy: 0.9874\n",
      "Epoch 30/50\n",
      "166/166 [==============================] - 45s 272ms/step - loss: 0.0203 - accuracy: 0.9940\n",
      "Epoch 31/50\n",
      "166/166 [==============================] - 46s 274ms/step - loss: 0.0259 - accuracy: 0.9919\n",
      "Epoch 32/50\n",
      "166/166 [==============================] - 45s 272ms/step - loss: 0.0365 - accuracy: 0.9864\n",
      "Epoch 33/50\n",
      "166/166 [==============================] - 45s 270ms/step - loss: 0.0133 - accuracy: 0.9957\n",
      "Epoch 34/50\n",
      "166/166 [==============================] - 44s 268ms/step - loss: 0.0180 - accuracy: 0.9940\n",
      "Epoch 35/50\n",
      "166/166 [==============================] - 45s 269ms/step - loss: 0.0148 - accuracy: 0.9953\n",
      "Epoch 36/50\n",
      "166/166 [==============================] - 45s 271ms/step - loss: 0.0112 - accuracy: 0.9970\n",
      "Epoch 37/50\n",
      "166/166 [==============================] - 45s 268ms/step - loss: 0.0279 - accuracy: 0.9906\n",
      "Epoch 38/50\n",
      "166/166 [==============================] - 45s 270ms/step - loss: 0.0425 - accuracy: 0.9834\n",
      "Epoch 39/50\n",
      "166/166 [==============================] - 45s 269ms/step - loss: 0.0137 - accuracy: 0.9955\n",
      "Epoch 40/50\n",
      "166/166 [==============================] - 47s 282ms/step - loss: 0.0198 - accuracy: 0.9925\n",
      "Epoch 41/50\n",
      "166/166 [==============================] - 48s 290ms/step - loss: 0.0149 - accuracy: 0.9959\n",
      "Epoch 42/50\n",
      "166/166 [==============================] - 47s 284ms/step - loss: 0.0186 - accuracy: 0.9945\n",
      "Epoch 43/50\n",
      "166/166 [==============================] - 49s 297ms/step - loss: 0.0063 - accuracy: 0.9987\n",
      "Epoch 44/50\n",
      "166/166 [==============================] - 46s 279ms/step - loss: 0.0040 - accuracy: 0.9989\n",
      "Epoch 45/50\n",
      "166/166 [==============================] - 47s 283ms/step - loss: 0.0050 - accuracy: 0.9981\n",
      "Epoch 46/50\n",
      "166/166 [==============================] - 47s 281ms/step - loss: 0.0290 - accuracy: 0.9908\n",
      "Epoch 47/50\n",
      "166/166 [==============================] - 47s 285ms/step - loss: 0.0162 - accuracy: 0.9951\n",
      "Epoch 48/50\n",
      "166/166 [==============================] - 48s 288ms/step - loss: 0.0128 - accuracy: 0.9959\n",
      "Epoch 49/50\n",
      "166/166 [==============================] - 50s 299ms/step - loss: 0.0075 - accuracy: 0.9976\n",
      "Epoch 50/50\n",
      "166/166 [==============================] - 47s 283ms/step - loss: 0.0148 - accuracy: 0.9945\n"
     ]
    },
    {
     "data": {
      "text/plain": [
       "<tensorflow.python.keras.callbacks.History at 0x24cb6dac9a0>"
      ]
     },
     "execution_count": 48,
     "metadata": {},
     "output_type": "execute_result"
    }
   ],
   "source": [
    "adam = keras.optimizers.Adam(lr=0.001)\n",
    "model1.compile(loss='categorical_crossentropy', optimizer=adam, metrics=['accuracy'])\n",
    "model1.fit(train_generator, batch_size=32, epochs=50)"
   ]
  },
  {
   "cell_type": "code",
   "execution_count": 78,
   "id": "1ce13481",
   "metadata": {},
   "outputs": [
    {
     "name": "stdout",
     "output_type": "stream",
     "text": [
      "42/42 [==============================] - 6s 148ms/step - loss: 1.5366 - accuracy: 0.8696\n"
     ]
    }
   ],
   "source": [
    "test_accuracy = model1.evaluate(validation_generator)"
   ]
  },
  {
   "cell_type": "code",
   "execution_count": 108,
   "id": "e75f1178",
   "metadata": {},
   "outputs": [
    {
     "name": "stdout",
     "output_type": "stream",
     "text": [
      "Confusion matrix:\n",
      "[[296  39 233]\n",
      " [105  18  96]\n",
      " [284  38 218]]\n",
      "\n",
      "Classification report:\n",
      "\n",
      "              precision    recall  f1-score   support\n",
      "\n",
      "           0       0.43      0.52      0.47       568\n",
      "           1       0.19      0.08      0.11       219\n",
      "           2       0.40      0.40      0.40       540\n",
      "\n",
      "    accuracy                           0.40      1327\n",
      "   macro avg       0.34      0.34      0.33      1327\n",
      "weighted avg       0.38      0.40      0.38      1327\n",
      "\n"
     ]
    }
   ],
   "source": [
    "pred1 = model1.predict(validation_generator)\n",
    "print_results(pred1, validation_generator)"
   ]
  },
  {
   "cell_type": "markdown",
   "id": "e996ccfc",
   "metadata": {},
   "source": [
    "## Third CNN "
   ]
  },
  {
   "cell_type": "code",
   "execution_count": 49,
   "id": "613712c5",
   "metadata": {},
   "outputs": [
    {
     "name": "stdout",
     "output_type": "stream",
     "text": [
      "Model: \"sequential_18\"\n",
      "_________________________________________________________________\n",
      "Layer (type)                 Output Shape              Param #   \n",
      "=================================================================\n",
      "conv2d_52 (Conv2D)           (None, 63, 46, 32)        896       \n",
      "_________________________________________________________________\n",
      "max_pooling2d_38 (MaxPooling (None, 31, 23, 32)        0         \n",
      "_________________________________________________________________\n",
      "conv2d_53 (Conv2D)           (None, 16, 12, 64)        18496     \n",
      "_________________________________________________________________\n",
      "max_pooling2d_39 (MaxPooling (None, 8, 6, 64)          0         \n",
      "_________________________________________________________________\n",
      "conv2d_54 (Conv2D)           (None, 8, 6, 128)         73856     \n",
      "_________________________________________________________________\n",
      "max_pooling2d_40 (MaxPooling (None, 4, 3, 128)         0         \n",
      "_________________________________________________________________\n",
      "flatten_16 (Flatten)         (None, 1536)              0         \n",
      "_________________________________________________________________\n",
      "dropout_26 (Dropout)         (None, 1536)              0         \n",
      "_________________________________________________________________\n",
      "dense_37 (Dense)             (None, 128)               196736    \n",
      "_________________________________________________________________\n",
      "dense_38 (Dense)             (None, 64)                8256      \n",
      "_________________________________________________________________\n",
      "dropout_27 (Dropout)         (None, 64)                0         \n",
      "_________________________________________________________________\n",
      "dense_39 (Dense)             (None, 3)                 195       \n",
      "=================================================================\n",
      "Total params: 298,435\n",
      "Trainable params: 298,435\n",
      "Non-trainable params: 0\n",
      "_________________________________________________________________\n"
     ]
    }
   ],
   "source": [
    "model2 = tf.keras.models.Sequential([\n",
    "    #first_convolution\n",
    "    tf.keras.layers.Conv2D(16, (3,3), activation='relu', input_shape=(128, 94, 3)),\n",
    "    tf.keras.layers.MaxPooling2D(2, 2),\n",
    "    #second_convolution\n",
    "    tf.keras.layers.Conv2D(32, (3,3), activation='relu'),\n",
    "    tf.keras.layers.MaxPooling2D(2,2),\n",
    "    #third_convolution\n",
    "    tf.keras.layers.Conv2D(64, (3,3), activation='relu'),\n",
    "    tf.keras.layers.MaxPooling2D(2,2),\n",
    "    #fourth_convolution\n",
    "    tf.keras.layers.Conv2D(64, (3,3), activation='relu'),\n",
    "    tf.keras.layers.MaxPooling2D(2,2),\n",
    "    #out ANN\n",
    "    tf.keras.layers.Flatten(),\n",
    "    tf.keras.layers.Dropout(0.5),\n",
    "    tf.keras.layers.Dense(256, activation='relu'),\n",
    "    tf.keras.layers.Dense(3, activation='softmax') \n",
    "]) \n",
    "model.summary()"
   ]
  },
  {
   "cell_type": "code",
   "execution_count": 50,
   "id": "a97160cb",
   "metadata": {
    "scrolled": false
   },
   "outputs": [
    {
     "name": "stdout",
     "output_type": "stream",
     "text": [
      "Epoch 1/50\n",
      "166/166 [==============================] - 40s 243ms/step - loss: 0.5435 - accuracy: 0.7639\n",
      "Epoch 2/50\n",
      "166/166 [==============================] - 38s 230ms/step - loss: 0.3931 - accuracy: 0.8268\n",
      "Epoch 3/50\n",
      "166/166 [==============================] - 39s 235ms/step - loss: 0.3627 - accuracy: 0.8436\n",
      "Epoch 4/50\n",
      "166/166 [==============================] - 38s 232ms/step - loss: 0.3325 - accuracy: 0.8605\n",
      "Epoch 5/50\n",
      "166/166 [==============================] - 39s 237ms/step - loss: 0.3144 - accuracy: 0.8658\n",
      "Epoch 6/50\n",
      "166/166 [==============================] - 40s 238ms/step - loss: 0.2938 - accuracy: 0.8737\n",
      "Epoch 7/50\n",
      "166/166 [==============================] - 39s 234ms/step - loss: 0.2875 - accuracy: 0.8735\n",
      "Epoch 8/50\n",
      "166/166 [==============================] - 42s 252ms/step - loss: 0.2694 - accuracy: 0.8827\n",
      "Epoch 9/50\n",
      "166/166 [==============================] - 40s 240ms/step - loss: 0.2552 - accuracy: 0.8887\n",
      "Epoch 10/50\n",
      "166/166 [==============================] - 39s 236ms/step - loss: 0.2449 - accuracy: 0.8946\n",
      "Epoch 11/50\n",
      "166/166 [==============================] - 39s 236ms/step - loss: 0.2330 - accuracy: 0.8993\n",
      "Epoch 12/50\n",
      "166/166 [==============================] - 39s 235ms/step - loss: 0.2232 - accuracy: 0.8998\n",
      "Epoch 13/50\n",
      "166/166 [==============================] - 38s 228ms/step - loss: 0.2124 - accuracy: 0.9046\n",
      "Epoch 14/50\n",
      "166/166 [==============================] - 38s 227ms/step - loss: 0.1994 - accuracy: 0.9115\n",
      "Epoch 15/50\n",
      "166/166 [==============================] - 39s 234ms/step - loss: 0.1926 - accuracy: 0.9138\n",
      "Epoch 16/50\n",
      "166/166 [==============================] - 38s 228ms/step - loss: 0.1749 - accuracy: 0.9213\n",
      "Epoch 17/50\n",
      "166/166 [==============================] - 37s 224ms/step - loss: 0.1753 - accuracy: 0.9275\n",
      "Epoch 18/50\n",
      "166/166 [==============================] - 39s 237ms/step - loss: 0.1571 - accuracy: 0.9317\n",
      "Epoch 19/50\n",
      "166/166 [==============================] - 39s 237ms/step - loss: 0.1453 - accuracy: 0.9379\n",
      "Epoch 20/50\n",
      "166/166 [==============================] - 42s 251ms/step - loss: 0.1336 - accuracy: 0.9424\n",
      "Epoch 21/50\n",
      "166/166 [==============================] - 38s 232ms/step - loss: 0.1281 - accuracy: 0.9450\n",
      "Epoch 22/50\n",
      "166/166 [==============================] - 38s 231ms/step - loss: 0.1265 - accuracy: 0.9482\n",
      "Epoch 23/50\n",
      "166/166 [==============================] - 39s 233ms/step - loss: 0.1096 - accuracy: 0.9561\n",
      "Epoch 24/50\n",
      "166/166 [==============================] - 38s 232ms/step - loss: 0.1038 - accuracy: 0.9605\n",
      "Epoch 25/50\n",
      "166/166 [==============================] - 38s 226ms/step - loss: 0.0982 - accuracy: 0.9601\n",
      "Epoch 26/50\n",
      "166/166 [==============================] - 38s 229ms/step - loss: 0.0873 - accuracy: 0.9646\n",
      "Epoch 27/50\n",
      "166/166 [==============================] - 38s 230ms/step - loss: 0.0850 - accuracy: 0.9686\n",
      "Epoch 28/50\n",
      "166/166 [==============================] - 38s 228ms/step - loss: 0.0758 - accuracy: 0.9697\n",
      "Epoch 29/50\n",
      "166/166 [==============================] - 38s 229ms/step - loss: 0.0784 - accuracy: 0.9678\n",
      "Epoch 30/50\n",
      "166/166 [==============================] - 38s 229ms/step - loss: 0.0677 - accuracy: 0.9740\n",
      "Epoch 31/50\n",
      "166/166 [==============================] - 38s 231ms/step - loss: 0.0566 - accuracy: 0.9787\n",
      "Epoch 32/50\n",
      "166/166 [==============================] - 37s 225ms/step - loss: 0.0599 - accuracy: 0.9763\n",
      "Epoch 33/50\n",
      "166/166 [==============================] - 37s 221ms/step - loss: 0.0625 - accuracy: 0.9780\n",
      "Epoch 34/50\n",
      "166/166 [==============================] - 37s 221ms/step - loss: 0.0550 - accuracy: 0.9795\n",
      "Epoch 35/50\n",
      "166/166 [==============================] - 37s 221ms/step - loss: 0.0567 - accuracy: 0.9772\n",
      "Epoch 36/50\n",
      "166/166 [==============================] - 36s 220ms/step - loss: 0.0515 - accuracy: 0.9808\n",
      "Epoch 37/50\n",
      "166/166 [==============================] - 36s 219ms/step - loss: 0.0460 - accuracy: 0.9838\n",
      "Epoch 38/50\n",
      "166/166 [==============================] - 37s 221ms/step - loss: 0.0604 - accuracy: 0.9746\n",
      "Epoch 39/50\n",
      "166/166 [==============================] - 37s 221ms/step - loss: 0.0420 - accuracy: 0.9853\n",
      "Epoch 40/50\n",
      "166/166 [==============================] - 37s 223ms/step - loss: 0.0395 - accuracy: 0.9851\n",
      "Epoch 41/50\n",
      "166/166 [==============================] - 37s 222ms/step - loss: 0.0404 - accuracy: 0.9849\n",
      "Epoch 42/50\n",
      "166/166 [==============================] - 36s 218ms/step - loss: 0.0600 - accuracy: 0.9797\n",
      "Epoch 43/50\n",
      "166/166 [==============================] - 37s 222ms/step - loss: 0.0361 - accuracy: 0.9863\n",
      "Epoch 44/50\n",
      "166/166 [==============================] - 37s 222ms/step - loss: 0.0366 - accuracy: 0.9866\n",
      "Epoch 45/50\n",
      "166/166 [==============================] - 36s 220ms/step - loss: 0.0488 - accuracy: 0.9827\n",
      "Epoch 46/50\n",
      "166/166 [==============================] - 37s 221ms/step - loss: 0.0273 - accuracy: 0.9902\n",
      "Epoch 47/50\n",
      "166/166 [==============================] - 37s 220ms/step - loss: 0.0348 - accuracy: 0.9870\n",
      "Epoch 48/50\n",
      "166/166 [==============================] - 37s 222ms/step - loss: 0.0330 - accuracy: 0.9887\n",
      "Epoch 49/50\n",
      "166/166 [==============================] - 37s 222ms/step - loss: 0.0412 - accuracy: 0.9863\n",
      "Epoch 50/50\n",
      "166/166 [==============================] - 37s 223ms/step - loss: 0.0340 - accuracy: 0.9900\n"
     ]
    },
    {
     "data": {
      "text/plain": [
       "<tensorflow.python.keras.callbacks.History at 0x24cb735c7f0>"
      ]
     },
     "execution_count": 50,
     "metadata": {},
     "output_type": "execute_result"
    }
   ],
   "source": [
    "adam = keras.optimizers.Adam(lr=0.001)\n",
    "model2.compile(loss='categorical_crossentropy', optimizer=adam, metrics=['accuracy'])\n",
    "model2.fit(train_generator, batch_size=32, epochs=50)"
   ]
  },
  {
   "cell_type": "code",
   "execution_count": 117,
   "id": "b39f802a",
   "metadata": {},
   "outputs": [
    {
     "name": "stdout",
     "output_type": "stream",
     "text": [
      "42/42 [==============================] - 5s 107ms/step - loss: 1.0514 - accuracy: 0.8832\n"
     ]
    }
   ],
   "source": [
    "test_accuracy = model2.evaluate(validation_generator)"
   ]
  },
  {
   "cell_type": "code",
   "execution_count": 118,
   "id": "214f5276",
   "metadata": {},
   "outputs": [
    {
     "name": "stdout",
     "output_type": "stream",
     "text": [
      "Confusion matrix:\n",
      "[[563   3   2]\n",
      " [148  71   0]\n",
      " [  2   0 538]]\n",
      "\n",
      "Classification report:\n",
      "\n",
      "              precision    recall  f1-score   support\n",
      "\n",
      "           0       0.79      0.99      0.88       568\n",
      "           1       0.96      0.32      0.48       219\n",
      "           2       1.00      1.00      1.00       540\n",
      "\n",
      "    accuracy                           0.88      1327\n",
      "   macro avg       0.92      0.77      0.79      1327\n",
      "weighted avg       0.90      0.88      0.86      1327\n",
      "\n"
     ]
    }
   ],
   "source": [
    "pred2 = model2.predict(validation_generator)\n",
    "print_results(pred2, validation_generator)"
   ]
  }
 ],
 "metadata": {
  "kernelspec": {
   "display_name": "Python 3 (ipykernel)",
   "language": "python",
   "name": "python3"
  },
  "language_info": {
   "codemirror_mode": {
    "name": "ipython",
    "version": 3
   },
   "file_extension": ".py",
   "mimetype": "text/x-python",
   "name": "python",
   "nbconvert_exporter": "python",
   "pygments_lexer": "ipython3",
   "version": "3.8.10"
  }
 },
 "nbformat": 4,
 "nbformat_minor": 5
}
