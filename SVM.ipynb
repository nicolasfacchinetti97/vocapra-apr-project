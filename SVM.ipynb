{
 "cells": [
  {
   "cell_type": "code",
   "execution_count": 1,
   "id": "962851ee",
   "metadata": {},
   "outputs": [],
   "source": [
    "import numpy as np\n",
    "import pandas as pd\n",
    "import matplotlib.pyplot as plt \n",
    "\n",
    "from sklearn.utils import shuffle\n",
    "from sklearn.svm import SVC\n",
    "from sklearn.metrics import confusion_matrix, classification_report\n",
    "from sklearn.model_selection import cross_val_score, GridSearchCV, train_test_split, StratifiedKFold, cross_validate\n",
    "from sklearn.preprocessing import LabelEncoder, StandardScaler\n",
    "\n"
   ]
  },
  {
   "cell_type": "code",
   "execution_count": 2,
   "id": "f48ad289",
   "metadata": {},
   "outputs": [],
   "source": [
    "def graphing_training_validation(history):\n",
    "    acc = history['train_acc']\n",
    "    val_acc = history['test_acc']\n",
    "    #loss = history['loss']\n",
    "    #val_loss = history['val_loss']\n",
    "    epochs = range(len(acc))\n",
    "    plt.plot(epochs, acc, 'r', label='Training acc')\n",
    "    plt.plot(epochs, val_acc, 'b', label='Testing acc')\n",
    "    plt.ylabel('accuracy') \n",
    "    plt.xlabel('epoch')\n",
    "    plt.legend()\n",
    "    plt.figure()\n",
    "    \"\"\"\n",
    "    plt.plot(epochs, loss, 'r', label='Training loss')\n",
    "    plt.plot(epochs, val_loss, 'b', label='Validation loss')\n",
    "    plt.title('Training and validation loss')\n",
    "    plt.ylabel('loss') \n",
    "    plt.xlabel('epoch')\n",
    "    plt.legend()\n",
    "    plt.show()\n",
    "    \"\"\""
   ]
  },
  {
   "cell_type": "markdown",
   "id": "0f5368b8",
   "metadata": {},
   "source": [
    "# Loading of the data"
   ]
  },
  {
   "cell_type": "markdown",
   "id": "d628752b",
   "metadata": {},
   "source": [
    "Start by loading the data of the metadata and the two extracted features sets"
   ]
  },
  {
   "cell_type": "code",
   "execution_count": 3,
   "id": "15b462af",
   "metadata": {},
   "outputs": [
    {
     "data": {
      "text/html": [
       "<div>\n",
       "<style scoped>\n",
       "    .dataframe tbody tr th:only-of-type {\n",
       "        vertical-align: middle;\n",
       "    }\n",
       "\n",
       "    .dataframe tbody tr th {\n",
       "        vertical-align: top;\n",
       "    }\n",
       "\n",
       "    .dataframe thead th {\n",
       "        text-align: right;\n",
       "    }\n",
       "</style>\n",
       "<table border=\"1\" class=\"dataframe\">\n",
       "  <thead>\n",
       "    <tr style=\"text-align: right;\">\n",
       "      <th></th>\n",
       "      <th>path</th>\n",
       "      <th>segment</th>\n",
       "      <th>mod</th>\n",
       "      <th>label</th>\n",
       "      <th>samplingrate</th>\n",
       "      <th>ms</th>\n",
       "      <th>samples</th>\n",
       "    </tr>\n",
       "  </thead>\n",
       "  <tbody>\n",
       "    <tr>\n",
       "      <th>0</th>\n",
       "      <td>./Labelled/Bleatings/evt_000_000_000681_210415...</td>\n",
       "      <td>0</td>\n",
       "      <td>0</td>\n",
       "      <td>Bleatings</td>\n",
       "      <td>16000</td>\n",
       "      <td>3000.0</td>\n",
       "      <td>processed_samples/0.wav</td>\n",
       "    </tr>\n",
       "    <tr>\n",
       "      <th>1</th>\n",
       "      <td>./Labelled/Bleatings/evt_000_000_000681_210415...</td>\n",
       "      <td>1</td>\n",
       "      <td>0</td>\n",
       "      <td>Bleatings</td>\n",
       "      <td>16000</td>\n",
       "      <td>3000.0</td>\n",
       "      <td>processed_samples/1.wav</td>\n",
       "    </tr>\n",
       "    <tr>\n",
       "      <th>2</th>\n",
       "      <td>./Labelled/Bleatings/evt_000_000_000681_210415...</td>\n",
       "      <td>2</td>\n",
       "      <td>0</td>\n",
       "      <td>Bleatings</td>\n",
       "      <td>16000</td>\n",
       "      <td>3000.0</td>\n",
       "      <td>processed_samples/2.wav</td>\n",
       "    </tr>\n",
       "    <tr>\n",
       "      <th>3</th>\n",
       "      <td>./Labelled/Bleatings/evt_000_000_000681_210415...</td>\n",
       "      <td>3</td>\n",
       "      <td>0</td>\n",
       "      <td>Bleatings</td>\n",
       "      <td>16000</td>\n",
       "      <td>3000.0</td>\n",
       "      <td>processed_samples/3.wav</td>\n",
       "    </tr>\n",
       "    <tr>\n",
       "      <th>4</th>\n",
       "      <td>./Labelled/Bleatings/evt_000_000_000682_210415...</td>\n",
       "      <td>0</td>\n",
       "      <td>0</td>\n",
       "      <td>Bleatings</td>\n",
       "      <td>16000</td>\n",
       "      <td>3000.0</td>\n",
       "      <td>processed_samples/4.wav</td>\n",
       "    </tr>\n",
       "  </tbody>\n",
       "</table>\n",
       "</div>"
      ],
      "text/plain": [
       "                                                path  segment  mod      label  \\\n",
       "0  ./Labelled/Bleatings/evt_000_000_000681_210415...        0    0  Bleatings   \n",
       "1  ./Labelled/Bleatings/evt_000_000_000681_210415...        1    0  Bleatings   \n",
       "2  ./Labelled/Bleatings/evt_000_000_000681_210415...        2    0  Bleatings   \n",
       "3  ./Labelled/Bleatings/evt_000_000_000681_210415...        3    0  Bleatings   \n",
       "4  ./Labelled/Bleatings/evt_000_000_000682_210415...        0    0  Bleatings   \n",
       "\n",
       "   samplingrate      ms                  samples  \n",
       "0         16000  3000.0  processed_samples/0.wav  \n",
       "1         16000  3000.0  processed_samples/1.wav  \n",
       "2         16000  3000.0  processed_samples/2.wav  \n",
       "3         16000  3000.0  processed_samples/3.wav  \n",
       "4         16000  3000.0  processed_samples/4.wav  "
      ]
     },
     "execution_count": 3,
     "metadata": {},
     "output_type": "execute_result"
    }
   ],
   "source": [
    "metadata = pd.read_csv(\"processed_metadata.csv\")\n",
    "metadata.head()"
   ]
  },
  {
   "cell_type": "code",
   "execution_count": 4,
   "id": "db559c97",
   "metadata": {},
   "outputs": [
    {
     "data": {
      "text/plain": [
       "(6944, 130)"
      ]
     },
     "execution_count": 4,
     "metadata": {},
     "output_type": "execute_result"
    }
   ],
   "source": [
    "d1 = pd.read_csv(\"mfcc_deltamfcc_stat.csv\")\n",
    "np.shape(d1)"
   ]
  },
  {
   "cell_type": "code",
   "execution_count": 5,
   "id": "9d8f783f",
   "metadata": {},
   "outputs": [
    {
     "data": {
      "text/plain": [
       "(6944, 2444)"
      ]
     },
     "execution_count": 5,
     "metadata": {},
     "output_type": "execute_result"
    }
   ],
   "source": [
    "d2 = pd.read_csv(\"mfcc_deltamfcc_entire.csv\")\n",
    "np.shape(d2)"
   ]
  },
  {
   "cell_type": "markdown",
   "id": "f34d8389",
   "metadata": {},
   "source": [
    "Preapare the data for SVC model by extracting the labels and scaling the features sets"
   ]
  },
  {
   "cell_type": "code",
   "execution_count": 6,
   "id": "748c8747",
   "metadata": {},
   "outputs": [],
   "source": [
    "# Transforming non numerical labels into numerical labels\n",
    "labels = metadata[\"label\"]\n",
    "encoder = LabelEncoder()\n",
    "\n",
    "# encoding train labels\n",
    "y = encoder.fit_transform(labels)"
   ]
  },
  {
   "cell_type": "code",
   "execution_count": 7,
   "id": "86b19be2",
   "metadata": {},
   "outputs": [],
   "source": [
    "# scale the features\n",
    "scaler = StandardScaler()\n",
    "\n",
    "x1 = scaler.fit_transform(d1)\n",
    "x2 = scaler.fit_transform(d2)"
   ]
  },
  {
   "cell_type": "markdown",
   "id": "44992991",
   "metadata": {},
   "source": [
    "# 10-fold Cross Validation"
   ]
  },
  {
   "cell_type": "markdown",
   "id": "ef3f12f0",
   "metadata": {},
   "source": [
    "Start evaluating the two features set using a SVC model setup with a rbf kernel and C=1 using 10 fold cv. The choosen metrics are accuracy and auroc"
   ]
  },
  {
   "cell_type": "code",
   "execution_count": 8,
   "id": "a9b68375",
   "metadata": {},
   "outputs": [],
   "source": [
    "# set up cross validation procedure\n",
    "scoring = {'acc': 'accuracy',\n",
    "           'auroc': 'roc_auc_ovr'}\n",
    "\n",
    "kfold = StratifiedKFold(n_splits=10, shuffle=True, random_state=10)"
   ]
  },
  {
   "cell_type": "code",
   "execution_count": 9,
   "id": "742a0113",
   "metadata": {},
   "outputs": [],
   "source": [
    "scores1 = cross_validate(SVC(probability=True), x1, y, cv=kfold.split(x1, y), scoring=scoring, return_train_score=True)"
   ]
  },
  {
   "cell_type": "code",
   "execution_count": 10,
   "id": "7e9910d2",
   "metadata": {},
   "outputs": [
    {
     "data": {
      "text/plain": [
       "{'fit_time': array([10.01808929,  9.79698658,  9.6099999 ,  9.61903048,  9.5300014 ,\n",
       "         9.73901701,  9.57500458, 10.3310492 ,  9.67604351, 10.04201913]),\n",
       " 'score_time': array([0.77699089, 0.74898982, 0.74001765, 0.75700092, 0.72799444,\n",
       "        0.72698259, 0.72600007, 0.74899983, 0.75900197, 0.74397683]),\n",
       " 'test_acc': array([0.89208633, 0.88776978, 0.88776978, 0.88057554, 0.86743516,\n",
       "        0.87608069, 0.86455331, 0.88472622, 0.86887608, 0.86599424]),\n",
       " 'train_acc': array([0.9262282 , 0.92638822, 0.92510802, 0.92318771, 0.92544   ,\n",
       "        0.92576   , 0.92752   , 0.92768   , 0.92832   , 0.9256    ]),\n",
       " 'test_auroc': array([0.96791141, 0.97498444, 0.96893358, 0.97199327, 0.96312298,\n",
       "        0.95870808, 0.96330468, 0.96712254, 0.96356109, 0.96380823]),\n",
       " 'train_auroc': array([0.98433213, 0.98420151, 0.9844131 , 0.98436414, 0.98499222,\n",
       "        0.98495026, 0.98469678, 0.98489433, 0.9848985 , 0.9847081 ])}"
      ]
     },
     "execution_count": 10,
     "metadata": {},
     "output_type": "execute_result"
    }
   ],
   "source": [
    "scores1"
   ]
  },
  {
   "cell_type": "code",
   "execution_count": 11,
   "id": "14ee486d",
   "metadata": {},
   "outputs": [
    {
     "data": {
      "image/png": "[encoded data removed]",
      "text/plain": [
       "<Figure size 432x288 with 1 Axes>"
      ]
     },
     "metadata": {
      "needs_background": "light"
     },
     "output_type": "display_data"
    },
    {
     "data": {
      "text/plain": [
       "<Figure size 432x288 with 0 Axes>"
      ]
     },
     "metadata": {},
     "output_type": "display_data"
    }
   ],
   "source": [
    "graphing_training_validation(scores1)"
   ]
  },
  {
   "cell_type": "code",
   "execution_count": 31,
   "id": "f6e121e4",
   "metadata": {},
   "outputs": [
    {
     "data": {
      "text/plain": [
       "9.79372410774231"
      ]
     },
     "execution_count": 31,
     "metadata": {},
     "output_type": "execute_result"
    }
   ],
   "source": [
    "scores1['fit_time'].mean()"
   ]
  },
  {
   "cell_type": "code",
   "execution_count": 29,
   "id": "2c703d43",
   "metadata": {},
   "outputs": [
    {
     "data": {
      "text/plain": [
       "0.926123214594335"
      ]
     },
     "execution_count": 29,
     "metadata": {},
     "output_type": "execute_result"
    }
   ],
   "source": [
    "scores1['train_acc'].mean()"
   ]
  },
  {
   "cell_type": "code",
   "execution_count": 12,
   "id": "2d7f4e96",
   "metadata": {},
   "outputs": [
    {
     "data": {
      "text/plain": [
       "0.8775867144900793"
      ]
     },
     "execution_count": 12,
     "metadata": {},
     "output_type": "execute_result"
    }
   ],
   "source": [
    "scores1['test_acc'].mean()"
   ]
  },
  {
   "cell_type": "code",
   "execution_count": 44,
   "id": "0284e1b7",
   "metadata": {},
   "outputs": [
    {
     "data": {
      "text/plain": [
       "0.9846451057079155"
      ]
     },
     "execution_count": 44,
     "metadata": {},
     "output_type": "execute_result"
    }
   ],
   "source": [
    "scores1['train_auroc'].mean()"
   ]
  },
  {
   "cell_type": "code",
   "execution_count": 13,
   "id": "7d411d98",
   "metadata": {},
   "outputs": [
    {
     "data": {
      "text/plain": [
       "0.9663450303747319"
      ]
     },
     "execution_count": 13,
     "metadata": {},
     "output_type": "execute_result"
    }
   ],
   "source": [
    "scores1['test_auroc'].mean()"
   ]
  },
  {
   "cell_type": "code",
   "execution_count": 14,
   "id": "07d8effe",
   "metadata": {},
   "outputs": [],
   "source": [
    "scores2 = cross_validate(SVC(probability=True), x2, y, cv=kfold.split(x2, y), scoring=scoring, return_train_score=True)"
   ]
  },
  {
   "cell_type": "code",
   "execution_count": 15,
   "id": "28d76ecc",
   "metadata": {},
   "outputs": [
    {
     "data": {
      "text/plain": [
       "{'fit_time': array([157.18290925, 159.01350331, 163.79622912, 165.48283696,\n",
       "        159.88915563, 159.30901742, 159.93200231, 159.62300444,\n",
       "        163.29301906, 163.02800417]),\n",
       " 'score_time': array([12.30403566, 11.56298256, 11.88600039, 11.89397812, 11.76600003,\n",
       "        11.70900154, 11.42701912, 11.16100049, 11.54499865, 11.76800036]),\n",
       " 'test_acc': array([0.8705036 , 0.8705036 , 0.85035971, 0.83309353, 0.86887608,\n",
       "        0.85302594, 0.84582133, 0.87175793, 0.84582133, 0.84582133]),\n",
       " 'train_acc': array([0.9599936 , 0.96159386, 0.96047368, 0.95967355, 0.96208   ,\n",
       "        0.95984   , 0.9584    , 0.96064   , 0.96368   , 0.96096   ]),\n",
       " 'test_auroc': array([0.96376713, 0.96520861, 0.95721634, 0.95234527, 0.96397576,\n",
       "        0.95831065, 0.95691153, 0.96137858, 0.95526762, 0.95842382]),\n",
       " 'train_auroc': array([0.99600423, 0.99612113, 0.99603919, 0.99598817, 0.99619628,\n",
       "        0.9960544 , 0.995915  , 0.99595322, 0.99643607, 0.99589095])}"
      ]
     },
     "execution_count": 15,
     "metadata": {},
     "output_type": "execute_result"
    }
   ],
   "source": [
    "scores2"
   ]
  },
  {
   "cell_type": "code",
   "execution_count": 16,
   "id": "306f9487",
   "metadata": {},
   "outputs": [
    {
     "data": {
      "image/png": "[encoded data removed]",
      "text/plain": [
       "<Figure size 432x288 with 1 Axes>"
      ]
     },
     "metadata": {
      "needs_background": "light"
     },
     "output_type": "display_data"
    },
    {
     "data": {
      "text/plain": [
       "<Figure size 432x288 with 0 Axes>"
      ]
     },
     "metadata": {},
     "output_type": "display_data"
    }
   ],
   "source": [
    "graphing_training_validation(scores2)"
   ]
  },
  {
   "cell_type": "code",
   "execution_count": 32,
   "id": "b9fabd23",
   "metadata": {},
   "outputs": [
    {
     "data": {
      "text/plain": [
       "161.05496816635133"
      ]
     },
     "execution_count": 32,
     "metadata": {},
     "output_type": "execute_result"
    }
   ],
   "source": [
    "scores2['fit_time'].mean()"
   ]
  },
  {
   "cell_type": "code",
   "execution_count": 30,
   "id": "cbd6294c",
   "metadata": {},
   "outputs": [
    {
     "data": {
      "text/plain": [
       "0.9607334677548408"
      ]
     },
     "execution_count": 30,
     "metadata": {},
     "output_type": "execute_result"
    }
   ],
   "source": [
    "scores2['train_acc'].mean()"
   ]
  },
  {
   "cell_type": "code",
   "execution_count": 17,
   "id": "22c558ac",
   "metadata": {},
   "outputs": [
    {
     "data": {
      "text/plain": [
       "0.8555584350963035"
      ]
     },
     "execution_count": 17,
     "metadata": {},
     "output_type": "execute_result"
    }
   ],
   "source": [
    "scores2['test_acc'].mean()"
   ]
  },
  {
   "cell_type": "code",
   "execution_count": 46,
   "id": "f94b6a6b",
   "metadata": {},
   "outputs": [
    {
     "data": {
      "text/plain": [
       "0.9960598645488623"
      ]
     },
     "execution_count": 46,
     "metadata": {},
     "output_type": "execute_result"
    }
   ],
   "source": [
    "scores2['train_auroc'].mean()"
   ]
  },
  {
   "cell_type": "code",
   "execution_count": 18,
   "id": "19d35b2f",
   "metadata": {},
   "outputs": [
    {
     "data": {
      "text/plain": [
       "0.9592805310688945"
      ]
     },
     "execution_count": 18,
     "metadata": {},
     "output_type": "execute_result"
    }
   ],
   "source": [
    "scores2['test_auroc'].mean()"
   ]
  },
  {
   "cell_type": "markdown",
   "id": "964bfd74",
   "metadata": {},
   "source": [
    "The model with condensed feature set perform slightly better with a considerable benefit in training time"
   ]
  },
  {
   "cell_type": "markdown",
   "id": "bb44c270",
   "metadata": {},
   "source": [
    "# Base classifier"
   ]
  },
  {
   "cell_type": "markdown",
   "id": "f545c3e0",
   "metadata": {},
   "source": [
    "Let's train again the SVC with dataset 1 to collect some classification statistcs"
   ]
  },
  {
   "cell_type": "code",
   "execution_count": 19,
   "id": "872b95aa",
   "metadata": {},
   "outputs": [],
   "source": [
    "#get train and test data\n",
    "X_train, X_test, y_train, y_test = train_test_split(x1, y, test_size=0.2, random_state=100)"
   ]
  },
  {
   "cell_type": "code",
   "execution_count": 20,
   "id": "7d7c092c",
   "metadata": {},
   "outputs": [
    {
     "data": {
      "text/plain": [
       "SVC()"
      ]
     },
     "execution_count": 20,
     "metadata": {},
     "output_type": "execute_result"
    }
   ],
   "source": [
    "m = SVC()\n",
    "m.fit(X_train, y_train)"
   ]
  },
  {
   "cell_type": "code",
   "execution_count": 21,
   "id": "9fc40188",
   "metadata": {},
   "outputs": [
    {
     "data": {
      "text/plain": [
       "array([2, 1, 1, ..., 1, 2, 0])"
      ]
     },
     "execution_count": 21,
     "metadata": {},
     "output_type": "execute_result"
    }
   ],
   "source": [
    "Y_pred = m.predict(X_test)\n",
    "Y_pred"
   ]
  },
  {
   "cell_type": "code",
   "execution_count": 22,
   "id": "db707aa9",
   "metadata": {},
   "outputs": [
    {
     "name": "stdout",
     "output_type": "stream",
     "text": [
      "[[372  76   7]\n",
      " [ 78 342   4]\n",
      " [  6   1 503]]\n",
      "\n",
      "\n",
      "              precision    recall  f1-score   support\n",
      "\n",
      "           0       0.82      0.82      0.82       455\n",
      "           1       0.82      0.81      0.81       424\n",
      "           2       0.98      0.99      0.98       510\n",
      "\n",
      "    accuracy                           0.88      1389\n",
      "   macro avg       0.87      0.87      0.87      1389\n",
      "weighted avg       0.88      0.88      0.88      1389\n",
      "\n",
      "Training set score for SVM: 0.924392\n",
      "Testing  set score for SVM: 0.876170\n"
     ]
    },
    {
     "data": {
      "text/plain": [
       "<bound method ClassifierMixin.score of SVC()>"
      ]
     },
     "execution_count": 22,
     "metadata": {},
     "output_type": "execute_result"
    }
   ],
   "source": [
    "print(confusion_matrix(y_test,Y_pred))\n",
    "print(\"\\n\")\n",
    "print(classification_report(y_test,Y_pred))\n",
    "\n",
    "print(\"Training set score for SVM: %f\" % m.score(X_train , y_train))\n",
    "print(\"Testing  set score for SVM: %f\" % m.score(X_test  , y_test ))\n",
    "\n",
    "m.score"
   ]
  },
  {
   "cell_type": "markdown",
   "id": "73049b82",
   "metadata": {},
   "source": [
    "# Grid Search"
   ]
  },
  {
   "cell_type": "code",
   "execution_count": 23,
   "id": "e4f9abb7",
   "metadata": {},
   "outputs": [],
   "source": [
    "params_grid = [{'kernel': ['rbf'],'C': [0.1, 1, 10, 100, 1000]},\n",
    "               {'kernel': ['linear'], 'C': [0.1, 1, 10, 100, 1000]}]"
   ]
  },
  {
   "cell_type": "code",
   "execution_count": 24,
   "id": "2580454e",
   "metadata": {},
   "outputs": [
    {
     "name": "stdout",
     "output_type": "stream",
     "text": [
      "Fitting 5 folds for each of 10 candidates, totalling 50 fits\n",
      "[CV] END ..................................C=0.1, kernel=rbf; total time=   1.6s\n",
      "[CV] END ..................................C=0.1, kernel=rbf; total time=   1.6s\n",
      "[CV] END ..................................C=0.1, kernel=rbf; total time=   1.6s\n",
      "[CV] END ..................................C=0.1, kernel=rbf; total time=   1.6s\n",
      "[CV] END ..................................C=0.1, kernel=rbf; total time=   1.6s\n",
      "[CV] END ....................................C=1, kernel=rbf; total time=   1.2s\n",
      "[CV] END ....................................C=1, kernel=rbf; total time=   1.2s\n",
      "[CV] END ....................................C=1, kernel=rbf; total time=   1.2s\n",
      "[CV] END ....................................C=1, kernel=rbf; total time=   1.2s\n",
      "[CV] END ....................................C=1, kernel=rbf; total time=   1.2s\n",
      "[CV] END ...................................C=10, kernel=rbf; total time=   1.3s\n",
      "[CV] END ...................................C=10, kernel=rbf; total time=   1.3s\n",
      "[CV] END ...................................C=10, kernel=rbf; total time=   1.4s\n",
      "[CV] END ...................................C=10, kernel=rbf; total time=   1.4s\n",
      "[CV] END ...................................C=10, kernel=rbf; total time=   1.3s\n",
      "[CV] END ..................................C=100, kernel=rbf; total time=   1.4s\n",
      "[CV] END ..................................C=100, kernel=rbf; total time=   1.4s\n",
      "[CV] END ..................................C=100, kernel=rbf; total time=   1.4s\n",
      "[CV] END ..................................C=100, kernel=rbf; total time=   1.4s\n",
      "[CV] END ..................................C=100, kernel=rbf; total time=   1.4s\n",
      "[CV] END .................................C=1000, kernel=rbf; total time=   1.4s\n",
      "[CV] END .................................C=1000, kernel=rbf; total time=   1.4s\n",
      "[CV] END .................................C=1000, kernel=rbf; total time=   1.4s\n",
      "[CV] END .................................C=1000, kernel=rbf; total time=   1.4s\n",
      "[CV] END .................................C=1000, kernel=rbf; total time=   1.4s\n",
      "[CV] END ...............................C=0.1, kernel=linear; total time=   0.8s\n",
      "[CV] END ...............................C=0.1, kernel=linear; total time=   0.8s\n",
      "[CV] END ...............................C=0.1, kernel=linear; total time=   0.7s\n",
      "[CV] END ...............................C=0.1, kernel=linear; total time=   0.8s\n",
      "[CV] END ...............................C=0.1, kernel=linear; total time=   0.8s\n",
      "[CV] END .................................C=1, kernel=linear; total time=   2.3s\n",
      "[CV] END .................................C=1, kernel=linear; total time=   2.7s\n",
      "[CV] END .................................C=1, kernel=linear; total time=   2.4s\n",
      "[CV] END .................................C=1, kernel=linear; total time=   2.9s\n",
      "[CV] END .................................C=1, kernel=linear; total time=   2.3s\n",
      "[CV] END ................................C=10, kernel=linear; total time=  19.1s\n",
      "[CV] END ................................C=10, kernel=linear; total time=  18.3s\n",
      "[CV] END ................................C=10, kernel=linear; total time=  16.5s\n",
      "[CV] END ................................C=10, kernel=linear; total time=  21.4s\n",
      "[CV] END ................................C=10, kernel=linear; total time=  22.8s\n",
      "[CV] END ...............................C=100, kernel=linear; total time= 3.1min\n",
      "[CV] END ...............................C=100, kernel=linear; total time= 3.9min\n",
      "[CV] END ...............................C=100, kernel=linear; total time= 2.4min\n",
      "[CV] END ...............................C=100, kernel=linear; total time= 3.5min\n",
      "[CV] END ...............................C=100, kernel=linear; total time= 2.9min\n",
      "[CV] END ..............................C=1000, kernel=linear; total time=40.5min\n",
      "[CV] END ..............................C=1000, kernel=linear; total time=35.5min\n",
      "[CV] END ..............................C=1000, kernel=linear; total time=37.4min\n",
      "[CV] END ..............................C=1000, kernel=linear; total time=27.4min\n",
      "[CV] END ..............................C=1000, kernel=linear; total time=29.0min\n"
     ]
    },
    {
     "data": {
      "text/plain": [
       "GridSearchCV(cv=5, estimator=SVC(),\n",
       "             param_grid=[{'C': [0.1, 1, 10, 100, 1000], 'kernel': ['rbf']},\n",
       "                         {'C': [0.1, 1, 10, 100, 1000], 'kernel': ['linear']}],\n",
       "             verbose=2)"
      ]
     },
     "execution_count": 24,
     "metadata": {},
     "output_type": "execute_result"
    }
   ],
   "source": [
    "svm_model = GridSearchCV(SVC(), params_grid, cv=5, verbose=2)\n",
    "svm_model.fit(X_train, y_train)"
   ]
  },
  {
   "cell_type": "code",
   "execution_count": 25,
   "id": "6b643c0d",
   "metadata": {},
   "outputs": [
    {
     "data": {
      "text/plain": [
       "{'mean_fit_time': array([1.13000741e+00, 8.90011215e-01, 1.04141350e+00, 1.13900166e+00,\n",
       "        1.14220600e+00, 7.48010159e-01, 2.49920115e+00, 1.96368021e+01,\n",
       "        1.89738007e+02, 2.03830933e+03]),\n",
       " 'std_fit_time': array([8.41421356e-03, 8.41892594e-03, 4.31906442e-03, 7.07332054e-03,\n",
       "        5.71072879e-03, 1.50971643e-02, 2.27482652e-01, 2.23905997e+00,\n",
       "        3.17618383e+01, 3.00083983e+02]),\n",
       " 'mean_score_time': array([0.54439025, 0.43159499, 0.40738621, 0.38899484, 0.38499455,\n",
       "        0.11379366, 0.11099615, 0.10799694, 0.1075954 , 0.10859866]),\n",
       " 'std_score_time': array([0.00232594, 0.00349997, 0.00205382, 0.00260947, 0.00109615,\n",
       "        0.005264  , 0.00663178, 0.00521372, 0.00585191, 0.00549776]),\n",
       " 'param_C': masked_array(data=[0.1, 1, 10, 100, 1000, 0.1, 1, 10, 100, 1000],\n",
       "              mask=[False, False, False, False, False, False, False, False,\n",
       "                    False, False],\n",
       "        fill_value='?',\n",
       "             dtype=object),\n",
       " 'param_kernel': masked_array(data=['rbf', 'rbf', 'rbf', 'rbf', 'rbf', 'linear', 'linear',\n",
       "                    'linear', 'linear', 'linear'],\n",
       "              mask=[False, False, False, False, False, False, False, False,\n",
       "                    False, False],\n",
       "        fill_value='?',\n",
       "             dtype=object),\n",
       " 'params': [{'C': 0.1, 'kernel': 'rbf'},\n",
       "  {'C': 1, 'kernel': 'rbf'},\n",
       "  {'C': 10, 'kernel': 'rbf'},\n",
       "  {'C': 100, 'kernel': 'rbf'},\n",
       "  {'C': 1000, 'kernel': 'rbf'},\n",
       "  {'C': 0.1, 'kernel': 'linear'},\n",
       "  {'C': 1, 'kernel': 'linear'},\n",
       "  {'C': 10, 'kernel': 'linear'},\n",
       "  {'C': 100, 'kernel': 'linear'},\n",
       "  {'C': 1000, 'kernel': 'linear'}],\n",
       " 'split0_test_score': array([0.81368137, 0.87218722, 0.89288929, 0.89468947, 0.89378938,\n",
       "        0.85508551, 0.85868587, 0.85778578, 0.85238524, 0.84878488]),\n",
       " 'split1_test_score': array([0.79927993, 0.85778578, 0.85868587, 0.87128713, 0.86858686,\n",
       "        0.83708371, 0.83888389, 0.83708371, 0.84158416, 0.83168317]),\n",
       " 'split2_test_score': array([0.81638164, 0.87938794, 0.88568857, 0.87308731, 0.87218722,\n",
       "        0.85058506, 0.83978398, 0.83528353, 0.83348335, 0.83258326]),\n",
       " 'split3_test_score': array([0.80738074, 0.8739874 , 0.89378938, 0.89468947, 0.89468947,\n",
       "        0.84968497, 0.83708371, 0.83438344, 0.83258326, 0.83078308]),\n",
       " 'split4_test_score': array([0.80738074, 0.87488749, 0.88838884, 0.88928893, 0.87668767,\n",
       "        0.84878488, 0.84608461, 0.84158416, 0.84158416, 0.8379838 ]),\n",
       " 'mean_test_score': array([0.80882088, 0.87164716, 0.88388839, 0.88460846, 0.88118812,\n",
       "        0.84824482, 0.84410441, 0.84122412, 0.84032403, 0.83636364]),\n",
       " 'std_test_score': array([0.00593241, 0.00732565, 0.01294378, 0.01034751, 0.01096485,\n",
       "        0.00598678, 0.00789621, 0.00864461, 0.00714651, 0.00669706]),\n",
       " 'rank_test_score': array([10,  4,  2,  1,  3,  5,  6,  7,  8,  9])}"
      ]
     },
     "execution_count": 25,
     "metadata": {},
     "output_type": "execute_result"
    }
   ],
   "source": [
    "svm_model.cv_results_"
   ]
  },
  {
   "cell_type": "code",
   "execution_count": 41,
   "id": "27ba152f",
   "metadata": {},
   "outputs": [
    {
     "data": {
      "text/plain": [
       "<Figure size 432x288 with 0 Axes>"
      ]
     },
     "execution_count": 41,
     "metadata": {},
     "output_type": "execute_result"
    },
    {
     "data": {
      "image/png": "[encoded data removed]",
      "text/plain": [
       "<Figure size 432x288 with 1 Axes>"
      ]
     },
     "metadata": {
      "needs_background": "light"
     },
     "output_type": "display_data"
    },
    {
     "data": {
      "text/plain": [
       "<Figure size 432x288 with 0 Axes>"
      ]
     },
     "metadata": {},
     "output_type": "display_data"
    }
   ],
   "source": [
    "meanscore = svm_model.cv_results_['mean_test_score']\n",
    "labels = [\n",
    "\"rbf, C:0.1\",\n",
    " \"rbf, C:1\",\n",
    " \"rbf, C:10}\",\n",
    " \"rbf, C:100}\",\n",
    " \"rbf, C:1000\",\n",
    " \"linear, C:0.1\",\n",
    " \"linear, C:1\",\n",
    " \"linear, C:10\",\n",
    " \"linear, C:100\",\n",
    " \"linear, C:1000\"]\n",
    "\n",
    "plt.plot(labels, meanscore, 'r', label='Mean test CV score')\n",
    "plt.ylabel('Accuracy')\n",
    "plt.xticks(rotation=90)\n",
    "plt.legend()\n",
    "plt.figure()"
   ]
  },
  {
   "cell_type": "code",
   "execution_count": 42,
   "id": "e3b44b0e",
   "metadata": {
    "scrolled": true
   },
   "outputs": [
    {
     "name": "stdout",
     "output_type": "stream",
     "text": [
      "Mean cross-validated score of best estimator: 0.8846084608460846 \n",
      "\n",
      "Best C: 100 \n",
      "\n",
      "Best Kernel: rbf \n",
      "\n",
      "Best Gamma: scale \n",
      "\n"
     ]
    }
   ],
   "source": [
    "# View the accuracy score\n",
    "print('Mean cross-validated score of best estimator:', svm_model.best_score_,\"\\n\") \n",
    "\n",
    "# View the best parameters for the model found using grid search\n",
    "print('Best C:',svm_model.best_estimator_.C,\"\\n\") \n",
    "print('Best Kernel:',svm_model.best_estimator_.kernel,\"\\n\")\n",
    "print('Best Gamma:',svm_model.best_estimator_.gamma,\"\\n\")"
   ]
  },
  {
   "cell_type": "code",
   "execution_count": 27,
   "id": "0acfa753",
   "metadata": {},
   "outputs": [],
   "source": [
    "final_model = svm_model.best_estimator_\n",
    "Y_pred = final_model.predict(X_test)"
   ]
  },
  {
   "cell_type": "code",
   "execution_count": 28,
   "id": "e1660d5e",
   "metadata": {},
   "outputs": [
    {
     "name": "stdout",
     "output_type": "stream",
     "text": [
      "[[373  78   4]\n",
      " [ 64 358   2]\n",
      " [  7   2 501]]\n",
      "\n",
      "\n",
      "              precision    recall  f1-score   support\n",
      "\n",
      "           0       0.84      0.82      0.83       455\n",
      "           1       0.82      0.84      0.83       424\n",
      "           2       0.99      0.98      0.99       510\n",
      "\n",
      "    accuracy                           0.89      1389\n",
      "   macro avg       0.88      0.88      0.88      1389\n",
      "weighted avg       0.89      0.89      0.89      1389\n",
      "\n",
      "Training set score for SVM: 0.998740\n",
      "Testing  set score for SVM: 0.886969\n"
     ]
    },
    {
     "data": {
      "text/plain": [
       "<bound method ClassifierMixin.score of SVC(C=100)>"
      ]
     },
     "execution_count": 28,
     "metadata": {},
     "output_type": "execute_result"
    }
   ],
   "source": [
    "print(confusion_matrix(y_test,Y_pred))\n",
    "print(\"\\n\")\n",
    "print(classification_report(y_test,Y_pred))\n",
    "\n",
    "print(\"Training set score for SVM: %f\" % final_model.score(X_train, y_train))\n",
    "print(\"Testing  set score for SVM: %f\" % final_model.score(X_test, y_test ))\n",
    "\n",
    "final_model.score"
   ]
  },
  {
   "cell_type": "code",
   "execution_count": null,
   "id": "185089e1",
   "metadata": {},
   "outputs": [],
   "source": []
  },
  {
   "cell_type": "code",
   "execution_count": null,
   "id": "357eb0c5",
   "metadata": {},
   "outputs": [],
   "source": []
  }
 ],
 "metadata": {
  "kernelspec": {
   "display_name": "Python 3 (ipykernel)",
   "language": "python",
   "name": "python3"
  },
  "language_info": {
   "codemirror_mode": {
    "name": "ipython",
    "version": 3
   },
   "file_extension": ".py",
   "mimetype": "text/x-python",
   "name": "python",
   "nbconvert_exporter": "python",
   "pygments_lexer": "ipython3",
   "version": "3.8.10"
  }
 },
 "nbformat": 4,
 "nbformat_minor": 5
}
