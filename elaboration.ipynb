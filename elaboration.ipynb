{
 "cells": [
  {
   "cell_type": "code",
   "execution_count": 34,
   "id": "956883e0",
   "metadata": {},
   "outputs": [],
   "source": [
    "# data manipulations\n",
    "import numpy as np\n",
    "import pandas as pd\n",
    "# progress bar\n",
    "from tqdm.notebook import tqdm_notebook\n",
    "# audio analysis\n",
    "import librosa\n",
    "# noise reducer\n",
    "import noisereduce as nr\n",
    "# standardization\n",
    "from sklearn.preprocessing import StandardScaler\n",
    "# serialization of objects\n",
    "import pickle\n",
    "# working with directory\n",
    "import pathlib"
   ]
  },
  {
   "cell_type": "code",
   "execution_count": 2,
   "id": "a0941a99",
   "metadata": {},
   "outputs": [],
   "source": [
    "# printing results and listening\n",
    "import matplotlib.pyplot as plt\n",
    "import IPython.display as ipd\n",
    "import librosa.display\n",
    "\n",
    "def wave_and_audio(sample, sr):\n",
    "    # plot the signal\n",
    "    plt.figure(figsize=(10, 4))\n",
    "    librosa.display.waveplot(sample, sr=sr)\n",
    "    plt.title('Waveplot of audio sample')\n",
    "    plt.show()\n",
    "    # reproduce the sample\n",
    "    ipd.display(ipd.Audio(sample, rate=sr))"
   ]
  },
  {
   "cell_type": "code",
   "execution_count": 3,
   "id": "bded34a1",
   "metadata": {},
   "outputs": [
    {
     "data": {
      "text/html": [
       "<div>\n",
       "<style scoped>\n",
       "    .dataframe tbody tr th:only-of-type {\n",
       "        vertical-align: middle;\n",
       "    }\n",
       "\n",
       "    .dataframe tbody tr th {\n",
       "        vertical-align: top;\n",
       "    }\n",
       "\n",
       "    .dataframe thead th {\n",
       "        text-align: right;\n",
       "    }\n",
       "</style>\n",
       "<table border=\"1\" class=\"dataframe\">\n",
       "  <thead>\n",
       "    <tr style=\"text-align: right;\">\n",
       "      <th></th>\n",
       "      <th>path</th>\n",
       "      <th>label</th>\n",
       "      <th>samplingrate</th>\n",
       "      <th>nframes</th>\n",
       "      <th>ms</th>\n",
       "    </tr>\n",
       "  </thead>\n",
       "  <tbody>\n",
       "    <tr>\n",
       "      <th>0</th>\n",
       "      <td>./Labelled/Bleatings/evt_000_000_000681_210415...</td>\n",
       "      <td>Bleatings</td>\n",
       "      <td>16000</td>\n",
       "      <td>156016</td>\n",
       "      <td>9751.0</td>\n",
       "    </tr>\n",
       "    <tr>\n",
       "      <th>1</th>\n",
       "      <td>./Labelled/Bleatings/evt_000_000_000682_210415...</td>\n",
       "      <td>Bleatings</td>\n",
       "      <td>16000</td>\n",
       "      <td>99040</td>\n",
       "      <td>6190.0</td>\n",
       "    </tr>\n",
       "    <tr>\n",
       "      <th>2</th>\n",
       "      <td>./Labelled/Bleatings/evt_000_000_000683_210415...</td>\n",
       "      <td>Bleatings</td>\n",
       "      <td>16000</td>\n",
       "      <td>97152</td>\n",
       "      <td>6072.0</td>\n",
       "    </tr>\n",
       "    <tr>\n",
       "      <th>3</th>\n",
       "      <td>./Labelled/Bleatings/evt_000_000_000684_210415...</td>\n",
       "      <td>Bleatings</td>\n",
       "      <td>16000</td>\n",
       "      <td>97696</td>\n",
       "      <td>6106.0</td>\n",
       "    </tr>\n",
       "    <tr>\n",
       "      <th>4</th>\n",
       "      <td>./Labelled/Bleatings/evt_000_000_002434_210416...</td>\n",
       "      <td>Bleatings</td>\n",
       "      <td>16000</td>\n",
       "      <td>164224</td>\n",
       "      <td>10264.0</td>\n",
       "    </tr>\n",
       "  </tbody>\n",
       "</table>\n",
       "</div>"
      ],
      "text/plain": [
       "                                                path      label  samplingrate  \\\n",
       "0  ./Labelled/Bleatings/evt_000_000_000681_210415...  Bleatings         16000   \n",
       "1  ./Labelled/Bleatings/evt_000_000_000682_210415...  Bleatings         16000   \n",
       "2  ./Labelled/Bleatings/evt_000_000_000683_210415...  Bleatings         16000   \n",
       "3  ./Labelled/Bleatings/evt_000_000_000684_210415...  Bleatings         16000   \n",
       "4  ./Labelled/Bleatings/evt_000_000_002434_210416...  Bleatings         16000   \n",
       "\n",
       "   nframes       ms  \n",
       "0   156016   9751.0  \n",
       "1    99040   6190.0  \n",
       "2    97152   6072.0  \n",
       "3    97696   6106.0  \n",
       "4   164224  10264.0  "
      ]
     },
     "execution_count": 3,
     "metadata": {},
     "output_type": "execute_result"
    }
   ],
   "source": [
    "metadata = pd.read_csv(\"to_load.csv\")\n",
    "metadata.head()"
   ]
  },
  {
   "cell_type": "code",
   "execution_count": 4,
   "id": "3208d842",
   "metadata": {},
   "outputs": [
    {
     "data": {
      "text/plain": [
       "16000"
      ]
     },
     "execution_count": 4,
     "metadata": {},
     "output_type": "execute_result"
    }
   ],
   "source": [
    "sr = metadata[\"samplingrate\"][0]\n",
    "sr"
   ]
  },
  {
   "cell_type": "code",
   "execution_count": 5,
   "id": "2d0b683e",
   "metadata": {},
   "outputs": [
    {
     "data": {
      "application/vnd.jupyter.widget-view+json": {
       "model_id": "d96f876221c64b6d8c62722e19d7811f",
       "version_major": 2,
       "version_minor": 0
      },
      "text/plain": [
       "  0%|          | 0/827 [00:00<?, ?it/s]"
      ]
     },
     "metadata": {},
     "output_type": "display_data"
    },
    {
     "data": {
      "text/plain": [
       "[array([ 0.01379395,  0.00057983,  0.01922607, ..., -0.01580811,\n",
       "        -0.01345825, -0.01861572], dtype=float32),\n",
       " array([-0.01376343, -0.00183105,  0.00115967, ...,  0.02661133,\n",
       "         0.02331543,  0.01779175], dtype=float32),\n",
       " array([-2.3986816e-02, -9.6130371e-03, -1.3641357e-02, ...,\n",
       "        -1.0070801e-02,  6.1035156e-05,  4.5776367e-03], dtype=float32),\n",
       " array([-0.01174927, -0.00735474, -0.00198364, ..., -0.00079346,\n",
       "         0.00054932, -0.00073242], dtype=float32),\n",
       " array([ 0.05810547,  0.0345459 ,  0.0211792 , ..., -0.07623291,\n",
       "         0.03268433,  0.13360596], dtype=float32)]"
      ]
     },
     "execution_count": 5,
     "metadata": {},
     "output_type": "execute_result"
    }
   ],
   "source": [
    "paths = metadata[\"path\"]\n",
    "samples = []\n",
    "for path in tqdm_notebook(paths):\n",
    "    sample, sampling_rate = librosa.load(path, sr=None, mono=True)\n",
    "    samples.append(sample)\n",
    "samples[:5]"
   ]
  },
  {
   "cell_type": "markdown",
   "id": "18577f2b",
   "metadata": {},
   "source": [
    "# Preprocessing"
   ]
  },
  {
   "cell_type": "markdown",
   "id": "9d517ddb",
   "metadata": {},
   "source": [
    "## Segment the long sample"
   ]
  },
  {
   "cell_type": "markdown",
   "id": "872f06e7",
   "metadata": {},
   "source": [
    "Let's break all the sample above of 3 seconds in subsample with a window 3 of seconds and hop size 1.5 seconds "
   ]
  },
  {
   "cell_type": "code",
   "execution_count": 8,
   "id": "598e7fce",
   "metadata": {},
   "outputs": [
    {
     "data": {
      "text/plain": [
       "827"
      ]
     },
     "execution_count": 8,
     "metadata": {},
     "output_type": "execute_result"
    }
   ],
   "source": [
    "max_len = 3\n",
    "condition = metadata[\"ms\"] > max_len*1000\n",
    "long = metadata[condition]\n",
    "len(long)"
   ]
  },
  {
   "cell_type": "markdown",
   "id": "32203083",
   "metadata": {},
   "source": [
    "All the samples must be splitted"
   ]
  },
  {
   "cell_type": "code",
   "execution_count": 9,
   "id": "bf06465f",
   "metadata": {},
   "outputs": [],
   "source": [
    "def split_in_equal(sample, sr, maxd):\n",
    "    buffer = maxd * sr\n",
    "    step = maxd/2\n",
    "    samples_total = len(sample)\n",
    "    samples_wrote = 0\n",
    "    next_buffer = 0\n",
    "\n",
    "\n",
    "    splitted_sample = []\n",
    "\n",
    "    while samples_wrote < samples_total:\n",
    "        #check if the buffer is not exceeding total samples \n",
    "        if buffer > (samples_total - next_buffer):\n",
    "            buffer = samples_total - next_buffer\n",
    "\n",
    "        end = next_buffer + buffer\n",
    "        block = sample[next_buffer : end]\n",
    "        splitted_sample.append(block)\n",
    "        \n",
    "        next_buffer = next_buffer + int(step * sr)\n",
    "        \n",
    "        buffer = maxd*sr\n",
    "        samples_wrote = end\n",
    "    return splitted_sample"
   ]
  },
  {
   "cell_type": "code",
   "execution_count": 10,
   "id": "e796d6c1",
   "metadata": {},
   "outputs": [
    {
     "data": {
      "application/vnd.jupyter.widget-view+json": {
       "model_id": "7e2b3581df074cac9a6db35b375cf990",
       "version_major": 2,
       "version_minor": 0
      },
      "text/plain": [
       "  0%|          | 0/827 [00:00<?, ?it/s]"
      ]
     },
     "metadata": {},
     "output_type": "display_data"
    },
    {
     "data": {
      "text/html": [
       "<div>\n",
       "<style scoped>\n",
       "    .dataframe tbody tr th:only-of-type {\n",
       "        vertical-align: middle;\n",
       "    }\n",
       "\n",
       "    .dataframe tbody tr th {\n",
       "        vertical-align: top;\n",
       "    }\n",
       "\n",
       "    .dataframe thead th {\n",
       "        text-align: right;\n",
       "    }\n",
       "</style>\n",
       "<table border=\"1\" class=\"dataframe\">\n",
       "  <thead>\n",
       "    <tr style=\"text-align: right;\">\n",
       "      <th></th>\n",
       "      <th>path</th>\n",
       "      <th>segment</th>\n",
       "      <th>label</th>\n",
       "      <th>samplingrate</th>\n",
       "      <th>nframes</th>\n",
       "      <th>ms</th>\n",
       "    </tr>\n",
       "  </thead>\n",
       "  <tbody>\n",
       "    <tr>\n",
       "      <th>0</th>\n",
       "      <td>./Labelled/Bleatings/evt_000_000_000681_210415...</td>\n",
       "      <td>0</td>\n",
       "      <td>Bleatings</td>\n",
       "      <td>16000</td>\n",
       "      <td>48000</td>\n",
       "      <td>3000.0</td>\n",
       "    </tr>\n",
       "    <tr>\n",
       "      <th>1</th>\n",
       "      <td>./Labelled/Bleatings/evt_000_000_000681_210415...</td>\n",
       "      <td>1</td>\n",
       "      <td>Bleatings</td>\n",
       "      <td>16000</td>\n",
       "      <td>48000</td>\n",
       "      <td>3000.0</td>\n",
       "    </tr>\n",
       "    <tr>\n",
       "      <th>2</th>\n",
       "      <td>./Labelled/Bleatings/evt_000_000_000681_210415...</td>\n",
       "      <td>2</td>\n",
       "      <td>Bleatings</td>\n",
       "      <td>16000</td>\n",
       "      <td>48000</td>\n",
       "      <td>3000.0</td>\n",
       "    </tr>\n",
       "    <tr>\n",
       "      <th>3</th>\n",
       "      <td>./Labelled/Bleatings/evt_000_000_000681_210415...</td>\n",
       "      <td>3</td>\n",
       "      <td>Bleatings</td>\n",
       "      <td>16000</td>\n",
       "      <td>48000</td>\n",
       "      <td>3000.0</td>\n",
       "    </tr>\n",
       "    <tr>\n",
       "      <th>4</th>\n",
       "      <td>./Labelled/Bleatings/evt_000_000_000681_210415...</td>\n",
       "      <td>4</td>\n",
       "      <td>Bleatings</td>\n",
       "      <td>16000</td>\n",
       "      <td>48000</td>\n",
       "      <td>3000.0</td>\n",
       "    </tr>\n",
       "    <tr>\n",
       "      <th>...</th>\n",
       "      <td>...</td>\n",
       "      <td>...</td>\n",
       "      <td>...</td>\n",
       "      <td>...</td>\n",
       "      <td>...</td>\n",
       "      <td>...</td>\n",
       "    </tr>\n",
       "    <tr>\n",
       "      <th>7015</th>\n",
       "      <td>./Labelled/Others/evt_003_003_069820_210609_06...</td>\n",
       "      <td>3</td>\n",
       "      <td>Others</td>\n",
       "      <td>16000</td>\n",
       "      <td>48000</td>\n",
       "      <td>3000.0</td>\n",
       "    </tr>\n",
       "    <tr>\n",
       "      <th>7016</th>\n",
       "      <td>./Labelled/Others/evt_003_003_069820_210609_06...</td>\n",
       "      <td>4</td>\n",
       "      <td>Others</td>\n",
       "      <td>16000</td>\n",
       "      <td>48000</td>\n",
       "      <td>3000.0</td>\n",
       "    </tr>\n",
       "    <tr>\n",
       "      <th>7017</th>\n",
       "      <td>./Labelled/Others/evt_003_003_069820_210609_06...</td>\n",
       "      <td>5</td>\n",
       "      <td>Others</td>\n",
       "      <td>16000</td>\n",
       "      <td>48000</td>\n",
       "      <td>3000.0</td>\n",
       "    </tr>\n",
       "    <tr>\n",
       "      <th>7018</th>\n",
       "      <td>./Labelled/Others/evt_003_003_069820_210609_06...</td>\n",
       "      <td>6</td>\n",
       "      <td>Others</td>\n",
       "      <td>16000</td>\n",
       "      <td>48000</td>\n",
       "      <td>3000.0</td>\n",
       "    </tr>\n",
       "    <tr>\n",
       "      <th>7019</th>\n",
       "      <td>./Labelled/Others/evt_003_003_069820_210609_06...</td>\n",
       "      <td>7</td>\n",
       "      <td>Others</td>\n",
       "      <td>16000</td>\n",
       "      <td>37648</td>\n",
       "      <td>2353.0</td>\n",
       "    </tr>\n",
       "  </tbody>\n",
       "</table>\n",
       "<p>7020 rows × 6 columns</p>\n",
       "</div>"
      ],
      "text/plain": [
       "                                                   path  segment      label  \\\n",
       "0     ./Labelled/Bleatings/evt_000_000_000681_210415...        0  Bleatings   \n",
       "1     ./Labelled/Bleatings/evt_000_000_000681_210415...        1  Bleatings   \n",
       "2     ./Labelled/Bleatings/evt_000_000_000681_210415...        2  Bleatings   \n",
       "3     ./Labelled/Bleatings/evt_000_000_000681_210415...        3  Bleatings   \n",
       "4     ./Labelled/Bleatings/evt_000_000_000681_210415...        4  Bleatings   \n",
       "...                                                 ...      ...        ...   \n",
       "7015  ./Labelled/Others/evt_003_003_069820_210609_06...        3     Others   \n",
       "7016  ./Labelled/Others/evt_003_003_069820_210609_06...        4     Others   \n",
       "7017  ./Labelled/Others/evt_003_003_069820_210609_06...        5     Others   \n",
       "7018  ./Labelled/Others/evt_003_003_069820_210609_06...        6     Others   \n",
       "7019  ./Labelled/Others/evt_003_003_069820_210609_06...        7     Others   \n",
       "\n",
       "      samplingrate  nframes      ms  \n",
       "0            16000    48000  3000.0  \n",
       "1            16000    48000  3000.0  \n",
       "2            16000    48000  3000.0  \n",
       "3            16000    48000  3000.0  \n",
       "4            16000    48000  3000.0  \n",
       "...            ...      ...     ...  \n",
       "7015         16000    48000  3000.0  \n",
       "7016         16000    48000  3000.0  \n",
       "7017         16000    48000  3000.0  \n",
       "7018         16000    48000  3000.0  \n",
       "7019         16000    37648  2353.0  \n",
       "\n",
       "[7020 rows x 6 columns]"
      ]
     },
     "execution_count": 10,
     "metadata": {},
     "output_type": "execute_result"
    }
   ],
   "source": [
    "split_samples = []\n",
    "split_metadata = []\n",
    "for c, sample in enumerate(tqdm_notebook(samples)):\n",
    "    if metadata.iloc[c][\"ms\"] > max_len*1000:\n",
    "        splitted_sample = split_in_equal(sample, sr, max_len)\n",
    "        split_samples += splitted_sample\n",
    "        new_metadata = [[metadata.iloc[c][\"path\"],\n",
    "                         i,\n",
    "                         metadata.iloc[c][\"label\"],\n",
    "                         sr,\n",
    "                         len(s),\n",
    "                         1000*len(s)/sr]\n",
    "                         for i, s in enumerate(splitted_sample)]\n",
    "        split_metadata += new_metadata\n",
    "\n",
    "split_metadata = pd.DataFrame(split_metadata, columns=[\"path\", \"segment\", \"label\", \"samplingrate\", \"nframes\", \"ms\"])\n",
    "split_metadata"
   ]
  },
  {
   "cell_type": "markdown",
   "id": "4f712f2f",
   "metadata": {},
   "source": [
    "We obtained a total of 7020 samples from the original 827. Let's have a look at the ditrbituion of the class"
   ]
  },
  {
   "cell_type": "code",
   "execution_count": 11,
   "id": "b414679c",
   "metadata": {},
   "outputs": [
    {
     "data": {
      "text/html": [
       "<div>\n",
       "<style scoped>\n",
       "    .dataframe tbody tr th:only-of-type {\n",
       "        vertical-align: middle;\n",
       "    }\n",
       "\n",
       "    .dataframe tbody tr th {\n",
       "        vertical-align: top;\n",
       "    }\n",
       "\n",
       "    .dataframe thead th {\n",
       "        text-align: right;\n",
       "    }\n",
       "</style>\n",
       "<table border=\"1\" class=\"dataframe\">\n",
       "  <thead>\n",
       "    <tr style=\"text-align: right;\">\n",
       "      <th></th>\n",
       "      <th>label</th>\n",
       "    </tr>\n",
       "  </thead>\n",
       "  <tbody>\n",
       "    <tr>\n",
       "      <th>Bleatings</th>\n",
       "      <td>3066</td>\n",
       "    </tr>\n",
       "    <tr>\n",
       "      <th>Others</th>\n",
       "      <td>2730</td>\n",
       "    </tr>\n",
       "    <tr>\n",
       "      <th>ContactCalls</th>\n",
       "      <td>1224</td>\n",
       "    </tr>\n",
       "  </tbody>\n",
       "</table>\n",
       "</div>"
      ],
      "text/plain": [
       "              label\n",
       "Bleatings      3066\n",
       "Others         2730\n",
       "ContactCalls   1224"
      ]
     },
     "execution_count": 11,
     "metadata": {},
     "output_type": "execute_result"
    }
   ],
   "source": [
    "count_label = split_metadata['label'].value_counts().to_frame()\n",
    "count_label"
   ]
  },
  {
   "cell_type": "markdown",
   "id": "558627db",
   "metadata": {},
   "source": [
    "We still need to increase the samples for contact calls."
   ]
  },
  {
   "cell_type": "markdown",
   "id": "71604255",
   "metadata": {},
   "source": [
    "## Data augmentation"
   ]
  },
  {
   "cell_type": "code",
   "execution_count": null,
   "id": "217f5e36",
   "metadata": {},
   "outputs": [],
   "source": []
  },
  {
   "cell_type": "markdown",
   "id": "21da940b",
   "metadata": {},
   "source": [
    "## Denoising and trimming"
   ]
  },
  {
   "cell_type": "markdown",
   "id": "158fb1e3",
   "metadata": {},
   "source": [
    "Let's remove the noise from the samples and then trim the silent part at the beggining and ending of the samples."
   ]
  },
  {
   "cell_type": "code",
   "execution_count": 12,
   "id": "fae71737",
   "metadata": {},
   "outputs": [
    {
     "data": {
      "application/vnd.jupyter.widget-view+json": {
       "model_id": "e8475ae1050d458b8836301b4bfd5896",
       "version_major": 2,
       "version_minor": 0
      },
      "text/plain": [
       "  0%|          | 0/7020 [00:00<?, ?it/s]"
      ]
     },
     "metadata": {},
     "output_type": "display_data"
    },
    {
     "data": {
      "text/plain": [
       "[array([-0.02437842, -0.02365888, -0.00902225, ..., -0.00756735,\n",
       "        -0.00464633, -0.0001669 ], dtype=float32),\n",
       " array([ 0.01265561,  0.00711744, -0.00751382, ...,  0.0012379 ,\n",
       "         0.00226272,  0.00411485], dtype=float32),\n",
       " array([ 0.0124789 ,  0.01066994,  0.0083406 , ..., -0.0032531 ,\n",
       "         0.0044106 ,  0.00692406], dtype=float32),\n",
       " array([-0.00345186,  0.0035702 ,  0.01045445, ..., -0.0037035 ,\n",
       "         0.00380693,  0.00417307], dtype=float32),\n",
       " array([-1.03670144e-02, -7.80101586e-03, -2.67368346e-03, ...,\n",
       "         7.08722582e-05, -1.04012266e-04, -2.75029871e-03], dtype=float32)]"
      ]
     },
     "execution_count": 12,
     "metadata": {},
     "output_type": "execute_result"
    }
   ],
   "source": [
    "denoise_trim_samples = []\n",
    "\n",
    "for count, sample in enumerate(tqdm_notebook(split_samples)):\n",
    "    if split_metadata.iloc[count][\"label\"] != \"Others\":\n",
    "        sample = nr.reduce_noise(y=sample, sr=sr, use_tqdm=False)\n",
    "    sample = librosa.effects.trim(sample, top_db=15, frame_length=512, hop_length=64)[0]\n",
    "    denoise_trim_samples.append(sample)\n",
    "denoise_trim_samples[:5]"
   ]
  },
  {
   "cell_type": "code",
   "execution_count": 13,
   "id": "c28f806b",
   "metadata": {},
   "outputs": [
    {
     "data": {
      "application/vnd.jupyter.widget-view+json": {
       "model_id": "f2307077937f45ceb7befe6cae0134f3",
       "version_major": 2,
       "version_minor": 0
      },
      "text/plain": [
       "  0%|          | 0/7020 [00:00<?, ?it/s]"
      ]
     },
     "metadata": {},
     "output_type": "display_data"
    },
    {
     "data": {
      "text/html": [
       "<div>\n",
       "<style scoped>\n",
       "    .dataframe tbody tr th:only-of-type {\n",
       "        vertical-align: middle;\n",
       "    }\n",
       "\n",
       "    .dataframe tbody tr th {\n",
       "        vertical-align: top;\n",
       "    }\n",
       "\n",
       "    .dataframe thead th {\n",
       "        text-align: right;\n",
       "    }\n",
       "</style>\n",
       "<table border=\"1\" class=\"dataframe\">\n",
       "  <thead>\n",
       "    <tr style=\"text-align: right;\">\n",
       "      <th></th>\n",
       "      <th>path</th>\n",
       "      <th>segment</th>\n",
       "      <th>label</th>\n",
       "      <th>samplingrate</th>\n",
       "      <th>nframes</th>\n",
       "      <th>ms</th>\n",
       "      <th>nframes_trim</th>\n",
       "      <th>ms_trim</th>\n",
       "    </tr>\n",
       "  </thead>\n",
       "  <tbody>\n",
       "    <tr>\n",
       "      <th>0</th>\n",
       "      <td>./Labelled/Bleatings/evt_000_000_000681_210415...</td>\n",
       "      <td>0</td>\n",
       "      <td>Bleatings</td>\n",
       "      <td>16000</td>\n",
       "      <td>48000</td>\n",
       "      <td>3000.0</td>\n",
       "      <td>30720</td>\n",
       "      <td>1920.0</td>\n",
       "    </tr>\n",
       "    <tr>\n",
       "      <th>1</th>\n",
       "      <td>./Labelled/Bleatings/evt_000_000_000681_210415...</td>\n",
       "      <td>1</td>\n",
       "      <td>Bleatings</td>\n",
       "      <td>16000</td>\n",
       "      <td>48000</td>\n",
       "      <td>3000.0</td>\n",
       "      <td>40704</td>\n",
       "      <td>2544.0</td>\n",
       "    </tr>\n",
       "    <tr>\n",
       "      <th>2</th>\n",
       "      <td>./Labelled/Bleatings/evt_000_000_000681_210415...</td>\n",
       "      <td>2</td>\n",
       "      <td>Bleatings</td>\n",
       "      <td>16000</td>\n",
       "      <td>48000</td>\n",
       "      <td>3000.0</td>\n",
       "      <td>34880</td>\n",
       "      <td>2180.0</td>\n",
       "    </tr>\n",
       "    <tr>\n",
       "      <th>3</th>\n",
       "      <td>./Labelled/Bleatings/evt_000_000_000681_210415...</td>\n",
       "      <td>3</td>\n",
       "      <td>Bleatings</td>\n",
       "      <td>16000</td>\n",
       "      <td>48000</td>\n",
       "      <td>3000.0</td>\n",
       "      <td>20672</td>\n",
       "      <td>1292.0</td>\n",
       "    </tr>\n",
       "    <tr>\n",
       "      <th>4</th>\n",
       "      <td>./Labelled/Bleatings/evt_000_000_000681_210415...</td>\n",
       "      <td>4</td>\n",
       "      <td>Bleatings</td>\n",
       "      <td>16000</td>\n",
       "      <td>48000</td>\n",
       "      <td>3000.0</td>\n",
       "      <td>47808</td>\n",
       "      <td>2988.0</td>\n",
       "    </tr>\n",
       "  </tbody>\n",
       "</table>\n",
       "</div>"
      ],
      "text/plain": [
       "                                                path  segment      label  \\\n",
       "0  ./Labelled/Bleatings/evt_000_000_000681_210415...        0  Bleatings   \n",
       "1  ./Labelled/Bleatings/evt_000_000_000681_210415...        1  Bleatings   \n",
       "2  ./Labelled/Bleatings/evt_000_000_000681_210415...        2  Bleatings   \n",
       "3  ./Labelled/Bleatings/evt_000_000_000681_210415...        3  Bleatings   \n",
       "4  ./Labelled/Bleatings/evt_000_000_000681_210415...        4  Bleatings   \n",
       "\n",
       "   samplingrate  nframes      ms  nframes_trim  ms_trim  \n",
       "0         16000    48000  3000.0         30720   1920.0  \n",
       "1         16000    48000  3000.0         40704   2544.0  \n",
       "2         16000    48000  3000.0         34880   2180.0  \n",
       "3         16000    48000  3000.0         20672   1292.0  \n",
       "4         16000    48000  3000.0         47808   2988.0  "
      ]
     },
     "execution_count": 13,
     "metadata": {},
     "output_type": "execute_result"
    }
   ],
   "source": [
    "metadata_clean = []\n",
    "for sample in tqdm_notebook(denoise_trim_samples):\n",
    "    nframe = len(sample)\n",
    "    length = 1000*nframe/sr\n",
    "    metadata_clean.append([nframe, length])\n",
    "\n",
    "split_metadata_trim = pd.concat([split_metadata, pd.DataFrame(metadata_clean, columns = [\"nframes_trim\", \"ms_trim\"])], axis=1)\n",
    "split_metadata_trim.head()"
   ]
  },
  {
   "cell_type": "code",
   "execution_count": 14,
   "id": "90f4e18a",
   "metadata": {},
   "outputs": [
    {
     "data": {
      "text/plain": [
       "count    7020.000000\n",
       "mean     2287.241311\n",
       "std       840.152177\n",
       "min        76.000000\n",
       "25%      1728.000000\n",
       "50%      2670.000000\n",
       "75%      3000.000000\n",
       "max      3000.000000\n",
       "Name: ms_trim, dtype: float64"
      ]
     },
     "execution_count": 14,
     "metadata": {},
     "output_type": "execute_result"
    },
    {
     "data": {
      "image/png": "[encoded data removed]",
      "text/plain": [
       "<Figure size 432x288 with 1 Axes>"
      ]
     },
     "metadata": {
      "needs_background": "light"
     },
     "output_type": "display_data"
    }
   ],
   "source": [
    "durations = split_metadata_trim['ms_trim']\n",
    "durations.hist(bins=40)\n",
    "durations.describe()"
   ]
  },
  {
   "cell_type": "markdown",
   "id": "97b10cc9",
   "metadata": {},
   "source": [
    "# Remove short samples"
   ]
  },
  {
   "cell_type": "code",
   "execution_count": 15,
   "id": "9c496bc3",
   "metadata": {},
   "outputs": [
    {
     "data": {
      "text/plain": [
       "True     6639\n",
       "False     381\n",
       "Name: ms_trim, dtype: int64"
      ]
     },
     "execution_count": 15,
     "metadata": {},
     "output_type": "execute_result"
    }
   ],
   "source": [
    "condition = split_metadata_trim[\"ms_trim\"] > 500\n",
    "split_metadata_trim = split_metadata_trim[condition]\n",
    "\n",
    "condition.value_counts()"
   ]
  },
  {
   "cell_type": "code",
   "execution_count": 16,
   "id": "a158c051",
   "metadata": {},
   "outputs": [
    {
     "data": {
      "text/plain": [
       "6639"
      ]
     },
     "execution_count": 16,
     "metadata": {},
     "output_type": "execute_result"
    }
   ],
   "source": [
    "processed_samples = [sample for count, sample in enumerate(denoise_trim_samples) if condition[count]==True]\n",
    "len(processed_samples)"
   ]
  },
  {
   "cell_type": "code",
   "execution_count": 17,
   "id": "0aeabf91",
   "metadata": {},
   "outputs": [
    {
     "data": {
      "text/html": [
       "<div>\n",
       "<style scoped>\n",
       "    .dataframe tbody tr th:only-of-type {\n",
       "        vertical-align: middle;\n",
       "    }\n",
       "\n",
       "    .dataframe tbody tr th {\n",
       "        vertical-align: top;\n",
       "    }\n",
       "\n",
       "    .dataframe thead th {\n",
       "        text-align: right;\n",
       "    }\n",
       "</style>\n",
       "<table border=\"1\" class=\"dataframe\">\n",
       "  <thead>\n",
       "    <tr style=\"text-align: right;\">\n",
       "      <th></th>\n",
       "      <th>path</th>\n",
       "      <th>segment</th>\n",
       "      <th>label</th>\n",
       "      <th>samplingrate</th>\n",
       "      <th>nframes</th>\n",
       "      <th>ms</th>\n",
       "      <th>nframes_trim</th>\n",
       "      <th>ms_trim</th>\n",
       "    </tr>\n",
       "  </thead>\n",
       "  <tbody>\n",
       "    <tr>\n",
       "      <th>0</th>\n",
       "      <td>./Labelled/Bleatings/evt_000_000_000681_210415...</td>\n",
       "      <td>0</td>\n",
       "      <td>Bleatings</td>\n",
       "      <td>16000</td>\n",
       "      <td>48000</td>\n",
       "      <td>3000.0</td>\n",
       "      <td>30720</td>\n",
       "      <td>1920.0</td>\n",
       "    </tr>\n",
       "    <tr>\n",
       "      <th>1</th>\n",
       "      <td>./Labelled/Bleatings/evt_000_000_000681_210415...</td>\n",
       "      <td>1</td>\n",
       "      <td>Bleatings</td>\n",
       "      <td>16000</td>\n",
       "      <td>48000</td>\n",
       "      <td>3000.0</td>\n",
       "      <td>40704</td>\n",
       "      <td>2544.0</td>\n",
       "    </tr>\n",
       "    <tr>\n",
       "      <th>2</th>\n",
       "      <td>./Labelled/Bleatings/evt_000_000_000681_210415...</td>\n",
       "      <td>2</td>\n",
       "      <td>Bleatings</td>\n",
       "      <td>16000</td>\n",
       "      <td>48000</td>\n",
       "      <td>3000.0</td>\n",
       "      <td>34880</td>\n",
       "      <td>2180.0</td>\n",
       "    </tr>\n",
       "    <tr>\n",
       "      <th>3</th>\n",
       "      <td>./Labelled/Bleatings/evt_000_000_000681_210415...</td>\n",
       "      <td>3</td>\n",
       "      <td>Bleatings</td>\n",
       "      <td>16000</td>\n",
       "      <td>48000</td>\n",
       "      <td>3000.0</td>\n",
       "      <td>20672</td>\n",
       "      <td>1292.0</td>\n",
       "    </tr>\n",
       "    <tr>\n",
       "      <th>4</th>\n",
       "      <td>./Labelled/Bleatings/evt_000_000_000681_210415...</td>\n",
       "      <td>4</td>\n",
       "      <td>Bleatings</td>\n",
       "      <td>16000</td>\n",
       "      <td>48000</td>\n",
       "      <td>3000.0</td>\n",
       "      <td>47808</td>\n",
       "      <td>2988.0</td>\n",
       "    </tr>\n",
       "    <tr>\n",
       "      <th>...</th>\n",
       "      <td>...</td>\n",
       "      <td>...</td>\n",
       "      <td>...</td>\n",
       "      <td>...</td>\n",
       "      <td>...</td>\n",
       "      <td>...</td>\n",
       "      <td>...</td>\n",
       "      <td>...</td>\n",
       "    </tr>\n",
       "    <tr>\n",
       "      <th>7015</th>\n",
       "      <td>./Labelled/Others/evt_003_003_069820_210609_06...</td>\n",
       "      <td>3</td>\n",
       "      <td>Others</td>\n",
       "      <td>16000</td>\n",
       "      <td>48000</td>\n",
       "      <td>3000.0</td>\n",
       "      <td>48000</td>\n",
       "      <td>3000.0</td>\n",
       "    </tr>\n",
       "    <tr>\n",
       "      <th>7016</th>\n",
       "      <td>./Labelled/Others/evt_003_003_069820_210609_06...</td>\n",
       "      <td>4</td>\n",
       "      <td>Others</td>\n",
       "      <td>16000</td>\n",
       "      <td>48000</td>\n",
       "      <td>3000.0</td>\n",
       "      <td>48000</td>\n",
       "      <td>3000.0</td>\n",
       "    </tr>\n",
       "    <tr>\n",
       "      <th>7017</th>\n",
       "      <td>./Labelled/Others/evt_003_003_069820_210609_06...</td>\n",
       "      <td>5</td>\n",
       "      <td>Others</td>\n",
       "      <td>16000</td>\n",
       "      <td>48000</td>\n",
       "      <td>3000.0</td>\n",
       "      <td>48000</td>\n",
       "      <td>3000.0</td>\n",
       "    </tr>\n",
       "    <tr>\n",
       "      <th>7018</th>\n",
       "      <td>./Labelled/Others/evt_003_003_069820_210609_06...</td>\n",
       "      <td>6</td>\n",
       "      <td>Others</td>\n",
       "      <td>16000</td>\n",
       "      <td>48000</td>\n",
       "      <td>3000.0</td>\n",
       "      <td>48000</td>\n",
       "      <td>3000.0</td>\n",
       "    </tr>\n",
       "    <tr>\n",
       "      <th>7019</th>\n",
       "      <td>./Labelled/Others/evt_003_003_069820_210609_06...</td>\n",
       "      <td>7</td>\n",
       "      <td>Others</td>\n",
       "      <td>16000</td>\n",
       "      <td>37648</td>\n",
       "      <td>2353.0</td>\n",
       "      <td>37648</td>\n",
       "      <td>2353.0</td>\n",
       "    </tr>\n",
       "  </tbody>\n",
       "</table>\n",
       "<p>6639 rows × 8 columns</p>\n",
       "</div>"
      ],
      "text/plain": [
       "                                                   path  segment      label  \\\n",
       "0     ./Labelled/Bleatings/evt_000_000_000681_210415...        0  Bleatings   \n",
       "1     ./Labelled/Bleatings/evt_000_000_000681_210415...        1  Bleatings   \n",
       "2     ./Labelled/Bleatings/evt_000_000_000681_210415...        2  Bleatings   \n",
       "3     ./Labelled/Bleatings/evt_000_000_000681_210415...        3  Bleatings   \n",
       "4     ./Labelled/Bleatings/evt_000_000_000681_210415...        4  Bleatings   \n",
       "...                                                 ...      ...        ...   \n",
       "7015  ./Labelled/Others/evt_003_003_069820_210609_06...        3     Others   \n",
       "7016  ./Labelled/Others/evt_003_003_069820_210609_06...        4     Others   \n",
       "7017  ./Labelled/Others/evt_003_003_069820_210609_06...        5     Others   \n",
       "7018  ./Labelled/Others/evt_003_003_069820_210609_06...        6     Others   \n",
       "7019  ./Labelled/Others/evt_003_003_069820_210609_06...        7     Others   \n",
       "\n",
       "      samplingrate  nframes      ms  nframes_trim  ms_trim  \n",
       "0            16000    48000  3000.0         30720   1920.0  \n",
       "1            16000    48000  3000.0         40704   2544.0  \n",
       "2            16000    48000  3000.0         34880   2180.0  \n",
       "3            16000    48000  3000.0         20672   1292.0  \n",
       "4            16000    48000  3000.0         47808   2988.0  \n",
       "...            ...      ...     ...           ...      ...  \n",
       "7015         16000    48000  3000.0         48000   3000.0  \n",
       "7016         16000    48000  3000.0         48000   3000.0  \n",
       "7017         16000    48000  3000.0         48000   3000.0  \n",
       "7018         16000    48000  3000.0         48000   3000.0  \n",
       "7019         16000    37648  2353.0         37648   2353.0  \n",
       "\n",
       "[6639 rows x 8 columns]"
      ]
     },
     "execution_count": 17,
     "metadata": {},
     "output_type": "execute_result"
    }
   ],
   "source": [
    "split_metadata_trim"
   ]
  },
  {
   "cell_type": "markdown",
   "id": "39e65633",
   "metadata": {},
   "source": [
    "## Pad the short samples"
   ]
  },
  {
   "cell_type": "markdown",
   "id": "6fcf406b",
   "metadata": {},
   "source": [
    "Finally we can pad all the samples to the same lenght.<br>The max duration is 3000ms, which is 3 seconds. Let's pad all the shorter samples to this lenght by centering the sample in the middle of signal."
   ]
  },
  {
   "cell_type": "code",
   "execution_count": 23,
   "id": "8aa2d4ca",
   "metadata": {},
   "outputs": [],
   "source": [
    "def zero_pad_data(sample, sr, length):\n",
    "    \"\"\"\n",
    "    sample: audio sample\n",
    "    sr: sample rate\n",
    "    lenght: length to reach\n",
    "    \"\"\"\n",
    "    # find lenght according to sr\n",
    "    length = sr*length\n",
    "    \n",
    "    signal_padded = np.zeros(length)\n",
    "    \n",
    "    sample_len = len(sample)\n",
    "    start = int(length/2) - int(sample_len/2)\n",
    "    signal_padded[start: start+sample_len] = sample\n",
    "    return signal_padded\n",
    "\n",
    "processed_samples = [zero_pad_data(sample, sr, 3) for sample in processed_samples]"
   ]
  },
  {
   "cell_type": "code",
   "execution_count": 27,
   "id": "fddd9d70",
   "metadata": {},
   "outputs": [
    {
     "name": "stderr",
     "output_type": "stream",
     "text": [
      "C:\\Users\\NICOLA~1\\AppData\\Local\\Temp/ipykernel_6184/2019792334.py:3: SettingWithCopyWarning: \n",
      "A value is trying to be set on a copy of a slice from a DataFrame.\n",
      "Try using .loc[row_indexer,col_indexer] = value instead\n",
      "\n",
      "See the caveats in the documentation: https://pandas.pydata.org/pandas-docs/stable/user_guide/indexing.html#returning-a-view-versus-a-copy\n",
      "  processed_metadata[\"ms\"] = [1000*len(sample)/sr for sample in processed_samples]\n"
     ]
    },
    {
     "data": {
      "text/plain": [
       "count    6639.0\n",
       "mean     3000.0\n",
       "std         0.0\n",
       "min      3000.0\n",
       "25%      3000.0\n",
       "50%      3000.0\n",
       "75%      3000.0\n",
       "max      3000.0\n",
       "Name: ms, dtype: float64"
      ]
     },
     "execution_count": 27,
     "metadata": {},
     "output_type": "execute_result"
    }
   ],
   "source": [
    "processed_metadata = split_metadata_trim[[\"path\", \"segment\", \"label\", \"samplingrate\"]]\n",
    "\n",
    "processed_metadata[\"ms\"] = [1000*len(sample)/sr for sample in processed_samples]\n",
    "#length_info = [1000*len(sample)/sr for sample in processed_samples]\n",
    "\n",
    "#processed_metadata = pd.concat([processed_metadata, pd.DataFrame(length_info, columns = [\"ms\"])], axis=1, ignore_index=True)\n",
    "processed_metadata['ms'].describe()"
   ]
  },
  {
   "cell_type": "code",
   "execution_count": 28,
   "id": "beab6c16",
   "metadata": {},
   "outputs": [
    {
     "data": {
      "text/html": [
       "<div>\n",
       "<style scoped>\n",
       "    .dataframe tbody tr th:only-of-type {\n",
       "        vertical-align: middle;\n",
       "    }\n",
       "\n",
       "    .dataframe tbody tr th {\n",
       "        vertical-align: top;\n",
       "    }\n",
       "\n",
       "    .dataframe thead th {\n",
       "        text-align: right;\n",
       "    }\n",
       "</style>\n",
       "<table border=\"1\" class=\"dataframe\">\n",
       "  <thead>\n",
       "    <tr style=\"text-align: right;\">\n",
       "      <th></th>\n",
       "      <th>path</th>\n",
       "      <th>segment</th>\n",
       "      <th>label</th>\n",
       "      <th>samplingrate</th>\n",
       "      <th>ms</th>\n",
       "    </tr>\n",
       "  </thead>\n",
       "  <tbody>\n",
       "    <tr>\n",
       "      <th>0</th>\n",
       "      <td>./Labelled/Bleatings/evt_000_000_000681_210415...</td>\n",
       "      <td>0</td>\n",
       "      <td>Bleatings</td>\n",
       "      <td>16000</td>\n",
       "      <td>3000.0</td>\n",
       "    </tr>\n",
       "    <tr>\n",
       "      <th>1</th>\n",
       "      <td>./Labelled/Bleatings/evt_000_000_000681_210415...</td>\n",
       "      <td>1</td>\n",
       "      <td>Bleatings</td>\n",
       "      <td>16000</td>\n",
       "      <td>3000.0</td>\n",
       "    </tr>\n",
       "    <tr>\n",
       "      <th>2</th>\n",
       "      <td>./Labelled/Bleatings/evt_000_000_000681_210415...</td>\n",
       "      <td>2</td>\n",
       "      <td>Bleatings</td>\n",
       "      <td>16000</td>\n",
       "      <td>3000.0</td>\n",
       "    </tr>\n",
       "    <tr>\n",
       "      <th>3</th>\n",
       "      <td>./Labelled/Bleatings/evt_000_000_000681_210415...</td>\n",
       "      <td>3</td>\n",
       "      <td>Bleatings</td>\n",
       "      <td>16000</td>\n",
       "      <td>3000.0</td>\n",
       "    </tr>\n",
       "    <tr>\n",
       "      <th>4</th>\n",
       "      <td>./Labelled/Bleatings/evt_000_000_000681_210415...</td>\n",
       "      <td>4</td>\n",
       "      <td>Bleatings</td>\n",
       "      <td>16000</td>\n",
       "      <td>3000.0</td>\n",
       "    </tr>\n",
       "  </tbody>\n",
       "</table>\n",
       "</div>"
      ],
      "text/plain": [
       "                                                path  segment      label  \\\n",
       "0  ./Labelled/Bleatings/evt_000_000_000681_210415...        0  Bleatings   \n",
       "1  ./Labelled/Bleatings/evt_000_000_000681_210415...        1  Bleatings   \n",
       "2  ./Labelled/Bleatings/evt_000_000_000681_210415...        2  Bleatings   \n",
       "3  ./Labelled/Bleatings/evt_000_000_000681_210415...        3  Bleatings   \n",
       "4  ./Labelled/Bleatings/evt_000_000_000681_210415...        4  Bleatings   \n",
       "\n",
       "   samplingrate      ms  \n",
       "0         16000  3000.0  \n",
       "1         16000  3000.0  \n",
       "2         16000  3000.0  \n",
       "3         16000  3000.0  \n",
       "4         16000  3000.0  "
      ]
     },
     "execution_count": 28,
     "metadata": {},
     "output_type": "execute_result"
    }
   ],
   "source": [
    "processed_metadata.to_csv(\"processed_metadata.csv\", index=False)\n",
    "processed_metadata.head()"
   ]
  },
  {
   "cell_type": "markdown",
   "id": "28e92ede",
   "metadata": {},
   "source": [
    "# Log Mel-spectograms"
   ]
  },
  {
   "cell_type": "markdown",
   "id": "efcbf88e",
   "metadata": {},
   "source": [
    "We can compute the log mel-spectrogram of each sample, with 128 mel bands"
   ]
  },
  {
   "cell_type": "code",
   "execution_count": 35,
   "id": "a7e48069",
   "metadata": {},
   "outputs": [
    {
     "data": {
      "application/vnd.jupyter.widget-view+json": {
       "model_id": "ee8a582d5a5c48e59c082df66e97976d",
       "version_major": 2,
       "version_minor": 0
      },
      "text/plain": [
       "  0%|          | 0/6639 [00:00<?, ?it/s]"
      ]
     },
     "metadata": {},
     "output_type": "display_data"
    }
   ],
   "source": [
    "logmelspectrograms = []\n",
    "for sample in tqdm_notebook(processed_samples):\n",
    "    S = librosa.feature.melspectrogram(y=sample, sr=sr, n_mels=128)\n",
    "    S_dB = librosa.power_to_db(S, ref=np.max)\n",
    "    logmelspectrograms.append(S_dB)"
   ]
  },
  {
   "cell_type": "code",
   "execution_count": 36,
   "id": "345f8359",
   "metadata": {},
   "outputs": [
    {
     "name": "stdout",
     "output_type": "stream",
     "text": [
      "A total of 6639 samples, with 128 mel bands and 94 samples\n"
     ]
    }
   ],
   "source": [
    "a, b, c = np.shape(logmelspectrograms)\n",
    "print(f'A total of {a} samples, with {b} mel bands and {c} samples')"
   ]
  },
  {
   "cell_type": "markdown",
   "id": "2cc01bd5",
   "metadata": {},
   "source": [
    "Save the result for further processing"
   ]
  },
  {
   "cell_type": "code",
   "execution_count": 131,
   "id": "d93ffc6b",
   "metadata": {},
   "outputs": [],
   "source": [
    "import pickle\n",
    "pickle.dump(logmelspectrograms, open(\"logmelspectrograms_data.p\", \"wb\"))"
   ]
  },
  {
   "cell_type": "code",
   "execution_count": 39,
   "id": "2ffe4eef",
   "metadata": {},
   "outputs": [],
   "source": [
    "logmelspectrograms = pickle.load(open(\"logmelspectrograms_data.p\", \"rb\" ))"
   ]
  },
  {
   "cell_type": "code",
   "execution_count": 40,
   "id": "06d96d29",
   "metadata": {},
   "outputs": [
    {
     "data": {
      "text/html": [
       "<div>\n",
       "<style scoped>\n",
       "    .dataframe tbody tr th:only-of-type {\n",
       "        vertical-align: middle;\n",
       "    }\n",
       "\n",
       "    .dataframe tbody tr th {\n",
       "        vertical-align: top;\n",
       "    }\n",
       "\n",
       "    .dataframe thead th {\n",
       "        text-align: right;\n",
       "    }\n",
       "</style>\n",
       "<table border=\"1\" class=\"dataframe\">\n",
       "  <thead>\n",
       "    <tr style=\"text-align: right;\">\n",
       "      <th></th>\n",
       "      <th>path</th>\n",
       "      <th>segment</th>\n",
       "      <th>label</th>\n",
       "      <th>samplingrate</th>\n",
       "      <th>ms</th>\n",
       "    </tr>\n",
       "  </thead>\n",
       "  <tbody>\n",
       "    <tr>\n",
       "      <th>0</th>\n",
       "      <td>./Labelled/Bleatings/evt_000_000_000681_210415...</td>\n",
       "      <td>0</td>\n",
       "      <td>Bleatings</td>\n",
       "      <td>16000</td>\n",
       "      <td>3000.0</td>\n",
       "    </tr>\n",
       "    <tr>\n",
       "      <th>1</th>\n",
       "      <td>./Labelled/Bleatings/evt_000_000_000681_210415...</td>\n",
       "      <td>1</td>\n",
       "      <td>Bleatings</td>\n",
       "      <td>16000</td>\n",
       "      <td>3000.0</td>\n",
       "    </tr>\n",
       "    <tr>\n",
       "      <th>2</th>\n",
       "      <td>./Labelled/Bleatings/evt_000_000_000681_210415...</td>\n",
       "      <td>2</td>\n",
       "      <td>Bleatings</td>\n",
       "      <td>16000</td>\n",
       "      <td>3000.0</td>\n",
       "    </tr>\n",
       "    <tr>\n",
       "      <th>3</th>\n",
       "      <td>./Labelled/Bleatings/evt_000_000_000681_210415...</td>\n",
       "      <td>3</td>\n",
       "      <td>Bleatings</td>\n",
       "      <td>16000</td>\n",
       "      <td>3000.0</td>\n",
       "    </tr>\n",
       "    <tr>\n",
       "      <th>4</th>\n",
       "      <td>./Labelled/Bleatings/evt_000_000_000681_210415...</td>\n",
       "      <td>4</td>\n",
       "      <td>Bleatings</td>\n",
       "      <td>16000</td>\n",
       "      <td>3000.0</td>\n",
       "    </tr>\n",
       "  </tbody>\n",
       "</table>\n",
       "</div>"
      ],
      "text/plain": [
       "                                                path  segment      label  \\\n",
       "0  ./Labelled/Bleatings/evt_000_000_000681_210415...        0  Bleatings   \n",
       "1  ./Labelled/Bleatings/evt_000_000_000681_210415...        1  Bleatings   \n",
       "2  ./Labelled/Bleatings/evt_000_000_000681_210415...        2  Bleatings   \n",
       "3  ./Labelled/Bleatings/evt_000_000_000681_210415...        3  Bleatings   \n",
       "4  ./Labelled/Bleatings/evt_000_000_000681_210415...        4  Bleatings   \n",
       "\n",
       "   samplingrate      ms  \n",
       "0         16000  3000.0  \n",
       "1         16000  3000.0  \n",
       "2         16000  3000.0  \n",
       "3         16000  3000.0  \n",
       "4         16000  3000.0  "
      ]
     },
     "execution_count": 40,
     "metadata": {},
     "output_type": "execute_result"
    }
   ],
   "source": [
    "processed_metadata = pd.read_csv(\"processed_metadata.csv\")\n",
    "processed_metadata.head()"
   ]
  },
  {
   "cell_type": "markdown",
   "id": "cdfd4c8a",
   "metadata": {},
   "source": [
    "## Spectrograms Images"
   ]
  },
  {
   "cell_type": "markdown",
   "id": "463caf0f",
   "metadata": {},
   "source": [
    "Next we can take the previous obtained list of log mel-scaled spectrogram and finally convert them to images and save to a folder img."
   ]
  },
  {
   "cell_type": "code",
   "execution_count": 41,
   "id": "c24f29f4",
   "metadata": {},
   "outputs": [
    {
     "data": {
      "application/vnd.jupyter.widget-view+json": {
       "model_id": "deccfa4e2ec642308e2d04304997400f",
       "version_major": 2,
       "version_minor": 0
      },
      "text/plain": [
       "  0%|          | 0/6639 [00:00<?, ?it/s]"
      ]
     },
     "metadata": {},
     "output_type": "display_data"
    },
    {
     "data": {
      "text/plain": [
       "<Figure size 432x288 with 0 Axes>"
      ]
     },
     "metadata": {},
     "output_type": "display_data"
    }
   ],
   "source": [
    "for count, sample in enumerate(tqdm_notebook(logmelspectrograms)):\n",
    "    label = processed_metadata.iloc[count][\"label\"]\n",
    "    img = librosa.display.specshow(sample, sr=sr)\n",
    "    plt.savefig(f'img/{count}.png')\n",
    "    plt.clf()"
   ]
  },
  {
   "cell_type": "markdown",
   "id": "8874f790",
   "metadata": {},
   "source": [
    "## Test image"
   ]
  },
  {
   "cell_type": "code",
   "execution_count": 90,
   "id": "2deb9e6d",
   "metadata": {},
   "outputs": [
    {
     "data": {
      "text/plain": [
       "<Figure size 432x288 with 0 Axes>"
      ]
     },
     "metadata": {},
     "output_type": "display_data"
    },
    {
     "data": {
      "text/plain": [
       "<Figure size 96x70.5 with 0 Axes>"
      ]
     },
     "metadata": {},
     "output_type": "display_data"
    }
   ],
   "source": [
    "plt.tight_layout()\n",
    "fig, ax = plt.subplots()\n",
    "fig.set_size_inches(128/96, 94/96)\n",
    "librosa.display.specshow(S_dB, sr=sr, ax=ax)\n",
    "plt.savefig(f'prova.png')\n",
    "plt.clf()"
   ]
  },
  {
   "cell_type": "code",
   "execution_count": 91,
   "id": "6d7c4e24",
   "metadata": {},
   "outputs": [
    {
     "data": {
      "text/plain": [
       "<Figure size 96x70.5 with 0 Axes>"
      ]
     },
     "metadata": {},
     "output_type": "display_data"
    }
   ],
   "source": [
    "\n",
    "fig, ax = plt.subplots()\n",
    "fig.set_size_inches(128/96, 94/96)\n",
    "librosa.display.specshow(S_dB, sr=sr, ax=ax)\n",
    "plt.savefig(f'prova1.png')\n",
    "plt.clf()"
   ]
  },
  {
   "cell_type": "code",
   "execution_count": 63,
   "id": "548d6560",
   "metadata": {},
   "outputs": [
    {
     "data": {
      "text/plain": [
       "<Figure size 432x288 with 0 Axes>"
      ]
     },
     "metadata": {},
     "output_type": "display_data"
    }
   ],
   "source": [
    "plt.tight_layout()\n",
    "\n",
    "plt.savefig(f'prova.png')\n",
    "plt.clf()"
   ]
  },
  {
   "cell_type": "code",
   "execution_count": 87,
   "id": "108002f7",
   "metadata": {},
   "outputs": [
    {
     "data": {
      "text/plain": [
       "<matplotlib.collections.QuadMesh at 0x278889676a0>"
      ]
     },
     "execution_count": 87,
     "metadata": {},
     "output_type": "execute_result"
    },
    {
     "data": {
      "text/plain": [
       "<Figure size 96x70.5 with 0 Axes>"
      ]
     },
     "metadata": {},
     "output_type": "display_data"
    },
    {
     "data": {
      "image/png": "[encoded data removed]",
      "text/plain": [
       "<Figure size 432x288 with 1 Axes>"
      ]
     },
     "metadata": {},
     "output_type": "display_data"
    }
   ],
   "source": [
    "my_dpi = 96 # dpi of the monitor\n",
    "plt.figure(figsize=(128/my_dpi, 94/my_dpi))\n",
    "fig, ax = plt.subplots()\n",
    "librosa.display.specshow(S_dB, sr=sr, ax=ax)"
   ]
  },
  {
   "cell_type": "code",
   "execution_count": 123,
   "id": "ea52023b",
   "metadata": {},
   "outputs": [
    {
     "data": {
      "text/plain": [
       "<Figure size 432x288 with 0 Axes>"
      ]
     },
     "metadata": {},
     "output_type": "display_data"
    }
   ],
   "source": [
    "fig, ax = plt.subplots()\n",
    "plt.tight_layout()\n",
    "librosa.display.specshow(S_dB, sr=sr, ax=ax)\n",
    "plt.savefig(f'prova1.png')\n",
    "plt.clf()"
   ]
  },
  {
   "cell_type": "code",
   "execution_count": 124,
   "id": "5c2174d8",
   "metadata": {},
   "outputs": [
    {
     "data": {
      "image/png": "[encoded data removed]",
      "text/plain": [
       "<Figure size 432x288 with 1 Axes>"
      ]
     },
     "metadata": {},
     "output_type": "display_data"
    }
   ],
   "source": [
    "librosa.display.specshow(S_dB, sr=sr)\n",
    "plt.savefig(f'prova2.png')"
   ]
  },
  {
   "cell_type": "code",
   "execution_count": 53,
   "id": "a9759006",
   "metadata": {
    "scrolled": true
   },
   "outputs": [
    {
     "data": {
      "text/plain": [
       "(128, 94)"
      ]
     },
     "execution_count": 53,
     "metadata": {},
     "output_type": "execute_result"
    }
   ],
   "source": [
    "np.shape(S_dB)"
   ]
  },
  {
   "cell_type": "code",
   "execution_count": 41,
   "id": "5579643b",
   "metadata": {},
   "outputs": [
    {
     "data": {
      "text/plain": [
       "array([[-80., -80., -80., ..., -80., -80., -80.],\n",
       "       [-80., -80., -80., ..., -80., -80., -80.],\n",
       "       [-80., -80., -80., ..., -80., -80., -80.],\n",
       "       ...,\n",
       "       [-80., -80., -80., ..., -80., -80., -80.],\n",
       "       [-80., -80., -80., ..., -80., -80., -80.],\n",
       "       [-80., -80., -80., ..., -80., -80., -80.]])"
      ]
     },
     "execution_count": 41,
     "metadata": {},
     "output_type": "execute_result"
    }
   ],
   "source": [
    "S_dB"
   ]
  },
  {
   "cell_type": "code",
   "execution_count": 102,
   "id": "f7111a01",
   "metadata": {},
   "outputs": [
    {
     "data": {
      "text/plain": [
       "numpy.ndarray"
      ]
     },
     "execution_count": 102,
     "metadata": {},
     "output_type": "execute_result"
    }
   ],
   "source": [
    "type(S_dB)"
   ]
  },
  {
   "cell_type": "code",
   "execution_count": null,
   "id": "7638f0c6",
   "metadata": {},
   "outputs": [],
   "source": [
    "for count, sample in enumerate(processed_samples):\n",
    "    \n",
    "\n",
    "label = 'Bleatings ContactCalls Others'.split()\n",
    "for g in genres:\n",
    "    pathlib.Path(f'img/{g}').mkdir(parents=True, exist_ok=True)\n",
    "    for sample in processed_samples:\n",
    "        \n",
    "        plt.axis('off');\n",
    "        \n",
    "        plt.savefig(f'img_data/{g}/{filename[:-3].replace(\".\", \"\")}.png')\n",
    "        plt.clf()"
   ]
  },
  {
   "cell_type": "markdown",
   "id": "c07a9ec5",
   "metadata": {},
   "source": [
    "# Features MFCC and Delta-MFCC"
   ]
  },
  {
   "cell_type": "markdown",
   "id": "7a4474b9",
   "metadata": {},
   "source": [
    "Let's extract as presented in analysis.ipybn the MFCC and delta-MFCC realted features"
   ]
  },
  {
   "cell_type": "code",
   "execution_count": 65,
   "id": "77687dfc",
   "metadata": {},
   "outputs": [
    {
     "data": {
      "application/vnd.jupyter.widget-view+json": {
       "model_id": "94cb151c3b624a478746265619ba1d37",
       "version_major": 2,
       "version_minor": 0
      },
      "text/plain": [
       "  0%|          | 0/827 [00:00<?, ?it/s]"
      ]
     },
     "metadata": {},
     "output_type": "display_data"
    },
    {
     "name": "stderr",
     "output_type": "stream",
     "text": [
      "C:\\Users\\Nicolas Facchinetti\\.conda\\envs\\progapr\\lib\\site-packages\\librosa\\core\\spectrum.py:222: UserWarning: n_fft=2048 is too small for input signal of length=1536\n",
      "  warnings.warn(\n",
      "C:\\Users\\Nicolas Facchinetti\\.conda\\envs\\progapr\\lib\\site-packages\\librosa\\core\\spectrum.py:222: UserWarning: n_fft=2048 is too small for input signal of length=1856\n",
      "  warnings.warn(\n"
     ]
    }
   ],
   "source": [
    "features = []\n",
    "for sample in tqdm_notebook(processed_samples):\n",
    "    mfccs = librosa.feature.mfcc(sample, sr = sr, n_mfcc=20)\n",
    "    mfccs_trunc = np.hstack((np.mean(mfccs, axis=1), np.std(mfccs, axis=1), np.max(mfccs, axis = 1),\n",
    "                             np.median(mfccs, axis = 1), np.min(mfccs, axis = 1)))\n",
    "    mfccs_delta = librosa.feature.delta(mfccs, mode='nearest')\n",
    "    mfccs_delta_trunc = np.hstack((np.mean(mfccs_delta, axis=1), np.std(mfccs_delta, axis=1), np.max(mfccs_delta, axis = 1),\n",
    "                                   np.median(mfccs_delta, axis = 1), np.min(mfccs_delta, axis = 1)))\n",
    "    features.append(np.concatenate((mfccs_trunc, mfccs_delta_trunc)))\n",
    "\n",
    "np.shape(features)"
   ]
  },
  {
   "cell_type": "markdown",
   "id": "68db90e3",
   "metadata": {},
   "source": [
    "Then we can standardize the values obtained to have all the values on the same scale"
   ]
  },
  {
   "cell_type": "code",
   "execution_count": 85,
   "id": "2f893893",
   "metadata": {},
   "outputs": [
    {
     "data": {
      "text/plain": [
       "array([[ 0.34781968,  0.15523269, -0.23216898, ..., -0.480913  ,\n",
       "         0.11557389, -0.8617569 ],\n",
       "       [ 0.60053222, -0.00914684, -0.80729602, ...,  0.87441772,\n",
       "         0.92124129,  0.42715648],\n",
       "       [ 0.14690949,  0.49406041, -0.09727726, ..., -0.437311  ,\n",
       "         0.15639632, -0.1634006 ],\n",
       "       ...,\n",
       "       [-0.80134407,  0.67376678,  1.64300066, ...,  0.4749902 ,\n",
       "         0.44821466,  0.12015271],\n",
       "       [-1.06595033,  0.50232601,  1.30117149, ..., -0.23080317,\n",
       "        -0.31921245, -1.05481112],\n",
       "       [-1.28945793, -0.10242232,  1.45239209, ...,  0.51314051,\n",
       "        -1.91284518, -0.04138619]])"
      ]
     },
     "execution_count": 85,
     "metadata": {},
     "output_type": "execute_result"
    }
   ],
   "source": [
    "scaler = StandardScaler()\n",
    "scaled = scaler.fit_transform(features)"
   ]
  },
  {
   "cell_type": "markdown",
   "id": "ae533793",
   "metadata": {},
   "source": [
    "Finally we can squash all toghether the sample name, label and the extracted features. Save the obtained result to a .cvs file for processing with the models."
   ]
  },
  {
   "cell_type": "code",
   "execution_count": 86,
   "id": "4603f246",
   "metadata": {},
   "outputs": [
    {
     "data": {
      "text/html": [
       "<div>\n",
       "<style scoped>\n",
       "    .dataframe tbody tr th:only-of-type {\n",
       "        vertical-align: middle;\n",
       "    }\n",
       "\n",
       "    .dataframe tbody tr th {\n",
       "        vertical-align: top;\n",
       "    }\n",
       "\n",
       "    .dataframe thead th {\n",
       "        text-align: right;\n",
       "    }\n",
       "</style>\n",
       "<table border=\"1\" class=\"dataframe\">\n",
       "  <thead>\n",
       "    <tr style=\"text-align: right;\">\n",
       "      <th></th>\n",
       "      <th>label</th>\n",
       "      <th>0</th>\n",
       "      <th>1</th>\n",
       "      <th>2</th>\n",
       "      <th>3</th>\n",
       "      <th>4</th>\n",
       "      <th>5</th>\n",
       "      <th>6</th>\n",
       "      <th>7</th>\n",
       "      <th>8</th>\n",
       "      <th>...</th>\n",
       "      <th>190</th>\n",
       "      <th>191</th>\n",
       "      <th>192</th>\n",
       "      <th>193</th>\n",
       "      <th>194</th>\n",
       "      <th>195</th>\n",
       "      <th>196</th>\n",
       "      <th>197</th>\n",
       "      <th>198</th>\n",
       "      <th>199</th>\n",
       "    </tr>\n",
       "    <tr>\n",
       "      <th>path</th>\n",
       "      <th></th>\n",
       "      <th></th>\n",
       "      <th></th>\n",
       "      <th></th>\n",
       "      <th></th>\n",
       "      <th></th>\n",
       "      <th></th>\n",
       "      <th></th>\n",
       "      <th></th>\n",
       "      <th></th>\n",
       "      <th></th>\n",
       "      <th></th>\n",
       "      <th></th>\n",
       "      <th></th>\n",
       "      <th></th>\n",
       "      <th></th>\n",
       "      <th></th>\n",
       "      <th></th>\n",
       "      <th></th>\n",
       "      <th></th>\n",
       "      <th></th>\n",
       "    </tr>\n",
       "  </thead>\n",
       "  <tbody>\n",
       "    <tr>\n",
       "      <th>./Labelled/Bleatings/evt_000_000_000681_210415_150602.wav</th>\n",
       "      <td>Bleatings</td>\n",
       "      <td>0.347820</td>\n",
       "      <td>0.155233</td>\n",
       "      <td>-0.232169</td>\n",
       "      <td>-0.201178</td>\n",
       "      <td>0.206299</td>\n",
       "      <td>-0.812587</td>\n",
       "      <td>0.350786</td>\n",
       "      <td>-0.459605</td>\n",
       "      <td>-0.483644</td>\n",
       "      <td>...</td>\n",
       "      <td>-0.136273</td>\n",
       "      <td>-1.512237</td>\n",
       "      <td>0.313718</td>\n",
       "      <td>-0.025292</td>\n",
       "      <td>0.424550</td>\n",
       "      <td>0.618080</td>\n",
       "      <td>0.493849</td>\n",
       "      <td>-0.480913</td>\n",
       "      <td>0.115574</td>\n",
       "      <td>-0.861757</td>\n",
       "    </tr>\n",
       "    <tr>\n",
       "      <th>./Labelled/Bleatings/evt_000_000_000682_210415_150623.wav</th>\n",
       "      <td>Bleatings</td>\n",
       "      <td>0.600532</td>\n",
       "      <td>-0.009147</td>\n",
       "      <td>-0.807296</td>\n",
       "      <td>-0.633419</td>\n",
       "      <td>-0.555820</td>\n",
       "      <td>-0.483127</td>\n",
       "      <td>-0.247325</td>\n",
       "      <td>0.688479</td>\n",
       "      <td>1.102261</td>\n",
       "      <td>...</td>\n",
       "      <td>0.158165</td>\n",
       "      <td>-0.020859</td>\n",
       "      <td>0.099358</td>\n",
       "      <td>0.669381</td>\n",
       "      <td>-0.757209</td>\n",
       "      <td>0.146002</td>\n",
       "      <td>0.395391</td>\n",
       "      <td>0.874418</td>\n",
       "      <td>0.921241</td>\n",
       "      <td>0.427156</td>\n",
       "    </tr>\n",
       "    <tr>\n",
       "      <th>./Labelled/Bleatings/evt_000_000_000683_210415_150637.wav</th>\n",
       "      <td>Bleatings</td>\n",
       "      <td>0.146909</td>\n",
       "      <td>0.494060</td>\n",
       "      <td>-0.097277</td>\n",
       "      <td>0.017268</td>\n",
       "      <td>0.327210</td>\n",
       "      <td>0.516250</td>\n",
       "      <td>0.927306</td>\n",
       "      <td>-1.170098</td>\n",
       "      <td>0.393075</td>\n",
       "      <td>...</td>\n",
       "      <td>-0.856356</td>\n",
       "      <td>-0.551477</td>\n",
       "      <td>-0.552312</td>\n",
       "      <td>0.002518</td>\n",
       "      <td>-0.085520</td>\n",
       "      <td>-0.047403</td>\n",
       "      <td>-0.229064</td>\n",
       "      <td>-0.437311</td>\n",
       "      <td>0.156396</td>\n",
       "      <td>-0.163401</td>\n",
       "    </tr>\n",
       "    <tr>\n",
       "      <th>./Labelled/Bleatings/evt_000_000_000684_210415_150654.wav</th>\n",
       "      <td>Bleatings</td>\n",
       "      <td>0.805780</td>\n",
       "      <td>0.976582</td>\n",
       "      <td>-0.477301</td>\n",
       "      <td>0.686392</td>\n",
       "      <td>-0.606207</td>\n",
       "      <td>-1.136907</td>\n",
       "      <td>-1.306880</td>\n",
       "      <td>-0.922357</td>\n",
       "      <td>-0.334283</td>\n",
       "      <td>...</td>\n",
       "      <td>0.008805</td>\n",
       "      <td>-1.164836</td>\n",
       "      <td>-0.138124</td>\n",
       "      <td>0.264209</td>\n",
       "      <td>-0.138784</td>\n",
       "      <td>0.276497</td>\n",
       "      <td>-0.528750</td>\n",
       "      <td>0.180946</td>\n",
       "      <td>0.164339</td>\n",
       "      <td>-0.217783</td>\n",
       "    </tr>\n",
       "    <tr>\n",
       "      <th>./Labelled/Bleatings/evt_000_000_002434_210416_073853.wav</th>\n",
       "      <td>Bleatings</td>\n",
       "      <td>0.651157</td>\n",
       "      <td>-0.002178</td>\n",
       "      <td>-0.902648</td>\n",
       "      <td>0.265438</td>\n",
       "      <td>-1.208112</td>\n",
       "      <td>-0.640320</td>\n",
       "      <td>-0.343720</td>\n",
       "      <td>1.102376</td>\n",
       "      <td>0.713345</td>\n",
       "      <td>...</td>\n",
       "      <td>0.756449</td>\n",
       "      <td>0.452530</td>\n",
       "      <td>0.357011</td>\n",
       "      <td>0.359743</td>\n",
       "      <td>0.118464</td>\n",
       "      <td>0.318001</td>\n",
       "      <td>0.526162</td>\n",
       "      <td>0.199136</td>\n",
       "      <td>-0.190216</td>\n",
       "      <td>-0.760688</td>\n",
       "    </tr>\n",
       "  </tbody>\n",
       "</table>\n",
       "<p>5 rows × 201 columns</p>\n",
       "</div>"
      ],
      "text/plain": [
       "                                                        label         0  \\\n",
       "path                                                                      \n",
       "./Labelled/Bleatings/evt_000_000_000681_210415_...  Bleatings  0.347820   \n",
       "./Labelled/Bleatings/evt_000_000_000682_210415_...  Bleatings  0.600532   \n",
       "./Labelled/Bleatings/evt_000_000_000683_210415_...  Bleatings  0.146909   \n",
       "./Labelled/Bleatings/evt_000_000_000684_210415_...  Bleatings  0.805780   \n",
       "./Labelled/Bleatings/evt_000_000_002434_210416_...  Bleatings  0.651157   \n",
       "\n",
       "                                                           1         2  \\\n",
       "path                                                                     \n",
       "./Labelled/Bleatings/evt_000_000_000681_210415_...  0.155233 -0.232169   \n",
       "./Labelled/Bleatings/evt_000_000_000682_210415_... -0.009147 -0.807296   \n",
       "./Labelled/Bleatings/evt_000_000_000683_210415_...  0.494060 -0.097277   \n",
       "./Labelled/Bleatings/evt_000_000_000684_210415_...  0.976582 -0.477301   \n",
       "./Labelled/Bleatings/evt_000_000_002434_210416_... -0.002178 -0.902648   \n",
       "\n",
       "                                                           3         4  \\\n",
       "path                                                                     \n",
       "./Labelled/Bleatings/evt_000_000_000681_210415_... -0.201178  0.206299   \n",
       "./Labelled/Bleatings/evt_000_000_000682_210415_... -0.633419 -0.555820   \n",
       "./Labelled/Bleatings/evt_000_000_000683_210415_...  0.017268  0.327210   \n",
       "./Labelled/Bleatings/evt_000_000_000684_210415_...  0.686392 -0.606207   \n",
       "./Labelled/Bleatings/evt_000_000_002434_210416_...  0.265438 -1.208112   \n",
       "\n",
       "                                                           5         6  \\\n",
       "path                                                                     \n",
       "./Labelled/Bleatings/evt_000_000_000681_210415_... -0.812587  0.350786   \n",
       "./Labelled/Bleatings/evt_000_000_000682_210415_... -0.483127 -0.247325   \n",
       "./Labelled/Bleatings/evt_000_000_000683_210415_...  0.516250  0.927306   \n",
       "./Labelled/Bleatings/evt_000_000_000684_210415_... -1.136907 -1.306880   \n",
       "./Labelled/Bleatings/evt_000_000_002434_210416_... -0.640320 -0.343720   \n",
       "\n",
       "                                                           7         8  ...  \\\n",
       "path                                                                    ...   \n",
       "./Labelled/Bleatings/evt_000_000_000681_210415_... -0.459605 -0.483644  ...   \n",
       "./Labelled/Bleatings/evt_000_000_000682_210415_...  0.688479  1.102261  ...   \n",
       "./Labelled/Bleatings/evt_000_000_000683_210415_... -1.170098  0.393075  ...   \n",
       "./Labelled/Bleatings/evt_000_000_000684_210415_... -0.922357 -0.334283  ...   \n",
       "./Labelled/Bleatings/evt_000_000_002434_210416_...  1.102376  0.713345  ...   \n",
       "\n",
       "                                                         190       191  \\\n",
       "path                                                                     \n",
       "./Labelled/Bleatings/evt_000_000_000681_210415_... -0.136273 -1.512237   \n",
       "./Labelled/Bleatings/evt_000_000_000682_210415_...  0.158165 -0.020859   \n",
       "./Labelled/Bleatings/evt_000_000_000683_210415_... -0.856356 -0.551477   \n",
       "./Labelled/Bleatings/evt_000_000_000684_210415_...  0.008805 -1.164836   \n",
       "./Labelled/Bleatings/evt_000_000_002434_210416_...  0.756449  0.452530   \n",
       "\n",
       "                                                         192       193  \\\n",
       "path                                                                     \n",
       "./Labelled/Bleatings/evt_000_000_000681_210415_...  0.313718 -0.025292   \n",
       "./Labelled/Bleatings/evt_000_000_000682_210415_...  0.099358  0.669381   \n",
       "./Labelled/Bleatings/evt_000_000_000683_210415_... -0.552312  0.002518   \n",
       "./Labelled/Bleatings/evt_000_000_000684_210415_... -0.138124  0.264209   \n",
       "./Labelled/Bleatings/evt_000_000_002434_210416_...  0.357011  0.359743   \n",
       "\n",
       "                                                         194       195  \\\n",
       "path                                                                     \n",
       "./Labelled/Bleatings/evt_000_000_000681_210415_...  0.424550  0.618080   \n",
       "./Labelled/Bleatings/evt_000_000_000682_210415_... -0.757209  0.146002   \n",
       "./Labelled/Bleatings/evt_000_000_000683_210415_... -0.085520 -0.047403   \n",
       "./Labelled/Bleatings/evt_000_000_000684_210415_... -0.138784  0.276497   \n",
       "./Labelled/Bleatings/evt_000_000_002434_210416_...  0.118464  0.318001   \n",
       "\n",
       "                                                         196       197  \\\n",
       "path                                                                     \n",
       "./Labelled/Bleatings/evt_000_000_000681_210415_...  0.493849 -0.480913   \n",
       "./Labelled/Bleatings/evt_000_000_000682_210415_...  0.395391  0.874418   \n",
       "./Labelled/Bleatings/evt_000_000_000683_210415_... -0.229064 -0.437311   \n",
       "./Labelled/Bleatings/evt_000_000_000684_210415_... -0.528750  0.180946   \n",
       "./Labelled/Bleatings/evt_000_000_002434_210416_...  0.526162  0.199136   \n",
       "\n",
       "                                                         198       199  \n",
       "path                                                                    \n",
       "./Labelled/Bleatings/evt_000_000_000681_210415_...  0.115574 -0.861757  \n",
       "./Labelled/Bleatings/evt_000_000_000682_210415_...  0.921241  0.427156  \n",
       "./Labelled/Bleatings/evt_000_000_000683_210415_...  0.156396 -0.163401  \n",
       "./Labelled/Bleatings/evt_000_000_000684_210415_...  0.164339 -0.217783  \n",
       "./Labelled/Bleatings/evt_000_000_002434_210416_... -0.190216 -0.760688  \n",
       "\n",
       "[5 rows x 201 columns]"
      ]
     },
     "execution_count": 86,
     "metadata": {},
     "output_type": "execute_result"
    }
   ],
   "source": [
    "features_df1 = pd.concat([metadata[[\"path\", \"label\"]], pd.DataFrame(scaled)], axis=1)\n",
    "features_df1 = features_df1.set_index(\"path\")\n",
    "\n",
    "features_df1.to_csv(\"mfcc_deltamfcc.csv\")\n",
    "features_df1.head()"
   ]
  },
  {
   "cell_type": "markdown",
   "id": "6f9822a7",
   "metadata": {},
   "source": [
    "# Extract example features set"
   ]
  },
  {
   "cell_type": "code",
   "execution_count": 5,
   "id": "9702b955",
   "metadata": {},
   "outputs": [],
   "source": [
    "# shuffle the data\n",
    "to_load = to_load.sample(frac=1)"
   ]
  },
  {
   "cell_type": "code",
   "execution_count": 11,
   "id": "7238ac18",
   "metadata": {},
   "outputs": [
    {
     "data": {
      "application/vnd.jupyter.widget-view+json": {
       "model_id": "ceb385dbaa6d4c06a17de6072f19b53d",
       "version_major": 2,
       "version_minor": 0
      },
      "text/plain": [
       "  0%|          | 0/50 [00:00<?, ?it/s]"
      ]
     },
     "metadata": {},
     "output_type": "display_data"
    }
   ],
   "source": [
    "features = []\n",
    "for element in tqdm_notebook(to_load.values.tolist()[:50]):\n",
    "    features_vector = []\n",
    "    filename = element[0]\n",
    "    y, sr = librosa.load(filename)\n",
    "    \n",
    "    # add filename for later indexing the dataframe\n",
    "    features_vector.append(filename)\n",
    "    \n",
    "    rms = librosa.feature.rms(y=y)\n",
    "    features_vector.append(np.mean(rms))\n",
    "    #chroma_stft = librosa.feature.chroma_stft(y=y, sr=sr)\n",
    "    #spec_cent = librosa.feature.spectral_centroid(y=y, sr=sr)\n",
    "    #spec_bw = librosa.feature.spectral_bandwidth(y=y, sr=sr)\n",
    "    #rolloff = librosa.feature.spectral_rolloff(y=y, sr=sr)\n",
    "    zcr = librosa.feature.zero_crossing_rate(y)\n",
    "    features_vector.append(np.mean(zcr))\n",
    "    \n",
    "    mfccs = librosa.feature.mfcc(y=y, sr=sr, n_mfcc=20)\n",
    "    features_vector = features_vector + [np.mean(e) for e in mfccs]\n",
    "    \n",
    "    #to_append = f'{filename} {np.mean(chroma_stft)} {np.mean(rmse)} {np.mean(spec_cent)} {np.mean(spec_bw)} {np.mean(rolloff)} {np.mean(zcr)}'    \n",
    "    #for e in mfcc:\n",
    "    #    to_append += f' {np.mean(e)}'\n",
    "    \n",
    "    # add the label\n",
    "    features_vector.append(element[1])\n",
    "    features.append(features_vector)"
   ]
  },
  {
   "cell_type": "code",
   "execution_count": 12,
   "id": "4e120d41",
   "metadata": {},
   "outputs": [
    {
     "data": {
      "text/html": [
       "<div>\n",
       "<style scoped>\n",
       "    .dataframe tbody tr th:only-of-type {\n",
       "        vertical-align: middle;\n",
       "    }\n",
       "\n",
       "    .dataframe tbody tr th {\n",
       "        vertical-align: top;\n",
       "    }\n",
       "\n",
       "    .dataframe thead th {\n",
       "        text-align: right;\n",
       "    }\n",
       "</style>\n",
       "<table border=\"1\" class=\"dataframe\">\n",
       "  <thead>\n",
       "    <tr style=\"text-align: right;\">\n",
       "      <th></th>\n",
       "      <th>rms</th>\n",
       "      <th>zcr</th>\n",
       "      <th>mfcc0</th>\n",
       "      <th>mfcc1</th>\n",
       "      <th>mfcc2</th>\n",
       "      <th>mfcc3</th>\n",
       "      <th>mfcc4</th>\n",
       "      <th>mfcc5</th>\n",
       "      <th>mfcc6</th>\n",
       "      <th>mfcc7</th>\n",
       "      <th>...</th>\n",
       "      <th>mfcc11</th>\n",
       "      <th>mfcc12</th>\n",
       "      <th>mfcc13</th>\n",
       "      <th>mfcc14</th>\n",
       "      <th>mfcc15</th>\n",
       "      <th>mfcc16</th>\n",
       "      <th>mfcc17</th>\n",
       "      <th>mfcc18</th>\n",
       "      <th>mfcc19</th>\n",
       "      <th>label</th>\n",
       "    </tr>\n",
       "    <tr>\n",
       "      <th>filename</th>\n",
       "      <th></th>\n",
       "      <th></th>\n",
       "      <th></th>\n",
       "      <th></th>\n",
       "      <th></th>\n",
       "      <th></th>\n",
       "      <th></th>\n",
       "      <th></th>\n",
       "      <th></th>\n",
       "      <th></th>\n",
       "      <th></th>\n",
       "      <th></th>\n",
       "      <th></th>\n",
       "      <th></th>\n",
       "      <th></th>\n",
       "      <th></th>\n",
       "      <th></th>\n",
       "      <th></th>\n",
       "      <th></th>\n",
       "      <th></th>\n",
       "      <th></th>\n",
       "    </tr>\n",
       "  </thead>\n",
       "  <tbody>\n",
       "    <tr>\n",
       "      <th>./Labelled/Bleatings/evt_000_003_017370_210422_143739.wav</th>\n",
       "      <td>0.016555</td>\n",
       "      <td>0.098719</td>\n",
       "      <td>-333.899994</td>\n",
       "      <td>142.983856</td>\n",
       "      <td>-56.197685</td>\n",
       "      <td>41.681320</td>\n",
       "      <td>-15.505000</td>\n",
       "      <td>9.609718</td>\n",
       "      <td>7.344662</td>\n",
       "      <td>10.028235</td>\n",
       "      <td>...</td>\n",
       "      <td>5.601384</td>\n",
       "      <td>4.752415</td>\n",
       "      <td>-4.012461</td>\n",
       "      <td>3.964277</td>\n",
       "      <td>-0.381156</td>\n",
       "      <td>10.751761</td>\n",
       "      <td>8.088605</td>\n",
       "      <td>4.815539</td>\n",
       "      <td>-0.730275</td>\n",
       "      <td>Bleatings</td>\n",
       "    </tr>\n",
       "    <tr>\n",
       "      <th>./Labelled/Others/evt_000_001_050725_210507_041404.wav</th>\n",
       "      <td>0.006705</td>\n",
       "      <td>0.064619</td>\n",
       "      <td>-410.253906</td>\n",
       "      <td>160.915268</td>\n",
       "      <td>-40.434196</td>\n",
       "      <td>52.212326</td>\n",
       "      <td>-19.761183</td>\n",
       "      <td>26.582207</td>\n",
       "      <td>-6.959056</td>\n",
       "      <td>13.494112</td>\n",
       "      <td>...</td>\n",
       "      <td>-0.789553</td>\n",
       "      <td>5.086392</td>\n",
       "      <td>-5.798947</td>\n",
       "      <td>7.198698</td>\n",
       "      <td>-9.410315</td>\n",
       "      <td>6.736906</td>\n",
       "      <td>-3.345610</td>\n",
       "      <td>4.026073</td>\n",
       "      <td>-0.839583</td>\n",
       "      <td>Others</td>\n",
       "    </tr>\n",
       "    <tr>\n",
       "      <th>./Labelled/Others/evt_000_004_056196_210512_095729.wav</th>\n",
       "      <td>0.022746</td>\n",
       "      <td>0.076490</td>\n",
       "      <td>-305.385803</td>\n",
       "      <td>136.546478</td>\n",
       "      <td>-26.544491</td>\n",
       "      <td>24.138884</td>\n",
       "      <td>2.732224</td>\n",
       "      <td>4.278108</td>\n",
       "      <td>3.278859</td>\n",
       "      <td>2.297472</td>\n",
       "      <td>...</td>\n",
       "      <td>-2.268005</td>\n",
       "      <td>1.848497</td>\n",
       "      <td>-1.533101</td>\n",
       "      <td>0.513620</td>\n",
       "      <td>-0.386419</td>\n",
       "      <td>4.270723</td>\n",
       "      <td>0.889709</td>\n",
       "      <td>2.118828</td>\n",
       "      <td>3.440112</td>\n",
       "      <td>Others</td>\n",
       "    </tr>\n",
       "    <tr>\n",
       "      <th>./Labelled/Others/evt_000_003_069975_210516_172141.wav</th>\n",
       "      <td>0.012991</td>\n",
       "      <td>0.092632</td>\n",
       "      <td>-322.414490</td>\n",
       "      <td>164.939301</td>\n",
       "      <td>-68.396179</td>\n",
       "      <td>43.906757</td>\n",
       "      <td>-21.451475</td>\n",
       "      <td>26.462368</td>\n",
       "      <td>-17.275246</td>\n",
       "      <td>16.139709</td>\n",
       "      <td>...</td>\n",
       "      <td>-3.744617</td>\n",
       "      <td>9.959677</td>\n",
       "      <td>-7.539350</td>\n",
       "      <td>6.872898</td>\n",
       "      <td>-4.783088</td>\n",
       "      <td>8.239529</td>\n",
       "      <td>-5.825597</td>\n",
       "      <td>2.630365</td>\n",
       "      <td>0.786140</td>\n",
       "      <td>Others</td>\n",
       "    </tr>\n",
       "    <tr>\n",
       "      <th>./Labelled/Others/evt_001_003_028392_210429_190724.wav</th>\n",
       "      <td>0.007446</td>\n",
       "      <td>0.089268</td>\n",
       "      <td>-362.616333</td>\n",
       "      <td>142.717361</td>\n",
       "      <td>-47.316021</td>\n",
       "      <td>55.047962</td>\n",
       "      <td>-21.027283</td>\n",
       "      <td>26.120560</td>\n",
       "      <td>-12.984117</td>\n",
       "      <td>9.336222</td>\n",
       "      <td>...</td>\n",
       "      <td>-3.544557</td>\n",
       "      <td>7.074082</td>\n",
       "      <td>-6.766791</td>\n",
       "      <td>11.192875</td>\n",
       "      <td>-7.160723</td>\n",
       "      <td>6.033654</td>\n",
       "      <td>-2.298451</td>\n",
       "      <td>3.237531</td>\n",
       "      <td>-0.823168</td>\n",
       "      <td>Others</td>\n",
       "    </tr>\n",
       "  </tbody>\n",
       "</table>\n",
       "<p>5 rows × 23 columns</p>\n",
       "</div>"
      ],
      "text/plain": [
       "                                                         rms       zcr  \\\n",
       "filename                                                                 \n",
       "./Labelled/Bleatings/evt_000_003_017370_210422_...  0.016555  0.098719   \n",
       "./Labelled/Others/evt_000_001_050725_210507_041...  0.006705  0.064619   \n",
       "./Labelled/Others/evt_000_004_056196_210512_095...  0.022746  0.076490   \n",
       "./Labelled/Others/evt_000_003_069975_210516_172...  0.012991  0.092632   \n",
       "./Labelled/Others/evt_001_003_028392_210429_190...  0.007446  0.089268   \n",
       "\n",
       "                                                         mfcc0       mfcc1  \\\n",
       "filename                                                                     \n",
       "./Labelled/Bleatings/evt_000_003_017370_210422_... -333.899994  142.983856   \n",
       "./Labelled/Others/evt_000_001_050725_210507_041... -410.253906  160.915268   \n",
       "./Labelled/Others/evt_000_004_056196_210512_095... -305.385803  136.546478   \n",
       "./Labelled/Others/evt_000_003_069975_210516_172... -322.414490  164.939301   \n",
       "./Labelled/Others/evt_001_003_028392_210429_190... -362.616333  142.717361   \n",
       "\n",
       "                                                        mfcc2      mfcc3  \\\n",
       "filename                                                                   \n",
       "./Labelled/Bleatings/evt_000_003_017370_210422_... -56.197685  41.681320   \n",
       "./Labelled/Others/evt_000_001_050725_210507_041... -40.434196  52.212326   \n",
       "./Labelled/Others/evt_000_004_056196_210512_095... -26.544491  24.138884   \n",
       "./Labelled/Others/evt_000_003_069975_210516_172... -68.396179  43.906757   \n",
       "./Labelled/Others/evt_001_003_028392_210429_190... -47.316021  55.047962   \n",
       "\n",
       "                                                        mfcc4      mfcc5  \\\n",
       "filename                                                                   \n",
       "./Labelled/Bleatings/evt_000_003_017370_210422_... -15.505000   9.609718   \n",
       "./Labelled/Others/evt_000_001_050725_210507_041... -19.761183  26.582207   \n",
       "./Labelled/Others/evt_000_004_056196_210512_095...   2.732224   4.278108   \n",
       "./Labelled/Others/evt_000_003_069975_210516_172... -21.451475  26.462368   \n",
       "./Labelled/Others/evt_001_003_028392_210429_190... -21.027283  26.120560   \n",
       "\n",
       "                                                        mfcc6      mfcc7  ...  \\\n",
       "filename                                                                  ...   \n",
       "./Labelled/Bleatings/evt_000_003_017370_210422_...   7.344662  10.028235  ...   \n",
       "./Labelled/Others/evt_000_001_050725_210507_041...  -6.959056  13.494112  ...   \n",
       "./Labelled/Others/evt_000_004_056196_210512_095...   3.278859   2.297472  ...   \n",
       "./Labelled/Others/evt_000_003_069975_210516_172... -17.275246  16.139709  ...   \n",
       "./Labelled/Others/evt_001_003_028392_210429_190... -12.984117   9.336222  ...   \n",
       "\n",
       "                                                      mfcc11    mfcc12  \\\n",
       "filename                                                                 \n",
       "./Labelled/Bleatings/evt_000_003_017370_210422_...  5.601384  4.752415   \n",
       "./Labelled/Others/evt_000_001_050725_210507_041... -0.789553  5.086392   \n",
       "./Labelled/Others/evt_000_004_056196_210512_095... -2.268005  1.848497   \n",
       "./Labelled/Others/evt_000_003_069975_210516_172... -3.744617  9.959677   \n",
       "./Labelled/Others/evt_001_003_028392_210429_190... -3.544557  7.074082   \n",
       "\n",
       "                                                      mfcc13     mfcc14  \\\n",
       "filename                                                                  \n",
       "./Labelled/Bleatings/evt_000_003_017370_210422_... -4.012461   3.964277   \n",
       "./Labelled/Others/evt_000_001_050725_210507_041... -5.798947   7.198698   \n",
       "./Labelled/Others/evt_000_004_056196_210512_095... -1.533101   0.513620   \n",
       "./Labelled/Others/evt_000_003_069975_210516_172... -7.539350   6.872898   \n",
       "./Labelled/Others/evt_001_003_028392_210429_190... -6.766791  11.192875   \n",
       "\n",
       "                                                      mfcc15     mfcc16  \\\n",
       "filename                                                                  \n",
       "./Labelled/Bleatings/evt_000_003_017370_210422_... -0.381156  10.751761   \n",
       "./Labelled/Others/evt_000_001_050725_210507_041... -9.410315   6.736906   \n",
       "./Labelled/Others/evt_000_004_056196_210512_095... -0.386419   4.270723   \n",
       "./Labelled/Others/evt_000_003_069975_210516_172... -4.783088   8.239529   \n",
       "./Labelled/Others/evt_001_003_028392_210429_190... -7.160723   6.033654   \n",
       "\n",
       "                                                      mfcc17    mfcc18  \\\n",
       "filename                                                                 \n",
       "./Labelled/Bleatings/evt_000_003_017370_210422_...  8.088605  4.815539   \n",
       "./Labelled/Others/evt_000_001_050725_210507_041... -3.345610  4.026073   \n",
       "./Labelled/Others/evt_000_004_056196_210512_095...  0.889709  2.118828   \n",
       "./Labelled/Others/evt_000_003_069975_210516_172... -5.825597  2.630365   \n",
       "./Labelled/Others/evt_001_003_028392_210429_190... -2.298451  3.237531   \n",
       "\n",
       "                                                      mfcc19      label  \n",
       "filename                                                                 \n",
       "./Labelled/Bleatings/evt_000_003_017370_210422_... -0.730275  Bleatings  \n",
       "./Labelled/Others/evt_000_001_050725_210507_041... -0.839583     Others  \n",
       "./Labelled/Others/evt_000_004_056196_210512_095...  3.440112     Others  \n",
       "./Labelled/Others/evt_000_003_069975_210516_172...  0.786140     Others  \n",
       "./Labelled/Others/evt_001_003_028392_210429_190... -0.823168     Others  \n",
       "\n",
       "[5 rows x 23 columns]"
      ]
     },
     "execution_count": 12,
     "metadata": {},
     "output_type": "execute_result"
    }
   ],
   "source": [
    "features_df = pd.DataFrame(features, columns=[\"filename\", \"rms\", \"zcr\"] + [f'mfcc{i}' for i in range(20)]+ [\"label\"])\n",
    "features_df = features_df.set_index(\"filename\")\n",
    "features_df.head()"
   ]
  },
  {
   "cell_type": "code",
   "execution_count": 13,
   "id": "5dd121ab",
   "metadata": {},
   "outputs": [],
   "source": [
    "features_df.to_csv(\"sample.csv\")"
   ]
  },
  {
   "cell_type": "code",
   "execution_count": null,
   "id": "aada9b24",
   "metadata": {},
   "outputs": [],
   "source": []
  }
 ],
 "metadata": {
  "kernelspec": {
   "display_name": "Python 3 (ipykernel)",
   "language": "python",
   "name": "python3"
  },
  "language_info": {
   "codemirror_mode": {
    "name": "ipython",
    "version": 3
   },
   "file_extension": ".py",
   "mimetype": "text/x-python",
   "name": "python",
   "nbconvert_exporter": "python",
   "pygments_lexer": "ipython3",
   "version": "3.8.10"
  }
 },
 "nbformat": 4,
 "nbformat_minor": 5
}
