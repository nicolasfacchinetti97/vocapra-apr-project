{
 "cells": [
  {
   "cell_type": "code",
   "execution_count": 1,
   "id": "956883e0",
   "metadata": {},
   "outputs": [],
   "source": [
    "# data manipulations\n",
    "import numpy as np\n",
    "import pandas as pd\n",
    "# progress bar\n",
    "from tqdm.notebook import tqdm_notebook\n",
    "# audio analysis\n",
    "import librosa\n",
    "# save audio file\n",
    "import soundfile as sf\n",
    "# noise reducer\n",
    "import noisereduce as nr\n",
    "# standardization\n",
    "from sklearn.preprocessing import StandardScaler\n",
    "# serialization of objects\n",
    "import pickle\n",
    "# working with directory\n",
    "import pathlib"
   ]
  },
  {
   "cell_type": "code",
   "execution_count": 2,
   "id": "a0941a99",
   "metadata": {},
   "outputs": [],
   "source": [
    "# printing results and listening\n",
    "import matplotlib.pyplot as plt\n",
    "import IPython.display as ipd\n",
    "import librosa.display\n",
    "\n",
    "def wave_and_audio(sample, sr):\n",
    "    # plot the signal\n",
    "    plt.figure(figsize=(10, 4))\n",
    "    librosa.display.waveplot(sample, sr=sr)\n",
    "    plt.title('Waveplot of audio sample')\n",
    "    plt.show()\n",
    "    # reproduce the sample\n",
    "    ipd.display(ipd.Audio(sample, rate=sr))"
   ]
  },
  {
   "cell_type": "code",
   "execution_count": 30,
   "id": "bded34a1",
   "metadata": {},
   "outputs": [
    {
     "data": {
      "text/html": [
       "<div>\n",
       "<style scoped>\n",
       "    .dataframe tbody tr th:only-of-type {\n",
       "        vertical-align: middle;\n",
       "    }\n",
       "\n",
       "    .dataframe tbody tr th {\n",
       "        vertical-align: top;\n",
       "    }\n",
       "\n",
       "    .dataframe thead th {\n",
       "        text-align: right;\n",
       "    }\n",
       "</style>\n",
       "<table border=\"1\" class=\"dataframe\">\n",
       "  <thead>\n",
       "    <tr style=\"text-align: right;\">\n",
       "      <th></th>\n",
       "      <th>path</th>\n",
       "      <th>label</th>\n",
       "      <th>samplingrate</th>\n",
       "      <th>ms</th>\n",
       "    </tr>\n",
       "  </thead>\n",
       "  <tbody>\n",
       "    <tr>\n",
       "      <th>0</th>\n",
       "      <td>./Labelled/Bleatings/evt_000_000_000681_210415...</td>\n",
       "      <td>Bleatings</td>\n",
       "      <td>16000</td>\n",
       "      <td>9751.0</td>\n",
       "    </tr>\n",
       "    <tr>\n",
       "      <th>1</th>\n",
       "      <td>./Labelled/Bleatings/evt_000_000_000682_210415...</td>\n",
       "      <td>Bleatings</td>\n",
       "      <td>16000</td>\n",
       "      <td>6190.0</td>\n",
       "    </tr>\n",
       "    <tr>\n",
       "      <th>2</th>\n",
       "      <td>./Labelled/Bleatings/evt_000_000_000683_210415...</td>\n",
       "      <td>Bleatings</td>\n",
       "      <td>16000</td>\n",
       "      <td>6072.0</td>\n",
       "    </tr>\n",
       "    <tr>\n",
       "      <th>3</th>\n",
       "      <td>./Labelled/Bleatings/evt_000_000_000684_210415...</td>\n",
       "      <td>Bleatings</td>\n",
       "      <td>16000</td>\n",
       "      <td>6106.0</td>\n",
       "    </tr>\n",
       "    <tr>\n",
       "      <th>4</th>\n",
       "      <td>./Labelled/Bleatings/evt_000_000_002434_210416...</td>\n",
       "      <td>Bleatings</td>\n",
       "      <td>16000</td>\n",
       "      <td>10264.0</td>\n",
       "    </tr>\n",
       "  </tbody>\n",
       "</table>\n",
       "</div>"
      ],
      "text/plain": [
       "                                                path      label  samplingrate  \\\n",
       "0  ./Labelled/Bleatings/evt_000_000_000681_210415...  Bleatings         16000   \n",
       "1  ./Labelled/Bleatings/evt_000_000_000682_210415...  Bleatings         16000   \n",
       "2  ./Labelled/Bleatings/evt_000_000_000683_210415...  Bleatings         16000   \n",
       "3  ./Labelled/Bleatings/evt_000_000_000684_210415...  Bleatings         16000   \n",
       "4  ./Labelled/Bleatings/evt_000_000_002434_210416...  Bleatings         16000   \n",
       "\n",
       "        ms  \n",
       "0   9751.0  \n",
       "1   6190.0  \n",
       "2   6072.0  \n",
       "3   6106.0  \n",
       "4  10264.0  "
      ]
     },
     "execution_count": 30,
     "metadata": {},
     "output_type": "execute_result"
    }
   ],
   "source": [
    "metadata = pd.read_csv(\"to_load.csv\")\n",
    "metadata.head()"
   ]
  },
  {
   "cell_type": "code",
   "execution_count": 4,
   "id": "3208d842",
   "metadata": {},
   "outputs": [
    {
     "data": {
      "text/plain": [
       "16000"
      ]
     },
     "execution_count": 4,
     "metadata": {},
     "output_type": "execute_result"
    }
   ],
   "source": [
    "sr = metadata[\"samplingrate\"][0]\n",
    "sr"
   ]
  },
  {
   "cell_type": "code",
   "execution_count": 5,
   "id": "2d0b683e",
   "metadata": {},
   "outputs": [
    {
     "data": {
      "application/vnd.jupyter.widget-view+json": {
       "model_id": "61808e8cee124226b66cce6f5084f8c2",
       "version_major": 2,
       "version_minor": 0
      },
      "text/plain": [
       "  0%|          | 0/827 [00:00<?, ?it/s]"
      ]
     },
     "metadata": {},
     "output_type": "display_data"
    },
    {
     "data": {
      "text/plain": [
       "[array([ 0.01379395,  0.00057983,  0.01922607, ..., -0.01580811,\n",
       "        -0.01345825, -0.01861572], dtype=float32),\n",
       " array([-0.01376343, -0.00183105,  0.00115967, ...,  0.02661133,\n",
       "         0.02331543,  0.01779175], dtype=float32),\n",
       " array([-2.3986816e-02, -9.6130371e-03, -1.3641357e-02, ...,\n",
       "        -1.0070801e-02,  6.1035156e-05,  4.5776367e-03], dtype=float32),\n",
       " array([-0.01174927, -0.00735474, -0.00198364, ..., -0.00079346,\n",
       "         0.00054932, -0.00073242], dtype=float32),\n",
       " array([ 0.05810547,  0.0345459 ,  0.0211792 , ..., -0.07623291,\n",
       "         0.03268433,  0.13360596], dtype=float32)]"
      ]
     },
     "execution_count": 5,
     "metadata": {},
     "output_type": "execute_result"
    }
   ],
   "source": [
    "paths = metadata[\"path\"]\n",
    "samples = []\n",
    "for path in tqdm_notebook(paths):\n",
    "    sample, sampling_rate = librosa.load(path, sr=None, mono=True)\n",
    "    samples.append(sample)\n",
    "samples[:5]"
   ]
  },
  {
   "cell_type": "markdown",
   "id": "71604255",
   "metadata": {},
   "source": [
    "# Data augmentation"
   ]
  },
  {
   "cell_type": "markdown",
   "id": "81936e60",
   "metadata": {},
   "source": [
    "The dataset is pretty imbalanced so we can balance the total duration of the samples by mean of data augmentation as presented in analysis.ipybn<br>Further to balancing the dataser I decided also to incerase the samples for each class in order to increase the model capability of generalization."
   ]
  },
  {
   "cell_type": "code",
   "execution_count": 6,
   "id": "d1fec345",
   "metadata": {},
   "outputs": [],
   "source": [
    "def time_stretch_sample(sample, factors):\n",
    "    stretched = []\n",
    "    for f in factors:\n",
    "        stretched.append(librosa.effects.time_stretch(sample, f))\n",
    "    return stretched\n",
    "\n",
    "def pitch_shift_sample(sample, factors, sr):\n",
    "    stretched = []\n",
    "    for f in factors:\n",
    "        stretched.append(librosa.effects.pitch_shift(sample, sr, f))\n",
    "    return stretched\n",
    "\n",
    "time_factors = [0.81, 0.93, 1.07, 1.23]\n",
    "pitch_factors = [-3, -1-5, +1-5, +3]"
   ]
  },
  {
   "cell_type": "markdown",
   "id": "53b988df",
   "metadata": {},
   "source": [
    "Bleaetings is the class with more samples with a duration of 4814 seconds. I decided to obtain a total duration for each class of at least 7000 seconds"
   ]
  },
  {
   "cell_type": "code",
   "execution_count": 31,
   "id": "3b2d366e",
   "metadata": {},
   "outputs": [],
   "source": [
    "def return_type(df, label):\n",
    "    condition = df[\"label\"]==label\n",
    "    elements = df[condition]\n",
    "    return elements\n",
    "\n",
    "metadata.insert(len(metadata.columns), 'mod', 0)\n",
    "\n",
    "bleatings = return_type(metadata, \"Bleatings\")\n",
    "contactcalls = return_type(metadata, \"ContactCalls\")\n",
    "others = return_type(metadata, \"Others\")"
   ]
  },
  {
   "cell_type": "code",
   "execution_count": 33,
   "id": "b90e748e",
   "metadata": {},
   "outputs": [
    {
     "data": {
      "text/html": [
       "<div>\n",
       "<style scoped>\n",
       "    .dataframe tbody tr th:only-of-type {\n",
       "        vertical-align: middle;\n",
       "    }\n",
       "\n",
       "    .dataframe tbody tr th {\n",
       "        vertical-align: top;\n",
       "    }\n",
       "\n",
       "    .dataframe thead th {\n",
       "        text-align: right;\n",
       "    }\n",
       "</style>\n",
       "<table border=\"1\" class=\"dataframe\">\n",
       "  <thead>\n",
       "    <tr style=\"text-align: right;\">\n",
       "      <th></th>\n",
       "      <th>path</th>\n",
       "      <th>label</th>\n",
       "      <th>samplingrate</th>\n",
       "      <th>ms</th>\n",
       "      <th>mod</th>\n",
       "    </tr>\n",
       "  </thead>\n",
       "  <tbody>\n",
       "    <tr>\n",
       "      <th>426</th>\n",
       "      <td>./Labelled/Others/evt_000_000_000388_210415_13...</td>\n",
       "      <td>Others</td>\n",
       "      <td>16000</td>\n",
       "      <td>12060.0</td>\n",
       "      <td>0</td>\n",
       "    </tr>\n",
       "    <tr>\n",
       "      <th>427</th>\n",
       "      <td>./Labelled/Others/evt_000_000_001500_210415_22...</td>\n",
       "      <td>Others</td>\n",
       "      <td>16000</td>\n",
       "      <td>6091.0</td>\n",
       "      <td>0</td>\n",
       "    </tr>\n",
       "    <tr>\n",
       "      <th>428</th>\n",
       "      <td>./Labelled/Others/evt_000_000_003856_210416_21...</td>\n",
       "      <td>Others</td>\n",
       "      <td>16000</td>\n",
       "      <td>6055.0</td>\n",
       "      <td>0</td>\n",
       "    </tr>\n",
       "    <tr>\n",
       "      <th>429</th>\n",
       "      <td>./Labelled/Others/evt_000_000_008803_210419_12...</td>\n",
       "      <td>Others</td>\n",
       "      <td>16000</td>\n",
       "      <td>12575.0</td>\n",
       "      <td>0</td>\n",
       "    </tr>\n",
       "    <tr>\n",
       "      <th>430</th>\n",
       "      <td>./Labelled/Others/evt_000_000_010313_210420_01...</td>\n",
       "      <td>Others</td>\n",
       "      <td>16000</td>\n",
       "      <td>6209.0</td>\n",
       "      <td>0</td>\n",
       "    </tr>\n",
       "  </tbody>\n",
       "</table>\n",
       "</div>"
      ],
      "text/plain": [
       "                                                  path   label  samplingrate  \\\n",
       "426  ./Labelled/Others/evt_000_000_000388_210415_13...  Others         16000   \n",
       "427  ./Labelled/Others/evt_000_000_001500_210415_22...  Others         16000   \n",
       "428  ./Labelled/Others/evt_000_000_003856_210416_21...  Others         16000   \n",
       "429  ./Labelled/Others/evt_000_000_008803_210419_12...  Others         16000   \n",
       "430  ./Labelled/Others/evt_000_000_010313_210420_01...  Others         16000   \n",
       "\n",
       "          ms  mod  \n",
       "426  12060.0    0  \n",
       "427   6091.0    0  \n",
       "428   6055.0    0  \n",
       "429  12575.0    0  \n",
       "430   6209.0    0  "
      ]
     },
     "execution_count": 33,
     "metadata": {},
     "output_type": "execute_result"
    }
   ],
   "source": [
    "others.head()"
   ]
  },
  {
   "cell_type": "markdown",
   "id": "6e9e2b66",
   "metadata": {},
   "source": [
    "We augment the data by picking random records (only once) and apply at random one of the two transformations"
   ]
  },
  {
   "cell_type": "code",
   "execution_count": 22,
   "id": "1fddff11",
   "metadata": {},
   "outputs": [],
   "source": [
    "def augment_data(metadata, samples, time_f, pitch_f):\n",
    "    metadata = metadata.copy()\n",
    "    extended_samples = []\n",
    "    new_metadata = []\n",
    "    tot_duration = np.sum(metadata[\"ms\"])\n",
    "    while tot_duration < 7000000:\n",
    "        # get a random non taken sample\n",
    "        not_picked = metadata[metadata[\"mod\"]==0]\n",
    "        choosen = not_picked.sample()\n",
    "        idx = choosen.index[0]\n",
    "        sample = samples[idx]\n",
    "        \n",
    "        # get values\n",
    "        choosen = choosen.values[0]\n",
    "        path = choosen[0]\n",
    "        label = choosen[1]\n",
    "        sr = choosen[2]\n",
    "        \n",
    "        # update metadata locally\n",
    "        metadata.loc[idx][\"mod\"] = 1\n",
    "        \n",
    "        # choose at random the transformation: 1 time, 2 pitch\n",
    "        choose = np.random.randint(1,3)\n",
    "        mod_samples = time_stretch_sample(sample, time_f) if choose==1 else pitch_shift_sample(sample, pitch_f, sr)\n",
    "        \n",
    "        # extract the metadata\n",
    "        mod_metadata = [(path, label, sr, 1000*len(s)/sr, choose) for s in mod_samples]\n",
    "        \n",
    "        # add modified samples and metadata to the list\n",
    "        extended_samples += mod_samples\n",
    "        new_metadata += mod_metadata\n",
    "        \n",
    "        # update tot duration\n",
    "        tot_duration += np.sum([1000*len(s)/sr for s in mod_samples])\n",
    "    \n",
    "    #new_metadata = pd.DataFrame(new_metadata, columns=[\"path\",\"label\",\"samplingrate\",\"ms\",\"mod\"])\n",
    "    return extended_samples, new_metadata"
   ]
  },
  {
   "cell_type": "code",
   "execution_count": 23,
   "id": "e64a8e27",
   "metadata": {},
   "outputs": [
    {
     "data": {
      "application/vnd.jupyter.widget-view+json": {
       "model_id": "a640a8c3e5ed49139bea9aa954573c48",
       "version_major": 2,
       "version_minor": 0
      },
      "text/plain": [
       "  0%|          | 0/3 [00:00<?, ?it/s]"
      ]
     },
     "metadata": {},
     "output_type": "display_data"
    },
    {
     "name": "stderr",
     "output_type": "stream",
     "text": [
      "C:\\Users\\Nicolas Facchinetti\\.conda\\envs\\progapr\\lib\\site-packages\\pandas\\core\\series.py:1056: SettingWithCopyWarning: \n",
      "A value is trying to be set on a copy of a slice from a DataFrame\n",
      "\n",
      "See the caveats in the documentation: https://pandas.pydata.org/pandas-docs/stable/user_guide/indexing.html#returning-a-view-versus-a-copy\n",
      "  cacher_needs_updating = self._check_is_chained_assignment_possible()\n"
     ]
    }
   ],
   "source": [
    "to_do = [bleatings, contactcalls, others]\n",
    "\n",
    "extended_samples = []\n",
    "extended_metadata = []\n",
    "\n",
    "for category in tqdm_notebook(to_do):\n",
    "    new_samples, new_metadata = augment_data(category, samples, time_factors, pitch_factors)\n",
    "    extended_samples += new_samples\n",
    "    extended_metadata += new_metadata"
   ]
  },
  {
   "cell_type": "code",
   "execution_count": 34,
   "id": "c4095363",
   "metadata": {},
   "outputs": [
    {
     "data": {
      "text/html": [
       "<div>\n",
       "<style scoped>\n",
       "    .dataframe tbody tr th:only-of-type {\n",
       "        vertical-align: middle;\n",
       "    }\n",
       "\n",
       "    .dataframe tbody tr th {\n",
       "        vertical-align: top;\n",
       "    }\n",
       "\n",
       "    .dataframe thead th {\n",
       "        text-align: right;\n",
       "    }\n",
       "</style>\n",
       "<table border=\"1\" class=\"dataframe\">\n",
       "  <thead>\n",
       "    <tr style=\"text-align: right;\">\n",
       "      <th></th>\n",
       "      <th>path</th>\n",
       "      <th>label</th>\n",
       "      <th>samplingrate</th>\n",
       "      <th>ms</th>\n",
       "      <th>mod</th>\n",
       "    </tr>\n",
       "  </thead>\n",
       "  <tbody>\n",
       "    <tr>\n",
       "      <th>0</th>\n",
       "      <td>./Labelled/Bleatings/evt_000_001_050950_210507...</td>\n",
       "      <td>Bleatings</td>\n",
       "      <td>16000</td>\n",
       "      <td>14129.6250</td>\n",
       "      <td>1</td>\n",
       "    </tr>\n",
       "    <tr>\n",
       "      <th>1</th>\n",
       "      <td>./Labelled/Bleatings/evt_000_001_050950_210507...</td>\n",
       "      <td>Bleatings</td>\n",
       "      <td>16000</td>\n",
       "      <td>12306.4375</td>\n",
       "      <td>1</td>\n",
       "    </tr>\n",
       "    <tr>\n",
       "      <th>2</th>\n",
       "      <td>./Labelled/Bleatings/evt_000_001_050950_210507...</td>\n",
       "      <td>Bleatings</td>\n",
       "      <td>16000</td>\n",
       "      <td>10696.2500</td>\n",
       "      <td>1</td>\n",
       "    </tr>\n",
       "    <tr>\n",
       "      <th>3</th>\n",
       "      <td>./Labelled/Bleatings/evt_000_001_050950_210507...</td>\n",
       "      <td>Bleatings</td>\n",
       "      <td>16000</td>\n",
       "      <td>9304.8750</td>\n",
       "      <td>1</td>\n",
       "    </tr>\n",
       "    <tr>\n",
       "      <th>4</th>\n",
       "      <td>./Labelled/Bleatings/evt_000_004_079806_210523...</td>\n",
       "      <td>Bleatings</td>\n",
       "      <td>16000</td>\n",
       "      <td>6820.0000</td>\n",
       "      <td>2</td>\n",
       "    </tr>\n",
       "  </tbody>\n",
       "</table>\n",
       "</div>"
      ],
      "text/plain": [
       "                                                path      label  samplingrate  \\\n",
       "0  ./Labelled/Bleatings/evt_000_001_050950_210507...  Bleatings         16000   \n",
       "1  ./Labelled/Bleatings/evt_000_001_050950_210507...  Bleatings         16000   \n",
       "2  ./Labelled/Bleatings/evt_000_001_050950_210507...  Bleatings         16000   \n",
       "3  ./Labelled/Bleatings/evt_000_001_050950_210507...  Bleatings         16000   \n",
       "4  ./Labelled/Bleatings/evt_000_004_079806_210523...  Bleatings         16000   \n",
       "\n",
       "           ms  mod  \n",
       "0  14129.6250    1  \n",
       "1  12306.4375    1  \n",
       "2  10696.2500    1  \n",
       "3   9304.8750    1  \n",
       "4   6820.0000    2  "
      ]
     },
     "execution_count": 34,
     "metadata": {},
     "output_type": "execute_result"
    }
   ],
   "source": [
    "extended_metadata_df = pd.DataFrame(extended_metadata, columns=[\"path\",\"label\",\"samplingrate\",\"ms\",\"mod\"])\n",
    "extended_metadata_df.head()"
   ]
  },
  {
   "cell_type": "code",
   "execution_count": 37,
   "id": "09692145",
   "metadata": {},
   "outputs": [
    {
     "data": {
      "text/html": [
       "<div>\n",
       "<style scoped>\n",
       "    .dataframe tbody tr th:only-of-type {\n",
       "        vertical-align: middle;\n",
       "    }\n",
       "\n",
       "    .dataframe tbody tr th {\n",
       "        vertical-align: top;\n",
       "    }\n",
       "\n",
       "    .dataframe thead th {\n",
       "        text-align: right;\n",
       "    }\n",
       "</style>\n",
       "<table border=\"1\" class=\"dataframe\">\n",
       "  <thead>\n",
       "    <tr style=\"text-align: right;\">\n",
       "      <th></th>\n",
       "      <th>path</th>\n",
       "      <th>label</th>\n",
       "      <th>samplingrate</th>\n",
       "      <th>ms</th>\n",
       "      <th>mod</th>\n",
       "    </tr>\n",
       "  </thead>\n",
       "  <tbody>\n",
       "    <tr>\n",
       "      <th>0</th>\n",
       "      <td>./Labelled/Bleatings/evt_000_000_000681_210415...</td>\n",
       "      <td>Bleatings</td>\n",
       "      <td>16000</td>\n",
       "      <td>9751.0</td>\n",
       "      <td>0</td>\n",
       "    </tr>\n",
       "    <tr>\n",
       "      <th>1</th>\n",
       "      <td>./Labelled/Bleatings/evt_000_000_000682_210415...</td>\n",
       "      <td>Bleatings</td>\n",
       "      <td>16000</td>\n",
       "      <td>6190.0</td>\n",
       "      <td>0</td>\n",
       "    </tr>\n",
       "    <tr>\n",
       "      <th>2</th>\n",
       "      <td>./Labelled/Bleatings/evt_000_000_000683_210415...</td>\n",
       "      <td>Bleatings</td>\n",
       "      <td>16000</td>\n",
       "      <td>6072.0</td>\n",
       "      <td>0</td>\n",
       "    </tr>\n",
       "    <tr>\n",
       "      <th>3</th>\n",
       "      <td>./Labelled/Bleatings/evt_000_000_000684_210415...</td>\n",
       "      <td>Bleatings</td>\n",
       "      <td>16000</td>\n",
       "      <td>6106.0</td>\n",
       "      <td>0</td>\n",
       "    </tr>\n",
       "    <tr>\n",
       "      <th>4</th>\n",
       "      <td>./Labelled/Bleatings/evt_000_000_002434_210416...</td>\n",
       "      <td>Bleatings</td>\n",
       "      <td>16000</td>\n",
       "      <td>10264.0</td>\n",
       "      <td>0</td>\n",
       "    </tr>\n",
       "    <tr>\n",
       "      <th>...</th>\n",
       "      <td>...</td>\n",
       "      <td>...</td>\n",
       "      <td>...</td>\n",
       "      <td>...</td>\n",
       "      <td>...</td>\n",
       "    </tr>\n",
       "    <tr>\n",
       "      <th>1450</th>\n",
       "      <td>./Labelled/Others/evt_001_002_034264_210502_07...</td>\n",
       "      <td>Others</td>\n",
       "      <td>16000</td>\n",
       "      <td>10048.0</td>\n",
       "      <td>2</td>\n",
       "    </tr>\n",
       "    <tr>\n",
       "      <th>1451</th>\n",
       "      <td>./Labelled/Others/evt_000_001_108997_210601_09...</td>\n",
       "      <td>Others</td>\n",
       "      <td>16000</td>\n",
       "      <td>30250.0</td>\n",
       "      <td>2</td>\n",
       "    </tr>\n",
       "    <tr>\n",
       "      <th>1452</th>\n",
       "      <td>./Labelled/Others/evt_000_001_108997_210601_09...</td>\n",
       "      <td>Others</td>\n",
       "      <td>16000</td>\n",
       "      <td>30250.0</td>\n",
       "      <td>2</td>\n",
       "    </tr>\n",
       "    <tr>\n",
       "      <th>1453</th>\n",
       "      <td>./Labelled/Others/evt_000_001_108997_210601_09...</td>\n",
       "      <td>Others</td>\n",
       "      <td>16000</td>\n",
       "      <td>30250.0</td>\n",
       "      <td>2</td>\n",
       "    </tr>\n",
       "    <tr>\n",
       "      <th>1454</th>\n",
       "      <td>./Labelled/Others/evt_000_001_108997_210601_09...</td>\n",
       "      <td>Others</td>\n",
       "      <td>16000</td>\n",
       "      <td>30250.0</td>\n",
       "      <td>2</td>\n",
       "    </tr>\n",
       "  </tbody>\n",
       "</table>\n",
       "<p>1455 rows × 5 columns</p>\n",
       "</div>"
      ],
      "text/plain": [
       "                                                   path      label  \\\n",
       "0     ./Labelled/Bleatings/evt_000_000_000681_210415...  Bleatings   \n",
       "1     ./Labelled/Bleatings/evt_000_000_000682_210415...  Bleatings   \n",
       "2     ./Labelled/Bleatings/evt_000_000_000683_210415...  Bleatings   \n",
       "3     ./Labelled/Bleatings/evt_000_000_000684_210415...  Bleatings   \n",
       "4     ./Labelled/Bleatings/evt_000_000_002434_210416...  Bleatings   \n",
       "...                                                 ...        ...   \n",
       "1450  ./Labelled/Others/evt_001_002_034264_210502_07...     Others   \n",
       "1451  ./Labelled/Others/evt_000_001_108997_210601_09...     Others   \n",
       "1452  ./Labelled/Others/evt_000_001_108997_210601_09...     Others   \n",
       "1453  ./Labelled/Others/evt_000_001_108997_210601_09...     Others   \n",
       "1454  ./Labelled/Others/evt_000_001_108997_210601_09...     Others   \n",
       "\n",
       "      samplingrate       ms  mod  \n",
       "0            16000   9751.0    0  \n",
       "1            16000   6190.0    0  \n",
       "2            16000   6072.0    0  \n",
       "3            16000   6106.0    0  \n",
       "4            16000  10264.0    0  \n",
       "...            ...      ...  ...  \n",
       "1450         16000  10048.0    2  \n",
       "1451         16000  30250.0    2  \n",
       "1452         16000  30250.0    2  \n",
       "1453         16000  30250.0    2  \n",
       "1454         16000  30250.0    2  \n",
       "\n",
       "[1455 rows x 5 columns]"
      ]
     },
     "execution_count": 37,
     "metadata": {},
     "output_type": "execute_result"
    }
   ],
   "source": [
    "metadata_extended = metadata.append(extended_metadata_df, ignore_index=True)\n",
    "samples += extended_samples\n",
    "metadata_extended"
   ]
  },
  {
   "cell_type": "code",
   "execution_count": 38,
   "id": "e1ae14c8",
   "metadata": {},
   "outputs": [
    {
     "data": {
      "text/plain": [
       "1455"
      ]
     },
     "execution_count": 38,
     "metadata": {},
     "output_type": "execute_result"
    }
   ],
   "source": [
    "len(samples)"
   ]
  },
  {
   "cell_type": "code",
   "execution_count": 44,
   "id": "10cd77f0",
   "metadata": {},
   "outputs": [
    {
     "data": {
      "text/html": [
       "<div>\n",
       "<style scoped>\n",
       "    .dataframe tbody tr th:only-of-type {\n",
       "        vertical-align: middle;\n",
       "    }\n",
       "\n",
       "    .dataframe tbody tr th {\n",
       "        vertical-align: top;\n",
       "    }\n",
       "\n",
       "    .dataframe thead th {\n",
       "        text-align: right;\n",
       "    }\n",
       "</style>\n",
       "<table border=\"1\" class=\"dataframe\">\n",
       "  <thead>\n",
       "    <tr style=\"text-align: right;\">\n",
       "      <th></th>\n",
       "      <th>Tot ms</th>\n",
       "    </tr>\n",
       "  </thead>\n",
       "  <tbody>\n",
       "    <tr>\n",
       "      <th>Bleatings</th>\n",
       "      <td>7022875.75</td>\n",
       "    </tr>\n",
       "    <tr>\n",
       "      <th>ContactCalls</th>\n",
       "      <td>7110545.1875</td>\n",
       "    </tr>\n",
       "    <tr>\n",
       "      <th>Others</th>\n",
       "      <td>7027430.625</td>\n",
       "    </tr>\n",
       "  </tbody>\n",
       "</table>\n",
       "</div>"
      ],
      "text/plain": [
       "                    Tot ms\n",
       "Bleatings       7022875.75\n",
       "ContactCalls  7110545.1875\n",
       "Others         7027430.625"
      ]
     },
     "execution_count": 44,
     "metadata": {},
     "output_type": "execute_result"
    }
   ],
   "source": [
    "def return_total_time(df, label):\n",
    "    condition = df[\"label\"]==label\n",
    "    elements = df[condition]\n",
    "    time = elements[\"ms\"]\n",
    "    return np.sum(time)\n",
    "\n",
    "tot_times = {\"Bleatings\": return_total_time(metadata_extended, \"Bleatings\"),\n",
    "            \"ContactCalls\": return_total_time(metadata_extended, \"ContactCalls\"),\n",
    "             \"Others\": return_total_time(metadata_extended, \"Others\")}\n",
    "tot_times = pd.DataFrame.from_dict(tot_times, orient='index', columns=[\"Tot ms\"])\n",
    "tot_times.astype(str)"
   ]
  },
  {
   "cell_type": "markdown",
   "id": "18577f2b",
   "metadata": {},
   "source": [
    "# Preprocessing"
   ]
  },
  {
   "cell_type": "markdown",
   "id": "9d517ddb",
   "metadata": {},
   "source": [
    "## Segment the long sample"
   ]
  },
  {
   "cell_type": "markdown",
   "id": "872f06e7",
   "metadata": {},
   "source": [
    "Let's break all the sample above of 3 seconds in subsample with a window 3 of seconds and hop size 1.5 seconds "
   ]
  },
  {
   "cell_type": "code",
   "execution_count": 45,
   "id": "598e7fce",
   "metadata": {},
   "outputs": [
    {
     "data": {
      "text/plain": [
       "1455"
      ]
     },
     "execution_count": 45,
     "metadata": {},
     "output_type": "execute_result"
    }
   ],
   "source": [
    "max_len = 3\n",
    "condition = metadata_extended[\"ms\"] > max_len*1000\n",
    "long = metadata_extended[condition]\n",
    "len(long)"
   ]
  },
  {
   "cell_type": "markdown",
   "id": "32203083",
   "metadata": {},
   "source": [
    "All the samples must be splitted"
   ]
  },
  {
   "cell_type": "code",
   "execution_count": 46,
   "id": "bf06465f",
   "metadata": {},
   "outputs": [],
   "source": [
    "def split_in_equal(sample, sr, maxd):\n",
    "    buffer = maxd * sr\n",
    "    # step = maxd/2\n",
    "    step = maxd\n",
    "    samples_total = len(sample)\n",
    "    samples_wrote = 0\n",
    "    next_buffer = 0\n",
    "\n",
    "\n",
    "    splitted_sample = []\n",
    "\n",
    "    while samples_wrote < samples_total:\n",
    "        #check if the buffer is not exceeding total samples \n",
    "        if buffer > (samples_total - next_buffer):\n",
    "            buffer = samples_total - next_buffer\n",
    "\n",
    "        end = next_buffer + buffer\n",
    "        block = sample[next_buffer : end]\n",
    "        splitted_sample.append(block)\n",
    "        \n",
    "        next_buffer = next_buffer + int(step * sr)\n",
    "        \n",
    "        buffer = maxd*sr\n",
    "        samples_wrote = end\n",
    "    return splitted_sample"
   ]
  },
  {
   "cell_type": "code",
   "execution_count": 47,
   "id": "4d81f35e",
   "metadata": {},
   "outputs": [
    {
     "data": {
      "text/html": [
       "<div>\n",
       "<style scoped>\n",
       "    .dataframe tbody tr th:only-of-type {\n",
       "        vertical-align: middle;\n",
       "    }\n",
       "\n",
       "    .dataframe tbody tr th {\n",
       "        vertical-align: top;\n",
       "    }\n",
       "\n",
       "    .dataframe thead th {\n",
       "        text-align: right;\n",
       "    }\n",
       "</style>\n",
       "<table border=\"1\" class=\"dataframe\">\n",
       "  <thead>\n",
       "    <tr style=\"text-align: right;\">\n",
       "      <th></th>\n",
       "      <th>path</th>\n",
       "      <th>label</th>\n",
       "      <th>samplingrate</th>\n",
       "      <th>ms</th>\n",
       "      <th>mod</th>\n",
       "    </tr>\n",
       "  </thead>\n",
       "  <tbody>\n",
       "    <tr>\n",
       "      <th>0</th>\n",
       "      <td>./Labelled/Bleatings/evt_000_000_000681_210415...</td>\n",
       "      <td>Bleatings</td>\n",
       "      <td>16000</td>\n",
       "      <td>9751.0</td>\n",
       "      <td>0</td>\n",
       "    </tr>\n",
       "    <tr>\n",
       "      <th>1</th>\n",
       "      <td>./Labelled/Bleatings/evt_000_000_000682_210415...</td>\n",
       "      <td>Bleatings</td>\n",
       "      <td>16000</td>\n",
       "      <td>6190.0</td>\n",
       "      <td>0</td>\n",
       "    </tr>\n",
       "    <tr>\n",
       "      <th>2</th>\n",
       "      <td>./Labelled/Bleatings/evt_000_000_000683_210415...</td>\n",
       "      <td>Bleatings</td>\n",
       "      <td>16000</td>\n",
       "      <td>6072.0</td>\n",
       "      <td>0</td>\n",
       "    </tr>\n",
       "    <tr>\n",
       "      <th>3</th>\n",
       "      <td>./Labelled/Bleatings/evt_000_000_000684_210415...</td>\n",
       "      <td>Bleatings</td>\n",
       "      <td>16000</td>\n",
       "      <td>6106.0</td>\n",
       "      <td>0</td>\n",
       "    </tr>\n",
       "    <tr>\n",
       "      <th>4</th>\n",
       "      <td>./Labelled/Bleatings/evt_000_000_002434_210416...</td>\n",
       "      <td>Bleatings</td>\n",
       "      <td>16000</td>\n",
       "      <td>10264.0</td>\n",
       "      <td>0</td>\n",
       "    </tr>\n",
       "  </tbody>\n",
       "</table>\n",
       "</div>"
      ],
      "text/plain": [
       "                                                path      label  samplingrate  \\\n",
       "0  ./Labelled/Bleatings/evt_000_000_000681_210415...  Bleatings         16000   \n",
       "1  ./Labelled/Bleatings/evt_000_000_000682_210415...  Bleatings         16000   \n",
       "2  ./Labelled/Bleatings/evt_000_000_000683_210415...  Bleatings         16000   \n",
       "3  ./Labelled/Bleatings/evt_000_000_000684_210415...  Bleatings         16000   \n",
       "4  ./Labelled/Bleatings/evt_000_000_002434_210416...  Bleatings         16000   \n",
       "\n",
       "        ms  mod  \n",
       "0   9751.0    0  \n",
       "1   6190.0    0  \n",
       "2   6072.0    0  \n",
       "3   6106.0    0  \n",
       "4  10264.0    0  "
      ]
     },
     "execution_count": 47,
     "metadata": {},
     "output_type": "execute_result"
    }
   ],
   "source": [
    "metadata_extended.head()"
   ]
  },
  {
   "cell_type": "code",
   "execution_count": 48,
   "id": "e796d6c1",
   "metadata": {},
   "outputs": [
    {
     "data": {
      "application/vnd.jupyter.widget-view+json": {
       "model_id": "80ae96759971419ba228d2c96fa2224f",
       "version_major": 2,
       "version_minor": 0
      },
      "text/plain": [
       "  0%|          | 0/1455 [00:00<?, ?it/s]"
      ]
     },
     "metadata": {},
     "output_type": "display_data"
    },
    {
     "data": {
      "text/html": [
       "<div>\n",
       "<style scoped>\n",
       "    .dataframe tbody tr th:only-of-type {\n",
       "        vertical-align: middle;\n",
       "    }\n",
       "\n",
       "    .dataframe tbody tr th {\n",
       "        vertical-align: top;\n",
       "    }\n",
       "\n",
       "    .dataframe thead th {\n",
       "        text-align: right;\n",
       "    }\n",
       "</style>\n",
       "<table border=\"1\" class=\"dataframe\">\n",
       "  <thead>\n",
       "    <tr style=\"text-align: right;\">\n",
       "      <th></th>\n",
       "      <th>path</th>\n",
       "      <th>segment</th>\n",
       "      <th>label</th>\n",
       "      <th>samplingrate</th>\n",
       "      <th>ms</th>\n",
       "      <th>mod</th>\n",
       "    </tr>\n",
       "  </thead>\n",
       "  <tbody>\n",
       "    <tr>\n",
       "      <th>0</th>\n",
       "      <td>./Labelled/Bleatings/evt_000_000_000681_210415...</td>\n",
       "      <td>0</td>\n",
       "      <td>Bleatings</td>\n",
       "      <td>16000</td>\n",
       "      <td>3000.0</td>\n",
       "      <td>0</td>\n",
       "    </tr>\n",
       "    <tr>\n",
       "      <th>1</th>\n",
       "      <td>./Labelled/Bleatings/evt_000_000_000681_210415...</td>\n",
       "      <td>1</td>\n",
       "      <td>Bleatings</td>\n",
       "      <td>16000</td>\n",
       "      <td>3000.0</td>\n",
       "      <td>0</td>\n",
       "    </tr>\n",
       "    <tr>\n",
       "      <th>2</th>\n",
       "      <td>./Labelled/Bleatings/evt_000_000_000681_210415...</td>\n",
       "      <td>2</td>\n",
       "      <td>Bleatings</td>\n",
       "      <td>16000</td>\n",
       "      <td>3000.0</td>\n",
       "      <td>0</td>\n",
       "    </tr>\n",
       "    <tr>\n",
       "      <th>3</th>\n",
       "      <td>./Labelled/Bleatings/evt_000_000_000681_210415...</td>\n",
       "      <td>3</td>\n",
       "      <td>Bleatings</td>\n",
       "      <td>16000</td>\n",
       "      <td>751.0</td>\n",
       "      <td>0</td>\n",
       "    </tr>\n",
       "    <tr>\n",
       "      <th>4</th>\n",
       "      <td>./Labelled/Bleatings/evt_000_000_000682_210415...</td>\n",
       "      <td>0</td>\n",
       "      <td>Bleatings</td>\n",
       "      <td>16000</td>\n",
       "      <td>3000.0</td>\n",
       "      <td>0</td>\n",
       "    </tr>\n",
       "    <tr>\n",
       "      <th>...</th>\n",
       "      <td>...</td>\n",
       "      <td>...</td>\n",
       "      <td>...</td>\n",
       "      <td>...</td>\n",
       "      <td>...</td>\n",
       "      <td>...</td>\n",
       "    </tr>\n",
       "    <tr>\n",
       "      <th>7921</th>\n",
       "      <td>./Labelled/Others/evt_000_001_108997_210601_09...</td>\n",
       "      <td>6</td>\n",
       "      <td>Others</td>\n",
       "      <td>16000</td>\n",
       "      <td>3000.0</td>\n",
       "      <td>2</td>\n",
       "    </tr>\n",
       "    <tr>\n",
       "      <th>7922</th>\n",
       "      <td>./Labelled/Others/evt_000_001_108997_210601_09...</td>\n",
       "      <td>7</td>\n",
       "      <td>Others</td>\n",
       "      <td>16000</td>\n",
       "      <td>3000.0</td>\n",
       "      <td>2</td>\n",
       "    </tr>\n",
       "    <tr>\n",
       "      <th>7923</th>\n",
       "      <td>./Labelled/Others/evt_000_001_108997_210601_09...</td>\n",
       "      <td>8</td>\n",
       "      <td>Others</td>\n",
       "      <td>16000</td>\n",
       "      <td>3000.0</td>\n",
       "      <td>2</td>\n",
       "    </tr>\n",
       "    <tr>\n",
       "      <th>7924</th>\n",
       "      <td>./Labelled/Others/evt_000_001_108997_210601_09...</td>\n",
       "      <td>9</td>\n",
       "      <td>Others</td>\n",
       "      <td>16000</td>\n",
       "      <td>3000.0</td>\n",
       "      <td>2</td>\n",
       "    </tr>\n",
       "    <tr>\n",
       "      <th>7925</th>\n",
       "      <td>./Labelled/Others/evt_000_001_108997_210601_09...</td>\n",
       "      <td>10</td>\n",
       "      <td>Others</td>\n",
       "      <td>16000</td>\n",
       "      <td>250.0</td>\n",
       "      <td>2</td>\n",
       "    </tr>\n",
       "  </tbody>\n",
       "</table>\n",
       "<p>7926 rows × 6 columns</p>\n",
       "</div>"
      ],
      "text/plain": [
       "                                                   path  segment      label  \\\n",
       "0     ./Labelled/Bleatings/evt_000_000_000681_210415...        0  Bleatings   \n",
       "1     ./Labelled/Bleatings/evt_000_000_000681_210415...        1  Bleatings   \n",
       "2     ./Labelled/Bleatings/evt_000_000_000681_210415...        2  Bleatings   \n",
       "3     ./Labelled/Bleatings/evt_000_000_000681_210415...        3  Bleatings   \n",
       "4     ./Labelled/Bleatings/evt_000_000_000682_210415...        0  Bleatings   \n",
       "...                                                 ...      ...        ...   \n",
       "7921  ./Labelled/Others/evt_000_001_108997_210601_09...        6     Others   \n",
       "7922  ./Labelled/Others/evt_000_001_108997_210601_09...        7     Others   \n",
       "7923  ./Labelled/Others/evt_000_001_108997_210601_09...        8     Others   \n",
       "7924  ./Labelled/Others/evt_000_001_108997_210601_09...        9     Others   \n",
       "7925  ./Labelled/Others/evt_000_001_108997_210601_09...       10     Others   \n",
       "\n",
       "      samplingrate      ms  mod  \n",
       "0            16000  3000.0    0  \n",
       "1            16000  3000.0    0  \n",
       "2            16000  3000.0    0  \n",
       "3            16000   751.0    0  \n",
       "4            16000  3000.0    0  \n",
       "...            ...     ...  ...  \n",
       "7921         16000  3000.0    2  \n",
       "7922         16000  3000.0    2  \n",
       "7923         16000  3000.0    2  \n",
       "7924         16000  3000.0    2  \n",
       "7925         16000   250.0    2  \n",
       "\n",
       "[7926 rows x 6 columns]"
      ]
     },
     "execution_count": 48,
     "metadata": {},
     "output_type": "execute_result"
    }
   ],
   "source": [
    "split_samples = []\n",
    "split_metadata = []\n",
    "for c, sample in enumerate(tqdm_notebook(samples)):\n",
    "    if metadata_extended.iloc[c][\"ms\"] > max_len*1000:\n",
    "        splitted_sample = split_in_equal(sample, sr, max_len)\n",
    "        split_samples += splitted_sample\n",
    "        new_metadata = [[metadata_extended.iloc[c][\"path\"],\n",
    "                         i,\n",
    "                         metadata_extended.iloc[c][\"label\"],\n",
    "                         sr,\n",
    "                         1000*len(s)/sr,\n",
    "                         metadata_extended.iloc[c][\"mod\"]]\n",
    "                         for i, s in enumerate(splitted_sample)]\n",
    "        split_metadata += new_metadata\n",
    "\n",
    "split_metadata = pd.DataFrame(split_metadata, columns=[\"path\", \"segment\", \"label\", \"samplingrate\", \"ms\", \"mod\"])\n",
    "split_metadata"
   ]
  },
  {
   "cell_type": "markdown",
   "id": "4f712f2f",
   "metadata": {},
   "source": [
    "We obtained a total of 7926 samples from the agumented set of 1455 records. Let's have a look at the ditrbituion of the class"
   ]
  },
  {
   "cell_type": "code",
   "execution_count": 49,
   "id": "b414679c",
   "metadata": {},
   "outputs": [
    {
     "data": {
      "text/html": [
       "<div>\n",
       "<style scoped>\n",
       "    .dataframe tbody tr th:only-of-type {\n",
       "        vertical-align: middle;\n",
       "    }\n",
       "\n",
       "    .dataframe tbody tr th {\n",
       "        vertical-align: top;\n",
       "    }\n",
       "\n",
       "    .dataframe thead th {\n",
       "        text-align: right;\n",
       "    }\n",
       "</style>\n",
       "<table border=\"1\" class=\"dataframe\">\n",
       "  <thead>\n",
       "    <tr style=\"text-align: right;\">\n",
       "      <th></th>\n",
       "      <th>label</th>\n",
       "    </tr>\n",
       "  </thead>\n",
       "  <tbody>\n",
       "    <tr>\n",
       "      <th>Others</th>\n",
       "      <td>2738</td>\n",
       "    </tr>\n",
       "    <tr>\n",
       "      <th>Bleatings</th>\n",
       "      <td>2641</td>\n",
       "    </tr>\n",
       "    <tr>\n",
       "      <th>ContactCalls</th>\n",
       "      <td>2547</td>\n",
       "    </tr>\n",
       "  </tbody>\n",
       "</table>\n",
       "</div>"
      ],
      "text/plain": [
       "              label\n",
       "Others         2738\n",
       "Bleatings      2641\n",
       "ContactCalls   2547"
      ]
     },
     "execution_count": 49,
     "metadata": {},
     "output_type": "execute_result"
    }
   ],
   "source": [
    "count_label = split_metadata['label'].value_counts().to_frame()\n",
    "count_label"
   ]
  },
  {
   "cell_type": "markdown",
   "id": "9fa5b54d",
   "metadata": {},
   "source": [
    "Also the dataset is balanced!"
   ]
  },
  {
   "cell_type": "markdown",
   "id": "21da940b",
   "metadata": {},
   "source": [
    "## Denoising and trimming"
   ]
  },
  {
   "cell_type": "markdown",
   "id": "158fb1e3",
   "metadata": {},
   "source": [
    "Let's remove the noise from the samples and then trim the silent part at the beggining and ending of the samples."
   ]
  },
  {
   "cell_type": "code",
   "execution_count": 50,
   "id": "fae71737",
   "metadata": {},
   "outputs": [
    {
     "data": {
      "application/vnd.jupyter.widget-view+json": {
       "model_id": "0cecf5718c7e47b2b7a8fde70d60dc4a",
       "version_major": 2,
       "version_minor": 0
      },
      "text/plain": [
       "  0%|          | 0/7926 [00:00<?, ?it/s]"
      ]
     },
     "metadata": {},
     "output_type": "display_data"
    },
    {
     "data": {
      "text/plain": [
       "[array([-0.02437842, -0.02365888, -0.00902225, ..., -0.00756735,\n",
       "        -0.00464633, -0.0001669 ], dtype=float32),\n",
       " array([ 0.0124789 ,  0.01066994,  0.0083406 , ..., -0.0032531 ,\n",
       "         0.0044106 ,  0.00692406], dtype=float32),\n",
       " array([-1.03670144e-02, -7.80101586e-03, -2.67368346e-03, ...,\n",
       "         7.08722582e-05, -1.04012266e-04, -2.75029871e-03], dtype=float32),\n",
       " array([ 0.00598434,  0.00422857,  0.00194617, ..., -0.00959768,\n",
       "        -0.00781307, -0.01161874], dtype=float32),\n",
       " array([-0.02457678, -0.00897858, -0.00589399, ...,  0.00259352,\n",
       "         0.00390261,  0.00921702], dtype=float32)]"
      ]
     },
     "execution_count": 50,
     "metadata": {},
     "output_type": "execute_result"
    }
   ],
   "source": [
    "denoise_trim_samples = []\n",
    "\n",
    "for count, sample in enumerate(tqdm_notebook(split_samples)):\n",
    "    if split_metadata.iloc[count][\"label\"] != \"Others\":\n",
    "        sample = nr.reduce_noise(y=sample, sr=sr, use_tqdm=False)\n",
    "    sample = librosa.effects.trim(sample, top_db=15, frame_length=512, hop_length=64)[0]\n",
    "    denoise_trim_samples.append(sample)\n",
    "denoise_trim_samples[:5]"
   ]
  },
  {
   "cell_type": "code",
   "execution_count": 51,
   "id": "c28f806b",
   "metadata": {},
   "outputs": [
    {
     "data": {
      "application/vnd.jupyter.widget-view+json": {
       "model_id": "02b958cc31b449f591c45a6ae9de52e6",
       "version_major": 2,
       "version_minor": 0
      },
      "text/plain": [
       "  0%|          | 0/7926 [00:00<?, ?it/s]"
      ]
     },
     "metadata": {},
     "output_type": "display_data"
    },
    {
     "data": {
      "text/html": [
       "<div>\n",
       "<style scoped>\n",
       "    .dataframe tbody tr th:only-of-type {\n",
       "        vertical-align: middle;\n",
       "    }\n",
       "\n",
       "    .dataframe tbody tr th {\n",
       "        vertical-align: top;\n",
       "    }\n",
       "\n",
       "    .dataframe thead th {\n",
       "        text-align: right;\n",
       "    }\n",
       "</style>\n",
       "<table border=\"1\" class=\"dataframe\">\n",
       "  <thead>\n",
       "    <tr style=\"text-align: right;\">\n",
       "      <th></th>\n",
       "      <th>path</th>\n",
       "      <th>segment</th>\n",
       "      <th>label</th>\n",
       "      <th>samplingrate</th>\n",
       "      <th>ms</th>\n",
       "      <th>mod</th>\n",
       "      <th>ms_trim</th>\n",
       "    </tr>\n",
       "  </thead>\n",
       "  <tbody>\n",
       "    <tr>\n",
       "      <th>0</th>\n",
       "      <td>./Labelled/Bleatings/evt_000_000_000681_210415...</td>\n",
       "      <td>0</td>\n",
       "      <td>Bleatings</td>\n",
       "      <td>16000</td>\n",
       "      <td>3000.0</td>\n",
       "      <td>0</td>\n",
       "      <td>1920.0</td>\n",
       "    </tr>\n",
       "    <tr>\n",
       "      <th>1</th>\n",
       "      <td>./Labelled/Bleatings/evt_000_000_000681_210415...</td>\n",
       "      <td>1</td>\n",
       "      <td>Bleatings</td>\n",
       "      <td>16000</td>\n",
       "      <td>3000.0</td>\n",
       "      <td>0</td>\n",
       "      <td>2180.0</td>\n",
       "    </tr>\n",
       "    <tr>\n",
       "      <th>2</th>\n",
       "      <td>./Labelled/Bleatings/evt_000_000_000681_210415...</td>\n",
       "      <td>2</td>\n",
       "      <td>Bleatings</td>\n",
       "      <td>16000</td>\n",
       "      <td>3000.0</td>\n",
       "      <td>0</td>\n",
       "      <td>2988.0</td>\n",
       "    </tr>\n",
       "    <tr>\n",
       "      <th>3</th>\n",
       "      <td>./Labelled/Bleatings/evt_000_000_000681_210415...</td>\n",
       "      <td>3</td>\n",
       "      <td>Bleatings</td>\n",
       "      <td>16000</td>\n",
       "      <td>751.0</td>\n",
       "      <td>0</td>\n",
       "      <td>751.0</td>\n",
       "    </tr>\n",
       "    <tr>\n",
       "      <th>4</th>\n",
       "      <td>./Labelled/Bleatings/evt_000_000_000682_210415...</td>\n",
       "      <td>0</td>\n",
       "      <td>Bleatings</td>\n",
       "      <td>16000</td>\n",
       "      <td>3000.0</td>\n",
       "      <td>0</td>\n",
       "      <td>2404.0</td>\n",
       "    </tr>\n",
       "  </tbody>\n",
       "</table>\n",
       "</div>"
      ],
      "text/plain": [
       "                                                path  segment      label  \\\n",
       "0  ./Labelled/Bleatings/evt_000_000_000681_210415...        0  Bleatings   \n",
       "1  ./Labelled/Bleatings/evt_000_000_000681_210415...        1  Bleatings   \n",
       "2  ./Labelled/Bleatings/evt_000_000_000681_210415...        2  Bleatings   \n",
       "3  ./Labelled/Bleatings/evt_000_000_000681_210415...        3  Bleatings   \n",
       "4  ./Labelled/Bleatings/evt_000_000_000682_210415...        0  Bleatings   \n",
       "\n",
       "   samplingrate      ms  mod  ms_trim  \n",
       "0         16000  3000.0    0   1920.0  \n",
       "1         16000  3000.0    0   2180.0  \n",
       "2         16000  3000.0    0   2988.0  \n",
       "3         16000   751.0    0    751.0  \n",
       "4         16000  3000.0    0   2404.0  "
      ]
     },
     "execution_count": 51,
     "metadata": {},
     "output_type": "execute_result"
    }
   ],
   "source": [
    "metadata_clean = []\n",
    "for sample in tqdm_notebook(denoise_trim_samples):\n",
    "    nframe = len(sample)\n",
    "    length = 1000*nframe/sr\n",
    "    metadata_clean.append([length])\n",
    "\n",
    "split_metadata_trim = pd.concat([split_metadata, pd.DataFrame(metadata_clean, columns = [\"ms_trim\"])], axis=1)\n",
    "split_metadata_trim.head()"
   ]
  },
  {
   "cell_type": "code",
   "execution_count": 52,
   "id": "90f4e18a",
   "metadata": {},
   "outputs": [
    {
     "data": {
      "text/plain": [
       "count    7926.000000\n",
       "mean     2082.818714\n",
       "std       990.216318\n",
       "min         3.750000\n",
       "25%      1284.000000\n",
       "50%      2508.000000\n",
       "75%      2992.000000\n",
       "max      3000.000000\n",
       "Name: ms_trim, dtype: float64"
      ]
     },
     "execution_count": 52,
     "metadata": {},
     "output_type": "execute_result"
    },
    {
     "data": {
      "image/png": "[encoded data removed]",
      "text/plain": [
       "<Figure size 432x288 with 1 Axes>"
      ]
     },
     "metadata": {
      "needs_background": "light"
     },
     "output_type": "display_data"
    }
   ],
   "source": [
    "durations = split_metadata_trim['ms_trim']\n",
    "durations.hist(bins=40)\n",
    "durations.describe()"
   ]
  },
  {
   "cell_type": "markdown",
   "id": "97b10cc9",
   "metadata": {},
   "source": [
    "# Remove short samples"
   ]
  },
  {
   "cell_type": "code",
   "execution_count": 53,
   "id": "9c496bc3",
   "metadata": {},
   "outputs": [
    {
     "data": {
      "text/plain": [
       "True     7005\n",
       "False     921\n",
       "Name: ms_trim, dtype: int64"
      ]
     },
     "execution_count": 53,
     "metadata": {},
     "output_type": "execute_result"
    }
   ],
   "source": [
    "condition = split_metadata_trim[\"ms_trim\"] > 500\n",
    "split_metadata_trim = split_metadata_trim[condition]\n",
    "\n",
    "condition.value_counts()"
   ]
  },
  {
   "cell_type": "code",
   "execution_count": 54,
   "id": "a158c051",
   "metadata": {},
   "outputs": [
    {
     "data": {
      "text/plain": [
       "7005"
      ]
     },
     "execution_count": 54,
     "metadata": {},
     "output_type": "execute_result"
    }
   ],
   "source": [
    "processed_samples = [sample for count, sample in enumerate(denoise_trim_samples) if condition[count]==True]\n",
    "len(processed_samples)"
   ]
  },
  {
   "cell_type": "code",
   "execution_count": 55,
   "id": "0aeabf91",
   "metadata": {},
   "outputs": [
    {
     "data": {
      "text/html": [
       "<div>\n",
       "<style scoped>\n",
       "    .dataframe tbody tr th:only-of-type {\n",
       "        vertical-align: middle;\n",
       "    }\n",
       "\n",
       "    .dataframe tbody tr th {\n",
       "        vertical-align: top;\n",
       "    }\n",
       "\n",
       "    .dataframe thead th {\n",
       "        text-align: right;\n",
       "    }\n",
       "</style>\n",
       "<table border=\"1\" class=\"dataframe\">\n",
       "  <thead>\n",
       "    <tr style=\"text-align: right;\">\n",
       "      <th></th>\n",
       "      <th>path</th>\n",
       "      <th>segment</th>\n",
       "      <th>label</th>\n",
       "      <th>samplingrate</th>\n",
       "      <th>ms</th>\n",
       "      <th>mod</th>\n",
       "      <th>ms_trim</th>\n",
       "    </tr>\n",
       "  </thead>\n",
       "  <tbody>\n",
       "    <tr>\n",
       "      <th>0</th>\n",
       "      <td>./Labelled/Bleatings/evt_000_000_000681_210415...</td>\n",
       "      <td>0</td>\n",
       "      <td>Bleatings</td>\n",
       "      <td>16000</td>\n",
       "      <td>3000.0</td>\n",
       "      <td>0</td>\n",
       "      <td>1920.0</td>\n",
       "    </tr>\n",
       "    <tr>\n",
       "      <th>1</th>\n",
       "      <td>./Labelled/Bleatings/evt_000_000_000681_210415...</td>\n",
       "      <td>1</td>\n",
       "      <td>Bleatings</td>\n",
       "      <td>16000</td>\n",
       "      <td>3000.0</td>\n",
       "      <td>0</td>\n",
       "      <td>2180.0</td>\n",
       "    </tr>\n",
       "    <tr>\n",
       "      <th>2</th>\n",
       "      <td>./Labelled/Bleatings/evt_000_000_000681_210415...</td>\n",
       "      <td>2</td>\n",
       "      <td>Bleatings</td>\n",
       "      <td>16000</td>\n",
       "      <td>3000.0</td>\n",
       "      <td>0</td>\n",
       "      <td>2988.0</td>\n",
       "    </tr>\n",
       "    <tr>\n",
       "      <th>3</th>\n",
       "      <td>./Labelled/Bleatings/evt_000_000_000681_210415...</td>\n",
       "      <td>3</td>\n",
       "      <td>Bleatings</td>\n",
       "      <td>16000</td>\n",
       "      <td>751.0</td>\n",
       "      <td>0</td>\n",
       "      <td>751.0</td>\n",
       "    </tr>\n",
       "    <tr>\n",
       "      <th>4</th>\n",
       "      <td>./Labelled/Bleatings/evt_000_000_000682_210415...</td>\n",
       "      <td>0</td>\n",
       "      <td>Bleatings</td>\n",
       "      <td>16000</td>\n",
       "      <td>3000.0</td>\n",
       "      <td>0</td>\n",
       "      <td>2404.0</td>\n",
       "    </tr>\n",
       "    <tr>\n",
       "      <th>...</th>\n",
       "      <td>...</td>\n",
       "      <td>...</td>\n",
       "      <td>...</td>\n",
       "      <td>...</td>\n",
       "      <td>...</td>\n",
       "      <td>...</td>\n",
       "      <td>...</td>\n",
       "    </tr>\n",
       "    <tr>\n",
       "      <th>7920</th>\n",
       "      <td>./Labelled/Others/evt_000_001_108997_210601_09...</td>\n",
       "      <td>5</td>\n",
       "      <td>Others</td>\n",
       "      <td>16000</td>\n",
       "      <td>3000.0</td>\n",
       "      <td>2</td>\n",
       "      <td>2956.0</td>\n",
       "    </tr>\n",
       "    <tr>\n",
       "      <th>7921</th>\n",
       "      <td>./Labelled/Others/evt_000_001_108997_210601_09...</td>\n",
       "      <td>6</td>\n",
       "      <td>Others</td>\n",
       "      <td>16000</td>\n",
       "      <td>3000.0</td>\n",
       "      <td>2</td>\n",
       "      <td>1896.0</td>\n",
       "    </tr>\n",
       "    <tr>\n",
       "      <th>7922</th>\n",
       "      <td>./Labelled/Others/evt_000_001_108997_210601_09...</td>\n",
       "      <td>7</td>\n",
       "      <td>Others</td>\n",
       "      <td>16000</td>\n",
       "      <td>3000.0</td>\n",
       "      <td>2</td>\n",
       "      <td>3000.0</td>\n",
       "    </tr>\n",
       "    <tr>\n",
       "      <th>7923</th>\n",
       "      <td>./Labelled/Others/evt_000_001_108997_210601_09...</td>\n",
       "      <td>8</td>\n",
       "      <td>Others</td>\n",
       "      <td>16000</td>\n",
       "      <td>3000.0</td>\n",
       "      <td>2</td>\n",
       "      <td>2644.0</td>\n",
       "    </tr>\n",
       "    <tr>\n",
       "      <th>7924</th>\n",
       "      <td>./Labelled/Others/evt_000_001_108997_210601_09...</td>\n",
       "      <td>9</td>\n",
       "      <td>Others</td>\n",
       "      <td>16000</td>\n",
       "      <td>3000.0</td>\n",
       "      <td>2</td>\n",
       "      <td>3000.0</td>\n",
       "    </tr>\n",
       "  </tbody>\n",
       "</table>\n",
       "<p>7005 rows × 7 columns</p>\n",
       "</div>"
      ],
      "text/plain": [
       "                                                   path  segment      label  \\\n",
       "0     ./Labelled/Bleatings/evt_000_000_000681_210415...        0  Bleatings   \n",
       "1     ./Labelled/Bleatings/evt_000_000_000681_210415...        1  Bleatings   \n",
       "2     ./Labelled/Bleatings/evt_000_000_000681_210415...        2  Bleatings   \n",
       "3     ./Labelled/Bleatings/evt_000_000_000681_210415...        3  Bleatings   \n",
       "4     ./Labelled/Bleatings/evt_000_000_000682_210415...        0  Bleatings   \n",
       "...                                                 ...      ...        ...   \n",
       "7920  ./Labelled/Others/evt_000_001_108997_210601_09...        5     Others   \n",
       "7921  ./Labelled/Others/evt_000_001_108997_210601_09...        6     Others   \n",
       "7922  ./Labelled/Others/evt_000_001_108997_210601_09...        7     Others   \n",
       "7923  ./Labelled/Others/evt_000_001_108997_210601_09...        8     Others   \n",
       "7924  ./Labelled/Others/evt_000_001_108997_210601_09...        9     Others   \n",
       "\n",
       "      samplingrate      ms  mod  ms_trim  \n",
       "0            16000  3000.0    0   1920.0  \n",
       "1            16000  3000.0    0   2180.0  \n",
       "2            16000  3000.0    0   2988.0  \n",
       "3            16000   751.0    0    751.0  \n",
       "4            16000  3000.0    0   2404.0  \n",
       "...            ...     ...  ...      ...  \n",
       "7920         16000  3000.0    2   2956.0  \n",
       "7921         16000  3000.0    2   1896.0  \n",
       "7922         16000  3000.0    2   3000.0  \n",
       "7923         16000  3000.0    2   2644.0  \n",
       "7924         16000  3000.0    2   3000.0  \n",
       "\n",
       "[7005 rows x 7 columns]"
      ]
     },
     "execution_count": 55,
     "metadata": {},
     "output_type": "execute_result"
    }
   ],
   "source": [
    "split_metadata_trim"
   ]
  },
  {
   "cell_type": "code",
   "execution_count": 56,
   "id": "7ca81202",
   "metadata": {},
   "outputs": [
    {
     "data": {
      "text/html": [
       "<div>\n",
       "<style scoped>\n",
       "    .dataframe tbody tr th:only-of-type {\n",
       "        vertical-align: middle;\n",
       "    }\n",
       "\n",
       "    .dataframe tbody tr th {\n",
       "        vertical-align: top;\n",
       "    }\n",
       "\n",
       "    .dataframe thead th {\n",
       "        text-align: right;\n",
       "    }\n",
       "</style>\n",
       "<table border=\"1\" class=\"dataframe\">\n",
       "  <thead>\n",
       "    <tr style=\"text-align: right;\">\n",
       "      <th></th>\n",
       "      <th>label</th>\n",
       "    </tr>\n",
       "  </thead>\n",
       "  <tbody>\n",
       "    <tr>\n",
       "      <th>Others</th>\n",
       "      <td>2456</td>\n",
       "    </tr>\n",
       "    <tr>\n",
       "      <th>Bleatings</th>\n",
       "      <td>2352</td>\n",
       "    </tr>\n",
       "    <tr>\n",
       "      <th>ContactCalls</th>\n",
       "      <td>2197</td>\n",
       "    </tr>\n",
       "  </tbody>\n",
       "</table>\n",
       "</div>"
      ],
      "text/plain": [
       "              label\n",
       "Others         2456\n",
       "Bleatings      2352\n",
       "ContactCalls   2197"
      ]
     },
     "execution_count": 56,
     "metadata": {},
     "output_type": "execute_result"
    }
   ],
   "source": [
    "count_label = split_metadata_trim['label'].value_counts().to_frame()\n",
    "count_label"
   ]
  },
  {
   "cell_type": "markdown",
   "id": "39e65633",
   "metadata": {},
   "source": [
    "## Pad the short samples"
   ]
  },
  {
   "cell_type": "markdown",
   "id": "6fcf406b",
   "metadata": {},
   "source": [
    "Finally we can pad all the samples to the same lenght.<br>The max duration is 3000ms, which is 3 seconds. Let's pad all the shorter samples to this lenght by centering the sample in the middle of signal."
   ]
  },
  {
   "cell_type": "code",
   "execution_count": 57,
   "id": "8aa2d4ca",
   "metadata": {},
   "outputs": [],
   "source": [
    "def zero_pad_data(sample, sr, length):\n",
    "    \"\"\"\n",
    "    sample: audio sample\n",
    "    sr: sample rate\n",
    "    lenght: length to reach\n",
    "    \"\"\"\n",
    "    # find lenght according to sr\n",
    "    length = sr*length\n",
    "    \n",
    "    signal_padded = np.zeros(length)\n",
    "    \n",
    "    sample_len = len(sample)\n",
    "    start = int(length/2) - int(sample_len/2)\n",
    "    signal_padded[start: start+sample_len] = sample\n",
    "    return signal_padded\n",
    "\n",
    "processed_samples = [zero_pad_data(sample, sr, 3) for sample in processed_samples]"
   ]
  },
  {
   "cell_type": "code",
   "execution_count": 62,
   "id": "fddd9d70",
   "metadata": {},
   "outputs": [
    {
     "name": "stderr",
     "output_type": "stream",
     "text": [
      "C:\\Users\\NICOLA~1\\AppData\\Local\\Temp/ipykernel_6048/2139854715.py:3: SettingWithCopyWarning: \n",
      "A value is trying to be set on a copy of a slice from a DataFrame.\n",
      "Try using .loc[row_indexer,col_indexer] = value instead\n",
      "\n",
      "See the caveats in the documentation: https://pandas.pydata.org/pandas-docs/stable/user_guide/indexing.html#returning-a-view-versus-a-copy\n",
      "  processed_metadata[\"ms\"] = [1000*len(sample)/sr for sample in processed_samples]\n"
     ]
    },
    {
     "data": {
      "text/plain": [
       "count    7005.0\n",
       "mean     3000.0\n",
       "std         0.0\n",
       "min      3000.0\n",
       "25%      3000.0\n",
       "50%      3000.0\n",
       "75%      3000.0\n",
       "max      3000.0\n",
       "Name: ms, dtype: float64"
      ]
     },
     "execution_count": 62,
     "metadata": {},
     "output_type": "execute_result"
    }
   ],
   "source": [
    "processed_metadata = split_metadata_trim[[\"path\", \"segment\", \"mod\", \"label\", \"samplingrate\"]]\n",
    "\n",
    "processed_metadata[\"ms\"] = [1000*len(sample)/sr for sample in processed_samples]\n",
    "#length_info = [1000*len(sample)/sr for sample in processed_samples]\n",
    "\n",
    "#processed_metadata = pd.concat([processed_metadata, pd.DataFrame(length_info, columns = [\"ms\"])], axis=1, ignore_index=True)\n",
    "processed_metadata['ms'].describe()"
   ]
  },
  {
   "cell_type": "markdown",
   "id": "42bedefd",
   "metadata": {},
   "source": [
    "# Save metadata and processed samples"
   ]
  },
  {
   "cell_type": "code",
   "execution_count": 63,
   "id": "beab6c16",
   "metadata": {},
   "outputs": [
    {
     "data": {
      "text/html": [
       "<div>\n",
       "<style scoped>\n",
       "    .dataframe tbody tr th:only-of-type {\n",
       "        vertical-align: middle;\n",
       "    }\n",
       "\n",
       "    .dataframe tbody tr th {\n",
       "        vertical-align: top;\n",
       "    }\n",
       "\n",
       "    .dataframe thead th {\n",
       "        text-align: right;\n",
       "    }\n",
       "</style>\n",
       "<table border=\"1\" class=\"dataframe\">\n",
       "  <thead>\n",
       "    <tr style=\"text-align: right;\">\n",
       "      <th></th>\n",
       "      <th>path</th>\n",
       "      <th>segment</th>\n",
       "      <th>mod</th>\n",
       "      <th>label</th>\n",
       "      <th>samplingrate</th>\n",
       "      <th>ms</th>\n",
       "    </tr>\n",
       "  </thead>\n",
       "  <tbody>\n",
       "    <tr>\n",
       "      <th>0</th>\n",
       "      <td>./Labelled/Bleatings/evt_000_000_000681_210415...</td>\n",
       "      <td>0</td>\n",
       "      <td>0</td>\n",
       "      <td>Bleatings</td>\n",
       "      <td>16000</td>\n",
       "      <td>3000.0</td>\n",
       "    </tr>\n",
       "    <tr>\n",
       "      <th>1</th>\n",
       "      <td>./Labelled/Bleatings/evt_000_000_000681_210415...</td>\n",
       "      <td>1</td>\n",
       "      <td>0</td>\n",
       "      <td>Bleatings</td>\n",
       "      <td>16000</td>\n",
       "      <td>3000.0</td>\n",
       "    </tr>\n",
       "    <tr>\n",
       "      <th>2</th>\n",
       "      <td>./Labelled/Bleatings/evt_000_000_000681_210415...</td>\n",
       "      <td>2</td>\n",
       "      <td>0</td>\n",
       "      <td>Bleatings</td>\n",
       "      <td>16000</td>\n",
       "      <td>3000.0</td>\n",
       "    </tr>\n",
       "    <tr>\n",
       "      <th>3</th>\n",
       "      <td>./Labelled/Bleatings/evt_000_000_000681_210415...</td>\n",
       "      <td>3</td>\n",
       "      <td>0</td>\n",
       "      <td>Bleatings</td>\n",
       "      <td>16000</td>\n",
       "      <td>3000.0</td>\n",
       "    </tr>\n",
       "    <tr>\n",
       "      <th>4</th>\n",
       "      <td>./Labelled/Bleatings/evt_000_000_000682_210415...</td>\n",
       "      <td>0</td>\n",
       "      <td>0</td>\n",
       "      <td>Bleatings</td>\n",
       "      <td>16000</td>\n",
       "      <td>3000.0</td>\n",
       "    </tr>\n",
       "    <tr>\n",
       "      <th>...</th>\n",
       "      <td>...</td>\n",
       "      <td>...</td>\n",
       "      <td>...</td>\n",
       "      <td>...</td>\n",
       "      <td>...</td>\n",
       "      <td>...</td>\n",
       "    </tr>\n",
       "    <tr>\n",
       "      <th>7920</th>\n",
       "      <td>./Labelled/Others/evt_000_001_108997_210601_09...</td>\n",
       "      <td>5</td>\n",
       "      <td>2</td>\n",
       "      <td>Others</td>\n",
       "      <td>16000</td>\n",
       "      <td>3000.0</td>\n",
       "    </tr>\n",
       "    <tr>\n",
       "      <th>7921</th>\n",
       "      <td>./Labelled/Others/evt_000_001_108997_210601_09...</td>\n",
       "      <td>6</td>\n",
       "      <td>2</td>\n",
       "      <td>Others</td>\n",
       "      <td>16000</td>\n",
       "      <td>3000.0</td>\n",
       "    </tr>\n",
       "    <tr>\n",
       "      <th>7922</th>\n",
       "      <td>./Labelled/Others/evt_000_001_108997_210601_09...</td>\n",
       "      <td>7</td>\n",
       "      <td>2</td>\n",
       "      <td>Others</td>\n",
       "      <td>16000</td>\n",
       "      <td>3000.0</td>\n",
       "    </tr>\n",
       "    <tr>\n",
       "      <th>7923</th>\n",
       "      <td>./Labelled/Others/evt_000_001_108997_210601_09...</td>\n",
       "      <td>8</td>\n",
       "      <td>2</td>\n",
       "      <td>Others</td>\n",
       "      <td>16000</td>\n",
       "      <td>3000.0</td>\n",
       "    </tr>\n",
       "    <tr>\n",
       "      <th>7924</th>\n",
       "      <td>./Labelled/Others/evt_000_001_108997_210601_09...</td>\n",
       "      <td>9</td>\n",
       "      <td>2</td>\n",
       "      <td>Others</td>\n",
       "      <td>16000</td>\n",
       "      <td>3000.0</td>\n",
       "    </tr>\n",
       "  </tbody>\n",
       "</table>\n",
       "<p>7005 rows × 6 columns</p>\n",
       "</div>"
      ],
      "text/plain": [
       "                                                   path  segment  mod  \\\n",
       "0     ./Labelled/Bleatings/evt_000_000_000681_210415...        0    0   \n",
       "1     ./Labelled/Bleatings/evt_000_000_000681_210415...        1    0   \n",
       "2     ./Labelled/Bleatings/evt_000_000_000681_210415...        2    0   \n",
       "3     ./Labelled/Bleatings/evt_000_000_000681_210415...        3    0   \n",
       "4     ./Labelled/Bleatings/evt_000_000_000682_210415...        0    0   \n",
       "...                                                 ...      ...  ...   \n",
       "7920  ./Labelled/Others/evt_000_001_108997_210601_09...        5    2   \n",
       "7921  ./Labelled/Others/evt_000_001_108997_210601_09...        6    2   \n",
       "7922  ./Labelled/Others/evt_000_001_108997_210601_09...        7    2   \n",
       "7923  ./Labelled/Others/evt_000_001_108997_210601_09...        8    2   \n",
       "7924  ./Labelled/Others/evt_000_001_108997_210601_09...        9    2   \n",
       "\n",
       "          label  samplingrate      ms  \n",
       "0     Bleatings         16000  3000.0  \n",
       "1     Bleatings         16000  3000.0  \n",
       "2     Bleatings         16000  3000.0  \n",
       "3     Bleatings         16000  3000.0  \n",
       "4     Bleatings         16000  3000.0  \n",
       "...         ...           ...     ...  \n",
       "7920     Others         16000  3000.0  \n",
       "7921     Others         16000  3000.0  \n",
       "7922     Others         16000  3000.0  \n",
       "7923     Others         16000  3000.0  \n",
       "7924     Others         16000  3000.0  \n",
       "\n",
       "[7005 rows x 6 columns]"
      ]
     },
     "execution_count": 63,
     "metadata": {},
     "output_type": "execute_result"
    }
   ],
   "source": [
    "processed_metadata.to_csv(\"processed_metadata.csv\", index=False)\n",
    "processed_metadata"
   ]
  },
  {
   "cell_type": "code",
   "execution_count": 70,
   "id": "9331b984",
   "metadata": {},
   "outputs": [
    {
     "data": {
      "text/plain": [
       "'./Labelled/Bleatings/evt_000_000_000681_210415_150602.wav'"
      ]
     },
     "execution_count": 70,
     "metadata": {},
     "output_type": "execute_result"
    }
   ],
   "source": [
    "processed_metadata.iloc[1][\"path\"]"
   ]
  },
  {
   "cell_type": "code",
   "execution_count": 84,
   "id": "376176d7",
   "metadata": {},
   "outputs": [
    {
     "data": {
      "application/vnd.jupyter.widget-view+json": {
       "model_id": "b7d96121b1004ed693b10bcd3fce2faf",
       "version_major": 2,
       "version_minor": 0
      },
      "text/plain": [
       "  0%|          | 0/7005 [00:00<?, ?it/s]"
      ]
     },
     "metadata": {},
     "output_type": "display_data"
    }
   ],
   "source": [
    "pathlib.Path(f'processed_samples').mkdir(parents=True, exist_ok=True)\n",
    "for count, sample in enumerate(tqdm_notebook(processed_samples)):\n",
    "    # sample_info = processed_metadata.iloc[count]\n",
    "    # filename = f'{count}_{sample_info[\"path\"].replace(\"/\", \"_\")}_mod{sample_info[\"mod\"]}_seg{sample_info[\"segment\"]}'\n",
    "    sf.write(f'processed_samples/{count}.wav', sample, sr, subtype='PCM_24')"
   ]
  },
  {
   "cell_type": "markdown",
   "id": "28e92ede",
   "metadata": {},
   "source": [
    "# Log Mel-spectograms"
   ]
  },
  {
   "cell_type": "markdown",
   "id": "efcbf88e",
   "metadata": {},
   "source": [
    "We can compute the log mel-spectrogram of each sample, with 128 mel bands"
   ]
  },
  {
   "cell_type": "code",
   "execution_count": 75,
   "id": "a7e48069",
   "metadata": {},
   "outputs": [
    {
     "data": {
      "application/vnd.jupyter.widget-view+json": {
       "model_id": "f809700127b64becb7af76b852980e3d",
       "version_major": 2,
       "version_minor": 0
      },
      "text/plain": [
       "  0%|          | 0/7005 [00:00<?, ?it/s]"
      ]
     },
     "metadata": {},
     "output_type": "display_data"
    }
   ],
   "source": [
    "logmelspectrograms = []\n",
    "for sample in tqdm_notebook(processed_samples):\n",
    "    S = librosa.feature.melspectrogram(y=sample, sr=sr, n_mels=128)\n",
    "    S_dB = librosa.power_to_db(S, ref=np.max)\n",
    "    logmelspectrograms.append(S_dB)"
   ]
  },
  {
   "cell_type": "code",
   "execution_count": 76,
   "id": "345f8359",
   "metadata": {},
   "outputs": [
    {
     "name": "stdout",
     "output_type": "stream",
     "text": [
      "A total of 7005 samples, with 128 mel bands and 94 samples\n"
     ]
    }
   ],
   "source": [
    "a, b, c = np.shape(logmelspectrograms)\n",
    "print(f'A total of {a} samples, with {b} mel bands and {c} samples')"
   ]
  },
  {
   "cell_type": "markdown",
   "id": "2cc01bd5",
   "metadata": {},
   "source": [
    "Save the result for further processing"
   ]
  },
  {
   "cell_type": "code",
   "execution_count": 77,
   "id": "d93ffc6b",
   "metadata": {},
   "outputs": [],
   "source": [
    "import pickle\n",
    "pickle.dump(logmelspectrograms, open(\"logmelspectrograms_data.p\", \"wb\"))"
   ]
  },
  {
   "cell_type": "code",
   "execution_count": 78,
   "id": "2ffe4eef",
   "metadata": {},
   "outputs": [],
   "source": [
    "logmelspectrograms = pickle.load(open(\"logmelspectrograms_data.p\", \"rb\" ))"
   ]
  },
  {
   "cell_type": "code",
   "execution_count": 79,
   "id": "06d96d29",
   "metadata": {},
   "outputs": [
    {
     "data": {
      "text/html": [
       "<div>\n",
       "<style scoped>\n",
       "    .dataframe tbody tr th:only-of-type {\n",
       "        vertical-align: middle;\n",
       "    }\n",
       "\n",
       "    .dataframe tbody tr th {\n",
       "        vertical-align: top;\n",
       "    }\n",
       "\n",
       "    .dataframe thead th {\n",
       "        text-align: right;\n",
       "    }\n",
       "</style>\n",
       "<table border=\"1\" class=\"dataframe\">\n",
       "  <thead>\n",
       "    <tr style=\"text-align: right;\">\n",
       "      <th></th>\n",
       "      <th>path</th>\n",
       "      <th>segment</th>\n",
       "      <th>mod</th>\n",
       "      <th>label</th>\n",
       "      <th>samplingrate</th>\n",
       "      <th>ms</th>\n",
       "    </tr>\n",
       "  </thead>\n",
       "  <tbody>\n",
       "    <tr>\n",
       "      <th>0</th>\n",
       "      <td>./Labelled/Bleatings/evt_000_000_000681_210415...</td>\n",
       "      <td>0</td>\n",
       "      <td>0</td>\n",
       "      <td>Bleatings</td>\n",
       "      <td>16000</td>\n",
       "      <td>3000.0</td>\n",
       "    </tr>\n",
       "    <tr>\n",
       "      <th>1</th>\n",
       "      <td>./Labelled/Bleatings/evt_000_000_000681_210415...</td>\n",
       "      <td>1</td>\n",
       "      <td>0</td>\n",
       "      <td>Bleatings</td>\n",
       "      <td>16000</td>\n",
       "      <td>3000.0</td>\n",
       "    </tr>\n",
       "    <tr>\n",
       "      <th>2</th>\n",
       "      <td>./Labelled/Bleatings/evt_000_000_000681_210415...</td>\n",
       "      <td>2</td>\n",
       "      <td>0</td>\n",
       "      <td>Bleatings</td>\n",
       "      <td>16000</td>\n",
       "      <td>3000.0</td>\n",
       "    </tr>\n",
       "    <tr>\n",
       "      <th>3</th>\n",
       "      <td>./Labelled/Bleatings/evt_000_000_000681_210415...</td>\n",
       "      <td>3</td>\n",
       "      <td>0</td>\n",
       "      <td>Bleatings</td>\n",
       "      <td>16000</td>\n",
       "      <td>3000.0</td>\n",
       "    </tr>\n",
       "    <tr>\n",
       "      <th>4</th>\n",
       "      <td>./Labelled/Bleatings/evt_000_000_000682_210415...</td>\n",
       "      <td>0</td>\n",
       "      <td>0</td>\n",
       "      <td>Bleatings</td>\n",
       "      <td>16000</td>\n",
       "      <td>3000.0</td>\n",
       "    </tr>\n",
       "  </tbody>\n",
       "</table>\n",
       "</div>"
      ],
      "text/plain": [
       "                                                path  segment  mod      label  \\\n",
       "0  ./Labelled/Bleatings/evt_000_000_000681_210415...        0    0  Bleatings   \n",
       "1  ./Labelled/Bleatings/evt_000_000_000681_210415...        1    0  Bleatings   \n",
       "2  ./Labelled/Bleatings/evt_000_000_000681_210415...        2    0  Bleatings   \n",
       "3  ./Labelled/Bleatings/evt_000_000_000681_210415...        3    0  Bleatings   \n",
       "4  ./Labelled/Bleatings/evt_000_000_000682_210415...        0    0  Bleatings   \n",
       "\n",
       "   samplingrate      ms  \n",
       "0         16000  3000.0  \n",
       "1         16000  3000.0  \n",
       "2         16000  3000.0  \n",
       "3         16000  3000.0  \n",
       "4         16000  3000.0  "
      ]
     },
     "execution_count": 79,
     "metadata": {},
     "output_type": "execute_result"
    }
   ],
   "source": [
    "processed_metadata = pd.read_csv(\"processed_metadata.csv\")\n",
    "processed_metadata.head()"
   ]
  },
  {
   "cell_type": "markdown",
   "id": "cdfd4c8a",
   "metadata": {},
   "source": [
    "## Spectrograms Images"
   ]
  },
  {
   "cell_type": "markdown",
   "id": "463caf0f",
   "metadata": {},
   "source": [
    "Next we can take the previous obtained list of log mel-scaled spectrogram and finally convert them to images and save to a folder img_data."
   ]
  },
  {
   "cell_type": "code",
   "execution_count": 80,
   "id": "c24f29f4",
   "metadata": {},
   "outputs": [
    {
     "data": {
      "application/vnd.jupyter.widget-view+json": {
       "model_id": "69f27955f12e4a36b72ce655602496a9",
       "version_major": 2,
       "version_minor": 0
      },
      "text/plain": [
       "  0%|          | 0/7005 [00:00<?, ?it/s]"
      ]
     },
     "metadata": {},
     "output_type": "display_data"
    },
    {
     "data": {
      "text/plain": [
       "<Figure size 432x288 with 0 Axes>"
      ]
     },
     "metadata": {},
     "output_type": "display_data"
    }
   ],
   "source": [
    "for g in \"Bleatings ContactCalls Others\".split():\n",
    "    pathlib.Path(f'img_data/{g}').mkdir(parents=True, exist_ok=True)\n",
    "\n",
    "for count, sample in enumerate(tqdm_notebook(logmelspectrograms)):\n",
    "    label = processed_metadata.iloc[count][\"label\"]\n",
    "    img = librosa.display.specshow(sample, sr=sr)\n",
    "    plt.savefig(f'img_data/{label}/{count}.png')\n",
    "    plt.clf()"
   ]
  },
  {
   "cell_type": "markdown",
   "id": "c07a9ec5",
   "metadata": {},
   "source": [
    "# Features MFCC and Delta-MFCC"
   ]
  },
  {
   "cell_type": "markdown",
   "id": "7a4474b9",
   "metadata": {},
   "source": [
    "Let's extract as presented in analysis.ipybn the MFCC and delta-MFCC realted features"
   ]
  },
  {
   "cell_type": "code",
   "execution_count": 81,
   "id": "77687dfc",
   "metadata": {},
   "outputs": [
    {
     "data": {
      "application/vnd.jupyter.widget-view+json": {
       "model_id": "f8ea1c4781694bfba06fe2781cd6fcba",
       "version_major": 2,
       "version_minor": 0
      },
      "text/plain": [
       "  0%|          | 0/7005 [00:00<?, ?it/s]"
      ]
     },
     "metadata": {},
     "output_type": "display_data"
    },
    {
     "name": "stdout",
     "output_type": "stream",
     "text": [
      "(7005, 130)\n",
      "(7005, 2444)\n"
     ]
    }
   ],
   "source": [
    "features_long = []\n",
    "features_resumed = []\n",
    "for sample in tqdm_notebook(processed_samples):\n",
    "    mfccs = librosa.feature.mfcc(sample, sr = sr, n_mfcc=13)\n",
    "    mfccs_trunc = np.hstack((np.mean(mfccs, axis=1), np.std(mfccs, axis=1), np.max(mfccs, axis = 1),\n",
    "                             np.median(mfccs, axis = 1), np.min(mfccs, axis = 1)))\n",
    "    mfccs_delta = librosa.feature.delta(mfccs, mode='nearest')\n",
    "    mfccs_delta_trunc = np.hstack((np.mean(mfccs_delta, axis=1), np.std(mfccs_delta, axis=1), np.max(mfccs_delta, axis = 1),\n",
    "                                   np.median(mfccs_delta, axis = 1), np.min(mfccs_delta, axis = 1)))\n",
    "    features_resumed.append(np.concatenate((mfccs_trunc, mfccs_delta_trunc)))\n",
    "    features_long.append(np.concatenate((mfccs.flatten(), mfccs_delta.flatten())))\n",
    "\n",
    "print(np.shape(features_resumed))\n",
    "\n",
    "print(np.shape(features_long))"
   ]
  },
  {
   "cell_type": "markdown",
   "id": "ae533793",
   "metadata": {},
   "source": [
    "Save the obtained result to a .cvs file for processing with the models."
   ]
  },
  {
   "cell_type": "code",
   "execution_count": 85,
   "id": "4603f246",
   "metadata": {},
   "outputs": [],
   "source": [
    "df1 = pd.DataFrame(features_resumed)\n",
    "df2 = pd.DataFrame(features_long)\n",
    "df1.to_csv(\"mfcc_deltamfcc_stat.csv\")\n",
    "df2.to_csv(\"mfcc_deltamfcc_entire.csv\")"
   ]
  },
  {
   "cell_type": "markdown",
   "id": "9b83e7e9",
   "metadata": {},
   "source": [
    "# Preapre for k-fold cross validation"
   ]
  },
  {
   "cell_type": "code",
   "execution_count": null,
   "id": "2ee11169",
   "metadata": {},
   "outputs": [],
   "source": []
  }
 ],
 "metadata": {
  "kernelspec": {
   "display_name": "Python 3 (ipykernel)",
   "language": "python",
   "name": "python3"
  },
  "language_info": {
   "codemirror_mode": {
    "name": "ipython",
    "version": 3
   },
   "file_extension": ".py",
   "mimetype": "text/x-python",
   "name": "python",
   "nbconvert_exporter": "python",
   "pygments_lexer": "ipython3",
   "version": "3.8.10"
  }
 },
 "nbformat": 4,
 "nbformat_minor": 5
}
