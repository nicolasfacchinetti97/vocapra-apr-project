{
 "cells": [
  {
   "cell_type": "code",
   "execution_count": 16,
   "id": "956883e0",
   "metadata": {},
   "outputs": [],
   "source": [
    "# data manipulations\n",
    "import numpy as np\n",
    "import pandas as pd\n",
    "# progress bar\n",
    "from tqdm.notebook import tqdm_notebook\n",
    "# audio analysis\n",
    "import librosa\n",
    "# noise reducer\n",
    "import noisereduce as nr\n",
    "# standardization\n",
    "from sklearn.preprocessing import StandardScaler\n",
    "# serialization of objects\n",
    "import pickle\n",
    "# working with directory\n",
    "import pathlib"
   ]
  },
  {
   "cell_type": "code",
   "execution_count": 17,
   "id": "a0941a99",
   "metadata": {},
   "outputs": [],
   "source": [
    "# printing results and listening\n",
    "import matplotlib.pyplot as plt\n",
    "import IPython.display as ipd\n",
    "import librosa.display\n",
    "\n",
    "def wave_and_audio(sample, sr):\n",
    "    # plot the signal\n",
    "    plt.figure(figsize=(10, 4))\n",
    "    librosa.display.waveplot(sample, sr=sr)\n",
    "    plt.title('Waveplot of audio sample')\n",
    "    plt.show()\n",
    "    # reproduce the sample\n",
    "    ipd.display(ipd.Audio(sample, rate=sr))"
   ]
  },
  {
   "cell_type": "code",
   "execution_count": 18,
   "id": "bded34a1",
   "metadata": {},
   "outputs": [
    {
     "data": {
      "text/html": [
       "<div>\n",
       "<style scoped>\n",
       "    .dataframe tbody tr th:only-of-type {\n",
       "        vertical-align: middle;\n",
       "    }\n",
       "\n",
       "    .dataframe tbody tr th {\n",
       "        vertical-align: top;\n",
       "    }\n",
       "\n",
       "    .dataframe thead th {\n",
       "        text-align: right;\n",
       "    }\n",
       "</style>\n",
       "<table border=\"1\" class=\"dataframe\">\n",
       "  <thead>\n",
       "    <tr style=\"text-align: right;\">\n",
       "      <th></th>\n",
       "      <th>path</th>\n",
       "      <th>label</th>\n",
       "      <th>samplingrate</th>\n",
       "      <th>nframes</th>\n",
       "      <th>ms</th>\n",
       "    </tr>\n",
       "  </thead>\n",
       "  <tbody>\n",
       "    <tr>\n",
       "      <th>0</th>\n",
       "      <td>./Labelled/Bleatings/evt_000_000_000681_210415...</td>\n",
       "      <td>Bleatings</td>\n",
       "      <td>16000</td>\n",
       "      <td>156016</td>\n",
       "      <td>9751.0</td>\n",
       "    </tr>\n",
       "    <tr>\n",
       "      <th>1</th>\n",
       "      <td>./Labelled/Bleatings/evt_000_000_000682_210415...</td>\n",
       "      <td>Bleatings</td>\n",
       "      <td>16000</td>\n",
       "      <td>99040</td>\n",
       "      <td>6190.0</td>\n",
       "    </tr>\n",
       "    <tr>\n",
       "      <th>2</th>\n",
       "      <td>./Labelled/Bleatings/evt_000_000_000683_210415...</td>\n",
       "      <td>Bleatings</td>\n",
       "      <td>16000</td>\n",
       "      <td>97152</td>\n",
       "      <td>6072.0</td>\n",
       "    </tr>\n",
       "    <tr>\n",
       "      <th>3</th>\n",
       "      <td>./Labelled/Bleatings/evt_000_000_000684_210415...</td>\n",
       "      <td>Bleatings</td>\n",
       "      <td>16000</td>\n",
       "      <td>97696</td>\n",
       "      <td>6106.0</td>\n",
       "    </tr>\n",
       "    <tr>\n",
       "      <th>4</th>\n",
       "      <td>./Labelled/Bleatings/evt_000_000_002434_210416...</td>\n",
       "      <td>Bleatings</td>\n",
       "      <td>16000</td>\n",
       "      <td>164224</td>\n",
       "      <td>10264.0</td>\n",
       "    </tr>\n",
       "  </tbody>\n",
       "</table>\n",
       "</div>"
      ],
      "text/plain": [
       "                                                path      label  samplingrate  \\\n",
       "0  ./Labelled/Bleatings/evt_000_000_000681_210415...  Bleatings         16000   \n",
       "1  ./Labelled/Bleatings/evt_000_000_000682_210415...  Bleatings         16000   \n",
       "2  ./Labelled/Bleatings/evt_000_000_000683_210415...  Bleatings         16000   \n",
       "3  ./Labelled/Bleatings/evt_000_000_000684_210415...  Bleatings         16000   \n",
       "4  ./Labelled/Bleatings/evt_000_000_002434_210416...  Bleatings         16000   \n",
       "\n",
       "   nframes       ms  \n",
       "0   156016   9751.0  \n",
       "1    99040   6190.0  \n",
       "2    97152   6072.0  \n",
       "3    97696   6106.0  \n",
       "4   164224  10264.0  "
      ]
     },
     "execution_count": 18,
     "metadata": {},
     "output_type": "execute_result"
    }
   ],
   "source": [
    "metadata = pd.read_csv(\"to_load.csv\")\n",
    "metadata.head()"
   ]
  },
  {
   "cell_type": "code",
   "execution_count": 22,
   "id": "3208d842",
   "metadata": {},
   "outputs": [
    {
     "data": {
      "text/plain": [
       "16000"
      ]
     },
     "execution_count": 22,
     "metadata": {},
     "output_type": "execute_result"
    }
   ],
   "source": [
    "sr = metadata[\"samplingrate\"][0]\n",
    "sr"
   ]
  },
  {
   "cell_type": "code",
   "execution_count": 23,
   "id": "2d0b683e",
   "metadata": {},
   "outputs": [
    {
     "data": {
      "application/vnd.jupyter.widget-view+json": {
       "model_id": "e515e20fc5cc41fd934709a4f6c06b38",
       "version_major": 2,
       "version_minor": 0
      },
      "text/plain": [
       "  0%|          | 0/827 [00:00<?, ?it/s]"
      ]
     },
     "metadata": {},
     "output_type": "display_data"
    },
    {
     "data": {
      "text/plain": [
       "[array([ 0.01379395,  0.00057983,  0.01922607, ..., -0.01580811,\n",
       "        -0.01345825, -0.01861572], dtype=float32),\n",
       " array([-0.01376343, -0.00183105,  0.00115967, ...,  0.02661133,\n",
       "         0.02331543,  0.01779175], dtype=float32),\n",
       " array([-2.3986816e-02, -9.6130371e-03, -1.3641357e-02, ...,\n",
       "        -1.0070801e-02,  6.1035156e-05,  4.5776367e-03], dtype=float32),\n",
       " array([-0.01174927, -0.00735474, -0.00198364, ..., -0.00079346,\n",
       "         0.00054932, -0.00073242], dtype=float32),\n",
       " array([ 0.05810547,  0.0345459 ,  0.0211792 , ..., -0.07623291,\n",
       "         0.03268433,  0.13360596], dtype=float32)]"
      ]
     },
     "execution_count": 23,
     "metadata": {},
     "output_type": "execute_result"
    }
   ],
   "source": [
    "paths = metadata[\"path\"]\n",
    "samples = []\n",
    "for path in tqdm_notebook(paths):\n",
    "    sample, sampling_rate = librosa.load(path, sr=None, mono=True)\n",
    "    samples.append(sample)\n",
    "samples[:5]"
   ]
  },
  {
   "cell_type": "markdown",
   "id": "18577f2b",
   "metadata": {},
   "source": [
    "# Preprocessing"
   ]
  },
  {
   "cell_type": "markdown",
   "id": "9d517ddb",
   "metadata": {},
   "source": [
    "## Segment the long sample"
   ]
  },
  {
   "cell_type": "markdown",
   "id": "872f06e7",
   "metadata": {},
   "source": [
    "Let's break all the sample above of 3 seconds in subsample with a window 3 of seconds and hop size 1.5 seconds "
   ]
  },
  {
   "cell_type": "code",
   "execution_count": 24,
   "id": "598e7fce",
   "metadata": {},
   "outputs": [
    {
     "data": {
      "text/plain": [
       "827"
      ]
     },
     "execution_count": 24,
     "metadata": {},
     "output_type": "execute_result"
    }
   ],
   "source": [
    "max_len = 3\n",
    "condition = metadata[\"ms\"] > max_len*1000\n",
    "long = metadata[condition]\n",
    "len(long)"
   ]
  },
  {
   "cell_type": "markdown",
   "id": "32203083",
   "metadata": {},
   "source": [
    "All the samples must be splitted"
   ]
  },
  {
   "cell_type": "code",
   "execution_count": 25,
   "id": "bf06465f",
   "metadata": {},
   "outputs": [],
   "source": [
    "def split_in_equal(sample, sr, maxd):\n",
    "    buffer = maxd * sr\n",
    "    step = maxd/2\n",
    "    samples_total = len(sample)\n",
    "    samples_wrote = 0\n",
    "    next_buffer = 0\n",
    "\n",
    "\n",
    "    splitted_sample = []\n",
    "\n",
    "    while samples_wrote < samples_total:\n",
    "        #check if the buffer is not exceeding total samples \n",
    "        if buffer > (samples_total - next_buffer):\n",
    "            buffer = samples_total - next_buffer\n",
    "\n",
    "        end = next_buffer + buffer\n",
    "        block = sample[next_buffer : end]\n",
    "        splitted_sample.append(block)\n",
    "        \n",
    "        next_buffer = next_buffer + int(step * sr)\n",
    "        \n",
    "        buffer = maxd*sr\n",
    "        samples_wrote = end\n",
    "    return splitted_sample"
   ]
  },
  {
   "cell_type": "code",
   "execution_count": 26,
   "id": "e796d6c1",
   "metadata": {},
   "outputs": [
    {
     "data": {
      "application/vnd.jupyter.widget-view+json": {
       "model_id": "60c0ee443a054d75a0e94f2f7bfd9ebe",
       "version_major": 2,
       "version_minor": 0
      },
      "text/plain": [
       "  0%|          | 0/827 [00:00<?, ?it/s]"
      ]
     },
     "metadata": {},
     "output_type": "display_data"
    },
    {
     "data": {
      "text/html": [
       "<div>\n",
       "<style scoped>\n",
       "    .dataframe tbody tr th:only-of-type {\n",
       "        vertical-align: middle;\n",
       "    }\n",
       "\n",
       "    .dataframe tbody tr th {\n",
       "        vertical-align: top;\n",
       "    }\n",
       "\n",
       "    .dataframe thead th {\n",
       "        text-align: right;\n",
       "    }\n",
       "</style>\n",
       "<table border=\"1\" class=\"dataframe\">\n",
       "  <thead>\n",
       "    <tr style=\"text-align: right;\">\n",
       "      <th></th>\n",
       "      <th>path</th>\n",
       "      <th>segment</th>\n",
       "      <th>label</th>\n",
       "      <th>samplingrate</th>\n",
       "      <th>nframes</th>\n",
       "      <th>ms</th>\n",
       "    </tr>\n",
       "  </thead>\n",
       "  <tbody>\n",
       "    <tr>\n",
       "      <th>0</th>\n",
       "      <td>./Labelled/Bleatings/evt_000_000_000681_210415...</td>\n",
       "      <td>0</td>\n",
       "      <td>Bleatings</td>\n",
       "      <td>16000</td>\n",
       "      <td>48000</td>\n",
       "      <td>3000.0</td>\n",
       "    </tr>\n",
       "    <tr>\n",
       "      <th>1</th>\n",
       "      <td>./Labelled/Bleatings/evt_000_000_000681_210415...</td>\n",
       "      <td>1</td>\n",
       "      <td>Bleatings</td>\n",
       "      <td>16000</td>\n",
       "      <td>48000</td>\n",
       "      <td>3000.0</td>\n",
       "    </tr>\n",
       "    <tr>\n",
       "      <th>2</th>\n",
       "      <td>./Labelled/Bleatings/evt_000_000_000681_210415...</td>\n",
       "      <td>2</td>\n",
       "      <td>Bleatings</td>\n",
       "      <td>16000</td>\n",
       "      <td>48000</td>\n",
       "      <td>3000.0</td>\n",
       "    </tr>\n",
       "    <tr>\n",
       "      <th>3</th>\n",
       "      <td>./Labelled/Bleatings/evt_000_000_000681_210415...</td>\n",
       "      <td>3</td>\n",
       "      <td>Bleatings</td>\n",
       "      <td>16000</td>\n",
       "      <td>48000</td>\n",
       "      <td>3000.0</td>\n",
       "    </tr>\n",
       "    <tr>\n",
       "      <th>4</th>\n",
       "      <td>./Labelled/Bleatings/evt_000_000_000681_210415...</td>\n",
       "      <td>4</td>\n",
       "      <td>Bleatings</td>\n",
       "      <td>16000</td>\n",
       "      <td>48000</td>\n",
       "      <td>3000.0</td>\n",
       "    </tr>\n",
       "    <tr>\n",
       "      <th>...</th>\n",
       "      <td>...</td>\n",
       "      <td>...</td>\n",
       "      <td>...</td>\n",
       "      <td>...</td>\n",
       "      <td>...</td>\n",
       "      <td>...</td>\n",
       "    </tr>\n",
       "    <tr>\n",
       "      <th>7015</th>\n",
       "      <td>./Labelled/Others/evt_003_003_069820_210609_06...</td>\n",
       "      <td>3</td>\n",
       "      <td>Others</td>\n",
       "      <td>16000</td>\n",
       "      <td>48000</td>\n",
       "      <td>3000.0</td>\n",
       "    </tr>\n",
       "    <tr>\n",
       "      <th>7016</th>\n",
       "      <td>./Labelled/Others/evt_003_003_069820_210609_06...</td>\n",
       "      <td>4</td>\n",
       "      <td>Others</td>\n",
       "      <td>16000</td>\n",
       "      <td>48000</td>\n",
       "      <td>3000.0</td>\n",
       "    </tr>\n",
       "    <tr>\n",
       "      <th>7017</th>\n",
       "      <td>./Labelled/Others/evt_003_003_069820_210609_06...</td>\n",
       "      <td>5</td>\n",
       "      <td>Others</td>\n",
       "      <td>16000</td>\n",
       "      <td>48000</td>\n",
       "      <td>3000.0</td>\n",
       "    </tr>\n",
       "    <tr>\n",
       "      <th>7018</th>\n",
       "      <td>./Labelled/Others/evt_003_003_069820_210609_06...</td>\n",
       "      <td>6</td>\n",
       "      <td>Others</td>\n",
       "      <td>16000</td>\n",
       "      <td>48000</td>\n",
       "      <td>3000.0</td>\n",
       "    </tr>\n",
       "    <tr>\n",
       "      <th>7019</th>\n",
       "      <td>./Labelled/Others/evt_003_003_069820_210609_06...</td>\n",
       "      <td>7</td>\n",
       "      <td>Others</td>\n",
       "      <td>16000</td>\n",
       "      <td>37648</td>\n",
       "      <td>2353.0</td>\n",
       "    </tr>\n",
       "  </tbody>\n",
       "</table>\n",
       "<p>7020 rows × 6 columns</p>\n",
       "</div>"
      ],
      "text/plain": [
       "                                                   path  segment      label  \\\n",
       "0     ./Labelled/Bleatings/evt_000_000_000681_210415...        0  Bleatings   \n",
       "1     ./Labelled/Bleatings/evt_000_000_000681_210415...        1  Bleatings   \n",
       "2     ./Labelled/Bleatings/evt_000_000_000681_210415...        2  Bleatings   \n",
       "3     ./Labelled/Bleatings/evt_000_000_000681_210415...        3  Bleatings   \n",
       "4     ./Labelled/Bleatings/evt_000_000_000681_210415...        4  Bleatings   \n",
       "...                                                 ...      ...        ...   \n",
       "7015  ./Labelled/Others/evt_003_003_069820_210609_06...        3     Others   \n",
       "7016  ./Labelled/Others/evt_003_003_069820_210609_06...        4     Others   \n",
       "7017  ./Labelled/Others/evt_003_003_069820_210609_06...        5     Others   \n",
       "7018  ./Labelled/Others/evt_003_003_069820_210609_06...        6     Others   \n",
       "7019  ./Labelled/Others/evt_003_003_069820_210609_06...        7     Others   \n",
       "\n",
       "      samplingrate  nframes      ms  \n",
       "0            16000    48000  3000.0  \n",
       "1            16000    48000  3000.0  \n",
       "2            16000    48000  3000.0  \n",
       "3            16000    48000  3000.0  \n",
       "4            16000    48000  3000.0  \n",
       "...            ...      ...     ...  \n",
       "7015         16000    48000  3000.0  \n",
       "7016         16000    48000  3000.0  \n",
       "7017         16000    48000  3000.0  \n",
       "7018         16000    48000  3000.0  \n",
       "7019         16000    37648  2353.0  \n",
       "\n",
       "[7020 rows x 6 columns]"
      ]
     },
     "execution_count": 26,
     "metadata": {},
     "output_type": "execute_result"
    }
   ],
   "source": [
    "split_samples = []\n",
    "split_metadata = []\n",
    "for c, sample in enumerate(tqdm_notebook(samples)):\n",
    "    if metadata.iloc[c][\"ms\"] > max_len*1000:\n",
    "        splitted_sample = split_in_equal(sample, sr, max_len)\n",
    "        split_samples += splitted_sample\n",
    "        new_metadata = [[metadata.iloc[c][\"path\"],\n",
    "                         i,\n",
    "                         metadata.iloc[c][\"label\"],\n",
    "                         sr,\n",
    "                         len(s),\n",
    "                         1000*len(s)/sr]\n",
    "                         for i, s in enumerate(splitted_sample)]\n",
    "        split_metadata += new_metadata\n",
    "\n",
    "split_metadata = pd.DataFrame(split_metadata, columns=[\"path\", \"segment\", \"label\", \"samplingrate\", \"nframes\", \"ms\"])\n",
    "split_metadata"
   ]
  },
  {
   "cell_type": "markdown",
   "id": "4f712f2f",
   "metadata": {},
   "source": [
    "We obtained a total of 7020 samples from the original 827. Let's have a look at the ditrbituion of the class"
   ]
  },
  {
   "cell_type": "code",
   "execution_count": 27,
   "id": "b414679c",
   "metadata": {},
   "outputs": [
    {
     "data": {
      "text/html": [
       "<div>\n",
       "<style scoped>\n",
       "    .dataframe tbody tr th:only-of-type {\n",
       "        vertical-align: middle;\n",
       "    }\n",
       "\n",
       "    .dataframe tbody tr th {\n",
       "        vertical-align: top;\n",
       "    }\n",
       "\n",
       "    .dataframe thead th {\n",
       "        text-align: right;\n",
       "    }\n",
       "</style>\n",
       "<table border=\"1\" class=\"dataframe\">\n",
       "  <thead>\n",
       "    <tr style=\"text-align: right;\">\n",
       "      <th></th>\n",
       "      <th>label</th>\n",
       "    </tr>\n",
       "  </thead>\n",
       "  <tbody>\n",
       "    <tr>\n",
       "      <th>Bleatings</th>\n",
       "      <td>3066</td>\n",
       "    </tr>\n",
       "    <tr>\n",
       "      <th>Others</th>\n",
       "      <td>2730</td>\n",
       "    </tr>\n",
       "    <tr>\n",
       "      <th>ContactCalls</th>\n",
       "      <td>1224</td>\n",
       "    </tr>\n",
       "  </tbody>\n",
       "</table>\n",
       "</div>"
      ],
      "text/plain": [
       "              label\n",
       "Bleatings      3066\n",
       "Others         2730\n",
       "ContactCalls   1224"
      ]
     },
     "execution_count": 27,
     "metadata": {},
     "output_type": "execute_result"
    }
   ],
   "source": [
    "count_label = split_metadata['label'].value_counts().to_frame()\n",
    "count_label"
   ]
  },
  {
   "cell_type": "markdown",
   "id": "558627db",
   "metadata": {},
   "source": [
    "We still need to increase the samples for contact calls."
   ]
  },
  {
   "cell_type": "markdown",
   "id": "71604255",
   "metadata": {},
   "source": [
    "## Data augmentation"
   ]
  },
  {
   "cell_type": "code",
   "execution_count": null,
   "id": "217f5e36",
   "metadata": {},
   "outputs": [],
   "source": []
  },
  {
   "cell_type": "markdown",
   "id": "21da940b",
   "metadata": {},
   "source": [
    "## Denoising and trimming"
   ]
  },
  {
   "cell_type": "markdown",
   "id": "158fb1e3",
   "metadata": {},
   "source": [
    "Let's remove the noise from the samples and then trim the silent part at the beggining and ending of the samples."
   ]
  },
  {
   "cell_type": "code",
   "execution_count": 28,
   "id": "fae71737",
   "metadata": {},
   "outputs": [
    {
     "data": {
      "application/vnd.jupyter.widget-view+json": {
       "model_id": "18553a0900ac429489c9893eb48ca7cf",
       "version_major": 2,
       "version_minor": 0
      },
      "text/plain": [
       "  0%|          | 0/7020 [00:00<?, ?it/s]"
      ]
     },
     "metadata": {},
     "output_type": "display_data"
    },
    {
     "data": {
      "text/plain": [
       "[array([-0.02437842, -0.02365888, -0.00902225, ..., -0.00756735,\n",
       "        -0.00464633, -0.0001669 ], dtype=float32),\n",
       " array([ 0.01265561,  0.00711744, -0.00751382, ...,  0.0012379 ,\n",
       "         0.00226272,  0.00411485], dtype=float32),\n",
       " array([ 0.0124789 ,  0.01066994,  0.0083406 , ..., -0.0032531 ,\n",
       "         0.0044106 ,  0.00692406], dtype=float32),\n",
       " array([-0.00345186,  0.0035702 ,  0.01045445, ..., -0.0037035 ,\n",
       "         0.00380693,  0.00417307], dtype=float32),\n",
       " array([-1.03670144e-02, -7.80101586e-03, -2.67368346e-03, ...,\n",
       "         7.08722582e-05, -1.04012266e-04, -2.75029871e-03], dtype=float32)]"
      ]
     },
     "execution_count": 28,
     "metadata": {},
     "output_type": "execute_result"
    }
   ],
   "source": [
    "denoise_trim_samples = []\n",
    "\n",
    "for count, sample in enumerate(tqdm_notebook(split_samples)):\n",
    "    if split_metadata.iloc[count][\"label\"] != \"Others\":\n",
    "        sample = nr.reduce_noise(y=sample, sr=sr, use_tqdm=False)\n",
    "    sample = librosa.effects.trim(sample, top_db=15, frame_length=512, hop_length=64)[0]\n",
    "    denoise_trim_samples.append(sample)\n",
    "denoise_trim_samples[:5]"
   ]
  },
  {
   "cell_type": "code",
   "execution_count": 29,
   "id": "c28f806b",
   "metadata": {},
   "outputs": [
    {
     "data": {
      "application/vnd.jupyter.widget-view+json": {
       "model_id": "4123f4d4f135475aa3186cf67a6c57f9",
       "version_major": 2,
       "version_minor": 0
      },
      "text/plain": [
       "  0%|          | 0/7020 [00:00<?, ?it/s]"
      ]
     },
     "metadata": {},
     "output_type": "display_data"
    },
    {
     "data": {
      "text/html": [
       "<div>\n",
       "<style scoped>\n",
       "    .dataframe tbody tr th:only-of-type {\n",
       "        vertical-align: middle;\n",
       "    }\n",
       "\n",
       "    .dataframe tbody tr th {\n",
       "        vertical-align: top;\n",
       "    }\n",
       "\n",
       "    .dataframe thead th {\n",
       "        text-align: right;\n",
       "    }\n",
       "</style>\n",
       "<table border=\"1\" class=\"dataframe\">\n",
       "  <thead>\n",
       "    <tr style=\"text-align: right;\">\n",
       "      <th></th>\n",
       "      <th>path</th>\n",
       "      <th>segment</th>\n",
       "      <th>label</th>\n",
       "      <th>samplingrate</th>\n",
       "      <th>nframes</th>\n",
       "      <th>ms</th>\n",
       "      <th>nframes_trim</th>\n",
       "      <th>ms_trim</th>\n",
       "    </tr>\n",
       "  </thead>\n",
       "  <tbody>\n",
       "    <tr>\n",
       "      <th>0</th>\n",
       "      <td>./Labelled/Bleatings/evt_000_000_000681_210415...</td>\n",
       "      <td>0</td>\n",
       "      <td>Bleatings</td>\n",
       "      <td>16000</td>\n",
       "      <td>48000</td>\n",
       "      <td>3000.0</td>\n",
       "      <td>30720</td>\n",
       "      <td>1920.0</td>\n",
       "    </tr>\n",
       "    <tr>\n",
       "      <th>1</th>\n",
       "      <td>./Labelled/Bleatings/evt_000_000_000681_210415...</td>\n",
       "      <td>1</td>\n",
       "      <td>Bleatings</td>\n",
       "      <td>16000</td>\n",
       "      <td>48000</td>\n",
       "      <td>3000.0</td>\n",
       "      <td>40704</td>\n",
       "      <td>2544.0</td>\n",
       "    </tr>\n",
       "    <tr>\n",
       "      <th>2</th>\n",
       "      <td>./Labelled/Bleatings/evt_000_000_000681_210415...</td>\n",
       "      <td>2</td>\n",
       "      <td>Bleatings</td>\n",
       "      <td>16000</td>\n",
       "      <td>48000</td>\n",
       "      <td>3000.0</td>\n",
       "      <td>34880</td>\n",
       "      <td>2180.0</td>\n",
       "    </tr>\n",
       "    <tr>\n",
       "      <th>3</th>\n",
       "      <td>./Labelled/Bleatings/evt_000_000_000681_210415...</td>\n",
       "      <td>3</td>\n",
       "      <td>Bleatings</td>\n",
       "      <td>16000</td>\n",
       "      <td>48000</td>\n",
       "      <td>3000.0</td>\n",
       "      <td>20672</td>\n",
       "      <td>1292.0</td>\n",
       "    </tr>\n",
       "    <tr>\n",
       "      <th>4</th>\n",
       "      <td>./Labelled/Bleatings/evt_000_000_000681_210415...</td>\n",
       "      <td>4</td>\n",
       "      <td>Bleatings</td>\n",
       "      <td>16000</td>\n",
       "      <td>48000</td>\n",
       "      <td>3000.0</td>\n",
       "      <td>47808</td>\n",
       "      <td>2988.0</td>\n",
       "    </tr>\n",
       "  </tbody>\n",
       "</table>\n",
       "</div>"
      ],
      "text/plain": [
       "                                                path  segment      label  \\\n",
       "0  ./Labelled/Bleatings/evt_000_000_000681_210415...        0  Bleatings   \n",
       "1  ./Labelled/Bleatings/evt_000_000_000681_210415...        1  Bleatings   \n",
       "2  ./Labelled/Bleatings/evt_000_000_000681_210415...        2  Bleatings   \n",
       "3  ./Labelled/Bleatings/evt_000_000_000681_210415...        3  Bleatings   \n",
       "4  ./Labelled/Bleatings/evt_000_000_000681_210415...        4  Bleatings   \n",
       "\n",
       "   samplingrate  nframes      ms  nframes_trim  ms_trim  \n",
       "0         16000    48000  3000.0         30720   1920.0  \n",
       "1         16000    48000  3000.0         40704   2544.0  \n",
       "2         16000    48000  3000.0         34880   2180.0  \n",
       "3         16000    48000  3000.0         20672   1292.0  \n",
       "4         16000    48000  3000.0         47808   2988.0  "
      ]
     },
     "execution_count": 29,
     "metadata": {},
     "output_type": "execute_result"
    }
   ],
   "source": [
    "metadata_clean = []\n",
    "for sample in tqdm_notebook(denoise_trim_samples):\n",
    "    nframe = len(sample)\n",
    "    length = 1000*nframe/sr\n",
    "    metadata_clean.append([nframe, length])\n",
    "\n",
    "split_metadata_trim = pd.concat([split_metadata, pd.DataFrame(metadata_clean, columns = [\"nframes_trim\", \"ms_trim\"])], axis=1)\n",
    "split_metadata_trim.head()"
   ]
  },
  {
   "cell_type": "code",
   "execution_count": 30,
   "id": "90f4e18a",
   "metadata": {},
   "outputs": [
    {
     "data": {
      "text/plain": [
       "count    7020.000000\n",
       "mean     2287.241311\n",
       "std       840.152177\n",
       "min        76.000000\n",
       "25%      1728.000000\n",
       "50%      2670.000000\n",
       "75%      3000.000000\n",
       "max      3000.000000\n",
       "Name: ms_trim, dtype: float64"
      ]
     },
     "execution_count": 30,
     "metadata": {},
     "output_type": "execute_result"
    },
    {
     "data": {
      "image/png": "[encoded data removed]",
      "text/plain": [
       "<Figure size 432x288 with 1 Axes>"
      ]
     },
     "metadata": {
      "needs_background": "light"
     },
     "output_type": "display_data"
    }
   ],
   "source": [
    "durations = split_metadata_trim['ms_trim']\n",
    "durations.hist(bins=40)\n",
    "durations.describe()"
   ]
  },
  {
   "cell_type": "markdown",
   "id": "97b10cc9",
   "metadata": {},
   "source": [
    "# Remove short samples"
   ]
  },
  {
   "cell_type": "code",
   "execution_count": 31,
   "id": "9c496bc3",
   "metadata": {},
   "outputs": [
    {
     "data": {
      "text/plain": [
       "True     6639\n",
       "False     381\n",
       "Name: ms_trim, dtype: int64"
      ]
     },
     "execution_count": 31,
     "metadata": {},
     "output_type": "execute_result"
    }
   ],
   "source": [
    "condition = split_metadata_trim[\"ms_trim\"] > 500\n",
    "split_metadata_trim = split_metadata_trim[condition]\n",
    "\n",
    "condition.value_counts()"
   ]
  },
  {
   "cell_type": "code",
   "execution_count": 32,
   "id": "a158c051",
   "metadata": {},
   "outputs": [
    {
     "data": {
      "text/plain": [
       "6639"
      ]
     },
     "execution_count": 32,
     "metadata": {},
     "output_type": "execute_result"
    }
   ],
   "source": [
    "processed_samples = [sample for count, sample in enumerate(denoise_trim_samples) if condition[count]==True]\n",
    "len(processed_samples)"
   ]
  },
  {
   "cell_type": "code",
   "execution_count": 33,
   "id": "0aeabf91",
   "metadata": {},
   "outputs": [
    {
     "data": {
      "text/html": [
       "<div>\n",
       "<style scoped>\n",
       "    .dataframe tbody tr th:only-of-type {\n",
       "        vertical-align: middle;\n",
       "    }\n",
       "\n",
       "    .dataframe tbody tr th {\n",
       "        vertical-align: top;\n",
       "    }\n",
       "\n",
       "    .dataframe thead th {\n",
       "        text-align: right;\n",
       "    }\n",
       "</style>\n",
       "<table border=\"1\" class=\"dataframe\">\n",
       "  <thead>\n",
       "    <tr style=\"text-align: right;\">\n",
       "      <th></th>\n",
       "      <th>path</th>\n",
       "      <th>segment</th>\n",
       "      <th>label</th>\n",
       "      <th>samplingrate</th>\n",
       "      <th>nframes</th>\n",
       "      <th>ms</th>\n",
       "      <th>nframes_trim</th>\n",
       "      <th>ms_trim</th>\n",
       "    </tr>\n",
       "  </thead>\n",
       "  <tbody>\n",
       "    <tr>\n",
       "      <th>0</th>\n",
       "      <td>./Labelled/Bleatings/evt_000_000_000681_210415...</td>\n",
       "      <td>0</td>\n",
       "      <td>Bleatings</td>\n",
       "      <td>16000</td>\n",
       "      <td>48000</td>\n",
       "      <td>3000.0</td>\n",
       "      <td>30720</td>\n",
       "      <td>1920.0</td>\n",
       "    </tr>\n",
       "    <tr>\n",
       "      <th>1</th>\n",
       "      <td>./Labelled/Bleatings/evt_000_000_000681_210415...</td>\n",
       "      <td>1</td>\n",
       "      <td>Bleatings</td>\n",
       "      <td>16000</td>\n",
       "      <td>48000</td>\n",
       "      <td>3000.0</td>\n",
       "      <td>40704</td>\n",
       "      <td>2544.0</td>\n",
       "    </tr>\n",
       "    <tr>\n",
       "      <th>2</th>\n",
       "      <td>./Labelled/Bleatings/evt_000_000_000681_210415...</td>\n",
       "      <td>2</td>\n",
       "      <td>Bleatings</td>\n",
       "      <td>16000</td>\n",
       "      <td>48000</td>\n",
       "      <td>3000.0</td>\n",
       "      <td>34880</td>\n",
       "      <td>2180.0</td>\n",
       "    </tr>\n",
       "    <tr>\n",
       "      <th>3</th>\n",
       "      <td>./Labelled/Bleatings/evt_000_000_000681_210415...</td>\n",
       "      <td>3</td>\n",
       "      <td>Bleatings</td>\n",
       "      <td>16000</td>\n",
       "      <td>48000</td>\n",
       "      <td>3000.0</td>\n",
       "      <td>20672</td>\n",
       "      <td>1292.0</td>\n",
       "    </tr>\n",
       "    <tr>\n",
       "      <th>4</th>\n",
       "      <td>./Labelled/Bleatings/evt_000_000_000681_210415...</td>\n",
       "      <td>4</td>\n",
       "      <td>Bleatings</td>\n",
       "      <td>16000</td>\n",
       "      <td>48000</td>\n",
       "      <td>3000.0</td>\n",
       "      <td>47808</td>\n",
       "      <td>2988.0</td>\n",
       "    </tr>\n",
       "    <tr>\n",
       "      <th>...</th>\n",
       "      <td>...</td>\n",
       "      <td>...</td>\n",
       "      <td>...</td>\n",
       "      <td>...</td>\n",
       "      <td>...</td>\n",
       "      <td>...</td>\n",
       "      <td>...</td>\n",
       "      <td>...</td>\n",
       "    </tr>\n",
       "    <tr>\n",
       "      <th>7015</th>\n",
       "      <td>./Labelled/Others/evt_003_003_069820_210609_06...</td>\n",
       "      <td>3</td>\n",
       "      <td>Others</td>\n",
       "      <td>16000</td>\n",
       "      <td>48000</td>\n",
       "      <td>3000.0</td>\n",
       "      <td>48000</td>\n",
       "      <td>3000.0</td>\n",
       "    </tr>\n",
       "    <tr>\n",
       "      <th>7016</th>\n",
       "      <td>./Labelled/Others/evt_003_003_069820_210609_06...</td>\n",
       "      <td>4</td>\n",
       "      <td>Others</td>\n",
       "      <td>16000</td>\n",
       "      <td>48000</td>\n",
       "      <td>3000.0</td>\n",
       "      <td>48000</td>\n",
       "      <td>3000.0</td>\n",
       "    </tr>\n",
       "    <tr>\n",
       "      <th>7017</th>\n",
       "      <td>./Labelled/Others/evt_003_003_069820_210609_06...</td>\n",
       "      <td>5</td>\n",
       "      <td>Others</td>\n",
       "      <td>16000</td>\n",
       "      <td>48000</td>\n",
       "      <td>3000.0</td>\n",
       "      <td>48000</td>\n",
       "      <td>3000.0</td>\n",
       "    </tr>\n",
       "    <tr>\n",
       "      <th>7018</th>\n",
       "      <td>./Labelled/Others/evt_003_003_069820_210609_06...</td>\n",
       "      <td>6</td>\n",
       "      <td>Others</td>\n",
       "      <td>16000</td>\n",
       "      <td>48000</td>\n",
       "      <td>3000.0</td>\n",
       "      <td>48000</td>\n",
       "      <td>3000.0</td>\n",
       "    </tr>\n",
       "    <tr>\n",
       "      <th>7019</th>\n",
       "      <td>./Labelled/Others/evt_003_003_069820_210609_06...</td>\n",
       "      <td>7</td>\n",
       "      <td>Others</td>\n",
       "      <td>16000</td>\n",
       "      <td>37648</td>\n",
       "      <td>2353.0</td>\n",
       "      <td>37648</td>\n",
       "      <td>2353.0</td>\n",
       "    </tr>\n",
       "  </tbody>\n",
       "</table>\n",
       "<p>6639 rows × 8 columns</p>\n",
       "</div>"
      ],
      "text/plain": [
       "                                                   path  segment      label  \\\n",
       "0     ./Labelled/Bleatings/evt_000_000_000681_210415...        0  Bleatings   \n",
       "1     ./Labelled/Bleatings/evt_000_000_000681_210415...        1  Bleatings   \n",
       "2     ./Labelled/Bleatings/evt_000_000_000681_210415...        2  Bleatings   \n",
       "3     ./Labelled/Bleatings/evt_000_000_000681_210415...        3  Bleatings   \n",
       "4     ./Labelled/Bleatings/evt_000_000_000681_210415...        4  Bleatings   \n",
       "...                                                 ...      ...        ...   \n",
       "7015  ./Labelled/Others/evt_003_003_069820_210609_06...        3     Others   \n",
       "7016  ./Labelled/Others/evt_003_003_069820_210609_06...        4     Others   \n",
       "7017  ./Labelled/Others/evt_003_003_069820_210609_06...        5     Others   \n",
       "7018  ./Labelled/Others/evt_003_003_069820_210609_06...        6     Others   \n",
       "7019  ./Labelled/Others/evt_003_003_069820_210609_06...        7     Others   \n",
       "\n",
       "      samplingrate  nframes      ms  nframes_trim  ms_trim  \n",
       "0            16000    48000  3000.0         30720   1920.0  \n",
       "1            16000    48000  3000.0         40704   2544.0  \n",
       "2            16000    48000  3000.0         34880   2180.0  \n",
       "3            16000    48000  3000.0         20672   1292.0  \n",
       "4            16000    48000  3000.0         47808   2988.0  \n",
       "...            ...      ...     ...           ...      ...  \n",
       "7015         16000    48000  3000.0         48000   3000.0  \n",
       "7016         16000    48000  3000.0         48000   3000.0  \n",
       "7017         16000    48000  3000.0         48000   3000.0  \n",
       "7018         16000    48000  3000.0         48000   3000.0  \n",
       "7019         16000    37648  2353.0         37648   2353.0  \n",
       "\n",
       "[6639 rows x 8 columns]"
      ]
     },
     "execution_count": 33,
     "metadata": {},
     "output_type": "execute_result"
    }
   ],
   "source": [
    "split_metadata_trim"
   ]
  },
  {
   "cell_type": "markdown",
   "id": "39e65633",
   "metadata": {},
   "source": [
    "## Pad the short samples"
   ]
  },
  {
   "cell_type": "markdown",
   "id": "6fcf406b",
   "metadata": {},
   "source": [
    "Finally we can pad all the samples to the same lenght.<br>The max duration is 3000ms, which is 3 seconds. Let's pad all the shorter samples to this lenght by centering the sample in the middle of signal."
   ]
  },
  {
   "cell_type": "code",
   "execution_count": 34,
   "id": "8aa2d4ca",
   "metadata": {},
   "outputs": [],
   "source": [
    "def zero_pad_data(sample, sr, length):\n",
    "    \"\"\"\n",
    "    sample: audio sample\n",
    "    sr: sample rate\n",
    "    lenght: length to reach\n",
    "    \"\"\"\n",
    "    # find lenght according to sr\n",
    "    length = sr*length\n",
    "    \n",
    "    signal_padded = np.zeros(length)\n",
    "    \n",
    "    sample_len = len(sample)\n",
    "    start = int(length/2) - int(sample_len/2)\n",
    "    signal_padded[start: start+sample_len] = sample\n",
    "    return signal_padded\n",
    "\n",
    "processed_samples = [zero_pad_data(sample, sr, 3) for sample in processed_samples]"
   ]
  },
  {
   "cell_type": "code",
   "execution_count": 35,
   "id": "fddd9d70",
   "metadata": {},
   "outputs": [
    {
     "name": "stderr",
     "output_type": "stream",
     "text": [
      "C:\\Users\\NICOLA~1\\AppData\\Local\\Temp/ipykernel_4460/2019792334.py:3: SettingWithCopyWarning: \n",
      "A value is trying to be set on a copy of a slice from a DataFrame.\n",
      "Try using .loc[row_indexer,col_indexer] = value instead\n",
      "\n",
      "See the caveats in the documentation: https://pandas.pydata.org/pandas-docs/stable/user_guide/indexing.html#returning-a-view-versus-a-copy\n",
      "  processed_metadata[\"ms\"] = [1000*len(sample)/sr for sample in processed_samples]\n"
     ]
    },
    {
     "data": {
      "text/plain": [
       "count    6639.0\n",
       "mean     3000.0\n",
       "std         0.0\n",
       "min      3000.0\n",
       "25%      3000.0\n",
       "50%      3000.0\n",
       "75%      3000.0\n",
       "max      3000.0\n",
       "Name: ms, dtype: float64"
      ]
     },
     "execution_count": 35,
     "metadata": {},
     "output_type": "execute_result"
    }
   ],
   "source": [
    "processed_metadata = split_metadata_trim[[\"path\", \"segment\", \"label\", \"samplingrate\"]]\n",
    "\n",
    "processed_metadata[\"ms\"] = [1000*len(sample)/sr for sample in processed_samples]\n",
    "#length_info = [1000*len(sample)/sr for sample in processed_samples]\n",
    "\n",
    "#processed_metadata = pd.concat([processed_metadata, pd.DataFrame(length_info, columns = [\"ms\"])], axis=1, ignore_index=True)\n",
    "processed_metadata['ms'].describe()"
   ]
  },
  {
   "cell_type": "code",
   "execution_count": 36,
   "id": "beab6c16",
   "metadata": {},
   "outputs": [
    {
     "data": {
      "text/html": [
       "<div>\n",
       "<style scoped>\n",
       "    .dataframe tbody tr th:only-of-type {\n",
       "        vertical-align: middle;\n",
       "    }\n",
       "\n",
       "    .dataframe tbody tr th {\n",
       "        vertical-align: top;\n",
       "    }\n",
       "\n",
       "    .dataframe thead th {\n",
       "        text-align: right;\n",
       "    }\n",
       "</style>\n",
       "<table border=\"1\" class=\"dataframe\">\n",
       "  <thead>\n",
       "    <tr style=\"text-align: right;\">\n",
       "      <th></th>\n",
       "      <th>path</th>\n",
       "      <th>segment</th>\n",
       "      <th>label</th>\n",
       "      <th>samplingrate</th>\n",
       "      <th>ms</th>\n",
       "    </tr>\n",
       "  </thead>\n",
       "  <tbody>\n",
       "    <tr>\n",
       "      <th>0</th>\n",
       "      <td>./Labelled/Bleatings/evt_000_000_000681_210415...</td>\n",
       "      <td>0</td>\n",
       "      <td>Bleatings</td>\n",
       "      <td>16000</td>\n",
       "      <td>3000.0</td>\n",
       "    </tr>\n",
       "    <tr>\n",
       "      <th>1</th>\n",
       "      <td>./Labelled/Bleatings/evt_000_000_000681_210415...</td>\n",
       "      <td>1</td>\n",
       "      <td>Bleatings</td>\n",
       "      <td>16000</td>\n",
       "      <td>3000.0</td>\n",
       "    </tr>\n",
       "    <tr>\n",
       "      <th>2</th>\n",
       "      <td>./Labelled/Bleatings/evt_000_000_000681_210415...</td>\n",
       "      <td>2</td>\n",
       "      <td>Bleatings</td>\n",
       "      <td>16000</td>\n",
       "      <td>3000.0</td>\n",
       "    </tr>\n",
       "    <tr>\n",
       "      <th>3</th>\n",
       "      <td>./Labelled/Bleatings/evt_000_000_000681_210415...</td>\n",
       "      <td>3</td>\n",
       "      <td>Bleatings</td>\n",
       "      <td>16000</td>\n",
       "      <td>3000.0</td>\n",
       "    </tr>\n",
       "    <tr>\n",
       "      <th>4</th>\n",
       "      <td>./Labelled/Bleatings/evt_000_000_000681_210415...</td>\n",
       "      <td>4</td>\n",
       "      <td>Bleatings</td>\n",
       "      <td>16000</td>\n",
       "      <td>3000.0</td>\n",
       "    </tr>\n",
       "  </tbody>\n",
       "</table>\n",
       "</div>"
      ],
      "text/plain": [
       "                                                path  segment      label  \\\n",
       "0  ./Labelled/Bleatings/evt_000_000_000681_210415...        0  Bleatings   \n",
       "1  ./Labelled/Bleatings/evt_000_000_000681_210415...        1  Bleatings   \n",
       "2  ./Labelled/Bleatings/evt_000_000_000681_210415...        2  Bleatings   \n",
       "3  ./Labelled/Bleatings/evt_000_000_000681_210415...        3  Bleatings   \n",
       "4  ./Labelled/Bleatings/evt_000_000_000681_210415...        4  Bleatings   \n",
       "\n",
       "   samplingrate      ms  \n",
       "0         16000  3000.0  \n",
       "1         16000  3000.0  \n",
       "2         16000  3000.0  \n",
       "3         16000  3000.0  \n",
       "4         16000  3000.0  "
      ]
     },
     "execution_count": 36,
     "metadata": {},
     "output_type": "execute_result"
    }
   ],
   "source": [
    "processed_metadata.to_csv(\"processed_metadata.csv\", index=False)\n",
    "processed_metadata.head()"
   ]
  },
  {
   "cell_type": "markdown",
   "id": "28e92ede",
   "metadata": {},
   "source": [
    "# Log Mel-spectograms"
   ]
  },
  {
   "cell_type": "markdown",
   "id": "efcbf88e",
   "metadata": {},
   "source": [
    "We can compute the log mel-spectrogram of each sample, with 128 mel bands"
   ]
  },
  {
   "cell_type": "code",
   "execution_count": 35,
   "id": "a7e48069",
   "metadata": {},
   "outputs": [
    {
     "data": {
      "application/vnd.jupyter.widget-view+json": {
       "model_id": "ee8a582d5a5c48e59c082df66e97976d",
       "version_major": 2,
       "version_minor": 0
      },
      "text/plain": [
       "  0%|          | 0/6639 [00:00<?, ?it/s]"
      ]
     },
     "metadata": {},
     "output_type": "display_data"
    }
   ],
   "source": [
    "logmelspectrograms = []\n",
    "for sample in tqdm_notebook(processed_samples):\n",
    "    S = librosa.feature.melspectrogram(y=sample, sr=sr, n_mels=128)\n",
    "    S_dB = librosa.power_to_db(S, ref=np.max)\n",
    "    logmelspectrograms.append(S_dB)"
   ]
  },
  {
   "cell_type": "code",
   "execution_count": 36,
   "id": "345f8359",
   "metadata": {},
   "outputs": [
    {
     "name": "stdout",
     "output_type": "stream",
     "text": [
      "A total of 6639 samples, with 128 mel bands and 94 samples\n"
     ]
    }
   ],
   "source": [
    "a, b, c = np.shape(logmelspectrograms)\n",
    "print(f'A total of {a} samples, with {b} mel bands and {c} samples')"
   ]
  },
  {
   "cell_type": "markdown",
   "id": "2cc01bd5",
   "metadata": {},
   "source": [
    "Save the result for further processing"
   ]
  },
  {
   "cell_type": "code",
   "execution_count": 131,
   "id": "d93ffc6b",
   "metadata": {},
   "outputs": [],
   "source": [
    "import pickle\n",
    "pickle.dump(logmelspectrograms, open(\"logmelspectrograms_data.p\", \"wb\"))"
   ]
  },
  {
   "cell_type": "code",
   "execution_count": 20,
   "id": "2ffe4eef",
   "metadata": {},
   "outputs": [],
   "source": [
    "logmelspectrograms = pickle.load(open(\"logmelspectrograms_data.p\", \"rb\" ))"
   ]
  },
  {
   "cell_type": "code",
   "execution_count": 21,
   "id": "06d96d29",
   "metadata": {},
   "outputs": [
    {
     "data": {
      "text/html": [
       "<div>\n",
       "<style scoped>\n",
       "    .dataframe tbody tr th:only-of-type {\n",
       "        vertical-align: middle;\n",
       "    }\n",
       "\n",
       "    .dataframe tbody tr th {\n",
       "        vertical-align: top;\n",
       "    }\n",
       "\n",
       "    .dataframe thead th {\n",
       "        text-align: right;\n",
       "    }\n",
       "</style>\n",
       "<table border=\"1\" class=\"dataframe\">\n",
       "  <thead>\n",
       "    <tr style=\"text-align: right;\">\n",
       "      <th></th>\n",
       "      <th>path</th>\n",
       "      <th>segment</th>\n",
       "      <th>label</th>\n",
       "      <th>samplingrate</th>\n",
       "      <th>ms</th>\n",
       "    </tr>\n",
       "  </thead>\n",
       "  <tbody>\n",
       "    <tr>\n",
       "      <th>0</th>\n",
       "      <td>./Labelled/Bleatings/evt_000_000_000681_210415...</td>\n",
       "      <td>0</td>\n",
       "      <td>Bleatings</td>\n",
       "      <td>16000</td>\n",
       "      <td>3000.0</td>\n",
       "    </tr>\n",
       "    <tr>\n",
       "      <th>1</th>\n",
       "      <td>./Labelled/Bleatings/evt_000_000_000681_210415...</td>\n",
       "      <td>1</td>\n",
       "      <td>Bleatings</td>\n",
       "      <td>16000</td>\n",
       "      <td>3000.0</td>\n",
       "    </tr>\n",
       "    <tr>\n",
       "      <th>2</th>\n",
       "      <td>./Labelled/Bleatings/evt_000_000_000681_210415...</td>\n",
       "      <td>2</td>\n",
       "      <td>Bleatings</td>\n",
       "      <td>16000</td>\n",
       "      <td>3000.0</td>\n",
       "    </tr>\n",
       "    <tr>\n",
       "      <th>3</th>\n",
       "      <td>./Labelled/Bleatings/evt_000_000_000681_210415...</td>\n",
       "      <td>3</td>\n",
       "      <td>Bleatings</td>\n",
       "      <td>16000</td>\n",
       "      <td>3000.0</td>\n",
       "    </tr>\n",
       "    <tr>\n",
       "      <th>4</th>\n",
       "      <td>./Labelled/Bleatings/evt_000_000_000681_210415...</td>\n",
       "      <td>4</td>\n",
       "      <td>Bleatings</td>\n",
       "      <td>16000</td>\n",
       "      <td>3000.0</td>\n",
       "    </tr>\n",
       "  </tbody>\n",
       "</table>\n",
       "</div>"
      ],
      "text/plain": [
       "                                                path  segment      label  \\\n",
       "0  ./Labelled/Bleatings/evt_000_000_000681_210415...        0  Bleatings   \n",
       "1  ./Labelled/Bleatings/evt_000_000_000681_210415...        1  Bleatings   \n",
       "2  ./Labelled/Bleatings/evt_000_000_000681_210415...        2  Bleatings   \n",
       "3  ./Labelled/Bleatings/evt_000_000_000681_210415...        3  Bleatings   \n",
       "4  ./Labelled/Bleatings/evt_000_000_000681_210415...        4  Bleatings   \n",
       "\n",
       "   samplingrate      ms  \n",
       "0         16000  3000.0  \n",
       "1         16000  3000.0  \n",
       "2         16000  3000.0  \n",
       "3         16000  3000.0  \n",
       "4         16000  3000.0  "
      ]
     },
     "execution_count": 21,
     "metadata": {},
     "output_type": "execute_result"
    }
   ],
   "source": [
    "processed_metadata = pd.read_csv(\"processed_metadata.csv\")\n",
    "processed_metadata.head()"
   ]
  },
  {
   "cell_type": "markdown",
   "id": "cdfd4c8a",
   "metadata": {},
   "source": [
    "## Spectrograms Images"
   ]
  },
  {
   "cell_type": "markdown",
   "id": "463caf0f",
   "metadata": {},
   "source": [
    "Next we can take the previous obtained list of log mel-scaled spectrogram and finally convert them to images and save to a folder img_data."
   ]
  },
  {
   "cell_type": "code",
   "execution_count": 15,
   "id": "c24f29f4",
   "metadata": {},
   "outputs": [
    {
     "data": {
      "application/vnd.jupyter.widget-view+json": {
       "model_id": "30725d07b8df46f5b2cbe18d1b0d5780",
       "version_major": 2,
       "version_minor": 0
      },
      "text/plain": [
       "  0%|          | 0/6639 [00:00<?, ?it/s]"
      ]
     },
     "metadata": {},
     "output_type": "display_data"
    },
    {
     "data": {
      "text/plain": [
       "<Figure size 432x288 with 0 Axes>"
      ]
     },
     "metadata": {},
     "output_type": "display_data"
    }
   ],
   "source": [
    "for g in \"Bleatings ContactCalls Others\".split():\n",
    "    pathlib.Path(f'img_data/{g}').mkdir(parents=True, exist_ok=True)\n",
    "\n",
    "for count, sample in enumerate(tqdm_notebook(logmelspectrograms)):\n",
    "    label = processed_metadata.iloc[count][\"label\"]\n",
    "    img = librosa.display.specshow(sample, sr=sr)\n",
    "    plt.savefig(f'img_data/{label}/{count}.png')\n",
    "    plt.clf()"
   ]
  },
  {
   "cell_type": "markdown",
   "id": "c07a9ec5",
   "metadata": {},
   "source": [
    "# Features MFCC and Delta-MFCC"
   ]
  },
  {
   "cell_type": "markdown",
   "id": "7a4474b9",
   "metadata": {},
   "source": [
    "Let's extract as presented in analysis.ipybn the MFCC and delta-MFCC realted features"
   ]
  },
  {
   "cell_type": "code",
   "execution_count": 40,
   "id": "77687dfc",
   "metadata": {},
   "outputs": [
    {
     "data": {
      "application/vnd.jupyter.widget-view+json": {
       "model_id": "d57fc93ef51d4cc09b90b87951a7ddba",
       "version_major": 2,
       "version_minor": 0
      },
      "text/plain": [
       "  0%|          | 0/6639 [00:00<?, ?it/s]"
      ]
     },
     "metadata": {},
     "output_type": "display_data"
    },
    {
     "name": "stdout",
     "output_type": "stream",
     "text": [
      "(6639, 130)\n",
      "(6639, 2444)\n"
     ]
    }
   ],
   "source": [
    "features_long = []\n",
    "features_resumed = []\n",
    "for sample in tqdm_notebook(processed_samples):\n",
    "    mfccs = librosa.feature.mfcc(sample, sr = sr, n_mfcc=13)\n",
    "    mfccs_trunc = np.hstack((np.mean(mfccs, axis=1), np.std(mfccs, axis=1), np.max(mfccs, axis = 1),\n",
    "                             np.median(mfccs, axis = 1), np.min(mfccs, axis = 1)))\n",
    "    mfccs_delta = librosa.feature.delta(mfccs, mode='nearest')\n",
    "    mfccs_delta_trunc = np.hstack((np.mean(mfccs_delta, axis=1), np.std(mfccs_delta, axis=1), np.max(mfccs_delta, axis = 1),\n",
    "                                   np.median(mfccs_delta, axis = 1), np.min(mfccs_delta, axis = 1)))\n",
    "    features_resumed.append(np.concatenate((mfccs_trunc, mfccs_delta_trunc)))\n",
    "    features_long.append(np.concatenate((mfccs.flatten(), mfccs_delta.flatten())))\n",
    "\n",
    "print(np.shape(features_resumed))\n",
    "\n",
    "print(np.shape(features_long))"
   ]
  },
  {
   "cell_type": "markdown",
   "id": "ae533793",
   "metadata": {},
   "source": [
    "Save the obtained result to a .cvs file for processing with the models."
   ]
  },
  {
   "cell_type": "code",
   "execution_count": 44,
   "id": "4603f246",
   "metadata": {},
   "outputs": [],
   "source": [
    "df1 = pd.DataFrame(features_resumed)\n",
    "df2 = pd.DataFrame(features_long)\n",
    "df1.to_csv(\"mfcc_deltamfcc_entire.csv\")\n",
    "df2.to_csv(\"mfcc_deltamfcc_stat.csv\")"
   ]
  }
 ],
 "metadata": {
  "kernelspec": {
   "display_name": "Python 3 (ipykernel)",
   "language": "python",
   "name": "python3"
  },
  "language_info": {
   "codemirror_mode": {
    "name": "ipython",
    "version": 3
   },
   "file_extension": ".py",
   "mimetype": "text/x-python",
   "name": "python",
   "nbconvert_exporter": "python",
   "pygments_lexer": "ipython3",
   "version": "3.8.10"
  }
 },
 "nbformat": 4,
 "nbformat_minor": 5
}
